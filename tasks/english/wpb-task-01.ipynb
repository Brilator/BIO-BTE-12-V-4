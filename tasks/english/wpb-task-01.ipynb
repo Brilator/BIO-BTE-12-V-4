
        {
            "cells": [
          {
           "cell_type": "markdown",
           "metadata": {},
           
           "source": ["// can\u0027t yet format YamlFrontmatter ([\"title: Task 01 \"; \"category: Tasks(english)\"; \"categoryindex: 3\"; \"index: 2\"], Some { StartLine = 2 StartColumn = 0 EndLine = 6 EndColumn = 8 }) to pynb markdown\n",
"\n",
"[![Binder](/BIO-BTE-12-V-4/img/badge-binder.svg)](https://mybinder.org/v2/gh/csbiology/BIO-BTE-12-V-4/gh-pages?filepath=tasks/english/wpb-task-01.ipynb)\u0026emsp;\n",
"[![Script](/BIO-BTE-12-V-4/img/badge-script.svg)](/BIO-BTE-12-V-4/tasks/english/wpb-task-01.fsx)\u0026emsp;\n",
"[![Notebook](/BIO-BTE-12-V-4/img/badge-notebook.svg)](/BIO-BTE-12-V-4/tasks/english/wpb-task-01.ipynb)\n",
"\n",
"# Task01 - Hello F#\n",
"\n",
"-------------------------------\n",
"\n",
"\n",
"Let\u0027s start with the basics:\n",
"\n",
"- **In a .fsx script:** \n",
"\n",
"    Highlight the \u002710\u0027 and press Alt+Enter, which will open a console and give the output \u0027val it: int = 10\u0027.\n",
"    (If the code to execute has only one line, you can just click into the line and press Alt+Enter without highlighting.)\n",
"\n",
"- **In a notebook:**\n",
"\n",
"    There is a \u0027play\u0027 button in the left upper corner of the field below. Press it to execute the respective code block, \n",
"    which in this case will simply give \u002710\u0027 as output.\n",
"\n",
"\n"]
          }
,
          {
           "cell_type": "code",
           "metadata": {},
            "execution_count": 1, "outputs": [], 
           "source": ["10\n"]
          }
,
          {
           "cell_type": "markdown",
           "metadata": {},
           
           "source": ["Working in this interactive way has the advantage that you can always directly test your code and look at the output.\n",
"Try it with the line below and appreciate that the result of the calculation is 30.\n",
"\n"]
          }
,
          {
           "cell_type": "code",
           "metadata": {},
            "execution_count": 2, "outputs": [], 
           "source": ["10 + 20\n"]
          }
,
          {
           "cell_type": "markdown",
           "metadata": {},
           
           "source": ["Everything after a \"//\" or inside of (* ... *) is treated as a comment and will not get executed as code.\n",
"You can use (* ... *) to comment parts of a single line. \n",
"The standard keybinding for commenting a selection is (Strg + K -\u003e Strg + C)\n",
"\n",
"\n"]
          }
,
          {
           "cell_type": "code",
           "metadata": {},
            "execution_count": 3, "outputs": [], 
           "source": ["10 (*+ 40 *) + 30\n"]
          }
,
          {
           "cell_type": "markdown",
           "metadata": {},
           
           "source": ["If you not quite get a task right, please submit partial solutions or trails of thought as comments to get partial points!\n",
"\n",
"## Das \u0027let\u0027-Binding\n",
"\n",
"## Task 1\n",
"\n",
"### Task 1.1\n",
"\n",
"Bind the value 10 to the name \u0027x\u0027. Bind the value 20 to the name \u0027kaesebrot\u0027.\n",
"\n"]
          }
,
          {
           "cell_type": "code",
           "metadata": {},
            "execution_count": 20, "outputs": [], 
           "source": ["\n"]
          }
,
          {
           "cell_type": "markdown",
           "metadata": {},
           
           "source": ["### Task 1.2\n",
"\n",
"Bind the result of the Addition of \u0027x\u0027 and 10 to the name \u0027y\u0027.\n",
"\n"]
          }
,
          {
           "cell_type": "code",
           "metadata": {},
            "execution_count": 20, "outputs": [], 
           "source": ["\n"]
          }
,
          {
           "cell_type": "markdown",
           "metadata": {},
           
           "source": ["### Task 1.3\n",
"\n",
"Bind any first name as string to \u0027vorname\u0027.\n",
"\n"]
          }
,
          {
           "cell_type": "code",
           "metadata": {},
            "execution_count": 20, "outputs": [], 
           "source": ["\n"]
          }
,
          {
           "cell_type": "markdown",
           "metadata": {},
           
           "source": ["### Task 1.4\n",
"\n",
"Calculate the remainder of 432858049/41 and bind the result to \u0027modulo\u0027\n",
"\n"]
          }
,
          {
           "cell_type": "code",
           "metadata": {},
            "execution_count": 20, "outputs": [], 
           "source": ["\n"]
          }
,
          {
           "cell_type": "markdown",
           "metadata": {},
           
           "source": ["### Task 1.5\n",
"\n",
"Binde the sum of both sums (x + 10) and (y + 20) to the Name \u0027sumXY\u0027. \n",
"Die Zwischenergebnisse sollten nicht im globalen Sichtbarkeitsbereich (Scope) liegen.\n",
"\n"]
          }
,
          {
           "cell_type": "code",
           "metadata": {},
            "execution_count": 20, "outputs": [], 
           "source": ["\n"]
          }
,
          {
           "cell_type": "markdown",
           "metadata": {},
           
           "source": ["## Die \"printfn\" - Funktion\n",
"\n",
"### Task 2\n",
"\n",
"_Tipp: https://docs.microsoft.com/de-de/dotnet/fsharp/language-reference/plaintext-formatting_\n",
"\n",
"### Task 2.1:  \n",
"\n",
"Use the printfn function to print \"Hello F#\" to the console.\n",
"\n"]
          }
,
          {
           "cell_type": "code",
           "metadata": {},
            "execution_count": 20, "outputs": [], 
           "source": ["\n"]
          }
,
          {
           "cell_type": "markdown",
           "metadata": {},
           
           "source": ["### Task 2.2:  \n",
"\n",
"Use the printfn function to print the value of \u0027vorname\u0027 to the console.\n",
"\n"]
          }
,
          {
           "cell_type": "code",
           "metadata": {},
            "execution_count": 20, "outputs": [], 
           "source": ["\n"]
          }
,
          {
           "cell_type": "markdown",
           "metadata": {},
           
           "source": ["### Task 2.3:  \n",
"\n",
"Benutzt printfn um \u0027y\u0027 in die Konsole auszugeben.\n",
"\n"]
          }
,
          {
           "cell_type": "code",
           "metadata": {},
            "execution_count": 20, "outputs": [], 
           "source": ["\n"]
          }
,
          {
           "cell_type": "markdown",
           "metadata": {},
           
           "source": ["## Primitive Datentypen und Funktionen\n",
"\n",
"### Task 3\n",
"\n",
"### Task 3.1\n",
"\n",
"Binde einen beliebigen Wert vom Typ Integer an den Namen intI.\n",
"\n"]
          }
,
          {
           "cell_type": "code",
           "metadata": {},
            "execution_count": 20, "outputs": [], 
           "source": ["\n"]
          }
,
          {
           "cell_type": "markdown",
           "metadata": {},
           
           "source": ["### Task 3.2\n",
"\n",
"Binde einen beliebigen Wert vom Typ Float an den Namen floatI.\n",
"\n"]
          }
,
          {
           "cell_type": "code",
           "metadata": {},
            "execution_count": 20, "outputs": [], 
           "source": ["\n"]
          }
,
          {
           "cell_type": "markdown",
           "metadata": {},
           
           "source": ["### Task 3.3\n",
"\n",
"Wandelt entweder intI oder floatI in den Datentyp des anderen um und addiert beide.\n",
"\n"]
          }
,
          {
           "cell_type": "code",
           "metadata": {},
            "execution_count": 20, "outputs": [], 
           "source": ["\n"]
          }
,
          {
           "cell_type": "markdown",
           "metadata": {},
           
           "source": ["### Task 3.4\n",
"\n",
"Berechne den Quotienten aus \u002727\u0027 und \u002713\u0027. Dann berechne den Quotienten von beiden Integern als Float.\n",
"\n"]
          }
,
          {
           "cell_type": "code",
           "metadata": {},
            "execution_count": 20, "outputs": [], 
           "source": ["\n"]
          }
,
          {
           "cell_type": "markdown",
           "metadata": {},
           
           "source": ["### Task 3.5:\n",
"\n",
"Konkateniere einen beliebigen Wert vom Typ String mit einem einzelnem Buchstaben (Typ Char)\n",
"\n"]
          }
,
          {
           "cell_type": "code",
           "metadata": {},
            "execution_count": 20, "outputs": [], 
           "source": ["\n"]
          }
,
          {
           "cell_type": "markdown",
           "metadata": {},
           
           "source": ["### Task 3.6:\n",
"\n",
"Deklariere eine Funktion \u0027mulitplyBy2\u0027 die einen float verdoppelt. \n",
"\n"]
          }
,
          {
           "cell_type": "code",
           "metadata": {},
            "execution_count": 20, "outputs": [], 
           "source": ["\n"]
          }
,
          {
           "cell_type": "markdown",
           "metadata": {},
           
           "source": ["### Task 3.7:  \n",
"\n",
"Deklariere eine Funktion \u0027calculateCylinderVolume\u0027 die aus Radius und Laenge das Volumen eines Zylinders \n",
"zurueckgibt UND zusaetzlich \"Das Volumen des Zylinders ist: XX\" in die Konsole printed. Wobei XX natuerlich \n",
"das korrekte Volumen des Zylinders ist. (Der Output einer printfn Funktion ist Unit.)\n",
"Warum kann es Sinn machen, Ergebnisse zu printen? \n",
"\n"]
          }
,
          {
           "cell_type": "code",
           "metadata": {},
            "execution_count": 20, "outputs": [], 
           "source": ["\n"]
          }
,
          {
           "cell_type": "markdown",
           "metadata": {},
           
           "source": ["### Task 3.8:  \n",
"\n",
"Deklariere eine Funktion die einen Parameter vom Typ Integer als Input nimmt und die \u0027multiplyBy2\u0027 \n",
"Funtkion darauf anwendet\n",
"\n"]
          }
,
          {
           "cell_type": "code",
           "metadata": {},
            "execution_count": 20, "outputs": [], 
           "source": ["\n"]
          }
,
          {
           "cell_type": "markdown",
           "metadata": {},
           
           "source": ["### Task 3.9:  \n",
"\n",
"Deklariere eine Funktion die als Input zwei Parameter vom Typ Floats, einen Vergleichsoperator z.B. \n",
"(\u003c, \u003e, = ), und einen Parameter vom Typ Boolean akzeptiert. Das Ergebnis aus der Anwendung des angegebenen \n",
"Operators auf die numerischen Parameter soll mit dem Parameter vom Typ Boolean auf Gleichheit ueberprueft werden.\n",
"\n",
"(_2 Punkte_)\n",
"\n",
"\n"]
          }
,
          {
           "cell_type": "code",
           "metadata": {},
            "execution_count": 20, "outputs": [], 
           "source": ["\n"]
          }],
            "metadata": {
            "kernelspec": {"display_name": ".NET (F#)", "language": "F#", "name": ".net-fsharp"},
            "langauge_info": {
        "file_extension": ".fs",
        "mimetype": "text/x-fsharp",
        "name": "C#",
        "pygments_lexer": "fsharp",
        "version": "4.5"
        }
        },
            "nbformat": 4,
            "nbformat_minor": 1
        }
        

