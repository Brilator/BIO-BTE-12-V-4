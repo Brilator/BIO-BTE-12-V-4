
        {
            "cells": [
          {
           "cell_type": "markdown",
           "metadata": {},
           
           "source": ["// can\u0027t yet format YamlFrontmatter ([\"title: Task 05\"; \"category: Tasks(english)\"; \"categoryindex: 3\"; \"index: 6\"], Some { StartLine = 2 StartColumn = 0 EndLine = 6 EndColumn = 8 }) to pynb markdown\n",
"\n",
"[![Binder](/BIO-BTE-12-V-4/img/badge-binder.svg)](https://mybinder.org/v2/gh/csbiology/BIO-BTE-12-V-4/gh-pages?filepath=tasks/english/wpb-task-05.ipynb)\u0026emsp;\n",
"[![Script](/BIO-BTE-12-V-4/img/badge-script.svg)](/BIO-BTE-12-V-4/tasks/english/wpb-task-05.fsx)\u0026emsp;\n",
"[![Notebook](/BIO-BTE-12-V-4/img/badge-notebook.svg)](/BIO-BTE-12-V-4/tasks/english/wpb-task-05.ipynb)\n",
"\n",
"# Task05 - Programming with Objects \n",
"\n",
"## Mutable values\n",
"\n",
"### Task 1.1:\n",
"\n",
"Create and change mutable values\n",
"\n",
"Hint: \n",
"\n",
"- Use the `mutable` keyword\n",
"- For changing mutable values, use the `\u003c-` operator \n",
"\n",
"### Subtask 1.1.1\n",
"\n",
"Create a mutable integer of value 1 and bind it to the name x\n",
"\n",
"\n"]
          }
,
          {
           "cell_type": "code",
           "metadata": {},
            "execution_count": 13, "outputs": [], 
           "source": ["\n"]
          }
,
          {
           "cell_type": "markdown",
           "metadata": {},
           
           "source": ["### Subtask 1.1.2\n",
"\n",
"Change the value which is bound to x to its previous value multiplied by 5\n",
"\n"]
          }
,
          {
           "cell_type": "code",
           "metadata": {},
            "execution_count": 13, "outputs": [], 
           "source": ["\n"]
          }
,
          {
           "cell_type": "markdown",
           "metadata": {},
           
           "source": ["### Subtask 1.1.3\n",
"\n",
"Create a record type `Human` with\n",
"\n",
"- the immutable field `Name` of type string\n",
"- and the mutable field `Age` of type int\n",
"\n"]
          }
,
          {
           "cell_type": "code",
           "metadata": {},
            "execution_count": 13, "outputs": [], 
           "source": ["\n"]
          }
,
          {
           "cell_type": "markdown",
           "metadata": {},
           
           "source": ["### Subtask 1.1.4\n",
"\n",
"Create the the function `celebrateBirthday`, which takes one parameter of type `Human` and increments the `Age` of the human by one.\n",
"\n"]
          }
,
          {
           "cell_type": "code",
           "metadata": {},
            "execution_count": 13, "outputs": [], 
           "source": ["\n"]
          }
,
          {
           "cell_type": "markdown",
           "metadata": {},
           
           "source": ["### Subtask 1.1.5\n",
"\n",
"Create a `Human`, bind it to a name and let him age by applying the `celebrateBirthday` function on him.\n",
"\n"]
          }
,
          {
           "cell_type": "code",
           "metadata": {},
            "execution_count": 13, "outputs": [], 
           "source": ["\n"]
          }
,
          {
           "cell_type": "markdown",
           "metadata": {},
           
           "source": ["### Task 1.2 (Bonus taks) Mutable values in functions\n",
"\n",
"Create your own version of the `Array.max` function. This function should take an array of ints as a parameter and return the highest value of this array.\n",
"Signature: `int [] -\u003e int`\n",
"\n",
"In the function, the currently highest int is supposed to be stored as a `mutable value` and you should use a `for-loop`.\n",
"\n",
"\n"]
          }
,
          {
           "cell_type": "code",
           "metadata": {},
            "execution_count": 13, "outputs": [], 
           "source": ["\n"]
          }
,
          {
           "cell_type": "markdown",
           "metadata": {},
           
           "source": ["## Vererbung\n",
"\n",
"### Task 2.1 Creating classes and objects\n",
"\n",
"### Subtask 2.1.1\n",
"\n",
"Here the class `Vehicle` gets declared. Try to comprehend what happens and shortly comment each line\n",
"\n",
"_keyword treasure trove_: method, field, constructor, parameter, alternative, bind\n",
"\n",
"\n"]
          }
,
          {
           "cell_type": "code",
           "metadata": {},
            "execution_count": 7, "outputs": [], 
           "source": ["// Comment:\n",
"type Vehicle (manufacturer:string) =\n",
"    // Comment:\n",
"    member self.Manufacturer = manufacturer\n",
"    // Comment:\n",
"    member self.Drive() = printfn \"%s makes wroooom\" self.Manufacturer\n",
"    // Comment:\n",
"    new() = Vehicle(\"Cadillac\")\n"]
          }
,
          {
           "cell_type": "markdown",
           "metadata": {},
           
           "source": ["### Subtask 2.1.2\n",
"\n",
"Instantiate 2 objects of type `Vehicle`. In one case use the main constructor and in the other use the alternative constructor.\n",
"\n"]
          }
,
          {
           "cell_type": "code",
           "metadata": {},
            "execution_count": 13, "outputs": [], 
           "source": ["\n"]
          }
,
          {
           "cell_type": "markdown",
           "metadata": {},
           
           "source": ["### Task 2.2 Inheritance\n",
"\n",
"### Subtask 2.2.1\n",
"\n",
"Here is an example for the inheritance of a class. The class `Motorcycle` inherits from the class `Vehicle`\n",
"\n",
"Analogously, create the class `Car`, which also inherits from `Vehicle`. Additionally, it should have the field `NumDoors`. \n",
"For this, choose an appropriate primitive type and adjust the constructor to allow for setting the number of doors when instantiating a car object.\n",
"\n"]
          }
,
          {
           "cell_type": "code",
           "metadata": {},
            "execution_count": 9, "outputs": [], 
           "source": ["type Motorcycle (manufacturer:string) =\n",
"\n",
"    inherit Vehicle(manufacturer)\n",
"\n",
"    new() = Motorcycle(\"Kawasaki\")\n"]
          }
,
          {
           "cell_type": "markdown",
           "metadata": {},
           
           "source": ["### Subtask 2.2.2\n",
"\n",
"Create a function which has a parameter of type `Vehicle` and calls the `Drive` method of this vehicle.\n",
"\n"]
          }
,
          {
           "cell_type": "code",
           "metadata": {},
            "execution_count": 13, "outputs": [], 
           "source": ["\n"]
          }
,
          {
           "cell_type": "markdown",
           "metadata": {},
           
           "source": ["### Subtask 2.2.3\n",
"\n",
"Instantiate a `Car` and bind it to a name. Use the function defined in subtaks 2.2.2 to let the car drive\n",
"\n",
"### Task 2.3 (Bonus task) Mutable values in objects\n",
"\n",
"Define a class `Convertible` which inherits from `Vehicle`. \n",
"\n",
"This class should contain a field `RoofOpen` of type `bool` and additionally methods for closing and opening its roof.\n",
"\n",
"## Polymorphismus\n",
"\n",
"### Task 3.1\n",
"\n",
"We want to implement people which can say their name. In Japan, usually the surname is stated prior to the given name. In germany it\u0027s the other way round.\n",
"The singer known as Yoko Ono in germany therefore is known as Ono Yoko in Japan. To express this difference programmatically, we wrote the following code:\n",
"\n",
"Assign the following keywords to the codeblocks below: `Class declaration`, `Object instantiation`, `Interface declaration`\n",
"\n",
"\n"]
          }
,
          {
           "cell_type": "code",
           "metadata": {},
            "execution_count": 11, "outputs": [], 
           "source": ["// Keyword:\n",
"type IPerson =\n",
"    abstract Surname    : string\n",
"    abstract GivenName  : string\n",
"    abstract SayName    : unit -\u003e string\n",
"\n",
"// Keyword:\n",
"type Japanese (sn, gn) =\n",
"    let surname = sn\n",
"    let givenName = gn\n",
"    interface IPerson with\n",
"        member self.Surname = surname\n",
"        member self.GivenName = givenName\n",
"        member self.SayName () = surname + \" \" + givenName\n",
"\n",
"// Keyword:\n",
"type German (sn, gn) =\n",
"    let surname = sn\n",
"    let givenName = gn\n",
"    interface IPerson with\n",
"        member self.Surname = surname\n",
"        member self.GivenName = givenName\n",
"        member self.SayName () = givenName + \" \" + surname\n",
"\n",
"// Keyword:\n",
"let yokoOno = Japanese(\"Ono\",\"Yoko\")\n",
"\n",
"// Keyword:\n",
"let angeloMerte = German(\"Merte\",\"Angelo\")\n"]
          }
,
          {
           "cell_type": "markdown",
           "metadata": {},
           
           "source": ["### Task 3.2\n",
"\n",
"Call the method `NamenSagen` of both persons. \n",
"\n",
"Hint: Use the correct `casting Operator`\n",
"\n"]
          }
,
          {
           "cell_type": "code",
           "metadata": {},
            "execution_count": 13, "outputs": [], 
           "source": ["\n"]
          }
,
          {
           "cell_type": "markdown",
           "metadata": {},
           
           "source": ["### Task 3.3\n",
"\n",
"Shortly explain in your own words, why we used polymorphism instead of inheritance in this example.\n",
"\n"]
          }
,
          {
           "cell_type": "code",
           "metadata": {},
            "execution_count": 13, "outputs": [], 
           "source": ["\n"]
          }
,
          {
           "cell_type": "markdown",
           "metadata": {},
           
           "source": ["### Task 3.4\n",
"\n",
"In the mystic country Bambaloozle the surname of a person gets said prior to the given name, just like in Germany. But: Both names get reverted (Angela Merkel -\u003e alegnA lekreM)\n",
"\n",
"Declare the class `Bambaloose`, which implements the interface `IPerson`.\n",
"\n",
"Hint: Use the given string revert function\n",
"\n",
"\n"]
          }
,
          {
           "cell_type": "code",
           "metadata": {},
            "execution_count": 14, "outputs": [], 
           "source": ["let revert (s:string) = System.String(s.ToCharArray() |\u003e Array.rev)\n"]
          }],
            "metadata": {
            "kernelspec": {"display_name": ".NET (F#)", "language": "F#", "name": ".net-fsharp"},
            "langauge_info": {
        "file_extension": ".fs",
        "mimetype": "text/x-fsharp",
        "name": "C#",
        "pygments_lexer": "fsharp",
        "version": "4.5"
        }
        },
            "nbformat": 4,
            "nbformat_minor": 1
        }
        

