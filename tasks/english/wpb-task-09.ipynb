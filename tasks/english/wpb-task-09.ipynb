
        {
            "cells": [
          {
           "cell_type": "markdown",
           "metadata": {},
           
           "source": ["// can\u0027t yet format YamlFrontmatter ([\"title: Task 09\"; \"category: Tasks(english)\"; \"categoryindex: 3\"; \"index: 10\"], Some { StartLine = 2 StartColumn = 0 EndLine = 6 EndColumn = 9 }) to pynb markdown\n",
"\n",
"[![Binder](/BIO-BTE-12-V-4/img/badge-binder.svg)](https://mybinder.org/v2/gh/csbiology/BIO-BTE-12-V-4/gh-pages?filepath=tasks/english/wpb-task-09.ipynb)\u0026emsp;\n",
"[![Script](/BIO-BTE-12-V-4/img/badge-script.svg)](/BIO-BTE-12-V-4/tasks/english/wpb-task-09.fsx)\u0026emsp;\n",
"[![Notebook](/BIO-BTE-12-V-4/img/badge-notebook.svg)](/BIO-BTE-12-V-4/tasks/english/wpb-task-09.ipynb)\n",
"\n",
"# Task09 - Embracing bioinformatics in F#\n",
"\n",
"## Preface\n",
"\n",
"You can find the Plotly.NET documentation here: https://plotly.net\n",
"\n",
"You can find the BioFSharp documentation here: https://csbiology.github.io/BioFSharp/\n",
"\n",
"## Referencing Plotly.NET and BioFSharp\n",
"\n",
"These lines must always be executed at least once, otherwise Plotly.NET and BioFSharp cannot be used:\n",
"\n"]
          }
,
          {
           "cell_type": "code",
           "metadata": {},
            "execution_count": 1, "outputs": [], 
           "source": ["#r \"nuget: Plotly.NET, 2.0.0-preview.1\"\n",
"#r \"nuget: Plotly.NET.Interactive, 2.0.0-preview.1\"\n",
"#r \"nuget: BioFSharp, 1.2.0\"\n",
"#r \"nuget: BioFSharp.IO, 1.2.0\"\n",
"\n",
"// Plotly.NET and BioFSharp are opened here.\n",
"open Plotly.NET\n",
"open BioFSharp\n",
"open BioFSharp.IO\n",
"// Additional namespaces/modules are also opened here to simplify the signatures.\n",
"open BioArray\n",
"open BioSeq\n",
"open AminoAcids\n",
"open Nucleotides\n"]
          }
,
          {
           "cell_type": "markdown",
           "metadata": {},
           
           "source": ["## Copying paths\n",
"\n",
"Reading in data will be discussed in more detail in a later exercise. In this exercise a file must be referenced and read in via a path.\n",
"How to get the absolute path of a file is shown here.\n",
"\n",
"### Windows\n",
"\n",
"* Navigate to the downloaded file\n",
"\n",
"* Press `Shift` + `Right click` on the file\n",
"\n",
"* Select \"Copy as path\" from the context menu:\n",
"\n",
"    ![](/BIO-BTE-12-V-4/img/PfadWindows.png)\n",
"\n",
"* With `Ctrl` + `V` you can paste the copied path at any position\n",
"\n",
"### Mac\n",
"\n",
"* Navigate to the downloaded file\n",
"\n",
"* Press with `ctrl-click` or `right-click` on the file\n",
"\n",
"* With the context menu open, also hold down `Alt`\n",
"\n",
"* Select \"Copy X as pathname\" from the context menu:\n",
"\n",
"    ![](/BIO-BTE-12-V-4/img/PfadMac.png)\n",
"\n",
"* With `Command` + `V` you can paste the copied path at any position\n",
"\n",
"## Task 1\n",
"\n",
"### Task 1.0\n",
"\n",
"`nucleotideString` is a sequence of nucleotides. This sequence is to be translated into the corresponding amino acid sequence.\n",
"\n",
"* A Convert \u0027nucleotideString\u0027 to a BioArray.\n",
"* B Transcribe the result from A (the given sequence is the template strand)\n",
"* C Translate the result from B with an offset of 0\n",
"* D Create a function that gets a string, executes the previous steps and thus returns a `BioArray\u003cAminoAcids\u003e`.\n",
"\n"]
          }
,
          {
           "cell_type": "code",
           "metadata": {},
            "execution_count": 2, "outputs": [], 
           "source": ["let nucleotideString = \"TACCATGCAGCTACCTAAGGATCACCGACT\"\n"]
          }
,
          {
           "cell_type": "markdown",
           "metadata": {},
           
           "source": ["### Task 1.1\n",
"\n",
"Download the nucleotide fasta of yeast (S. cerevisiae): https://github.com/CSBiology/BIO-BTE-12-V-4/releases/download/YeastFasta/orf_genomic_filtered.fasta. \u003cbr\u003e\n",
"Source: http://sgd-archive.yeastgenome.org/sequence/S288C_reference/orf_dna/ \u003cbr\u003e\n",
"Copy the path of the downloaded file and bind it to the name `filepath`.\n",
"\n",
"Read the fasta and bind the result to `yeastFasta`. Use the function \n",
"`FastA.fromFile` and use `BioArray.ofNucleotideString` as converter function.\n",
"Convert the resulting sequence into an array.\n",
"\n"]
          }
,
          {
           "cell_type": "code",
           "metadata": {},
            "execution_count": 3, "outputs": [], 
           "source": ["let filepath = \"Your/Path/here\"\n"]
          }
,
          {
           "cell_type": "markdown",
           "metadata": {},
           
           "source": ["### Task 1.2\n",
"\n",
"From the created sequence (yeastFasta), generate an array of headers and an array of\n",
"sequences and bind these arrays to the names `header` and `dna`. \n",
"Hint: `yeastFasta` consists of FastaItems, which are record types consisting of `header` and `sequence`. \n",
"Since the whole exercise is based on these arrays, please report if it does not work.\n",
"\n"]
          }
,
          {
           "cell_type": "code",
           "metadata": {},
            "execution_count": 11, "outputs": [], 
           "source": ["\n"]
          }
,
          {
           "cell_type": "markdown",
           "metadata": {},
           
           "source": ["### Task 1.3\n",
"\n",
"Transcribe all nucleotide sequences from `dna` and bind the resulting array to the name \n",
"`rna`.\n",
"\n",
"* Tip: The DNA sequences represent the coding strand.\n",
"* Tip2: Use `Array.map` to iterate over the sequences (also applies to the following tasks).\n",
"\n"]
          }
,
          {
           "cell_type": "code",
           "metadata": {},
            "execution_count": 11, "outputs": [], 
           "source": ["\n"]
          }
,
          {
           "cell_type": "markdown",
           "metadata": {},
           
           "source": ["### Task 1.4\n",
"\n",
"In the following, translate the RNA sequences into proteins, that is, amino acid sequences.   \n",
"Bind the result to the name `proteins`.\n",
"\n"]
          }
,
          {
           "cell_type": "code",
           "metadata": {},
            "execution_count": 11, "outputs": [], 
           "source": ["\n"]
          }
,
          {
           "cell_type": "markdown",
           "metadata": {},
           
           "source": ["### Task 1.5\n",
"\n",
"Now the proteins are to be digested tryptically to peptides (trypsin is a protease which cuts proteins \n",
"into lysine (single letter code K) and arginine (single letter code R).\n",
"The function \u0027Digestion.BioArray.digest\u0027 expects a proteinID. Here any integer \n",
"can be used. Ideally, the index of the respective amino acid sequence should be entered here.\n",
"Bind the result to \u0027digestedProteins\u0027.\n",
"\n"]
          }
,
          {
           "cell_type": "code",
           "metadata": {},
            "execution_count": 7, "outputs": [], 
           "source": ["let trypsin = Digestion.Table.Trypsin\n"]
          }
,
          {
           "cell_type": "markdown",
           "metadata": {},
           
           "source": ["### Task 1.6\n",
"\n",
"No task\u003cbr\u003e\n",
"The section below creates FastA items from the individual peptides and writes them to a \n",
"FastA file.\n",
"\n"]
          }
,
          {
           "cell_type": "code",
           "metadata": {},
            "execution_count": 8, "outputs": [], 
           "source": ["let convertDigPepToFasta (digPep: Digestion.DigestedPeptide\u003c\u0027a\u003e[])=\n",
"    digPep\n",
"    |\u003e Array.mapi (fun index peptide -\u003e\n",
"        FastA.createFastaItem (sprintf \"Protein %i Fragment %i\" peptide.ProteinID index) peptide.PepSequence \n",
"        )\n",
"\n",
"// __SOURCE_DIRECTORY__ defines the path to the folder where this script is located.   \n",
"digestedProteins\n",
"|\u003e Array.map convertDigPepToFasta\n",
"|\u003e Array.concat\n",
"|\u003e FastA.write BioItem.symbol (__SOURCE_DIRECTORY__ + \"/digestedProteins.fasta\")\n"]
          }
,
          {
           "cell_type": "markdown",
           "metadata": {},
           
           "source": ["### Task 2.1\n",
"\n",
"Below you can see the file path to the created peptide fasta.\n",
"Read in the fasta and bind the result to \u0027peptides\u0027. Use a suitable \n",
"Converter function\n",
"\n"]
          }
,
          {
           "cell_type": "code",
           "metadata": {},
            "execution_count": 9, "outputs": [], 
           "source": ["let pathToPeptides = __SOURCE_DIRECTORY__ + \"/digestedProteins.fasta\"\n"]
          }
,
          {
           "cell_type": "markdown",
           "metadata": {},
           
           "source": ["### Task 2.2 (optional)\n",
"\n",
"Visualize the frequencies of the amino acids in a suitable diagram.\n",
"e.g. histogram, column chart, pie chart or others.\n",
"To convert `AminoAcids.AminoAcid` into chars (i.e. single letter codes) you can use `AminoAcids.symbol`.\n",
"\n"]
          }
,
          {
           "cell_type": "code",
           "metadata": {},
            "execution_count": 11, "outputs": [], 
           "source": ["\n"]
          }
,
          {
           "cell_type": "markdown",
           "metadata": {},
           
           "source": ["### Task 2.3\n",
"\n",
"Create a histogram of the molecular weights of all proteins in `proteins`.\n",
"Examine the `BioArray` module for a suitable function. \n",
"Label the axes.  \n",
"\n"]
          }
,
          {
           "cell_type": "code",
           "metadata": {},
            "execution_count": 11, "outputs": [], 
           "source": ["\n"]
          }
,
          {
           "cell_type": "markdown",
           "metadata": {},
           
           "source": ["### Task 2.4 (optional)\n",
"\n",
"There are also mitochondrial ORFs in the nucleotide fasta (Task 1.2). \n",
"Divide `yeastFasta` into two arrays. In one should be all nucleotide sequences from \u0027Chr I\u0027 to \n",
"Chr \u0027XVI\u0027, and in the other all from \u0027Chr Mito\u0027. Transcribe the sequences and visualize the codon usage with the function defined below (possibly Chart.Stack 1?).\n",
"\n",
"* Highest percentage mitochondrion:           \n",
"    * associated codon:\n",
"    * associated amino acid:\n",
"* Highest percentage nucleus:\n",
"    * associated codon:\n",
"    * associated amino acids:\n",
"\n"]
          }
,
          {
           "cell_type": "code",
           "metadata": {},
            "execution_count": 12, "outputs": [], 
           "source": ["open Plotly.NET.Axis\n",
"open Plotly.NET.StyleParam\n",
"\n",
"let myAxis title = LinearAxis.init(Title=title,Mirror=Mirror.All,Ticks=TickOptions.Inside,Showgrid=false,Showline=true,Zeroline=false)\n",
"let styleChart x y chart = chart |\u003e Chart.withX_Axis (myAxis x) |\u003e Chart.withY_Axis (myAxis y)\n",
"let plotCodonFrequency (rnaInput:BioArray.BioArray\u003cNucleotides.Nucleotide\u003e[]) =\n",
"    let allTripletts =\n",
"        rnaInput\n",
"        |\u003e Array.map (fun singleRna -\u003e Seq.chunkBySize 3 singleRna)\n",
"        |\u003e Seq.concat\n",
"        |\u003e Array.ofSeq\n",
"    allTripletts\n",
"    |\u003e Seq.groupBy id\n",
"    |\u003e Seq.mapi (fun i (codon,items) -\u003e \n",
"        printfn \"step %i, Codon %A\" i codon\n",
"        let aminoAcid = Nucleotides.CodonMap.[codon.[0],codon.[1],codon.[2]]\n",
"        let codonString = sprintf \"%A%A%A\" codon.[0] codon.[1] codon.[2]\n",
"        aminoAcid,codonString,float (Seq.length items) / float (Seq.length allTripletts))\n",
"    |\u003e Seq.sortBy (fun (_,co,_) -\u003e co)\n",
"    |\u003e Seq.groupBy (fun (aa,_,_) -\u003e aa)\n",
"    |\u003e Seq.map (fun (aa,codons) -\u003e \n",
"        codons\n",
"        |\u003e Seq.sortByDescending (fun (aa,codon,count) -\u003e count)\n",
"        |\u003e Seq.map (fun (aa,codon,count) -\u003e codon,count)\n",
"        |\u003e Chart.Column\n",
"        |\u003e Chart.withTraceName (sprintf \"%A\" aa)\n",
"        )\n",
"    |\u003e Chart.Combine\n",
"    |\u003e styleChart \"\" \"rel. count (%)\"\n",
"    |\u003e Chart.withSize (900.,600.)\n",
"    |\u003e fun x -\u003e \n",
"        Chart.Show x\n",
"        x\n"]
          }],
            "metadata": {
            "kernelspec": {"display_name": ".NET (F#)", "language": "F#", "name": ".net-fsharp"},
            "langauge_info": {
        "file_extension": ".fs",
        "mimetype": "text/x-fsharp",
        "name": "C#",
        "pygments_lexer": "fsharp",
        "version": "4.5"
        }
        },
            "nbformat": 4,
            "nbformat_minor": 1
        }
        

