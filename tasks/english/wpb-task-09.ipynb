
        {
            "cells": [
          {
           "cell_type": "markdown",
           "metadata": {},
           
           "source": ["// can\u0027t yet format YamlFrontmatter ([\"title: Task 09\"; \"category: Tasks(english)\"; \"categoryindex: 3\"; \"index: 10\"], Some { StartLine = 2 StartColumn = 0 EndLine = 6 EndColumn = 9 }) to pynb markdown\n",
"\n",
"[![Binder](/BIO-BTE-12-V-4/img/badge-binder.svg)](https://mybinder.org/v2/gh/csbiology/BIO-BTE-12-V-4/gh-pages?filepath=tasks/english/wpb-task-09.ipynb)\u0026emsp;\n",
"[![Script](/BIO-BTE-12-V-4/img/badge-script.svg)](/BIO-BTE-12-V-4/tasks/english/wpb-task-09.fsx)\u0026emsp;\n",
"[![Notebook](/BIO-BTE-12-V-4/img/badge-notebook.svg)](/BIO-BTE-12-V-4/tasks/english/wpb-task-09.ipynb)\n",
"\n",
"# Task09 - Data access\n",
"\n",
"## 0 Preface\n",
"\n",
"The following documentation may be helpful in completing the tasks:\n",
"\n",
"* Deedle: https://fslab.org/Deedle\n",
"\n",
"### Referencing Plotly.NET, Deedle and FSharp.Stats\n",
"\n",
"These lines always have to be executed once, otherwise you can not use the library:\n",
"\n"]
          }
,
          {
           "cell_type": "code",
           "metadata": {},
            "execution_count": 1, "outputs": [], 
           "source": ["#r \"nuget: Deedle, 2.3.0\"\n",
"open Deedle\n"]
          }
,
          {
           "cell_type": "markdown",
           "metadata": {},
           
           "source": ["### Working with Deedle\n",
"\n",
"Should you see this error message:\n",
"```\n",
"9_Data_exploration_using_FSharp.fsx(113,5): error FS0030: Value restriction. The value \u0027cpw\u0027\u0027 has been inferred to have generic type val cpw\u0027 : Series\u003c(string * int),\u0027_a\u003e      \n",
"Either define \u0027cpw\u0027\u0027 as a simple data term, make it a function with explicit arguments or, if you do not intend for it to be generic, add a type annotation.\n",
"```\n",
"Then you should resort to an explicit type annotation.\n",
"Instead of:\n",
"```\n",
"let cpw\u0027 = persons |\u003e Frame.getCol \"cpw\"\n",
"```\n",
"You should use:\n",
"```\n",
"let cpw\u0027 :Series\u003cint,float\u003e = persons |\u003e Frame.getCol \"cpw\"\n",
"```\n",
"To display deedle objects in this notebook you can use the `.Print()` member:\n",
"\n"]
          }
,
          {
           "cell_type": "code",
           "metadata": {},
            "execution_count": 2, "outputs": [], 
           "source": ["let firstNames\u0027 = Series.ofValues [\"Kevin\";\"Lukas\";\"Benedikt\";\"Michael\"]\n",
"firstNames\u0027.Print()\n"]
          }
,
          {
           "cell_type": "markdown",
           "metadata": {},
           
           "source": ["## 1 Basics\n",
"\n",
"### Task 1.1\n",
"\n",
"Given are 4 series of equal length. Use the function `Series.mapValues` to double the values of \"coffeesPerWeek\".\n",
"\n"]
          }
,
          {
           "cell_type": "code",
           "metadata": {},
            "execution_count": 3, "outputs": [], 
           "source": ["let firstNames      = Series.ofValues [\"Kevin\";\"Lukas\";\"Benedikt\";\"Michael\"] \n",
"let coffeesPerWeek  = Series.ofValues [15;12;10;11] \n",
"let lastNames       = Series.ofValues [\"Schneider\";\"Weil\";\"Venn\";\"Schroda\"]  \n",
"let group           = Series.ofValues [\"CSB\";\"CSB\";\"CSB\";\"MBS\"]\n"]
          }
,
          {
           "cell_type": "markdown",
           "metadata": {},
           
           "source": ["### Task 1.2\n",
"\n",
"Create a frame named \"persons\" based on the 4 given Series.\n",
"\n"]
          }
,
          {
           "cell_type": "code",
           "metadata": {},
            "execution_count": 12, "outputs": [], 
           "source": ["\n"]
          }
,
          {
           "cell_type": "markdown",
           "metadata": {},
           
           "source": ["### Task 1.3\n",
"\n",
"Add a column named \"sodasPerWeek\" to the frame. Bind the resulting frame to a name.\n",
"\n",
"Tip: Create a `Series\u003cint,int\u003e` first. Use `Frame.addCol`\n",
"\n"]
          }
,
          {
           "cell_type": "code",
           "metadata": {},
            "execution_count": 12, "outputs": [], 
           "source": ["\n"]
          }
,
          {
           "cell_type": "markdown",
           "metadata": {},
           
           "source": ["### Task 1.4\n",
"\n",
"Add the columns \"sodasPerWeek\" and \"coffeesPerWeek\". Add the resulting series as a column with the title \"allPurchases\" to the previously created frame.\n",
"\n",
"Tip 1: This task can be solved in several ways.\n",
"\n",
"Tip 2: Via `Series.values` you can access the values of each Series. Then you could iterate over both collections with `Seq.map2`. \n",
"\n"]
          }
,
          {
           "cell_type": "code",
           "metadata": {},
            "execution_count": 12, "outputs": [], 
           "source": ["\n"]
          }
,
          {
           "cell_type": "markdown",
           "metadata": {},
           
           "source": ["### Task 1.5\n",
"\n",
"Determine the sum of \"allPurchases\".\n",
"\n"]
          }
,
          {
           "cell_type": "code",
           "metadata": {},
            "execution_count": 12, "outputs": [], 
           "source": ["\n"]
          }
,
          {
           "cell_type": "markdown",
           "metadata": {},
           
           "source": ["## 2 Frame Operationen\n",
"\n",
"### Task 2.1\n",
"\n",
"Group the rows of the frame from Task 1.2 according to the elements of the \"group\" column.\n",
"\n",
"Tip: Explicit type annotation (see: [Working with Deedle](#Working-with-Deedle)). \n",
"\n"]
          }
,
          {
           "cell_type": "code",
           "metadata": {},
            "execution_count": 12, "outputs": [], 
           "source": ["\n"]
          }
,
          {
           "cell_type": "markdown",
           "metadata": {},
           
           "source": ["### Task 2.2\n",
"\n",
"Results tables often contain more than 40 columns. However, only a few are interesting for individual analysis. \n",
"It is therefore often useful to create a frame that contains fewer columns. Use the function `Frame.sliceCols` to create a frame on the base of the \n",
"frame from Task 1.2 to create a frame that contains only the columns \"lastNames\" and \"coffeesPerWeek\".\n",
"\n"]
          }
,
          {
           "cell_type": "code",
           "metadata": {},
            "execution_count": 12, "outputs": [], 
           "source": ["\n"]
          }
,
          {
           "cell_type": "markdown",
           "metadata": {},
           
           "source": ["### Task 2.3\n",
"\n",
"Many times you want to aggregate based on groupings. Calculate the sum of the \"coffeePerWeek\" column for each group.\n",
"\n",
"Tip: Extract the \"coffeePerWeek\" column from the result of Task 2.1. Proceed as demonstrated in the lecture. \n",
"\n"]
          }
,
          {
           "cell_type": "code",
           "metadata": {},
            "execution_count": 12, "outputs": [], 
           "source": ["\n"]
          }
,
          {
           "cell_type": "markdown",
           "metadata": {},
           
           "source": ["### Task 2.4\n",
"\n",
"Often you want to save intermediate results. Save the frame from task 1.2 as a CSV file. Use \u0027;\u0027 as separator.\n",
"\n"]
          }
,
          {
           "cell_type": "code",
           "metadata": {},
            "execution_count": 12, "outputs": [], 
           "source": ["\n"]
          }
,
          {
           "cell_type": "markdown",
           "metadata": {},
           
           "source": ["### Task 2.5\n",
"\n",
"Use the function \u0027Frame.ReadCsv\u0027 to read the file again.\n",
"\n"]
          }
,
          {
           "cell_type": "code",
           "metadata": {},
            "execution_count": 12, "outputs": [], 
           "source": ["\n"]
          }],
            "metadata": {
            "kernelspec": {"display_name": ".NET (F#)", "language": "F#", "name": ".net-fsharp"},
            "langauge_info": {
        "file_extension": ".fs",
        "mimetype": "text/x-fsharp",
        "name": "C#",
        "pygments_lexer": "fsharp",
        "version": "4.5"
        }
        },
            "nbformat": 4,
            "nbformat_minor": 1
        }
        

