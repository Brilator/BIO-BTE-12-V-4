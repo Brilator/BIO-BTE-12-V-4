
        {
            "cells": [
          {
           "cell_type": "markdown",
           "metadata": {},
           
           "source": ["// can\u0027t yet format YamlFrontmatter ([\"title: Task 02\"; \"category: Tasks(english)\"; \"categoryindex: 2\"; \"index: 3\"], Some { StartLine = 2 StartColumn = 0 EndLine = 6 EndColumn = 8 }) to pynb markdown\n",
"\n",
"[![Binder](/BIO-BTE-12-V-4/img/badge-binder.svg)](https://mybinder.org/v2/gh/csbiology/BIO-BTE-12-V-4/gh-pages?filepath=tasks/english/wpb-task-02.ipynb)\u0026emsp;\n",
"[![Script](/BIO-BTE-12-V-4/img/badge-script.svg)](/BIO-BTE-12-V-4/tasks/english/wpb-task-02.fsx)\u0026emsp;\n",
"[![Notebook](/BIO-BTE-12-V-4/img/badge-notebook.svg)](/BIO-BTE-12-V-4/tasks/english/wpb-task-02.ipynb)\n",
"\n",
"# Task02 - Functions and Data types\n",
"\n",
"## Tuples\n",
"\n",
"### Task 1.1:\n",
"\n",
"Declare a tuple consisting of 2. and \"February\" and bind it to the name `tuple1`.\n",
"\n"]
          }
,
          {
           "cell_type": "code",
           "metadata": {},
            "execution_count": 20, "outputs": [], 
           "source": ["\n"]
          }
,
          {
           "cell_type": "markdown",
           "metadata": {},
           
           "source": ["### Task 1.2:\n",
"\n",
"Declare a tuple consisting of 2., \"February\" and \"Spring\" and bind it to the name `tuple2`.\n",
"\n"]
          }
,
          {
           "cell_type": "code",
           "metadata": {},
            "execution_count": 20, "outputs": [], 
           "source": ["\n"]
          }
,
          {
           "cell_type": "markdown",
           "metadata": {},
           
           "source": ["### Task 1.3:\n",
"\n",
"Access the second value of the tuple of 1.1.\n",
"\n"]
          }
,
          {
           "cell_type": "code",
           "metadata": {},
            "execution_count": 20, "outputs": [], 
           "source": ["\n"]
          }
,
          {
           "cell_type": "markdown",
           "metadata": {},
           
           "source": ["### Task 1.4:\n",
"\n",
"Bind `tuple1` of 1.1 to: `(output1,output2)`.\n",
"Why could that be useful?\n",
"Keyword: tuple deconstruction\n",
"\n"]
          }
,
          {
           "cell_type": "code",
           "metadata": {},
            "execution_count": 20, "outputs": [], 
           "source": ["\n"]
          }
,
          {
           "cell_type": "markdown",
           "metadata": {},
           
           "source": ["## Record Types\n",
"\n",
"### Task 2.1: \n",
"\n",
"Define a record type with the name `Person`. Person should contain the fields `Name`(string) and `Age`(int).\n",
"Pascal case is used for record types instead of camel case (pascal case is like camel case but the first letter is big too).\n",
"\n"]
          }
,
          {
           "cell_type": "code",
           "metadata": {},
            "execution_count": 20, "outputs": [], 
           "source": ["\n"]
          }
,
          {
           "cell_type": "markdown",
           "metadata": {},
           
           "source": ["### Task 2.2:\n",
"\n",
"Create a value of the type `Person` with made-up values in its fields and bind it to the name `myPerson1`.\n",
"Access the field `Age` of `myPerson1`.\n",
"\n"]
          }
,
          {
           "cell_type": "code",
           "metadata": {},
            "execution_count": 20, "outputs": [], 
           "source": ["\n"]
          }
,
          {
           "cell_type": "markdown",
           "metadata": {},
           
           "source": ["### Task 2.3:\n",
"\n",
"Declare a function that takes two input parameters und returns a `Person`.\n",
"Bind the result of this function to the name `myPerson2`.\n",
"\n"]
          }
,
          {
           "cell_type": "code",
           "metadata": {},
            "execution_count": 20, "outputs": [], 
           "source": ["\n"]
          }
,
          {
           "cell_type": "markdown",
           "metadata": {},
           
           "source": ["### Task 2.4:\n",
"\n",
"Define another record type with the name `ExtendedPerson`. ExtendedPerson shall have the same fields like `Person` but get the\n",
"additional field `Hobby`. Since everything can be your hobby, `Hobby` shall be of generic type.\n",
"Hint: The generic type must be stated between the name of the record type and `=` via `\u003c\u0027a\u003e`.\n",
"\n"]
          }
,
          {
           "cell_type": "code",
           "metadata": {},
            "execution_count": 20, "outputs": [], 
           "source": ["\n"]
          }
,
          {
           "cell_type": "markdown",
           "metadata": {},
           
           "source": ["### Task 2.5\n",
"\n",
"Create a value of the type `ExtendedPerson`.\n",
"\n"]
          }
,
          {
           "cell_type": "code",
           "metadata": {},
            "execution_count": 20, "outputs": [], 
           "source": ["\n"]
          }
,
          {
           "cell_type": "markdown",
           "metadata": {},
           
           "source": ["## Signatures\n",
"\n",
"### Task 3.1\n",
"\n",
"Declare an arbitrary function with the signature `int -\u003e int`.\n",
"\n"]
          }
,
          {
           "cell_type": "code",
           "metadata": {},
            "execution_count": 20, "outputs": [], 
           "source": ["\n"]
          }
,
          {
           "cell_type": "markdown",
           "metadata": {},
           
           "source": ["### Task 3.2\n",
"\n",
"Declare an arbitrary function with the signature `int -\u003e (int -\u003e int) -\u003e float`.\n",
"\n"]
          }
,
          {
           "cell_type": "code",
           "metadata": {},
            "execution_count": 20, "outputs": [], 
           "source": ["\n"]
          }
,
          {
           "cell_type": "markdown",
           "metadata": {},
           
           "source": ["### Task 3.3\n",
"\n",
"Describe the return value of a function with the signature `char -\u003e (string -\u003e char -\u003e float)`.\n",
"\n"]
          }
,
          {
           "cell_type": "code",
           "metadata": {},
            "execution_count": 20, "outputs": [], 
           "source": ["\n"]
          }
,
          {
           "cell_type": "markdown",
           "metadata": {},
           
           "source": ["## Collection types\n",
"\n",
"### Task 4.1\n",
"\n",
"Create an int list with the numbers 1 to 100 and bind them to a name.\n",
"\n"]
          }
,
          {
           "cell_type": "code",
           "metadata": {},
            "execution_count": 20, "outputs": [], 
           "source": ["\n"]
          }
,
          {
           "cell_type": "markdown",
           "metadata": {},
           
           "source": ["### Task 4.2\n",
"\n",
"Bind the first and the last element of the list each to a name.\n",
"\n"]
          }
,
          {
           "cell_type": "code",
           "metadata": {},
            "execution_count": 20, "outputs": [], 
           "source": ["\n"]
          }
,
          {
           "cell_type": "markdown",
           "metadata": {},
           
           "source": ["### Task 4.3\n",
"\n",
"Create a float array with the numbers 1. to 100. and bind them to a name.\n",
"\n"]
          }
,
          {
           "cell_type": "code",
           "metadata": {},
            "execution_count": 20, "outputs": [], 
           "source": ["\n"]
          }
,
          {
           "cell_type": "markdown",
           "metadata": {},
           
           "source": ["### Task 4.4\n",
"\n",
"Bind the 15. element of the array of 4.3 to a name.\n",
"\n"]
          }
,
          {
           "cell_type": "code",
           "metadata": {},
            "execution_count": 20, "outputs": [], 
           "source": ["\n"]
          }
,
          {
           "cell_type": "markdown",
           "metadata": {},
           
           "source": ["### Task 4.5\n",
"\n",
"Create a map that contains all months. Use the number of the month (integer) as key and the name (string) as value.\n",
"\n"]
          }
,
          {
           "cell_type": "code",
           "metadata": {},
            "execution_count": 20, "outputs": [], 
           "source": ["\n"]
          }
,
          {
           "cell_type": "markdown",
           "metadata": {},
           
           "source": ["### Task 4.6\n",
"\n",
"Check, based on a suitable key, if the month March exists in the map.\n",
"\n"]
          }
,
          {
           "cell_type": "code",
           "metadata": {},
            "execution_count": 20, "outputs": [], 
           "source": ["\n"]
          }
,
          {
           "cell_type": "markdown",
           "metadata": {},
           
           "source": ["### Task 4.7\n",
"\n",
"Create two sets. One with numbers 1 to 10 and another one with numbers 3 to 7 and bind them each to a name.\n",
"\n"]
          }
,
          {
           "cell_type": "code",
           "metadata": {},
            "execution_count": 20, "outputs": [], 
           "source": ["\n"]
          }
,
          {
           "cell_type": "markdown",
           "metadata": {},
           
           "source": ["### Task 4.8 \n",
"\n",
"Compare the previously created sets. Form the intersection (instersect) and the union of both sets and bind them each to a name.\n",
"Hint: Use the module Set to get suitable functions via \u0027dotting in\u0027.\n",
"\n"]
          }
,
          {
           "cell_type": "code",
           "metadata": {},
            "execution_count": 20, "outputs": [], 
           "source": ["\n"]
          }],
            "metadata": {
            "kernelspec": {"display_name": ".NET (F#)", "language": "F#", "name": ".net-fsharp"},
            "langauge_info": {
        "file_extension": ".fs",
        "mimetype": "text/x-fsharp",
        "name": "C#",
        "pygments_lexer": "fsharp",
        "version": "4.5"
        }
        },
            "nbformat": 4,
            "nbformat_minor": 1
        }
        

