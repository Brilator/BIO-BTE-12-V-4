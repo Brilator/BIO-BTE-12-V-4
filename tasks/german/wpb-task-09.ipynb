
        {
            "cells": [
          {
           "cell_type": "markdown",
           "metadata": {},
           
           "source": ["// can\u0027t yet format YamlFrontmatter ([\"title: Übung 09\"; \"category: Übungen(deutsch)\"; \"categoryindex: 2\"; \"index: 10\"], Some { StartLine = 2 StartColumn = 0 EndLine = 6 EndColumn = 9 }) to pynb markdown\n",
"\n",
"[![Binder](/BIO-BTE-12-V-4/img/badge-binder.svg)](https://mybinder.org/v2/gh/csbiology/BIO-BTE-12-V-4/gh-pages?filepath=tasks/german/wpb-task-09.ipynb)\u0026emsp;\n",
"[![Script](/BIO-BTE-12-V-4/img/badge-script.svg)](/BIO-BTE-12-V-4/tasks/german/wpb-task-09.fsx)\u0026emsp;\n",
"[![Notebook](/BIO-BTE-12-V-4/img/badge-notebook.svg)](/BIO-BTE-12-V-4/tasks/german/wpb-task-09.ipynb)\n",
"\n",
"# Task09 - Bioinformatik mit F#\n",
"\n",
"## Vorwort\n",
"\n",
"Die Plotly.NET Dokumentation finden sie hier: https://plotly.net\n",
"\n",
"Die BioFSharp Dokumentation finden sie hier: https://csbiology.github.io/BioFSharp/\n",
"\n",
"## Referenzieren von Plotly.NET und BioFSharp\n",
"\n",
"Diese Zeilen müssen immer mindestens einmal ausgeführt werden, sonst können Plotly.NET und BioFSharp nicht verwendet werden:\n",
"\n"]
          }
,
          {
           "cell_type": "code",
           "metadata": {},
            "execution_count": 1, "outputs": [], 
           "source": ["#r \"nuget: Plotly.NET, 2.0.0-preview.1\"\n",
"#r \"nuget: Plotly.NET.Interactive, 2.0.0-preview.1\"\n",
"#r \"nuget: BioFSharp, 1.2.0\"\n",
"#r \"nuget: BioFSharp.IO, 1.2.0\"\n",
"\n",
"// Hier werden Plotly.NET und BioFSharp geoeffnet.\n",
"open Plotly.NET\n",
"open BioFSharp\n",
"open BioFSharp.IO\n",
"// Zur Vereinfachung der Signaturen werden hier außerdem weitere Namespaces/Module geoeffnet.\n",
"open BioArray\n",
"open BioSeq\n",
"open AminoAcids\n",
"open Nucleotides\n"]
          }
,
          {
           "cell_type": "markdown",
           "metadata": {},
           
           "source": ["## Kopieren von Pfaden\n",
"\n",
"Das Einlesen von Daten wird in einer späteren Uebung genauer behandelt. In dieser Uebung muss eine Datei ueber einen Pfad referenziert und eingelesen werden.\n",
"Wie man an den absoluten Pfad einer Datei gelangt wird hier gezeigt.\n",
"\n",
"### Windows\n",
"\n",
"* Navigieren Sie zu der heruntergeladenen Datei\n",
"\n",
"* Drücken Sie mit `Shift` + `Rechtsklick` auf die Datei\n",
"\n",
"* Wählen sie \"Als Pfad kopieren\" in dem Kontextmenü aus:\n",
"\n",
"    ![](/BIO-BTE-12-V-4/img/PfadWindows.png)\n",
"\n",
"* Mit `Strg` + `V` können sie den so kopierten Pfad an einer beliebigen stelle einfügen\n",
"\n",
"### Mac\n",
"\n",
"* Navigieren Sie zu der heruntergeladenen Datei\n",
"\n",
"* Drücken Sie mit `ctrl-Klick` oder `Rechtsklick` auf die Datei\n",
"\n",
"* Halten sie bei geöffnetem Kontextmenü zusätzlich `Alt` gedrückt\n",
"\n",
"* Wählen Sie \"X als Pfadname kopieren\" in dem Kontextmenü aus:\n",
"\n",
"    ![](/BIO-BTE-12-V-4/img/PfadMac.png)\n",
"\n",
"* Mit `Befehlstaste` + `V` können sie den so kopierten Pfad an einer beliebigen stelle einfügen\n",
"\n",
"## Task 1\n",
"\n",
"### Task 1.0\n",
"\n",
"`nucleotideString` ist eine Sequenz aus Nucleotiden. Diese soll in die entsprechende Aminosaeure-\n",
"Sequenz translatiert werden.\n",
"\n",
"* A Wandeln Sie \u0027nucleotideString\u0027 in ein BioArray um\n",
"* B Transkribieren Sie das Ergebnis aus A (die angegebene Sequenz ist der template strand)\n",
"* C Translatieren Sie das Ergebnis aus B mit einem offset von 0\n",
"* D Erstellen Sie eine Funktion, die einen string bekommt, die vorherigen Schritte ausfuehrt und somit\n",
"ein `BioArray\u003cAminoAcids\u003e` zurueck gibt.\n",
"\n"]
          }
,
          {
           "cell_type": "code",
           "metadata": {},
            "execution_count": 2, "outputs": [], 
           "source": ["let nucleotideString = \"TACCATGCAGCTACCTAAGGATCACCGACT\"\n"]
          }
,
          {
           "cell_type": "markdown",
           "metadata": {},
           
           "source": ["### Task 1.1\n",
"\n",
"Laden sie die Nucleotid-Fasta von Hefe (S. cerevisiae) herunter: https://github.com/CSBiology/BIO-BTE-12-V-4/releases/download/YeastFasta/orf_genomic_filtered.fasta. \u003cbr\u003e\n",
"Source: http://sgd-archive.yeastgenome.org/sequence/S288C_reference/orf_dna/ \u003cbr\u003e\n",
"Kopieren sie den Pfad der heruntergeladenen Datei und binden ihn an den Namen `filepath`\n",
"\n",
"Lesen Sie die Fasta ein und binden Sie das Ergebnis an `yeastFasta`. Nutzen Sie dafuer die Funktion \n",
"`FastA.fromFile` und nutzen Sie `BioArray.ofNucleotideString` als Converter-Funktion.\n",
"Wandeln Sie die entstehende Sequenz in ein Array um. \n",
"\n"]
          }
,
          {
           "cell_type": "code",
           "metadata": {},
            "execution_count": 3, "outputs": [], 
           "source": ["let filepath = \"Ihr/Pfad/hier\"\n"]
          }
,
          {
           "cell_type": "markdown",
           "metadata": {},
           
           "source": ["### Task 1.2\n",
"\n",
"Generieren Sie aus der erstellten Sequenz (yeastFasta) jeweils ein einzelnes Array aus Headern und \n",
"Sequenzen und binden Sie diese Arrays an die Namen `header` und `dna`. \n",
"Tipp: `yeastFasta` besteht aus FastaItems, die wiederum Record Types aus `Header` und `Sequence` sind. \n",
"Da die gesamte Uebung auf diesen Arrays beruht, melden Sie sich bitte wenn es nicht funktionieren sollte.\n",
"\n"]
          }
,
          {
           "cell_type": "code",
           "metadata": {},
            "execution_count": 11, "outputs": [], 
           "source": ["\n"]
          }
,
          {
           "cell_type": "markdown",
           "metadata": {},
           
           "source": ["### Task 1.3\n",
"\n",
"Transkribieren Sie alle Nukleotid-Sequenzen aus `dna` und binden Sie das resultierende Array an den Namen \n",
"`rna`.\n",
"\n",
"* Tipp:  Die DNA-Sequenzen stellen jeweils den coding strand dar.\n",
"* Tipp2: Nutzen Sie `Array.map` um ueber die Sequenzen zu iterieren (Gilt auch fuer die folgenden Aufgaben).\n",
"\n"]
          }
,
          {
           "cell_type": "code",
           "metadata": {},
            "execution_count": 11, "outputs": [], 
           "source": ["\n"]
          }
,
          {
           "cell_type": "markdown",
           "metadata": {},
           
           "source": ["### Task 1.4\n",
"\n",
"Im Folgenden sollen die RNA-Sequenzen in Proteine, also Aminosaeure-Sequenzen translatiert werden.   \n",
"Binden Sie das Ergebnis an den Namen `proteins`.\n",
"\n"]
          }
,
          {
           "cell_type": "code",
           "metadata": {},
            "execution_count": 11, "outputs": [], 
           "source": ["\n"]
          }
,
          {
           "cell_type": "markdown",
           "metadata": {},
           
           "source": ["### Task 1.5\n",
"\n",
"Nun sollen die Proteine tryptisch zu Peptiden verdaut werden (Trypsin ist eine Protease, die Proteine \n",
"jeweils nach Lysin (Einbuchstabencode K) und Arginin (Einbuchstabencode R) schneidet.\n",
"Die Funktion `Digestion.BioArray.digest` erwartet eine proteinID. Hier kann ein beliebiger Integer \n",
"eingesetzt werden. Idealerweise soll hier der Index der jeweiligen Aminosaeure-Sequenz eingetragen werden.\n",
"Binden Sie das Ergebnis an \u0027digestedProteins\u0027.\n",
"\n"]
          }
,
          {
           "cell_type": "code",
           "metadata": {},
            "execution_count": 7, "outputs": [], 
           "source": ["let trypsin = Digestion.Table.Trypsin\n"]
          }
,
          {
           "cell_type": "markdown",
           "metadata": {},
           
           "source": ["### Task 1.6\n",
"\n",
"Keine Aufgabe\u003cbr\u003e\n",
"Der untenstehende Abschnitt erstellt aus den einzelnen Peptiden FastA-Items und schreibt diese in ein \n",
"FastA-File.\n",
"\n"]
          }
,
          {
           "cell_type": "code",
           "metadata": {},
            "execution_count": 8, "outputs": [], 
           "source": ["let convertDigPepToFasta (digPep: Digestion.DigestedPeptide\u003c\u0027a\u003e[])=\n",
"    digPep\n",
"    |\u003e Array.mapi (fun index peptide -\u003e\n",
"        FastA.createFastaItem (sprintf \"Protein %i Fragment %i\" peptide.ProteinID index) peptide.PepSequence \n",
"        )\n",
"\n",
"// __SOURCE_DIRECTORY__ definiert hier den Pfad zum Ordner, in dem dieses Skript liegt.        \n",
"digestedProteins\n",
"|\u003e Array.map convertDigPepToFasta\n",
"|\u003e Array.concat\n",
"|\u003e FastA.write BioItem.symbol (__SOURCE_DIRECTORY__ + \"/digestedProteins.fasta\")\n"]
          }
,
          {
           "cell_type": "markdown",
           "metadata": {},
           
           "source": ["### Task 2.1\n",
"\n",
"Unten sehen Sie den Dateipfad zu der erstellten Peptid-Fasta.\n",
"Lesen Sie die Fasta ein und binden Sie das Ergebnis an \u0027peptides\u0027. Nutzen Sie eine geeignete \n",
"Converter-Funktion\n",
"\n"]
          }
,
          {
           "cell_type": "code",
           "metadata": {},
            "execution_count": 9, "outputs": [], 
           "source": ["let pathToPeptides = __SOURCE_DIRECTORY__ + \"/digestedProteins.fasta\"\n"]
          }
,
          {
           "cell_type": "markdown",
           "metadata": {},
           
           "source": ["### Task 2.2 (optional)\n",
"\n",
"Visualisieren Sie die Haeufigkeiten der Aminosaeuren in einem geeineten Diagramm.\n",
"zB. Histogramm, Saeulendiagramm, Kreisdiagramm o.ae.\n",
"Um `AminoAcids.AminoAcid` in chars (also Einbuchstabencodes) umzuwandeln koennen Sie `AminoAcids.symbol` \n",
"nutzen.\n",
"\n"]
          }
,
          {
           "cell_type": "code",
           "metadata": {},
            "execution_count": 11, "outputs": [], 
           "source": ["\n"]
          }
,
          {
           "cell_type": "markdown",
           "metadata": {},
           
           "source": ["### Task 2.3\n",
"\n",
"Erstellen Sie ein Histogramm ueber die Molekulargewichte aller Proteine in `proteins`.\n",
"Untersuchen Sie das `BioArray` Modul nach einer geeigneten Funktion. \n",
"Beschriften Sie die Achsen.  \n",
"\n"]
          }
,
          {
           "cell_type": "code",
           "metadata": {},
            "execution_count": 11, "outputs": [], 
           "source": ["\n"]
          }
,
          {
           "cell_type": "markdown",
           "metadata": {},
           
           "source": ["### Task 2.4 (optional)\n",
"\n",
"In der Nukleotid-Fasta (Task 1.2) befinden sich auch mitochondriale ORFs. \n",
"Teilen sie `yeastFasta` in zwei Arrays auf. Im einen sollen alle Nucleotid Sequenzen von \u0027Chr I\u0027  bis \n",
"Chr \u0027XVI\u0027 sein, im anderen alle von \u0027Chr Mito\u0027. Transkribieren Sie die Sequenzen und visualisieren Sie \n",
"die Codon-Usage mit der unten definierten Funktion. (evtl. Chart.Stack 1?)\n",
"\n",
"* Hoechste Prozentzahl Mitochondrion:           \n",
"    * zugehoeriges Codon:\n",
"    * zugehoerige Aminosaeure:\n",
"* Hoechste Prozentzahl Nucleus:\n",
"    * zugehoeriges Codon:\n",
"    * zugehoerige Aminosaeure:\n",
"\n"]
          }
,
          {
           "cell_type": "code",
           "metadata": {},
            "execution_count": 12, "outputs": [], 
           "source": ["open Plotly.NET.Axis\n",
"open Plotly.NET.StyleParam\n",
"\n",
"let myAxis title = LinearAxis.init(Title=title,Mirror=Mirror.All,Ticks=TickOptions.Inside,Showgrid=false,Showline=true,Zeroline=false)\n",
"let styleChart x y chart = chart |\u003e Chart.withX_Axis (myAxis x) |\u003e Chart.withY_Axis (myAxis y)\n",
"let plotCodonFrequency (rnaInput:BioArray.BioArray\u003cNucleotides.Nucleotide\u003e[]) =\n",
"    let allTripletts =\n",
"        rnaInput\n",
"        |\u003e Array.map (fun singleRna -\u003e Seq.chunkBySize 3 singleRna)\n",
"        |\u003e Seq.concat\n",
"        |\u003e Array.ofSeq\n",
"    allTripletts\n",
"    |\u003e Seq.groupBy id\n",
"    |\u003e Seq.mapi (fun i (codon,items) -\u003e \n",
"        printfn \"step %i, Codon %A\" i codon\n",
"        let aminoAcid = Nucleotides.CodonMap.[codon.[0],codon.[1],codon.[2]]\n",
"        let codonString = sprintf \"%A%A%A\" codon.[0] codon.[1] codon.[2]\n",
"        aminoAcid,codonString,float (Seq.length items) / float (Seq.length allTripletts))\n",
"    |\u003e Seq.sortBy (fun (_,co,_) -\u003e co)\n",
"    |\u003e Seq.groupBy (fun (aa,_,_) -\u003e aa)\n",
"    |\u003e Seq.map (fun (aa,codons) -\u003e \n",
"        codons\n",
"        |\u003e Seq.sortByDescending (fun (aa,codon,count) -\u003e count)\n",
"        |\u003e Seq.map (fun (aa,codon,count) -\u003e codon,count)\n",
"        |\u003e Chart.Column\n",
"        |\u003e Chart.withTraceName (sprintf \"%A\" aa)\n",
"        )\n",
"    |\u003e Chart.Combine\n",
"    |\u003e styleChart \"\" \"rel. count (%)\"\n",
"    |\u003e Chart.withSize (900.,600.)\n",
"    |\u003e fun x -\u003e \n",
"        Chart.Show x\n",
"        x\n"]
          }],
            "metadata": {
            "kernelspec": {"display_name": ".NET (F#)", "language": "F#", "name": ".net-fsharp"},
            "langauge_info": {
        "file_extension": ".fs",
        "mimetype": "text/x-fsharp",
        "name": "C#",
        "pygments_lexer": "fsharp",
        "version": "4.5"
        }
        },
            "nbformat": 4,
            "nbformat_minor": 1
        }
        

