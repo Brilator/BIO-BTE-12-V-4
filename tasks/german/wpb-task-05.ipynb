
        {
            "cells": [
          {
           "cell_type": "markdown",
           "metadata": {},
           
           "source": ["// can\u0027t yet format YamlFrontmatter ([\"title: Übung 05\"; \"category: Übungen(deutsch)\"; \"categoryindex: 2\"; \"index: 6\"], Some { StartLine = 2 StartColumn = 0 EndLine = 6 EndColumn = 8 }) to pynb markdown\n",
"\n",
"[![Binder](/BIO-BTE-12-V-4/img/badge-binder.svg)](https://mybinder.org/v2/gh/csbiology/BIO-BTE-12-V-4/gh-pages?filepath=tasks/german/wpb-task-05.ipynb)\u0026emsp;\n",
"[![Script](/BIO-BTE-12-V-4/img/badge-script.svg)](/BIO-BTE-12-V-4/tasks/german/wpb-task-05.fsx)\u0026emsp;\n",
"[![Notebook](/BIO-BTE-12-V-4/img/badge-notebook.svg)](/BIO-BTE-12-V-4/tasks/german/wpb-task-05.ipynb)\n",
"\n",
"# Task05 - Programming with Objects \n",
"\n",
"## Veränderliche Werte\n",
"\n",
"### Task 1.1:\n",
"\n",
"Erstellen und Verändern von veränderlichen Werten\n",
"\n",
"Tipp: \n",
"\n",
"- Benutzt das `mutable` keyword\n",
"- Zur Veränderung der Werte wird der `\u003c-` Operator verwendet\n",
"\n",
"### Subtask 1.1.1\n",
"\n",
"Erstelle einen veränderlichen Integer mit dem Wert 1 und bindet ihn an den Namen x\n",
"\n",
"\n"]
          }
,
          {
           "cell_type": "code",
           "metadata": {},
            "execution_count": 13, "outputs": [], 
           "source": ["\n"]
          }
,
          {
           "cell_type": "markdown",
           "metadata": {},
           
           "source": ["### Subtask 1.1.2\n",
"\n",
"Verändere den Wert der an x gebunden ist indem ihr den Wert den x trägt mit 5 multipliziert \n",
"\n"]
          }
,
          {
           "cell_type": "code",
           "metadata": {},
            "execution_count": 13, "outputs": [], 
           "source": ["\n"]
          }
,
          {
           "cell_type": "markdown",
           "metadata": {},
           
           "source": ["### Subtask 1.1.3\n",
"\n",
"Erstelle einen Record Type `Mensch` mit \n",
"\n",
"- dem unveränderlichen Feld `Name` vom Typ string\n",
"- und dem veränderlichen Feld `Alter` vom Typ int\n",
"\n"]
          }
,
          {
           "cell_type": "code",
           "metadata": {},
            "execution_count": 13, "outputs": [], 
           "source": ["\n"]
          }
,
          {
           "cell_type": "markdown",
           "metadata": {},
           
           "source": ["### Subtask 1.1.4\n",
"\n",
"Erstelle die Funktion `geburtstagFeiern` die als Parameter einen Wert des Typen `Mensch` erhält und das Alter des Menschen um eins erhöht\n",
"\n"]
          }
,
          {
           "cell_type": "code",
           "metadata": {},
            "execution_count": 13, "outputs": [], 
           "source": ["\n"]
          }
,
          {
           "cell_type": "markdown",
           "metadata": {},
           
           "source": ["### Subtask 1.1.5\n",
"\n",
"Erstelle einen Menschen, binde ihn an einen Namen und lass diesen erstellten Menschen mit der Funktion `geburtstagFeiern` altern.\n",
"\n"]
          }
,
          {
           "cell_type": "code",
           "metadata": {},
            "execution_count": 13, "outputs": [], 
           "source": ["\n"]
          }
,
          {
           "cell_type": "markdown",
           "metadata": {},
           
           "source": ["### Task 1.2 (Bonusaufgabe) Veränderliche Werte in Funktionen\n",
"\n",
"Erstelle eine eigene Version der `Array.max` Funktion. Diese Funktion soll ein Array von ints erhalten und den größten der ints zurückgeben.\n",
"Signatur: `int [] -\u003e int`\n",
"\n",
"Dabei soll der aktuell größte int ein `veränderlicher Wert` sein und es soll eine `for-Schleife` verwendet werden.\n",
"\n",
"\n"]
          }
,
          {
           "cell_type": "code",
           "metadata": {},
            "execution_count": 13, "outputs": [], 
           "source": ["\n"]
          }
,
          {
           "cell_type": "markdown",
           "metadata": {},
           
           "source": ["## Vererbung\n",
"\n",
"### Task 2.1 Erstellen von Klassen und Objekten\n",
"\n",
"### Subtask 2.1.1\n",
"\n",
"Im folgenden wird die Klasse `Fahrzeug` erstellt. Versuche nachzuvollziehen, was passiert und kommentiere jede Zeile kurz\n",
"\n",
"Keywortfundgrube: Methode, Feld, Konstruktor, Parameter, alternativ, binden\n",
"\n",
"\n"]
          }
,
          {
           "cell_type": "code",
           "metadata": {},
            "execution_count": 7, "outputs": [], 
           "source": ["// Kommentar:\n",
"type Fahrzeug (hersteller:string) =\n",
"    // Kommentar:\n",
"    member self.Hersteller = hersteller\n",
"    // Kommentar:\n",
"    member self.Fahren() = printfn \"%s macht brumm brumm\" self.Hersteller\n",
"    // Kommentar:\n",
"    new() = Fahrzeug(\"VW\")\n"]
          }
,
          {
           "cell_type": "markdown",
           "metadata": {},
           
           "source": ["### Subtask 2.1.2\n",
"\n",
"Instanziiere 2 Objekte des Typs `Fahrzeug`. Verwende einmal den den Haupt- und einmal den alternativen Konstruktor\n",
"\n"]
          }
,
          {
           "cell_type": "code",
           "metadata": {},
            "execution_count": 13, "outputs": [], 
           "source": ["\n"]
          }
,
          {
           "cell_type": "markdown",
           "metadata": {},
           
           "source": ["### Task 2.2 Vererbung\n",
"\n",
"### Subtask 2.2.1\n",
"\n",
"Hier ist ein Beispiel für die Vererbung eines Typen, namentlich der Typ `Motorrad` der vom Typ `Fahrzeug` erbt. \n",
"\n",
"Erstelle analog einen Typen `Auto`, der auch vom Typ `Fahrzeug` erben soll. Dieser Typ soll aber zusätzlich das Feld `AnzahlTueren` enthalten. \n",
"Wähle hierzu einen passenden primitiven Typen und passe auch den Konstruktor an, sodass diese Anzahl der Türen auch beim Instanziieren gesetzt werden kann.\n",
"\n"]
          }
,
          {
           "cell_type": "code",
           "metadata": {},
            "execution_count": 9, "outputs": [], 
           "source": ["type Motorrad (hersteller:string) =\n",
"\n",
"    inherit Fahrzeug(hersteller)\n",
"\n",
"    new() = Motorrad(\"Kawasaki\")\n"]
          }
,
          {
           "cell_type": "markdown",
           "metadata": {},
           
           "source": ["### Subtask 2.2.2\n",
"\n",
"Erstelle eine Funktion, welche einen Parameter des Typs `Fahrzeug` enthält und die Methode `Fahren` dieses Fahrzeuges ausführt.\n",
"\n"]
          }
,
          {
           "cell_type": "code",
           "metadata": {},
            "execution_count": 13, "outputs": [], 
           "source": ["\n"]
          }
,
          {
           "cell_type": "markdown",
           "metadata": {},
           
           "source": ["### Subtask 2.2.3\n",
"\n",
"Erstelle ein `Auto` und binde en an einen Namen. Dann wende die oben definierte Funktion zum `Fahren` darauf an.\n",
"\n",
"### Task 2.3 (Bonusaufgabe) Veränderliche Werte in Objekten\n",
"\n",
"Deklariere eine Klasse `Cabrio` die vom Typ `Fahrzeug` erbt. \n",
"\n",
"Diese Klasse soll ein Feld `DachOffen` vom Typ `bool` haben und zusätzlich Methoden, mit denen man das Dach öffnen und schließen kann\n",
"\n",
"## Polymorphismus\n",
"\n",
"### Task 3.1\n",
"\n",
"Wir wollen hier Personen implementieren, die ihren Namen sagen können. In Japan wird auch im alltäglichen Leben normalerweise der Familienname vor dem Eigennamen genannt. \n",
"So ist Yoko Ono in Japan als Ono Yoko bekannt. Um diesen Unterschied programmatisch darzustellen, wurde der Code folgendermassen geschrieben:\n",
"\n",
"Ordne die folgenden Begriffen den zugehörigen Codebausteinen zu: `Klassendeklaration`, `Objektinstanziierung`, `Interfacedeklaration`\n",
"\n",
"\n"]
          }
,
          {
           "cell_type": "code",
           "metadata": {},
            "execution_count": 11, "outputs": [], 
           "source": ["// Bezeichnung:\n",
"type IPerson =\n",
"    abstract FamilienName   : string\n",
"    abstract EigenName      : string\n",
"    abstract NamenSagen     : unit -\u003e string\n",
"\n",
"// Bezeichnung:\n",
"type Japaner (fn, en) =\n",
"    let familienName = fn\n",
"    let eigenName = en\n",
"    interface IPerson with\n",
"        member self.FamilienName = familienName\n",
"        member self.EigenName = eigenName\n",
"        member self.NamenSagen () = familienName + \" \" + eigenName\n",
"\n",
"// Bezeichnung:\n",
"type Deutscher (fn, en) =\n",
"    let familienName = fn\n",
"    let eigenName = en\n",
"    interface IPerson with\n",
"        member self.FamilienName = familienName\n",
"        member self.EigenName = eigenName\n",
"        member self.NamenSagen () = eigenName + \" \" + familienName\n",
"\n",
"// Bezeichnung:\n",
"let yokoOno = Japaner(\"Ono\",\"Yoko\")\n",
"\n",
"// Bezeichnung:\n",
"let angeloMerte = Deutscher(\"Merte\",\"Angelo\")\n"]
          }
,
          {
           "cell_type": "markdown",
           "metadata": {},
           
           "source": ["### Task 3.2\n",
"\n",
"Greife auf die Methode `NamenSagen` der beiden Personen zu. \n",
"Tipp: Verwende den korrekten `casting Operator`\n",
"\n"]
          }
,
          {
           "cell_type": "code",
           "metadata": {},
            "execution_count": 13, "outputs": [], 
           "source": ["\n"]
          }
,
          {
           "cell_type": "markdown",
           "metadata": {},
           
           "source": ["### Task 3.3\n",
"\n",
"Erkläre kurz in eigenen Worten, warum in diesem Beispiel Polymorphismus verwendet wurde und nicht Vererbung.\n",
"\n"]
          }
,
          {
           "cell_type": "code",
           "metadata": {},
            "execution_count": 13, "outputs": [], 
           "source": ["\n"]
          }
,
          {
           "cell_type": "markdown",
           "metadata": {},
           
           "source": ["### Task 3.4\n",
"\n",
"Im fernen Land Dingeldongel wird wie auch in Deutschland erst der Eigenname und dann der Familienname genannt. Beide werden jedoch revertiert. (Angela Merkel -\u003e alegnA lekreM)\n",
"\n",
"Deklariere die Klasse `Dingeldongler`, die das Interface `IPerson` implementiert.\n",
"\n",
"Tipp: Verwende die gegebene string-revertier Funktion\n",
"\n",
"\n"]
          }
,
          {
           "cell_type": "code",
           "metadata": {},
            "execution_count": 14, "outputs": [], 
           "source": ["let revert (s:string) = System.String(s.ToCharArray() |\u003e Array.rev)\n"]
          }],
            "metadata": {
            "kernelspec": {"display_name": ".NET (F#)", "language": "F#", "name": ".net-fsharp"},
            "langauge_info": {
        "file_extension": ".fs",
        "mimetype": "text/x-fsharp",
        "name": "C#",
        "pygments_lexer": "fsharp",
        "version": "4.5"
        }
        },
            "nbformat": 4,
            "nbformat_minor": 1
        }
        

