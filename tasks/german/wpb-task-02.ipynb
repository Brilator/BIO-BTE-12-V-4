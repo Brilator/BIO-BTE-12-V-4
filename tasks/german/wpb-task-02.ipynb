
        {
            "cells": [
          {
           "cell_type": "markdown",
           "metadata": {},
           
           "source": ["// can\u0027t yet format YamlFrontmatter ([\"title: Übung 02\"; \"category: Übungen(deutsch)\"; \"categoryindex: 2\"; \"index: 3\"], Some { StartLine = 2 StartColumn = 0 EndLine = 6 EndColumn = 8 }) to pynb markdown\n",
"\n",
"[![Binder](/BIO-BTE-12-V-4/img/badge-binder.svg)](https://mybinder.org/v2/gh/csbiology/BIO-BTE-12-V-4/gh-pages?filepath=tasks/german/wpb-task-02.ipynb)\u0026emsp;\n",
"[![Script](/BIO-BTE-12-V-4/img/badge-script.svg)](/BIO-BTE-12-V-4/tasks/german/wpb-task-02.fsx)\u0026emsp;\n",
"[![Notebook](/BIO-BTE-12-V-4/img/badge-notebook.svg)](/BIO-BTE-12-V-4/tasks/german/wpb-task-02.ipynb)\n",
"\n",
"# Task02 - Functions and Data types\n",
"\n",
"## Tuples\n",
"\n",
"### Task 1.1:\n",
"\n",
"Deklariere einen Tuple aus 2. und \"Februar\" und binde den Tuple an den Namen `tuple1`.\n",
"\n"]
          }
,
          {
           "cell_type": "code",
           "metadata": {},
            "execution_count": 20, "outputs": [], 
           "source": ["\n"]
          }
,
          {
           "cell_type": "markdown",
           "metadata": {},
           
           "source": ["### Task 1.2:\n",
"\n",
"Deklariere einen Tuple aus 2., \"Februar\" und \"Fruehling\" und bindet ihn an den Namen `tuple2`.\n",
"\n"]
          }
,
          {
           "cell_type": "code",
           "metadata": {},
            "execution_count": 20, "outputs": [], 
           "source": ["\n"]
          }
,
          {
           "cell_type": "markdown",
           "metadata": {},
           
           "source": ["### Task 1.3:\n",
"\n",
"Greife auf den zweiten Wert des Tuples aus 1.1 zu.\n",
"\n"]
          }
,
          {
           "cell_type": "code",
           "metadata": {},
            "execution_count": 20, "outputs": [], 
           "source": ["\n"]
          }
,
          {
           "cell_type": "markdown",
           "metadata": {},
           
           "source": ["### Task 1.4:\n",
"\n",
"Bindet `tuple1` aus Task 1.1 an: `(output1,output2)`\n",
"Warum kann das sinnvoll sein?\n",
"Stichwort: Tuple Deconstruction.\n",
"\n"]
          }
,
          {
           "cell_type": "code",
           "metadata": {},
            "execution_count": 20, "outputs": [], 
           "source": ["\n"]
          }
,
          {
           "cell_type": "markdown",
           "metadata": {},
           
           "source": ["## Record Types\n",
"\n",
"### Task 2.1: \n",
"\n",
"Definiere einen Record Type mit dem Namen `Person`. Person soll die Felder `Name`(string) und `Alter`(int) haben.\n",
"Bei Record Types wird kein camel case, sondern pascal case verwendet (wie camel case nur ist der erste Buchstabe auch groß).\n",
"\n"]
          }
,
          {
           "cell_type": "code",
           "metadata": {},
            "execution_count": 20, "outputs": [], 
           "source": ["\n"]
          }
,
          {
           "cell_type": "markdown",
           "metadata": {},
           
           "source": ["### Task 2.2:\n",
"\n",
"Erstellt einen Wert des Typs `Person` mit ausgedachten Feldwerten und bindet ihn an den Namen `meinePerson1`.\n",
"Greift auf das Feld `Alter` von `meinePerson1` zu.\n",
"\n"]
          }
,
          {
           "cell_type": "code",
           "metadata": {},
            "execution_count": 20, "outputs": [], 
           "source": ["\n"]
          }
,
          {
           "cell_type": "markdown",
           "metadata": {},
           
           "source": ["### Task 2.3:\n",
"\n",
"Deklariere eine Funktion die zwei Inputparameter erhaelt und als Rueckgabewert eine `Person` gibt.\n",
"Binde ein Ergebnis dieser Funktion an den Namen `meinePerson2`.\n",
"\n"]
          }
,
          {
           "cell_type": "code",
           "metadata": {},
            "execution_count": 20, "outputs": [], 
           "source": ["\n"]
          }
,
          {
           "cell_type": "markdown",
           "metadata": {},
           
           "source": ["### Task 2.4:\n",
"\n",
"Definiere einen weiteren Record Type mit dem Namen `ErweitertePerson`. ErweitertePerson soll die gleichen Felder wie `Person`\n",
"haben, bekommt aber noch das zusaetzliche Feld `Hobby`. Da man alles zu seinem Hobby machen kann, soll\n",
"\u0027Hobby\u0027 vom Typ generic type sein.\n",
"Tipp: Zwischen dem Namen des Record types und `=` muss der generic type durch `\u003c\u0027a\u003e` angegeben werden\n",
"\n"]
          }
,
          {
           "cell_type": "code",
           "metadata": {},
            "execution_count": 20, "outputs": [], 
           "source": ["\n"]
          }
,
          {
           "cell_type": "markdown",
           "metadata": {},
           
           "source": ["### Task 2.5\n",
"\n",
"Erstellt einen Wert des Typs `ErweitertePerson`.\n",
"\n"]
          }
,
          {
           "cell_type": "code",
           "metadata": {},
            "execution_count": 20, "outputs": [], 
           "source": ["\n"]
          }
,
          {
           "cell_type": "markdown",
           "metadata": {},
           
           "source": ["## Signatures\n",
"\n",
"### Task 3.1\n",
"\n",
"Deklariere eine beliebige Funktion mit der Signatur `int -\u003e int`.\n",
"\n"]
          }
,
          {
           "cell_type": "code",
           "metadata": {},
            "execution_count": 20, "outputs": [], 
           "source": ["\n"]
          }
,
          {
           "cell_type": "markdown",
           "metadata": {},
           
           "source": ["### Task 3.2\n",
"\n",
"Deklariere eine beliebige Funktion mit der Signatur `int -\u003e (int -\u003e int) -\u003e float`.\n",
"\n"]
          }
,
          {
           "cell_type": "code",
           "metadata": {},
            "execution_count": 20, "outputs": [], 
           "source": ["\n"]
          }
,
          {
           "cell_type": "markdown",
           "metadata": {},
           
           "source": ["### Task 3.3\n",
"\n",
"Beschreibe den Rueckgabewert einer Funktion mit folgender Signatur `char -\u003e (string -\u003e char -\u003e float)`.\n",
"\n"]
          }
,
          {
           "cell_type": "code",
           "metadata": {},
            "execution_count": 20, "outputs": [], 
           "source": ["\n"]
          }
,
          {
           "cell_type": "markdown",
           "metadata": {},
           
           "source": ["## Collection types\n",
"\n",
"### Task 4.1\n",
"\n",
"Erstelle eine int Liste mit den Zahlen 1 bis 100 und binde sie an einen Namen.\n",
"\n"]
          }
,
          {
           "cell_type": "code",
           "metadata": {},
            "execution_count": 20, "outputs": [], 
           "source": ["\n"]
          }
,
          {
           "cell_type": "markdown",
           "metadata": {},
           
           "source": ["### Task 4.2\n",
"\n",
"Binde das erste und das letzte Element der Liste an je einen Namen.\n",
"\n"]
          }
,
          {
           "cell_type": "code",
           "metadata": {},
            "execution_count": 20, "outputs": [], 
           "source": ["\n"]
          }
,
          {
           "cell_type": "markdown",
           "metadata": {},
           
           "source": ["### Task 4.3\n",
"\n",
"Erstelle ein float Array mit den Zahlen von 1. bis 100. und binde es an einen Namen.\n",
"\n"]
          }
,
          {
           "cell_type": "code",
           "metadata": {},
            "execution_count": 20, "outputs": [], 
           "source": ["\n"]
          }
,
          {
           "cell_type": "markdown",
           "metadata": {},
           
           "source": ["### Task 4.4\n",
"\n",
"Binde das 15. Element des Arrays aus 4.3 an einen Namen.\n",
"\n"]
          }
,
          {
           "cell_type": "code",
           "metadata": {},
            "execution_count": 20, "outputs": [], 
           "source": ["\n"]
          }
,
          {
           "cell_type": "markdown",
           "metadata": {},
           
           "source": ["### Task 4.5\n",
"\n",
"Erstelle eine Map, die alle Monate enthaelt. Verwende dafuer die Zahl des Monats (integer) als Key und den Namen (string) als Value.\n",
"\n"]
          }
,
          {
           "cell_type": "code",
           "metadata": {},
            "execution_count": 20, "outputs": [], 
           "source": ["\n"]
          }
,
          {
           "cell_type": "markdown",
           "metadata": {},
           
           "source": ["### Task 4.6\n",
"\n",
"Ueberpruefe anhand eines geeigneten Keys, ob der Monat Maerz in der Map vorhanden ist.\n",
"\n"]
          }
,
          {
           "cell_type": "code",
           "metadata": {},
            "execution_count": 20, "outputs": [], 
           "source": ["\n"]
          }
,
          {
           "cell_type": "markdown",
           "metadata": {},
           
           "source": ["### Task 4.7\n",
"\n",
"Erstelle zwei Sets. Eins mit Zahlen von 1 bis 10 und eins mit Zahlen von 3 bis 7 und binde sie an je einen Namen.\n",
"\n"]
          }
,
          {
           "cell_type": "code",
           "metadata": {},
            "execution_count": 20, "outputs": [], 
           "source": ["\n"]
          }
,
          {
           "cell_type": "markdown",
           "metadata": {},
           
           "source": ["### Task 4.8 \n",
"\n",
"Vergleicht die zuvor erstellten Sets. Bildet die Schnittmenge (intersect) und die Vereinigungsmenge (union) aus beiden Sets und bindet sie an je einen Namen.\n",
"Tipp: Nutzt das Set Modul um durch \u0027reindotten\u0027 geeignete Funktionen zu erhalten.\n",
"\n"]
          }
,
          {
           "cell_type": "code",
           "metadata": {},
            "execution_count": 20, "outputs": [], 
           "source": ["\n"]
          }],
            "metadata": {
            "kernelspec": {"display_name": ".NET (F#)", "language": "F#", "name": ".net-fsharp"},
            "langauge_info": {
        "file_extension": ".fs",
        "mimetype": "text/x-fsharp",
        "name": "C#",
        "pygments_lexer": "fsharp",
        "version": "4.5"
        }
        },
            "nbformat": 4,
            "nbformat_minor": 1
        }
        

