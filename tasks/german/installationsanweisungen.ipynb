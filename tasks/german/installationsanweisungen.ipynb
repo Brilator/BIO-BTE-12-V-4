
        {
            "cells": [
          {
           "cell_type": "markdown",
           "metadata": {},
           
           "source": ["// can\u0027t yet format YamlFrontmatter ([\"title: Installationsanweisungen\"; \"category: Übungen(deutsch)\"; \"categoryindex: 2\"; \"index: 1\"], Some { StartLine = 2 StartColumn = 0 EndLine = 6 EndColumn = 8 }) to pynb markdown\n",
"\n",
"# Installation\n",
"\n",
"* Lade die neuste stabile Version von [Visual Studio Code](https://code.visualstudio.com/) herunter und installiere sie.\n",
"* Lade die empfohlene [.NET SDK](https://dotnet.microsoft.com/download) herunter und installiere sie.\n",
"* Oeffne Visual Studio Code, navigiere zum Reiter \"Extensions\" und installiere:\n",
"    * .NET Interactive Notebooks\n",
"    * Ionide-fsharp\n",
"    \n",
"    ![](https://raw.githubusercontent.com/CSBiology/BIO-BTE-12-V-4/main/docs/img/CodeExtensions.png)\n",
"\n",
"* Lade das aktuelle Notizbuch von der links verlinkten Seite herunter.\n",
"\n",
"    ![](https://raw.githubusercontent.com/CSBiology/BIO-BTE-12-V-4/main/docs/img/DownloadNotebook.png)\n",
"\n",
"* Druecke `Strg + Shift + P` oder `F1` in Visual Studio Code und klicke auf `.NET Interactive Open notebook`.\n",
"\n",
"    ![](https://raw.githubusercontent.com/CSBiology/BIO-BTE-12-V-4/main/docs/img/OpenNotebook.png)\n",
"\n",
"* Navigiere zum Speicherort deines Notizbuchs und oeffne es.\n",
"* Notizbuecher beinhalten Text- und Codebloecke:\n",
"    * Einen neuer Text- oder Codeblock kann hinzugefuegt werden, indem man mit dem Mauszeiger ueber den oberen oder unteren Rand eines vorhandenen Blocks faehrt:\n",
"\n",
"    ![](https://raw.githubusercontent.com/CSBiology/BIO-BTE-12-V-4/main/docs/img/AddingBlock.png)\n",
"\n",
"    * Arbeiten mit Textbloecken:\n",
"        Ein Textblock kann ueber einen Doppelklick bearbeitet werden. Innerhalb eines Textblocks kannst du normalen Text schreiben, oder den Text mit [Markdown](https://en.wikipedia.org/wiki/Markdown) anpassen.\n",
"        Sobald du fertig bist, kannst du die `Esc` Taste benutzen.\n",
"    * Arbeiten mit Codebloecken:\n",
"        Ein Codeblock kann ueber einen Klick in dne Block bearbeitet werden. In diesem Block kannst du deinen eigenen Code schreiben, oder bereits existierenden Code bearbeiten. Sobald du mit dem bearbeiten fertig bist, kannst du `Strg + Alt + Enter` druecken, um den Codeblock auszufuehren.\n",
"        Solltest du alle Codebloecke auf einmal ausfuehren wollen, kannst du auf die beiden Pfeile in der oberen rechten Ecke des Notizbuches klicken:\n",
"\n",
"    ![](https://raw.githubusercontent.com/CSBiology/BIO-BTE-12-V-4/main/docs/img/ExecuteAll.png)\n",
"\n"]
          }],
            "metadata": {
            "kernelspec": {"display_name": ".NET (F#)", "language": "F#", "name": ".net-fsharp"},
            "langauge_info": {
        "file_extension": ".fs",
        "mimetype": "text/x-fsharp",
        "name": "C#",
        "pygments_lexer": "fsharp",
        "version": "4.5"
        }
        },
            "nbformat": 4,
            "nbformat_minor": 1
        }
        

