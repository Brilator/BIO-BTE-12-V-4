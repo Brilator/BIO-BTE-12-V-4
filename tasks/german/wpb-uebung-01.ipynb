
        {
            "cells": [
          {
           "cell_type": "markdown",
           "metadata": {},
           
           "source": ["// can\u0027t yet format YamlFrontmatter ([\"title: Übung 01\"; \"category: Übungen(deutsch)\"; \"categoryindex: 2\"; \"index: 2\"], Some { StartLine = 2 StartColumn = 0 EndLine = 6 EndColumn = 8 }) to pynb markdown\n",
"\n",
"[![Binder](/BIO-BTE-12-V-4/img/badge-binder.svg)](https://mybinder.org/v2/gh/csbiology/BIO-BTE-12-V-4/gh-pages?filepath=tasks/german/wpb-uebung-01.ipynb)\u0026emsp;\n",
"[![Script](/BIO-BTE-12-V-4/img/badge-script.svg)](/BIO-BTE-12-V-4/tasks/german/wpb-uebung-01.fsx)\u0026emsp;\n",
"[![Notebook](/BIO-BTE-12-V-4/img/badge-notebook.svg)](/BIO-BTE-12-V-4/tasks/german/wpb-uebung-01.ipynb)\n",
"\n",
"# Task01 - Hello F#\n",
"\n",
"-------------------------------\n",
"\n",
"\n",
"Erst einmal die absoluten Basics:\n",
"\n",
"- **In einem .fsx script:** \n",
"\n",
"    Markiert die \u002710\u0027, und drueckt Alt+Enter, dann sollte sich die interaktive Konsole oeffnen und euer \n",
"    Output sollte \u0027val it: int = 10\u0027 sein.\n",
"    (Bei einzeiligem Code koennt ihr auch einfach die Zeile auswaehlen und Alt+Enter druecken ohne das alles markiert ist.)\n",
"\n",
"- **In einem Notebook:**\n",
"\n",
"    Links von dem Feld unten das die \u002710\u0027 beinhaltet befindet sich ein \u0027play\u0027 Knopf. \n",
"    Dieser Knopf führt beim drücken den jeweiligen Code-block aus und gibt das Ergebnis (hier: 10) darunter aus.\n",
"\n",
"\n"]
          }
,
          {
           "cell_type": "code",
           "metadata": {},
            "execution_count": 1, "outputs": [], 
           "source": ["10\n"]
          }
,
          {
           "cell_type": "markdown",
           "metadata": {},
           
           "source": ["Auf diese Weise koennt ihr Code den ihr geschrieben habt, direkt testen und euch den Output ansehen.\n",
"Versucht das mal mit der folgenden Zeile und ihr werdet sehen, dass das Ergebnis direkt ausgerechnet wird und 30 ist.\n",
"\n"]
          }
,
          {
           "cell_type": "code",
           "metadata": {},
            "execution_count": 2, "outputs": [], 
           "source": ["10 + 20\n"]
          }
,
          {
           "cell_type": "markdown",
           "metadata": {},
           
           "source": ["Alles was ihr hinter \"//\" oder innerhalb von (* ... *) schreibt ist ein Kommentar und wird nicht als Code ausgefuehrt.\n",
"Ihr koennt auch Teile einer Zeile auskommentieren mit der Tastenkombination (Strg + K -\u003e Strg + C)\n",
"\n"]
          }
,
          {
           "cell_type": "code",
           "metadata": {},
            "execution_count": 3, "outputs": [], 
           "source": ["10 (*+ 40 *) + 30\n"]
          }
,
          {
           "cell_type": "markdown",
           "metadata": {},
           
           "source": ["Solltet ihr bei einer Uebung nicht auf die Loesung kommen, lasst auf jeden Fall euren Loesungsansatz stehen!\n",
"\n",
"## Das \u0027let\u0027-Binding\n",
"\n",
"## Task 1\n",
"\n",
"### Task 1.1\n",
"\n",
"Binde den Wert 10 an den Namen \u0027x\u0027. Binde den Wert 20 an den Namen \u0027kaesebrot\u0027.\n",
"\n"]
          }
,
          {
           "cell_type": "code",
           "metadata": {},
            "execution_count": 20, "outputs": [], 
           "source": ["\n"]
          }
,
          {
           "cell_type": "markdown",
           "metadata": {},
           
           "source": ["### Task 1.2\n",
"\n",
"Binde das Ergebnis der Addition von \u0027x\u0027 mit dem Wert 10 an \u0027y\u0027.\n",
"\n"]
          }
,
          {
           "cell_type": "code",
           "metadata": {},
            "execution_count": 20, "outputs": [], 
           "source": ["\n"]
          }
,
          {
           "cell_type": "markdown",
           "metadata": {},
           
           "source": ["### Task 1.3\n",
"\n",
"Binde einen Vornamen als string an \u0027vorname\u0027.\n",
"\n"]
          }
,
          {
           "cell_type": "code",
           "metadata": {},
            "execution_count": 20, "outputs": [], 
           "source": ["\n"]
          }
,
          {
           "cell_type": "markdown",
           "metadata": {},
           
           "source": ["### Task 1.4\n",
"\n",
"Berechne den Rest aus 432858049/41 und binde das Ergebnis an \u0027modulo\u0027\n",
"\n"]
          }
,
          {
           "cell_type": "code",
           "metadata": {},
            "execution_count": 20, "outputs": [], 
           "source": ["\n"]
          }
,
          {
           "cell_type": "markdown",
           "metadata": {},
           
           "source": ["### Task 1.5\n",
"\n",
"Binde die Summe der jeweiligen Summen aus x + 10 und y + 20 an den Namen \u0027summeXY\u0027. \n",
"Die Zwischenergebnisse sollten nicht im globalen Sichtbarkeitsbereich (Scope) liegen.\n",
"\n"]
          }
,
          {
           "cell_type": "code",
           "metadata": {},
            "execution_count": 20, "outputs": [], 
           "source": ["\n"]
          }
,
          {
           "cell_type": "markdown",
           "metadata": {},
           
           "source": ["## Die \"printfn\" - Funktion\n",
"\n",
"### Task 2\n",
"\n",
"_Tipp: https://docs.microsoft.com/de-de/dotnet/fsharp/language-reference/plaintext-formatting_\n",
"\n",
"### Task 2.1:  \n",
"\n",
"Benutze die printfn - Funktion um \"Hallo F#\" in die Konsole auszugeben.\n",
"\n"]
          }
,
          {
           "cell_type": "code",
           "metadata": {},
            "execution_count": 20, "outputs": [], 
           "source": ["\n"]
          }
,
          {
           "cell_type": "markdown",
           "metadata": {},
           
           "source": ["### Task 2.2:  \n",
"\n",
"Benutze die printfn - Funktion um den Wert von \u0027vorname\u0027 in die Konsole auszugeben.\n",
"\n"]
          }
,
          {
           "cell_type": "code",
           "metadata": {},
            "execution_count": 20, "outputs": [], 
           "source": ["\n"]
          }
,
          {
           "cell_type": "markdown",
           "metadata": {},
           
           "source": ["### Task 2.3:  \n",
"\n",
"Benutzt printfn um \u0027y\u0027 in die Konsole auszugeben.\n",
"\n"]
          }
,
          {
           "cell_type": "code",
           "metadata": {},
            "execution_count": 20, "outputs": [], 
           "source": ["\n"]
          }
,
          {
           "cell_type": "markdown",
           "metadata": {},
           
           "source": ["## Primitive Datentypen und Funktionen\n",
"\n",
"### Task 3\n",
"\n",
"### Task 3.1\n",
"\n",
"Binde einen beliebigen Wert vom Typ Integer an den Namen intI.\n",
"\n"]
          }
,
          {
           "cell_type": "code",
           "metadata": {},
            "execution_count": 20, "outputs": [], 
           "source": ["\n"]
          }
,
          {
           "cell_type": "markdown",
           "metadata": {},
           
           "source": ["### Task 3.2\n",
"\n",
"Binde einen beliebigen Wert vom Typ Float an den Namen floatI.\n",
"\n"]
          }
,
          {
           "cell_type": "code",
           "metadata": {},
            "execution_count": 20, "outputs": [], 
           "source": ["\n"]
          }
,
          {
           "cell_type": "markdown",
           "metadata": {},
           
           "source": ["### Task 3.3\n",
"\n",
"Wandelt entweder intI oder floatI in den Datentyp des anderen um und addiert beide.\n",
"\n"]
          }
,
          {
           "cell_type": "code",
           "metadata": {},
            "execution_count": 20, "outputs": [], 
           "source": ["\n"]
          }
,
          {
           "cell_type": "markdown",
           "metadata": {},
           
           "source": ["### Task 3.4\n",
"\n",
"Berechne den Quotienten aus \u002727\u0027 und \u002713\u0027. Dann berechne den Quotienten von beiden Integern als Float.\n",
"\n"]
          }
,
          {
           "cell_type": "code",
           "metadata": {},
            "execution_count": 20, "outputs": [], 
           "source": ["\n"]
          }
,
          {
           "cell_type": "markdown",
           "metadata": {},
           
           "source": ["### Task 3.5:\n",
"\n",
"Konkateniere einen beliebigen Wert vom Typ String mit einem einzelnem Buchstaben (Typ Char)\n",
"\n"]
          }
,
          {
           "cell_type": "code",
           "metadata": {},
            "execution_count": 20, "outputs": [], 
           "source": ["\n"]
          }
,
          {
           "cell_type": "markdown",
           "metadata": {},
           
           "source": ["### Task 3.6:\n",
"\n",
"Deklariere eine Funktion \u0027mulitplyBy2\u0027 die einen float verdoppelt. \n",
"\n"]
          }
,
          {
           "cell_type": "code",
           "metadata": {},
            "execution_count": 20, "outputs": [], 
           "source": ["\n"]
          }
,
          {
           "cell_type": "markdown",
           "metadata": {},
           
           "source": ["### Task 3.7:  \n",
"\n",
"Deklariere eine Funktion \u0027calculateCylinderVolume\u0027 die aus Radius und Laenge das Volumen eines Zylinders \n",
"zurueckgibt UND zusaetzlich \"Das Volumen des Zylinders ist: XX\" in die Konsole printed. Wobei XX natuerlich \n",
"das korrekte Volumen des Zylinders ist. (Der Output einer printfn Funktion ist Unit.)\n",
"Warum kann es Sinn machen, Ergebnisse zu printen? \n",
"\n"]
          }
,
          {
           "cell_type": "code",
           "metadata": {},
            "execution_count": 20, "outputs": [], 
           "source": ["\n"]
          }
,
          {
           "cell_type": "markdown",
           "metadata": {},
           
           "source": ["### Task 3.8:  \n",
"\n",
"Deklariere eine Funktion die einen Parameter vom Typ Integer als Input nimmt und die \u0027multiplyBy2\u0027 \n",
"Funtkion darauf anwendet\n",
"\n"]
          }
,
          {
           "cell_type": "code",
           "metadata": {},
            "execution_count": 20, "outputs": [], 
           "source": ["\n"]
          }
,
          {
           "cell_type": "markdown",
           "metadata": {},
           
           "source": ["### Task 3.9:  \n",
"\n",
"Deklariere eine Funktion die als Input zwei Parameter vom Typ Floats, einen Vergleichsoperator z.B. \n",
"(\u003c, \u003e, = ), und einen Parameter vom Typ Boolean akzeptiert. Das Ergebnis aus der Anwendung des angegebenen \n",
"Operators auf die numerischen Parameter soll mit dem Parameter vom Typ Boolean auf Gleichheit ueberprueft werden.\n",
"\n",
"(_2 Punkte_)\n",
"\n",
"\n"]
          }
,
          {
           "cell_type": "code",
           "metadata": {},
            "execution_count": 20, "outputs": [], 
           "source": ["\n"]
          }],
            "metadata": {
            "kernelspec": {"display_name": ".NET (F#)", "language": "F#", "name": ".net-fsharp"},
            "langauge_info": {
        "file_extension": ".fs",
        "mimetype": "text/x-fsharp",
        "name": "C#",
        "pygments_lexer": "fsharp",
        "version": "4.5"
        }
        },
            "nbformat": 4,
            "nbformat_minor": 1
        }
        

