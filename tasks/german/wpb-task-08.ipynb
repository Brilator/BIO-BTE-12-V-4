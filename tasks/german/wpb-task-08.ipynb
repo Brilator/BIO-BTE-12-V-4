
        {
            "cells": [
          {
           "cell_type": "markdown",
           "metadata": {},
           
           "source": ["// can\u0027t yet format YamlFrontmatter ([\"title: Übung 08\"; \"category: Übungen(deutsch)\"; \"categoryindex: 2\"; \"index: 9\"], Some { StartLine = 2 StartColumn = 0 EndLine = 6 EndColumn = 8 }) to pynb markdown\n",
"\n",
"[![Binder](/BIO-BTE-12-V-4/img/badge-binder.svg)](https://mybinder.org/v2/gh/csbiology/BIO-BTE-12-V-4/gh-pages?filepath=tasks/german/wpb-task-08.ipynb)\u0026emsp;\n",
"[![Script](/BIO-BTE-12-V-4/img/badge-script.svg)](/BIO-BTE-12-V-4/tasks/german/wpb-task-08.fsx)\u0026emsp;\n",
"[![Notebook](/BIO-BTE-12-V-4/img/badge-notebook.svg)](/BIO-BTE-12-V-4/tasks/german/wpb-task-08.ipynb)\n",
"\n",
"# Task08 - Descriptive statistics in FSharp\n",
"\n",
"## Streuungsmaße mit FSharp.Stats\n",
"\n",
"### Vorwort\n",
"\n",
"Die Plotly.NET Dokumentation finden sie hier: https://plotly.net\n",
"\n",
"Die Plotly.NET Dokumentation finden sie hier: https://fslab.org/FSharp.Stats/\n",
"\n",
"### Referenzieren von Plotly.NET\n",
"\n",
"Diese Zeilen müssen immer mindestens einmal ausgeführt werden, sonst kann Plotly.NET und FSharp.Stats nicht verwendet werden:\n",
"\n"]
          }
,
          {
           "cell_type": "code",
           "metadata": {},
            "execution_count": 1, "outputs": [], 
           "source": ["#r \"nuget: FSharp.Stats, 0.4.1\"\n",
"#r \"nuget: Plotly.NET, 2.0.0-preview.1\"\n",
"#r \"nuget: Plotly.NET.Interactive, 2.0.0-preview.1\"\n",
"\n",
"//Hier werden Plotly.NET und FSharp.Stats geöffnet.\n",
"open Plotly.NET\n",
"open Plotly.NET.StyleParam\n",
"open FSharp.Stats\n"]
          }
,
          {
           "cell_type": "markdown",
           "metadata": {},
           
           "source": ["### Task 1.1\n",
"\n",
"Erstellen Sie eine Normalverteilung, welche 3.50 als Mittelwert und 1.20 als Standardabweichung hat.\n",
"Binden Sie diese Verteilung an den Namen `myDistribution`.\n",
"\n",
"\n"]
          }
,
          {
           "cell_type": "code",
           "metadata": {},
            "execution_count": 2, "outputs": [], 
           "source": ["open FSharp.Stats.Distributions\n"]
          }
,
          {
           "cell_type": "markdown",
           "metadata": {},
           
           "source": ["### Task 1.2\n",
"\n",
"Greifen Sie auf das Feld `Variance` der zuvor erstellten Verteilung zu. Ziehen Sie ausserdem ein zufaelligen Wert aus der Verteilung.\n",
"\n",
"\n"]
          }
,
          {
           "cell_type": "code",
           "metadata": {},
            "execution_count": 10, "outputs": [], 
           "source": ["\n"]
          }
,
          {
           "cell_type": "markdown",
           "metadata": {},
           
           "source": ["### Task 1.3\n",
"\n",
"Unten sehen Sie eine Funktion, die eine Stichprobe aus einer Verteilung entnimmt. Verstehen Sie die Funktion und erstellen Sie eine Stichprobe aus `myDistribution` mit n=15. Binden Sie das Ergebnis an `mySample`.\n",
"\n",
"\n"]
          }
,
          {
           "cell_type": "code",
           "metadata": {},
            "execution_count": 4, "outputs": [], 
           "source": ["let getSample (dist:Distributions.Distribution\u003cfloat,float\u003e) n = \n",
"    let distribution = dist\n",
"    Array.init n (fun _ -\u003e distribution.Sample())\n"]
          }
,
          {
           "cell_type": "markdown",
           "metadata": {},
           
           "source": ["### Task 1.4\n",
"\n",
"Erstellen Sie eine Funktion, die einen Mittelwert mean (float), eine Standardabweichung stabw (float) und eine Stichprobengroesse n (int) als Parameter bekommt. \n",
"Aus mean und stabw soll eine Normalverteilung erstellt werden. Die Funktion soll ein float array der Laenge n als Stichprobe aus der Verteilung zurueckgeben.\n",
"Als Vorlage kann `getSample` aus 1.3 dienen. Binden Sie die Funktion an den Namen `getSampleOfGaussWith`.\n",
"\n",
"\n"]
          }
,
          {
           "cell_type": "code",
           "metadata": {},
            "execution_count": 10, "outputs": [], 
           "source": ["\n"]
          }
,
          {
           "cell_type": "markdown",
           "metadata": {},
           
           "source": ["### Task 1.5\n",
"\n",
"Bestimmen Sie den Mittelwert und die Varianz von mySample. \n",
"\n",
"\n"]
          }
,
          {
           "cell_type": "code",
           "metadata": {},
            "execution_count": 10, "outputs": [], 
           "source": ["\n"]
          }
,
          {
           "cell_type": "markdown",
           "metadata": {},
           
           "source": ["### Task 1.6\n",
"\n",
"Unten sehen Sie eine Funktion, die aus einer Stichprobe den Standardfehler berechnet. \n",
"\n",
"  - a) Erstellen Sie eine Liste mit dem Namen \u0027semsOfSample\u0027. Die Liste soll aus 100 Standardfehlern bestehen, die auf Stichproben folgender Verteilung beruhen: \n",
"\n",
"    - mean = 6.0\n",
"\n",
"    - stabw = 1.5\n",
"\n",
"    - Stichprobengroesse: jeweils 12\n",
"\n",
"  - b) Erstellen Sie eine Liste mit dem Namen \u0027stDevsOfSample\u0027, die aus Stichproben der gleichen Verteilung jeweils die Standardabweichung berechnet.\n",
"\n",
"\n"]
          }
,
          {
           "cell_type": "code",
           "metadata": {},
            "execution_count": 7, "outputs": [], 
           "source": ["let sem (sample:float []) =\n",
"    let sd = Seq.stDev sample\n",
"    let n = float (Seq.length sample)\n",
"    sd / sqrt n\n"]
          }
,
          {
           "cell_type": "markdown",
           "metadata": {},
           
           "source": ["### Task 1.7 (optional)\n",
"\n",
"Visualisieren Sie die beiden Listen mit einem beliebigen Diagramm. Vergleichen Sie die Werte mit der Standardabweichung der originalen Verteilung (ein Satz).\n",
"\n",
"\n"]
          }
,
          {
           "cell_type": "code",
           "metadata": {},
            "execution_count": 10, "outputs": [], 
           "source": ["\n"]
          }
,
          {
           "cell_type": "markdown",
           "metadata": {},
           
           "source": ["## T-Test mit FSharp.Stats\n",
"\n",
"### Task 2.1 \n",
"\n",
"Erstellen Sie jeweils eine Stichprobe mit Stichprobengroöße n=12 aus Verteilungen mit folgenden Parametern\n",
"\n",
"  - a) mean=12., stabw=1.3\n",
"  \n",
"  - b) mean=14., stabw=1.3\n",
"\n",
"Binden Sie die Stichproben an die Namen \u0027sampleA\u0027 und \u0027sampleB\u0027. Oft wird in FSharp.Stats mit Vektoren gerechnet. Dies ist auch beim T-Test der Fall. Die Transformation\n",
"von Sequenzen, Listen oder Arrays in Vektoren erfolgt mit: \u0027Vector.ofSeq [Sequenz]\u0027 oder \u0027vector [Sequenz]\u0027 \n",
"\n",
"\n"]
          }
,
          {
           "cell_type": "code",
           "metadata": {},
            "execution_count": 10, "outputs": [], 
           "source": ["\n"]
          }
,
          {
           "cell_type": "markdown",
           "metadata": {},
           
           "source": ["### Task 2.2\n",
"\n",
"Wenden Sie einen Zwei-Stichproben T-Test auf beide Samples an. Nehmen Sie ungleiche Varianzen der beiden Grundverteilungen an.\n",
"\n",
"\n"]
          }
,
          {
           "cell_type": "code",
           "metadata": {},
            "execution_count": 10, "outputs": [], 
           "source": ["\n"]
          }
,
          {
           "cell_type": "markdown",
           "metadata": {},
           
           "source": ["### Task 2.3\n",
"\n",
"Unten sehen Sie eine Funktion deren Funktionskoerper fehlt. Innerhalb der Funktion sollen zwei Stichproben\n",
"mit Stichprobengroesse = n aus Verteilungen mit mean1, mean2 und jeweils gleicher stabw erstellt werden.\n",
"Nehmen Sie gleiche Varianzen der beiden Grundverteilungen an.\n",
"Auf die im Funktionskoerper erstellten Stichproben soll ein TTest angewandt werden. Der p Value des Tests\n",
"soll Rueckgabewert der Funktion sein.\n",
"\n",
"\n"]
          }
,
          {
           "cell_type": "code",
           "metadata": {},
            "execution_count": 11, "outputs": [], 
           "source": ["let getPValueOfTTest mean1 mean2 stabw1 stabw2 equal n =\n",
"    1. //replace me\n"]
          }
,
          {
           "cell_type": "markdown",
           "metadata": {},
           
           "source": ["### Task 2.4\n",
"\n",
"In den untenstehenden Funktion werden 1000 Ttests mit den gegebenen Parametern gemacht und die p values als Histogramm geplottet.\n",
"Erstellen Sie Abbildungen mit \n",
"\n",
"  - a) gleichen means mit grosser Stichprobengroesse\n",
"\n",
"  - b) gleichen means mit kleiner Stichprobengroesse\n",
"\n",
"  - c) unterschiedlichen means\n",
"\n",
"Sehen Sie sich das Verhalten des p Values an. Wie viele p Values sind jeweils signifikant?\n",
"\n",
"  - a)\n",
"\n",
"  - b)\n",
"\n",
"  - c)\n",
"\n",
"\n"]
          }
,
          {
           "cell_type": "code",
           "metadata": {},
            "execution_count": 12, "outputs": [], 
           "source": ["let plotPValue mean1 mean2 stabw1 stabw2 equal n =\n",
"    let pValues = Array.init 100000 (fun i -\u003e \n",
"        if i%10000=0 then printfn \"progress %i/100000\" i\n",
"        getPValueOfTTest mean1 mean2 stabw1 stabw2 equal n)\n",
"    let pVals =\n",
"        Chart.Histogram(pValues,Xbins=Bins.init(0.,1.,0.05),HistNorm=HistNorm.Probability)\n",
"        |\u003e Chart.withX_AxisStyle (\"p values\",MinMax=(0.,1.))\n",
"        |\u003e Chart.withY_AxisStyle (\"relative count\",MinMax=(0.045,0.06))\n",
"        |\u003e Chart.withTitle (sprintf \"%.1f %.1f s1:%.1f s2:%.1f n:%i %b\" mean1 mean2 stabw1 stabw2 n equal)\n",
"        |\u003e Chart.withTraceName \"pVal distribution\"\n",
"\n",
"    let distA = Continuous.normal mean1 stabw1\n",
"    let distB = Continuous.normal mean2 stabw2\n",
"    let dists = \n",
"        [\n",
"            [-5. ..0.1 .. 5.] |\u003e List.map (fun x -\u003e x,distA.PDF x) |\u003e Chart.Area |\u003e Chart.withTraceName (sprintf \"m:%.1f s:%.1f\" mean1 stabw1)\n",
"            [-5. ..0.1 .. 5.] |\u003e List.map (fun x -\u003e x,distB.PDF x) |\u003e Chart.Area |\u003e Chart.withTraceName (sprintf \"m:%.1f s:%.1f\" mean2 stabw2)\n",
"        ]\n",
"        |\u003e Chart.Combine\n",
"        |\u003e Chart.withY_AxisStyle \"pdf\"\n",
"\n",
"    [pVals;dists]\n",
"    |\u003e Chart.Stack (1,0.2)\n",
"    |\u003e Chart.Show\n"]
          }],
            "metadata": {
            "kernelspec": {"display_name": ".NET (F#)", "language": "F#", "name": ".net-fsharp"},
            "langauge_info": {
        "file_extension": ".fs",
        "mimetype": "text/x-fsharp",
        "name": "C#",
        "pygments_lexer": "fsharp",
        "version": "4.5"
        }
        },
            "nbformat": 4,
            "nbformat_minor": 1
        }
        

