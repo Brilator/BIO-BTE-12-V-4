
        {
            "cells": [
          {
           "cell_type": "markdown",
           "metadata": {},
           
           "source": ["// can\u0027t yet format YamlFrontmatter ([\"title: Übung 03\"; \"category: Übungen(deutsch)\"; \"categoryindex: 2\"; \"index: 4\"], Some { StartLine = 2 StartColumn = 0 EndLine = 6 EndColumn = 8 }) to pynb markdown\n",
"\n",
"[![Binder](/BIO-BTE-12-V-4/img/badge-binder.svg)](https://mybinder.org/v2/gh/csbiology/BIO-BTE-12-V-4/gh-pages?filepath=tasks/german/wpb-task-03.ipynb)\u0026emsp;\n",
"[![Script](/BIO-BTE-12-V-4/img/badge-script.svg)](/BIO-BTE-12-V-4/tasks/german/wpb-task-03.fsx)\u0026emsp;\n",
"[![Notebook](/BIO-BTE-12-V-4/img/badge-notebook.svg)](/BIO-BTE-12-V-4/tasks/german/wpb-task-03.ipynb)\n",
"\n",
"# Task03 - Control Flow\n",
"\n",
"\n",
"## If-then-else\n",
"\n",
"### Task 1.1:\n",
"\n",
"Deklariere eine Funktion, die einen Parameter `x` vom Typ float erhaelt. Ist der Wert von `x` groesser Null, so soll die Funktion den Wert zurueckgeben, falls nicht soll das \n",
"Vorzeichen umgekehrt und denn der Wert zerueckgegeben werden.  \n",
"Tipp: Multiplikation\n",
"\n",
"\n"]
          }
,
          {
           "cell_type": "code",
           "metadata": {},
            "execution_count": 11, "outputs": [], 
           "source": ["\n"]
          }
,
          {
           "cell_type": "markdown",
           "metadata": {},
           
           "source": ["### Task 1.2:\n",
"\n",
"Deklariere eine Funktion, die drei Zahlen als Parameter bekommt. Die groesste der drei Zahlen soll als Ergebnis ausgegeben werden.  \n",
"Tipp: `elif`!\n",
"\n",
"\n"]
          }
,
          {
           "cell_type": "code",
           "metadata": {},
            "execution_count": 11, "outputs": [], 
           "source": ["\n"]
          }
,
          {
           "cell_type": "markdown",
           "metadata": {},
           
           "source": ["### Task 1.3:\n",
"\n",
"Deklariere eine Funktion, die eine Jahreszahl als Parameter bekommt. Wenn es sich um ein Schaltjahr handelt, soll das Ergebnis `true` sein, andernfalls `false`.  \n",
"Tipps:  \n",
"- Ist die Jahreszahl durch vier teilbar, aber nicht durch 100, ist es ein Schaltjahr. 2008 faellt unter diese Regel.  \n",
"- Ist die Jahreszahl durch 100 teilbar, aber nicht durch 400, ist es kein Schaltjahr. 2100 wird kein Schaltjahr sein.  \n",
"- Ist die Jahreszahl durch 400 teilbar, dann ist es immer ein Schaltjahr. Deshalb war das Jahr 2000 ein Schaltjahr.\n",
"\n",
"\n"]
          }
,
          {
           "cell_type": "code",
           "metadata": {},
            "execution_count": 11, "outputs": [], 
           "source": ["\n"]
          }
,
          {
           "cell_type": "markdown",
           "metadata": {},
           
           "source": ["## Pattern matching\n",
"\n",
"### Task 2.1:\n",
"\n",
"Deklariere eine Funktion mit denselben Eigenschaften wie in Task 1.1 beschrieben. Verzichte auf if-then-else Expressions und verwende Pattern Matching.  \n",
"Tipp: Guarding Rules + Wildcard\n",
"\n",
"\n"]
          }
,
          {
           "cell_type": "code",
           "metadata": {},
            "execution_count": 11, "outputs": [], 
           "source": ["\n"]
          }
,
          {
           "cell_type": "markdown",
           "metadata": {},
           
           "source": ["### Task 2.2:\n",
"\n",
"Gegeben ist die UnionCase Definition `Monat`:\n",
"```fsharp\n",
"type Monat =\n",
"    | Januar\n",
"    | Februar\n",
"    | Maerz\n",
"    | April\n",
"    | Mai\n",
"    | Juni\n",
"    | Juli\n",
"    | August\n",
"    | September\n",
"    | Oktober\n",
"    | November\n",
"    | Dezember\n",
"```\n",
"\n",
"und die UnionCase Definition `Jahreszeit`:\n",
"```fsharp\n",
"type Jahreszeit =\n",
"    | Fruehling\n",
"    | Sommer\n",
"    | Herbst\n",
"    | Winter\n",
"```\n",
"\n",
"Deklariere eine Funktion, die einen Parameter `m` vom Typ `Monat` besitzt. Verwende Pattern Matching, um jeden\n",
"Monat einer Jahreszeit zuzuordnen.\n",
"\n",
"\n"]
          }
,
          {
           "cell_type": "code",
           "metadata": {},
            "execution_count": 11, "outputs": [], 
           "source": ["\n"]
          }
,
          {
           "cell_type": "markdown",
           "metadata": {},
           
           "source": ["### Task 2.3:\n",
"\n",
"Pattern matching ist sehr gut dazu geeignet Datenstrukturen zu zerlegen (eng. deconstruction). Deklariere eine\n",
"Funktion, die den Record type `Person` (bekannt aus Uebung 2) erhaelt und `true` zurueckgibt, falls der Nachname `Mueller` lautet.  \n",
"Tipp: https://docs.microsoft.com/en-us/dotnet/fsharp/language-reference/records#pattern-matching-with-records\n",
"\n",
"\n"]
          }
,
          {
           "cell_type": "code",
           "metadata": {},
            "execution_count": 11, "outputs": [], 
           "source": ["\n"]
          }
,
          {
           "cell_type": "markdown",
           "metadata": {},
           
           "source": ["## Schleifen\n",
"\n",
"### Task 3.1:\n",
"\n",
"Deklariere eine Funktion, die einen Parameter `n` vom Typ `int` erhaelt.  \n",
"Die Funktion soll alle ganzen Zahlen von 1 bis n in der Konsole ausgeben (Tipp: `printfn`). Benutze dafuer eine `for`-Loop.\n",
"\n",
"\n"]
          }
,
          {
           "cell_type": "code",
           "metadata": {},
            "execution_count": 11, "outputs": [], 
           "source": ["\n"]
          }
,
          {
           "cell_type": "markdown",
           "metadata": {},
           
           "source": ["### Task 3.2:\n",
"\n",
"Deklariere eine Funktion, die einen Parameter `n` vom Typ `int` erhaelt.  \n",
"Die Funktion soll alle ganzen Zahlen von 1 bis n in einer Liste speichern.  \n",
"Tipps: Sequence Expressions, Comprehensions  \n",
"Extra Punkt: schreibe nur alle geraden Zahlen in eine Liste, Tipps: if-then-else, modulo.\n",
"\n",
"\n"]
          }
,
          {
           "cell_type": "code",
           "metadata": {},
            "execution_count": 11, "outputs": [], 
           "source": ["\n"]
          }
,
          {
           "cell_type": "markdown",
           "metadata": {},
           
           "source": ["### Task 3.3:\n",
"\n",
"Deklariere eine Funktion, die einen Parameter `n` vom Typ `int` und einen Parameter `f` mit der Signatur `(int -\u003e int)` erhaelt.  \n",
"Die Funktion soll `f` auf alle ganzen Zahlen von 1 bis n anwenden und in einer in einer Liste speichern.  \n",
"Tipps: Sequence Expressions, Comprehensions\n",
"\n",
"\n"]
          }
,
          {
           "cell_type": "code",
           "metadata": {},
            "execution_count": 11, "outputs": [], 
           "source": ["\n"]
          }
,
          {
           "cell_type": "markdown",
           "metadata": {},
           
           "source": ["## Rekursion\n",
"\n",
"### Task 4.1:\n",
"\n",
"Modifiziere folgende Funktion (bekannt aus der Vorlesung) so, dass sie am Ende ausgibt wie viele Stufen bewaeltigt wurden.\n",
"```fsharp\n",
"let rec stufeSteigen nStufen position =\n",
"    if position = nStufen + 1 then\n",
"        printfn \"Puh, geschafft\"\n",
"    else\n",
"        printfn \"Ich sollte mehr Sport machen\"\n",
"        stufeSteigen nStufen (position + 1)\n",
"```\n",
"\n",
"\n"]
          }
,
          {
           "cell_type": "code",
           "metadata": {},
            "execution_count": 11, "outputs": [], 
           "source": ["\n"]
          }
,
          {
           "cell_type": "markdown",
           "metadata": {},
           
           "source": ["### Task 4.2:\n",
"\n",
"Modifiziere die folgende Funktion (bekannt aus der Vorlesung) so, dass sie -1 zurueckgibt, falls abzusehen ist, dass das Ergebnis groesser als 1000 wird.  \n",
"Tipp: Hier hilft die `print`-Funktion um Zwischenergebnisse zu visualisieren und die Funktion besser zu verstehen. Z. B.: `printfn \"n:%i, acc\u0027:%i\" n acc`.\n",
"```fsharp\n",
"let rec facultaet acc n  =\n",
"    if n = 1 then\n",
"        acc \n",
"    else\n",
"        let acc\u0027 = n * acc\n",
"        facultaet acc\u0027 (n-1)\n",
"\n",
"facultaet 1 4\n",
"```\n",
"\n",
"\n"]
          }
,
          {
           "cell_type": "code",
           "metadata": {},
            "execution_count": 11, "outputs": [], 
           "source": ["\n"]
          }],
            "metadata": {
            "kernelspec": {"display_name": ".NET (F#)", "language": "F#", "name": ".net-fsharp"},
            "langauge_info": {
        "file_extension": ".fs",
        "mimetype": "text/x-fsharp",
        "name": "C#",
        "pygments_lexer": "fsharp",
        "version": "4.5"
        }
        },
            "nbformat": 4,
            "nbformat_minor": 1
        }
        

