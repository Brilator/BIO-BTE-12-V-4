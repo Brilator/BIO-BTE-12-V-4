{
 "cells": [
  {
   "cell_type": "markdown",
   "metadata": {},
   "source": [
    "# Task03 - Control Flow"
   ]
  },
  {
   "cell_type": "markdown",
   "metadata": {},
   "source": [
    "\n",
    "## If-then-else\n",
    "\n",
    "### Task 1.1:\n",
    "\n",
    "Declare a function that takes a parameter `x` of type `float`. It shall return the value if `x` is greater than zero. If that is not the case, it shall return the value with the \n",
    "sign inversed.  \n",
    "Hint: Multiplication\n",
    "\n",
    "\n"
   ]
  },
  {
   "cell_type": "code",
   "execution_count": 11,
   "metadata": {
    "vscode": {
     "languageId": "fsharp"
    }
   },
   "outputs": [],
   "source": [
    "\n"
   ]
  },
  {
   "cell_type": "markdown",
   "metadata": {},
   "source": [
    "### Task 1.2:\n",
    "\n",
    "Declare a function that gets three numbers as parameters. The biggest of the three numbers shall be returned as the result.  \n",
    "Hint: `elif`!\n",
    "\n",
    "\n"
   ]
  },
  {
   "cell_type": "code",
   "execution_count": 11,
   "metadata": {
    "vscode": {
     "languageId": "fsharp"
    }
   },
   "outputs": [],
   "source": [
    "\n"
   ]
  },
  {
   "cell_type": "markdown",
   "metadata": {},
   "source": [
    "### Task 1.3:\n",
    "\n",
    "Declare a function that gets a year as parameter. If it is a leapyear, the result shall be `true` else `false`.\n",
    "Hints:  \n",
    "- If the year can be divided by four but not by 100, it is a leapyear. The year 2008 falls under this rule.  \n",
    "- If the year can be divided by 100 but not by 400, it is no leapyear. 2100 will be no leapyear.  \n",
    "- If the year can be divided by 400, it always is a leapyear. Because of this, the year 2000 was a leapyear.\n",
    "\n",
    "\n"
   ]
  },
  {
   "cell_type": "code",
   "execution_count": 11,
   "metadata": {
    "vscode": {
     "languageId": "fsharp"
    }
   },
   "outputs": [],
   "source": [
    "\n"
   ]
  },
  {
   "cell_type": "markdown",
   "metadata": {},
   "source": [
    "## Pattern matching\n",
    "\n",
    "### Task 2.1:\n",
    "\n",
    "Delcare a function with the same attributes as described in Task 1.1. Spare i-then-else expressions and use pattern matching.  \n",
    "Hint: Guarding Rules & Wildcard\n",
    "\n",
    "\n"
   ]
  },
  {
   "cell_type": "code",
   "execution_count": 11,
   "metadata": {
    "vscode": {
     "languageId": "fsharp"
    }
   },
   "outputs": [],
   "source": [
    "\n"
   ]
  },
  {
   "cell_type": "markdown",
   "metadata": {},
   "source": [
    "### Task 2.2:\n",
    "\n",
    "UnionCase definition `Month` is given:\n",
    "```fsharp\n",
    "type Month =\n",
    "    | January\n",
    "    | February\n",
    "    | March\n",
    "    | April\n",
    "    | May\n",
    "    | June\n",
    "    | July\n",
    "    | August\n",
    "    | September\n",
    "    | Oktober\n",
    "    | November\n",
    "    | December\n",
    "```\n",
    "\n",
    "as well as UnionCase definition `Season`:\n",
    "```fsharp\n",
    "type Season =\n",
    "    | Spring\n",
    "    | Summer\n",
    "    | Autumn\n",
    "    | Winter\n",
    "```\n",
    "\n",
    "Declare a function with parameter `m` of type `Month`. Use pattern matching to assign every month to a season.\n",
    "\n",
    "\n"
   ]
  },
  {
   "cell_type": "code",
   "execution_count": 11,
   "metadata": {
    "vscode": {
     "languageId": "fsharp"
    }
   },
   "outputs": [],
   "source": [
    "\n"
   ]
  },
  {
   "cell_type": "markdown",
   "metadata": {},
   "source": [
    "### Task 2.3:\n",
    "\n",
    "Pattern matching is very useful for deconstructing data structures. Declare a function that gets Record type `Person` (as seen in Task 2) and returns `true` if the\n",
    "surname is `Mueller`.\n",
    "Hint: https://docs.microsoft.com/en-us/dotnet/fsharp/language-reference/records#pattern-matching-with-records\n",
    "\n",
    "\n"
   ]
  },
  {
   "cell_type": "code",
   "execution_count": 11,
   "metadata": {
    "vscode": {
     "languageId": "fsharp"
    }
   },
   "outputs": [],
   "source": [
    "\n"
   ]
  },
  {
   "cell_type": "markdown",
   "metadata": {},
   "source": [
    "## Loops\n",
    "\n",
    "### Task 3.1:\n",
    "\n",
    "Declare a function that gets parameter `n` of type `int`.  \n",
    "The function shall print all numbers from 1 to n into the console (Hint: `printfn`). Use a for loop.\n",
    "\n",
    "\n"
   ]
  },
  {
   "cell_type": "code",
   "execution_count": 11,
   "metadata": {
    "vscode": {
     "languageId": "fsharp"
    }
   },
   "outputs": [],
   "source": [
    "\n"
   ]
  },
  {
   "cell_type": "markdown",
   "metadata": {},
   "source": [
    "### Task 3.2:\n",
    "\n",
    "Declare a function that gets parameter `n` of type `int`.  \n",
    "The function shall save all numbers from 1 to n in a list.  \n",
    "Hints: Sequence expressions, comprehesions  \n",
    "Extra point: Only write all even numbers in a list; Hints: if-then-else, modulo.\n",
    "\n",
    "\n"
   ]
  },
  {
   "cell_type": "code",
   "execution_count": 11,
   "metadata": {
    "vscode": {
     "languageId": "fsharp"
    }
   },
   "outputs": [],
   "source": [
    "\n"
   ]
  },
  {
   "cell_type": "markdown",
   "metadata": {},
   "source": [
    "### Task 3.3:\n",
    "\n",
    "Declare a function that gets a parameter `n` of type `int` and a parameter `f` with signature `(int -> int)`.  \n",
    "The function shall apply `f` onto all numbers from 1 to n and save them in a list.  \n",
    "Hints: Sequence expressions, comprehensions  \n",
    "\n",
    "\n"
   ]
  },
  {
   "cell_type": "code",
   "execution_count": 11,
   "metadata": {
    "vscode": {
     "languageId": "fsharp"
    }
   },
   "outputs": [],
   "source": [
    "\n"
   ]
  },
  {
   "cell_type": "markdown",
   "metadata": {},
   "source": [
    "## Rekursion\n",
    "\n",
    "### Task 4.1:\n",
    "\n",
    "Modify the following function (as seen in the lecture), so that it displays in the end how many steps have been overcome.\n",
    "```fsharp\n",
    "let rec climbStep nSteps position =\n",
    "    if position = nSteps + 1 then\n",
    "        printfn \"Puh, done\"\n",
    "    else\n",
    "        printfn \"I should do more sports\"\n",
    "        climbStep nSteps (position + 1)\n",
    "```\n",
    "\n",
    "\n"
   ]
  },
  {
   "cell_type": "code",
   "execution_count": 11,
   "metadata": {
    "vscode": {
     "languageId": "fsharp"
    }
   },
   "outputs": [],
   "source": [
    "\n"
   ]
  },
  {
   "cell_type": "markdown",
   "metadata": {},
   "source": [
    "### Task 4.2:\n",
    "\n",
    "Modify the following function (as seen in the lecture), so that it returns -1 if it is expected that the result will be greater than 1000.  \n",
    "Hint: Use the `print` function to visualize intermediate result and to better understand the function. E.g.: `printfn \"n:%i, acc':%i\" n acc`.\n",
    "```fsharp\n",
    "let rec factorial acc n  =\n",
    "    if n = 1 then\n",
    "        acc \n",
    "    else\n",
    "        let acc' = n * acc\n",
    "        factorial acc' (n-1)\n",
    "\n",
    "factorial 1 4\n",
    "```\n",
    "\n",
    "\n"
   ]
  },
  {
   "cell_type": "code",
   "execution_count": 11,
   "metadata": {
    "vscode": {
     "languageId": "fsharp"
    }
   },
   "outputs": [],
   "source": [
    "\n"
   ]
  }
 ],
 "metadata": {
  "kernelspec": {
   "display_name": ".NET (F#)",
   "language": "F#",
   "name": ".net-fsharp"
  },
  "langauge_info": {
   "file_extension": ".fs",
   "mimetype": "text/x-fsharp",
   "name": "C#",
   "pygments_lexer": "fsharp",
   "version": "4.5"
  }
 },
 "nbformat": 4,
 "nbformat_minor": 1
}
