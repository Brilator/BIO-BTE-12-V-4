{
 "cells": [
  {
   "cell_type": "markdown",
   "metadata": {},
   "source": [
    "# SPB X: Embracing bioinformatics in F#\n",
    "\n",
    "---\n",
    "\n",
    "In this task you will work with the bioinformatics library BioFSharp. You will use it to read in a FastA with amino acid sequences which are then transcribed, translated and digested.\n",
    "\n",
    "You can find the Plotly.NET documentation here: https://plotly.net\n",
    "\n",
    "You can find the BioFSharp documentation here: https://csbiology.github.io/BioFSharp/\n",
    "\n"
   ]
  },
  {
   "cell_type": "markdown",
   "metadata": {},
   "source": [
    "\n",
    "## Referencing Plotly.NET and BioFSharp\n",
    "\n",
    "These lines must always be executed at least once, otherwise Plotly.NET and BioFSharp cannot be used:\n"
   ]
  },
  {
   "cell_type": "code",
   "execution_count": null,
   "metadata": {
    "dotnet_interactive": {
     "language": "fsharp"
    }
   },
   "outputs": [],
   "source": [
    "#r \"nuget: Plotly.NET, 2.0.0\"\n",
    "#r \"nuget: Plotly.NET.Interactive, 2.0.0\"\n",
    "#r \"nuget: BioFSharp, 2.0.0-preview.3\"\n",
    "#r \"nuget: BioFSharp.IO, 2.0.0-preview.3\"\n",
    "\n",
    "// Plotly.NET and BioFSharp are opened here.\n",
    "open Plotly.NET\n",
    "open BioFSharp\n",
    "open BioFSharp.IO\n",
    "// Additional namespaces/modules are also opened here to simplify the signatures.\n",
    "open BioArray\n",
    "open BioSeq\n",
    "open AminoAcids\n",
    "open Nucleotides"
   ]
  },
  {
   "cell_type": "markdown",
   "metadata": {},
   "source": [
    "## Copying paths\n",
    "\n",
    "Reading in data will be discussed in more detail in a later exercise. In this exercise a file must be referenced and read in via a path.\n",
    "How to get the absolute path of a file is shown here.\n",
    "\n",
    "### Windows\n",
    "\n",
    "* Navigate to the downloaded file\n",
    "\n",
    "* Press `Shift` + `Right click` on the file\n",
    "\n",
    "* Select \"Copy as path\" from the context menu:\n",
    "\n",
    "    ![](https://raw.githubusercontent.com/CSBiology/BIO-BTE-12-V-4/notebooks/images/PfadWindows.png)\n",
    "\n",
    "* With `Ctrl` + `V` you can paste the copied path at any position\n",
    "\n",
    "### Mac\n",
    "\n",
    "* Navigate to the downloaded file\n",
    "\n",
    "* Press with `ctrl-click` or `right-click` on the file\n",
    "\n",
    "* With the context menu open, also hold down `Alt`\n",
    "\n",
    "* Select \"Copy X as pathname\" from the context menu:\n",
    "\n",
    "    ![](https://raw.githubusercontent.com/CSBiology/BIO-BTE-12-V-4/notebooks/images/PfadMac.png)\n",
    "\n",
    "* With `Command` + `V` you can paste the copied path at any position"
   ]
  },
  {
   "cell_type": "markdown",
   "metadata": {},
   "source": [
    "# Task 1"
   ]
  },
  {
   "cell_type": "markdown",
   "metadata": {},
   "source": [
    "\n",
    "## Task 1.1\n",
    "\n",
    "`nucleotideString` is a sequence of nucleotides. This sequence is to be translated into the corresponding amino acid sequence.\n",
    "\n",
    "* Convert 'nucleotideString' to a BioArray.\n",
    "* Transcribe the result from A (the given sequence is the template strand)\n",
    "* Translate the result from B with an offset of 0\n",
    "* Create a function that gets a string, executes the previous steps and thus returns a `BioArray<AminoAcids>`.\n",
    "\n"
   ]
  },
  {
   "cell_type": "code",
   "execution_count": null,
   "metadata": {
    "dotnet_interactive": {
     "language": "fsharp"
    }
   },
   "outputs": [],
   "source": [
    "let nucleotideString = \"TACCATGCAGCTACCTAAGGATCACCGACT\""
   ]
  },
  {
   "cell_type": "markdown",
   "metadata": {},
   "source": [
    "## Task 1.2\n",
    "\n",
    "Download the nucleotide fasta of yeast (S. cerevisiae) [here](https://github.com/CSBiology/BIO-BTE-12-V-4/releases/download/YeastFasta/orf_genomic_filtered.fasta). <br>\n",
    "Source: http://sgd-archive.yeastgenome.org/sequence/S288C_reference/orf_dna/ <br>\n",
    "Copy the path of the downloaded file and bind it to the name `filepath`.\n",
    "\n",
    "Read the fasta and bind the result to `yeastFasta`. Use the function \n",
    "`FastA.fromFile` and use `BioArray.ofNucleotideString` as converter function.\n",
    "Convert the resulting sequence into an array.\n",
    "\n"
   ]
  },
  {
   "cell_type": "code",
   "execution_count": null,
   "metadata": {
    "dotnet_interactive": {
     "language": "fsharp"
    }
   },
   "outputs": [],
   "source": [
    "let filepath = \"Your/Path/here\""
   ]
  },
  {
   "cell_type": "markdown",
   "metadata": {},
   "source": [
    "## Task 1.3\n",
    "\n",
    "From the created sequence (yeastFasta), generate an array of headers and an array of\n",
    "sequences and bind these arrays to the names `header` and `dna`. \n",
    "Hint: `yeastFasta` consists of FastaItems, which are record types consisting of `header` and `sequence`. \n",
    "Since the whole exercise is based on these arrays, please report if it does not work."
   ]
  },
  {
   "cell_type": "code",
   "execution_count": null,
   "metadata": {
    "dotnet_interactive": {
     "language": "fsharp"
    }
   },
   "outputs": [],
   "source": []
  },
  {
   "cell_type": "markdown",
   "metadata": {},
   "source": [
    "## Task 1.4\n",
    "\n",
    "Transcribe all nucleotide sequences from `dna` and bind the resulting array to the name \n",
    "`rna`.\n",
    "\n",
    "* Tip: The DNA sequences represent the coding strand.\n",
    "* Tip2: Use `Array.map` to iterate over the sequences (also applies to the following tasks)."
   ]
  },
  {
   "cell_type": "code",
   "execution_count": null,
   "metadata": {
    "dotnet_interactive": {
     "language": "fsharp"
    }
   },
   "outputs": [],
   "source": []
  },
  {
   "cell_type": "markdown",
   "metadata": {},
   "source": [
    "## Task 1.5\n",
    "\n",
    "In the following, translate the RNA sequences into proteins, that is, amino acid sequences.   \n",
    "Bind the result to the name `proteins`."
   ]
  },
  {
   "cell_type": "code",
   "execution_count": null,
   "metadata": {
    "dotnet_interactive": {
     "language": "fsharp"
    }
   },
   "outputs": [],
   "source": []
  },
  {
   "cell_type": "markdown",
   "metadata": {},
   "source": [
    "## Task 1.6\n",
    "\n",
    "Now the proteins are to be digested tryptically to peptides (trypsin is a protease which cuts proteins \n",
    "into lysine (single letter code K) and arginine (single letter code R).\n",
    "The function 'Digestion.BioArray.digest' expects a proteinID. Here any integer \n",
    "can be used. Ideally, the index of the respective amino acid sequence should be entered here.\n",
    "Bind the result to 'digestedProteins'."
   ]
  },
  {
   "cell_type": "code",
   "execution_count": null,
   "metadata": {
    "dotnet_interactive": {
     "language": "fsharp"
    }
   },
   "outputs": [],
   "source": [
    "let trypsin = Digestion.Table.Trypsin"
   ]
  },
  {
   "cell_type": "markdown",
   "metadata": {},
   "source": [
    "## Task 1.7\n",
    "\n",
    "No task<br>\n",
    "The section below creates FastA items from the individual peptides and writes them to a \n",
    "FastA file."
   ]
  },
  {
   "cell_type": "code",
   "execution_count": null,
   "metadata": {
    "dotnet_interactive": {
     "language": "fsharp"
    }
   },
   "outputs": [],
   "source": [
    "let convertDigPepToFasta (digPep: Digestion.DigestedPeptide<'a>[])=\n",
    "    digPep\n",
    "    |> Array.mapi (fun index peptide ->\n",
    "        FastA.createFastaItem (sprintf \"Protein %i Fragment %i\" peptide.ProteinID index) peptide.PepSequence \n",
    "        )\n",
    "\n",
    "// __SOURCE_DIRECTORY__ defines the path to the folder where this script is located.   \n",
    "digestedProteins\n",
    "|> Array.map convertDigPepToFasta\n",
    "|> Array.concat\n",
    "|> FastA.write BioItem.symbol (__SOURCE_DIRECTORY__ + \"/digestedProteins.fasta\")"
   ]
  },
  {
   "cell_type": "markdown",
   "metadata": {},
   "source": [
    "# Task 2"
   ]
  },
  {
   "cell_type": "markdown",
   "metadata": {},
   "source": [
    "## Task 2.1\n",
    "\n",
    "Below you can see the file path to the created peptide fasta.\n",
    "Read in the fasta and bind the result to 'peptides'. Use a suitable \n",
    "Converter function\n",
    "\n"
   ]
  },
  {
   "cell_type": "code",
   "execution_count": null,
   "metadata": {
    "dotnet_interactive": {
     "language": "fsharp"
    }
   },
   "outputs": [],
   "source": [
    "let pathToPeptides = __SOURCE_DIRECTORY__ + \"/digestedProteins.fasta\""
   ]
  },
  {
   "cell_type": "markdown",
   "metadata": {},
   "source": [
    "## Task 2.2 (optional)\n",
    "\n",
    "Visualize the frequencies of the amino acids in a suitable diagram.\n",
    "e.g. histogram, column chart, pie chart or others.\n",
    "To convert `AminoAcids.AminoAcid` into chars (i.e. single letter codes) you can use `AminoAcids.symbol`.\n",
    "\n"
   ]
  },
  {
   "cell_type": "code",
   "execution_count": null,
   "metadata": {
    "dotnet_interactive": {
     "language": "fsharp"
    }
   },
   "outputs": [],
   "source": []
  },
  {
   "cell_type": "markdown",
   "metadata": {},
   "source": [
    "## Task 2.3\n",
    "\n",
    "Create a histogram of the molecular weights of all proteins in `proteins`.\n",
    "Examine the `BioArray` module for a suitable function. \n",
    "Label the axes.  \n",
    "\n"
   ]
  },
  {
   "cell_type": "code",
   "execution_count": null,
   "metadata": {
    "dotnet_interactive": {
     "language": "fsharp"
    }
   },
   "outputs": [],
   "source": []
  },
  {
   "cell_type": "markdown",
   "metadata": {},
   "source": [
    "## Task 2.4 (optional)\n",
    "\n",
    "There are also mitochondrial ORFs in the nucleotide fasta (Task 1.2). \n",
    "Divide `yeastFasta` into two arrays. In one should be all nucleotide sequences from 'Chr I' to \n",
    "Chr 'XVI', and in the other all from 'Chr Mito'. Transcribe the sequences and visualize the codon usage with the function defined below (possibly Chart.Stack 1?).\n",
    "\n",
    "* Highest percentage mitochondrion:           \n",
    "    * associated codon:\n",
    "    * associated amino acid:\n",
    "* Highest percentage nucleus:\n",
    "    * associated codon:\n",
    "    * associated amino acids:\n",
    "\n"
   ]
  },
  {
   "cell_type": "code",
   "execution_count": null,
   "metadata": {
    "dotnet_interactive": {
     "language": "fsharp"
    }
   },
   "outputs": [],
   "source": [
    "open Plotly.NET.LayoutObjects\n",
    "open Plotly.NET.StyleParam\n",
    "\n",
    "let myAxis title = LinearAxis.init (Title=Title.init(Text=title),Mirror=Mirror.All,Ticks=TickOptions.Inside,ShowGrid=false,ShowLine=true,ZeroLine=false)\n",
    "let styleChart x y chart = chart |> Chart.withXAxis (myAxis x) |> Chart.withYAxis (myAxis y)\n",
    "let plotCodonFrequency (rnaInput:BioArray.BioArray<Nucleotides.Nucleotide>[]) =\n",
    "    let allTripletts =\n",
    "        rnaInput\n",
    "        |> Array.map (fun singleRna -> Seq.chunkBySize 3 singleRna)\n",
    "        |> Seq.concat\n",
    "        |> Array.ofSeq\n",
    "    allTripletts\n",
    "    |> Seq.groupBy id\n",
    "    |> Seq.mapi (fun i (codon,items) -> \n",
    "        printfn \"step %i, Codon %A\" i codon\n",
    "        let aminoAcid = Nucleotides.CodonMap.[codon.[0],codon.[1],codon.[2]]\n",
    "        let codonString = sprintf \"%A%A%A\" codon.[0] codon.[1] codon.[2]\n",
    "        aminoAcid,codonString,float (Seq.length items) / float (Seq.length allTripletts))\n",
    "    |> Seq.sortBy (fun (_,co,_) -> co)\n",
    "    |> Seq.groupBy (fun (aa,_,_) -> aa)\n",
    "    |> Seq.map (fun (aa,codons) -> \n",
    "        codons\n",
    "        |> Seq.sortByDescending (fun (aa,codon,count) -> count)\n",
    "        |> Seq.map (fun (aa,codon,count) -> codon,count)\n",
    "        |> Chart.Column\n",
    "        |> Chart.withTraceInfo (sprintf \"%A\" aa)\n",
    "        )\n",
    "    |> Chart.combine\n",
    "    |> styleChart \"\" \"rel. count (%)\"\n",
    "    |> Chart.withSize (900.,600.)\n"
   ]
  }
 ],
 "metadata": {
  "kernelspec": {
   "display_name": ".NET (F#)",
   "language": "F#",
   "name": ".net-fsharp"
  },
  "langauge_info": {
   "file_extension": ".fs",
   "mimetype": "text/x-fsharp",
   "name": "C#",
   "pygments_lexer": "fsharp",
   "version": "4.5"
  },
  "language_info": {
   "name": "polyglot-notebook"
  },
  "polyglot_notebook": {
   "kernelInfo": {
    "defaultKernelName": "fsharp",
    "items": [
     {
      "aliases": [],
      "name": "fsharp"
     }
    ]
   }
  }
 },
 "nbformat": 4,
 "nbformat_minor": 1
}
