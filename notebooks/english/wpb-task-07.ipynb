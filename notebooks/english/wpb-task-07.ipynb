{
 "cells": [
  {
   "cell_type": "markdown",
   "metadata": {},
   "source": [
    "# Data visualization with Plotly.NET\n",
    "\n",
    "**Use adequate axis titles for all charts**\n",
    "\n",
    "**The code for generating the charts is sufficient, there is no need to send us images of charts.**\n",
    "\n",
    "The Plotly.NET library documentation can be found at https://plotly.net"
   ]
  },
  {
   "cell_type": "markdown",
   "metadata": {},
   "source": [
    "\n",
    "### Referencing Plotly.NET\n",
    "\n",
    "The following cell must be executed once, otherwise you can not use the Plotly.NET library:"
   ]
  },
  {
   "cell_type": "code",
   "execution_count": 1,
   "metadata": {
    "dotnet_interactive": {
     "language": "fsharp"
    },
    "vscode": {
     "languageId": "dotnet-interactive.fsharp"
    }
   },
   "outputs": [],
   "source": [
    "#r \"nuget: Plotly.NET, 2.0.0-preview.1\"\n",
    "#r \"nuget: Plotly.NET.Interactive, 2.0.0-preview.1\"\n",
    "open Plotly.NET\n"
   ]
  },
  {
   "cell_type": "markdown",
   "metadata": {},
   "source": [
    "There are two different approaches for displaying charts, depending on if you are working in a Notebook or .fsx scripting environment:\n",
    "\n",
    "### Displaying Charts in .fsx scripts\n",
    "\n",
    "Use the `Chart.Show` function in .fsx scripts to display charts in a browser window:\n",
    "\n"
   ]
  },
  {
   "cell_type": "code",
   "execution_count": null,
   "metadata": {
    "dotnet_interactive": {
     "language": "fsharp"
    },
    "vscode": {
     "languageId": "dotnet-interactive.fsharp"
    }
   },
   "outputs": [],
   "source": [
    "Chart.Point([(1,1); (2,2)])\n",
    "|> Chart.withTitle \"hello from .fsx\"\n",
    "|> Chart.Show\n"
   ]
  },
  {
   "cell_type": "markdown",
   "metadata": {},
   "source": [
    "### Displaying charts in notebooks\n",
    "\n",
    "While you can also use Chart.Show in a notebook environment, you can directly display charts in the respective output \n",
    "cell as long as you end the input cell with the chart value (just as known from all other types) thanks to the .`Plotly.NET.Interactive` extension:\n",
    "\n",
    "\n"
   ]
  },
  {
   "cell_type": "code",
   "execution_count": 2,
   "metadata": {
    "dotnet_interactive": {
     "language": "fsharp"
    },
    "vscode": {
     "languageId": "dotnet-interactive.fsharp"
    }
   },
   "outputs": [],
   "source": [
    "Chart.Point([(1,1); (2,2)])\n",
    "|> Chart.withTitle \"hello inside the notebook\"\n"
   ]
  },
  {
   "cell_type": "markdown",
   "metadata": {},
   "source": [
    "## 1 Visualizing X/Y relationships\n",
    "\n",
    "### Task 1.1\n",
    "\n",
    "Create a list containing the values in the range from 0.0 to (4. * PI) with a step size of 0.001.\n",
    "Bind it to the name 'xValues'\n",
    "\n"
   ]
  },
  {
   "cell_type": "code",
   "execution_count": 15,
   "metadata": {
    "dotnet_interactive": {
     "language": "fsharp"
    },
    "vscode": {
     "languageId": "dotnet-interactive.fsharp"
    }
   },
   "outputs": [],
   "source": [
    "\n"
   ]
  },
  {
   "cell_type": "markdown",
   "metadata": {},
   "source": [
    "### Task 1.2\n",
    "\n",
    "create two lists, containing the results of applying either sin(x) or cos(x) to the data in 'xValues' respectively.\n",
    "\n",
    "_Hint: Use the map function_\n",
    "\n"
   ]
  },
  {
   "cell_type": "code",
   "execution_count": 15,
   "metadata": {
    "dotnet_interactive": {
     "language": "fsharp"
    },
    "vscode": {
     "languageId": "dotnet-interactive.fsharp"
    }
   },
   "outputs": [],
   "source": [
    "\n"
   ]
  },
  {
   "cell_type": "markdown",
   "metadata": {},
   "source": [
    "### Task 1.3\n",
    "\n",
    "Create 2 line and 2 point charts visualizing the relationship of 'xValues' and sin(x)/cos(x) respectively via position scales.\n",
    "You should end up with 4 charts.\n",
    "\n"
   ]
  },
  {
   "cell_type": "code",
   "execution_count": 15,
   "metadata": {
    "dotnet_interactive": {
     "language": "fsharp"
    },
    "vscode": {
     "languageId": "dotnet-interactive.fsharp"
    }
   },
   "outputs": [],
   "source": [
    "\n"
   ]
  },
  {
   "cell_type": "markdown",
   "metadata": {},
   "source": [
    "### Task 1.4\n",
    "\n",
    "**a)** Combine the point and line charts from 1.3 in a single coordinate system (to a single chart with 4 subplots)\n",
    "\n",
    "_Hint: Use Chart.Combine_\n",
    "\n",
    "**b)** What is the third dimension of that Chart encoding?\n",
    "\n"
   ]
  },
  {
   "cell_type": "code",
   "execution_count": 15,
   "metadata": {
    "dotnet_interactive": {
     "language": "fsharp"
    },
    "vscode": {
     "languageId": "dotnet-interactive.fsharp"
    }
   },
   "outputs": [],
   "source": [
    "\n"
   ]
  },
  {
   "cell_type": "markdown",
   "metadata": {},
   "source": [
    "### Task 1.5 \n",
    "\n",
    "Visualize the (x,y) tuples from the following list. Use linear X and Y scales first, \n",
    "then transform the data via an adequate non linear transformation and visualize the result.\n",
    "\n",
    "_Hint: if you want to transform the axis instead of the data:_\n",
    "`Chart.withY_Axis( Axis.LinearAxis.init(StyleParam.AxisType. ...)  )`\n",
    "\n"
   ]
  },
  {
   "cell_type": "code",
   "execution_count": 7,
   "metadata": {
    "dotnet_interactive": {
     "language": "fsharp"
    },
    "vscode": {
     "languageId": "dotnet-interactive.fsharp"
    }
   },
   "outputs": [],
   "source": [
    "let someData = [0. .. 1. .. 10.] |> List.map (fun x -> x,(10. ** x))\n"
   ]
  },
  {
   "cell_type": "markdown",
   "metadata": {},
   "source": [
    "## 2 Visualizing sizes/abundances\n",
    "\n",
    "### Task 2.1 \n",
    "\n",
    "Visualize the abundances of hair color in the course. If there is no data available, \n",
    "make up a data set with at least 5 different hair colors for 20 imagined people.\n",
    "\n",
    "_Hint: either create a list of (hair color, abundance) tupels or one list for hair color and abundance each._\n",
    "\n"
   ]
  },
  {
   "cell_type": "code",
   "execution_count": 15,
   "metadata": {
    "dotnet_interactive": {
     "language": "fsharp"
    },
    "vscode": {
     "languageId": "dotnet-interactive.fsharp"
    }
   },
   "outputs": [],
   "source": [
    "\n"
   ]
  },
  {
   "cell_type": "markdown",
   "metadata": {},
   "source": [
    "### Task 2.2\n",
    "\n",
    "Visualize the amount of the amount of generated terrawatt hours in germany in 2020 by energy source. Use a bar chart and sort the data by amount of electricity generated. \n",
    "\n",
    "_Data source:_ https://de.wikipedia.org/wiki/Stromerzeugung#Bruttostromerzeugung_nach_Energietr%C3%A4gern_in_Deutschland\n",
    "\n"
   ]
  },
  {
   "cell_type": "code",
   "execution_count": 15,
   "metadata": {
    "dotnet_interactive": {
     "language": "fsharp"
    },
    "vscode": {
     "languageId": "dotnet-interactive.fsharp"
    }
   },
   "outputs": [],
   "source": [
    "\n"
   ]
  },
  {
   "cell_type": "markdown",
   "metadata": {},
   "source": [
    "### Task 2.3 \n",
    "\n",
    "Data visualization can often lead to the discovery of patterns in data that would not be obvious by \n",
    "looking at the raw data alone - especially for large, multidimensional data sets.\n",
    "\n",
    "The prepared data set below has three dimensions: the indices of the outer array, the indices of the inner arrays, \n",
    "and the actual float values contained in the inner arrays. Visualize this data set using a heatmap.\n",
    "\n",
    "What kind of information is likely encoded in the respective dimensions? Use adequate titles for your chart.\n",
    "\n",
    "\n"
   ]
  },
  {
   "cell_type": "code",
   "execution_count": 10,
   "metadata": {
    "dotnet_interactive": {
     "language": "fsharp"
    },
    "vscode": {
     "languageId": "dotnet-interactive.fsharp"
    }
   },
   "outputs": [],
   "source": [
    "let data3D =\n",
    "    [|\n",
    "        [|2.;2.;2.;2.;2.;2.;2.;2.;2.|]\n",
    "        [|2.;2.;0.;0.;1.;0.;0.;2.;2.|]\n",
    "        [|2.;0.;0.;3.;3.;3.;0.;0.;2.|]\n",
    "        [|2.;0.;3.;0.;0.;0.;3.;0.;2.|]\n",
    "        [|2.;0.;3.;0.;0.;0.;3.;0.;2.|]\n",
    "        [|2.;0.;0.;0.;3.;0.;0.;0.;2.|]\n",
    "        [|2.;0.;0.;0.;0.;0.;0.;0.;2.|]\n",
    "        [|2.;0.;3.;0.;0.;0.;3.;0.;2.|]\n",
    "        [|2.;2.;0.;0.;0.;0.;0.;2.;2.|]\n",
    "        [|2.;2.;2.;1.;1.;1.;2.;2.;2.|]\n",
    "    |]\n"
   ]
  },
  {
   "cell_type": "markdown",
   "metadata": {},
   "source": [
    "## 3 Visualizing proportions\n",
    "\n",
    "### Task 3.1 \n",
    "\n",
    "Visualize the results of a federal election in germany.\n",
    "\n",
    "_Data source:_ https://de.wikipedia.org/wiki/Liste_der_letzten_Landtagswahlergebnisse_in_Deutschland\n",
    "\n"
   ]
  },
  {
   "cell_type": "code",
   "execution_count": 15,
   "metadata": {
    "dotnet_interactive": {
     "language": "fsharp"
    },
    "vscode": {
     "languageId": "dotnet-interactive.fsharp"
    }
   },
   "outputs": [],
   "source": [
    "\n"
   ]
  },
  {
   "cell_type": "markdown",
   "metadata": {},
   "source": [
    "### Task 3.2 \n",
    "\n",
    "Compare the vote proportions from 3.1 visually with the results of 3 other federal states.\n",
    "\n",
    "\n"
   ]
  },
  {
   "cell_type": "code",
   "execution_count": 15,
   "metadata": {
    "dotnet_interactive": {
     "language": "fsharp"
    },
    "vscode": {
     "languageId": "dotnet-interactive.fsharp"
    }
   },
   "outputs": [],
   "source": [
    "\n"
   ]
  },
  {
   "cell_type": "markdown",
   "metadata": {},
   "source": [
    "### Task 3.3 \n",
    "\n",
    "Visualize the data from 2.2 regarding the proportions of the respective energy sources of the overall electricity production.\n",
    "\n",
    "_Tipp: Chart.Doughnut; You have to divide the respective data points by the total electricity amount._\n",
    "\n"
   ]
  },
  {
   "cell_type": "code",
   "execution_count": 15,
   "metadata": {
    "dotnet_interactive": {
     "language": "fsharp"
    },
    "vscode": {
     "languageId": "dotnet-interactive.fsharp"
    }
   },
   "outputs": [],
   "source": [
    "\n"
   ]
  },
  {
   "cell_type": "markdown",
   "metadata": {},
   "source": [
    "### 4 Visualisierung von geographischer Lage\n",
    "\n",
    "### Task 4.1\n",
    "\n",
    "Visualize the proportion of the world population of the 16 most populated countries in the world.\n",
    "\n",
    "_Data source:_ https://de.wikipedia.org/wiki/Weltbev%C3%B6lkerung#Die_bev%C3%B6lkerungsreichsten_Staaten\n",
    "\n",
    "_Tipp: Chart.Choropleth. Ideally your chart will result in something like the chart on wikipedia._\n",
    "\n"
   ]
  },
  {
   "cell_type": "code",
   "execution_count": 15,
   "metadata": {
    "dotnet_interactive": {
     "language": "fsharp"
    },
    "vscode": {
     "languageId": "dotnet-interactive.fsharp"
    }
   },
   "outputs": [],
   "source": [
    "\n"
   ]
  },
  {
   "cell_type": "markdown",
   "metadata": {},
   "source": [
    "## 5 Bonus\n",
    "\n",
    "Create a climate chart for Kaiserslautern.\n",
    "\n",
    "You will have to combine multiple chart types.\n",
    "\n",
    "_Data source:_ https://de.climate-data.org/europa/deutschland/rheinland-pfalz/kaiserslautern-2135/\n",
    "\n",
    "\n"
   ]
  },
  {
   "cell_type": "code",
   "execution_count": 15,
   "metadata": {
    "dotnet_interactive": {
     "language": "fsharp"
    },
    "vscode": {
     "languageId": "dotnet-interactive.fsharp"
    }
   },
   "outputs": [],
   "source": [
    "\n"
   ]
  }
 ],
 "metadata": {
  "kernelspec": {
   "display_name": ".NET (F#)",
   "language": "F#",
   "name": ".net-fsharp"
  },
  "langauge_info": {
   "file_extension": ".fs",
   "mimetype": "text/x-fsharp",
   "name": "C#",
   "pygments_lexer": "fsharp",
   "version": "4.5"
  }
 },
 "nbformat": 4,
 "nbformat_minor": 1
}
