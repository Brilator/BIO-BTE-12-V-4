{
 "cells": [
  {
   "cell_type": "markdown",
   "metadata": {},
   "source": [
    "# SPB V - Programming with Objects \n",
    "---\n",
    "In this task you'll learn about using mutability and its encapsulation in functions and objects. You will learn about objects and classes and the difference between inheritance and polymorphisms. "
   ]
  },
  {
   "cell_type": "markdown",
   "metadata": {},
   "source": [
    "\n",
    "# Task 1: Mutable values\n",
    "\n",
    "Create and change mutable values\n",
    "\n",
    "Hint: \n",
    "\n",
    "- Use the `mutable` keyword\n",
    "- For changing mutable values, use the `<-` operator "
   ]
  },
  {
   "cell_type": "markdown",
   "metadata": {},
   "source": [
    "\n",
    "\n",
    "## Task 1.1\n",
    "\n",
    "Create a mutable integer of value 5 and bind it to the name x\n"
   ]
  },
  {
   "cell_type": "code",
   "execution_count": 7,
   "metadata": {
    "dotnet_interactive": {
     "language": "fsharp"
    }
   },
   "outputs": [],
   "source": [
    "\n",
    "let mutable x = 5"
   ]
  },
  {
   "cell_type": "markdown",
   "metadata": {},
   "source": [
    "## Task 1.2\n",
    "\n",
    "Change the value which is bound to x to its previous value multiplied by 5\n",
    "\n"
   ]
  },
  {
   "cell_type": "code",
   "execution_count": 8,
   "metadata": {
    "dotnet_interactive": {
     "language": "fsharp"
    }
   },
   "outputs": [
    {
     "data": {
      "text/html": [
       "<div class=\"dni-plaintext\"><pre>25</pre></div><style>\r\n",
       ".dni-code-hint {\r\n",
       "    font-style: italic;\r\n",
       "    overflow: hidden;\r\n",
       "    white-space: nowrap;\r\n",
       "}\r\n",
       ".dni-treeview {\r\n",
       "    white-space: nowrap;\r\n",
       "}\r\n",
       ".dni-treeview td {\r\n",
       "    vertical-align: top;\r\n",
       "    text-align: start;\r\n",
       "}\r\n",
       "details.dni-treeview {\r\n",
       "    padding-left: 1em;\r\n",
       "}\r\n",
       "table td {\r\n",
       "    text-align: start;\r\n",
       "}\r\n",
       "table tr { \r\n",
       "    vertical-align: top; \r\n",
       "    margin: 0em 0px;\r\n",
       "}\r\n",
       "table tr td pre \r\n",
       "{ \r\n",
       "    vertical-align: top !important; \r\n",
       "    margin: 0em 0px !important;\r\n",
       "} \r\n",
       "table th {\r\n",
       "    text-align: start;\r\n",
       "}\r\n",
       "</style>"
      ]
     },
     "metadata": {},
     "output_type": "display_data"
    }
   ],
   "source": [
    "x <- x * 5\n",
    "x\n"
   ]
  },
  {
   "cell_type": "markdown",
   "metadata": {},
   "source": [
    "## Task 1.3\n",
    "\n",
    "Create a record type `Human` with\n",
    "\n",
    "- the immutable field `Name` of type string\n",
    "- and the mutable field `Age` of type int\n",
    "\n"
   ]
  },
  {
   "cell_type": "code",
   "execution_count": 18,
   "metadata": {
    "dotnet_interactive": {
     "language": "fsharp"
    }
   },
   "outputs": [],
   "source": [
    "type Human = {\n",
    "    Name: string\n",
    "    mutable Age: int\n",
    "}\n"
   ]
  },
  {
   "cell_type": "markdown",
   "metadata": {},
   "source": [
    "## Task 1.4\n",
    "\n",
    "Create the the function `celebrateBirthday`, which takes one parameter of type `Human` and increments the `Age` of the human by one.\n",
    "\n"
   ]
  },
  {
   "cell_type": "code",
   "execution_count": 19,
   "metadata": {
    "dotnet_interactive": {
     "language": "fsharp"
    }
   },
   "outputs": [],
   "source": [
    "let celebrateBirthday (h: Human) = \n",
    "    h.Age <- h.Age + 1"
   ]
  },
  {
   "cell_type": "markdown",
   "metadata": {},
   "source": [
    "## Task 1.5\n",
    "\n",
    "Create a `Human`, bind it to a name and let him age by applying the `celebrateBirthday` function on him.\n",
    "\n"
   ]
  },
  {
   "cell_type": "code",
   "execution_count": 20,
   "metadata": {
    "dotnet_interactive": {
     "language": "fsharp"
    }
   },
   "outputs": [
    {
     "data": {
      "text/html": [
       "<details open=\"open\" class=\"dni-treeview\"><summary><span class=\"dni-code-hint\"><code>{ Name = &quot;Peter&quot;\\n  Age = 42 }</code></span></summary><div><table><thead><tr></tr></thead><tbody><tr><td>Name</td><td><div class=\"dni-plaintext\"><pre>Peter</pre></div></td></tr><tr><td>Age</td><td><div class=\"dni-plaintext\"><pre>42</pre></div></td></tr><tr><td>Age@</td><td><div class=\"dni-plaintext\"><pre>42</pre></div></td></tr></tbody></table></div></details><style>\r\n",
       ".dni-code-hint {\r\n",
       "    font-style: italic;\r\n",
       "    overflow: hidden;\r\n",
       "    white-space: nowrap;\r\n",
       "}\r\n",
       ".dni-treeview {\r\n",
       "    white-space: nowrap;\r\n",
       "}\r\n",
       ".dni-treeview td {\r\n",
       "    vertical-align: top;\r\n",
       "    text-align: start;\r\n",
       "}\r\n",
       "details.dni-treeview {\r\n",
       "    padding-left: 1em;\r\n",
       "}\r\n",
       "table td {\r\n",
       "    text-align: start;\r\n",
       "}\r\n",
       "table tr { \r\n",
       "    vertical-align: top; \r\n",
       "    margin: 0em 0px;\r\n",
       "}\r\n",
       "table tr td pre \r\n",
       "{ \r\n",
       "    vertical-align: top !important; \r\n",
       "    margin: 0em 0px !important;\r\n",
       "} \r\n",
       "table th {\r\n",
       "    text-align: start;\r\n",
       "}\r\n",
       "</style>"
      ]
     },
     "metadata": {},
     "output_type": "display_data"
    }
   ],
   "source": [
    "let someHuman = {Name = \"Peter\"; Age = 42}\n",
    "\n",
    "someHuman"
   ]
  },
  {
   "cell_type": "code",
   "execution_count": 27,
   "metadata": {
    "dotnet_interactive": {
     "language": "fsharp"
    },
    "polyglot_notebook": {
     "kernelName": "fsharp"
    }
   },
   "outputs": [
    {
     "data": {
      "text/html": [
       "<details open=\"open\" class=\"dni-treeview\"><summary><span class=\"dni-code-hint\"><code>{ Name = &quot;Peter&quot;\\n  Age = 49 }</code></span></summary><div><table><thead><tr></tr></thead><tbody><tr><td>Name</td><td><div class=\"dni-plaintext\"><pre>Peter</pre></div></td></tr><tr><td>Age</td><td><div class=\"dni-plaintext\"><pre>49</pre></div></td></tr><tr><td>Age@</td><td><div class=\"dni-plaintext\"><pre>49</pre></div></td></tr></tbody></table></div></details><style>\r\n",
       ".dni-code-hint {\r\n",
       "    font-style: italic;\r\n",
       "    overflow: hidden;\r\n",
       "    white-space: nowrap;\r\n",
       "}\r\n",
       ".dni-treeview {\r\n",
       "    white-space: nowrap;\r\n",
       "}\r\n",
       ".dni-treeview td {\r\n",
       "    vertical-align: top;\r\n",
       "    text-align: start;\r\n",
       "}\r\n",
       "details.dni-treeview {\r\n",
       "    padding-left: 1em;\r\n",
       "}\r\n",
       "table td {\r\n",
       "    text-align: start;\r\n",
       "}\r\n",
       "table tr { \r\n",
       "    vertical-align: top; \r\n",
       "    margin: 0em 0px;\r\n",
       "}\r\n",
       "table tr td pre \r\n",
       "{ \r\n",
       "    vertical-align: top !important; \r\n",
       "    margin: 0em 0px !important;\r\n",
       "} \r\n",
       "table th {\r\n",
       "    text-align: start;\r\n",
       "}\r\n",
       "</style>"
      ]
     },
     "metadata": {},
     "output_type": "display_data"
    }
   ],
   "source": [
    "celebrateBirthday(someHuman)\n",
    "someHuman"
   ]
  },
  {
   "cell_type": "markdown",
   "metadata": {},
   "source": [
    "## Task 1.6: Mutable values in functions (Bonus task) \n",
    "\n",
    "Create your own version of the `Array.min` function. This function should take an array of ints as a parameter and return the lowest value of this array.\n",
    "\n",
    "Signature: `int [] -> int`\n",
    "\n",
    "In the function, the currently lowest int is supposed to be stored as a `mutable value` and you should use a `for-loop`.\n",
    "\n",
    "\n"
   ]
  },
  {
   "cell_type": "code",
   "execution_count": null,
   "metadata": {
    "dotnet_interactive": {
     "language": "fsharp"
    }
   },
   "outputs": [],
   "source": [
    "let myArrayMin (intArray: int array) =\n",
    "    let mutable n = intArray[0]\n",
    "\n",
    "    for i in intArray do\n",
    "        if i < n\n",
    "        then\n",
    "            n <- i\n",
    "    n\n",
    "\n",
    "let someIntArray = [|2; 23; 21; 2; 40; 12; 3; 10; 9|]\n",
    "\n",
    "\n",
    "myArrayMin someIntArray"
   ]
  },
  {
   "cell_type": "markdown",
   "metadata": {},
   "source": [
    "# Task 2: Classes and objects\n"
   ]
  },
  {
   "cell_type": "markdown",
   "metadata": {},
   "source": [
    "## Task 2.1: Basics\n"
   ]
  },
  {
   "cell_type": "markdown",
   "metadata": {},
   "source": [
    "\n",
    "\n",
    "### Subtask 2.1.1\n",
    "\n",
    "Here the class `Vehicle` gets declared. Try to comprehend what happens and shortly comment each line\n",
    "\n",
    "_keyword treasure trove_: method, field, constructor, parameter, alternative, bind\n",
    "\n",
    "\n"
   ]
  },
  {
   "cell_type": "code",
   "execution_count": 30,
   "metadata": {
    "dotnet_interactive": {
     "language": "fsharp"
    }
   },
   "outputs": [],
   "source": [
    "// Comment: declare a class \"Vehicle\" with string input parameter \"manufacturer\"\n",
    "type Vehicle (manufacturer:string) =\n",
    "    // Comment: bind input to field Manufacturer\n",
    "    member self.Manufacturer = manufacturer\n",
    "    // Comment: add method Drive, which prints a message using the field Manufacturer\n",
    "    member self.Drive() = printfn \"%s makes wroooom\" self.Manufacturer\n",
    "    // Comment: if no parameter \"manufacturer\" is given, use \"Cadillac\" as alternative\n",
    "    new() = Vehicle(\"Cadillac\")\n",
    "\n"
   ]
  },
  {
   "cell_type": "markdown",
   "metadata": {},
   "source": [
    "### Subtask 2.1.2\n",
    "\n",
    "Instantiate 2 objects of type `Vehicle`. In one case use the main constructor and in the other use the alternative constructor.\n",
    "\n"
   ]
  },
  {
   "cell_type": "code",
   "execution_count": 34,
   "metadata": {
    "dotnet_interactive": {
     "language": "fsharp"
    }
   },
   "outputs": [
    {
     "name": "stdout",
     "output_type": "stream",
     "text": [
      "Cadillac makes wroooom\n"
     ]
    }
   ],
   "source": [
    "let myFirstCar = new Vehicle()\n",
    "myFirstCar\n",
    "myFirstCar.Drive()\n"
   ]
  },
  {
   "cell_type": "code",
   "execution_count": 35,
   "metadata": {
    "dotnet_interactive": {
     "language": "fsharp"
    },
    "polyglot_notebook": {
     "kernelName": "fsharp"
    }
   },
   "outputs": [
    {
     "name": "stdout",
     "output_type": "stream",
     "text": [
      "Ford makes wroooom\n"
     ]
    }
   ],
   "source": [
    "let mySecondCar = new Vehicle(\"Ford\")\n",
    "mySecondCar\n",
    "mySecondCar.Drive()"
   ]
  },
  {
   "cell_type": "markdown",
   "metadata": {},
   "source": [
    "## Task 2.2: Inheritance"
   ]
  },
  {
   "cell_type": "markdown",
   "metadata": {},
   "source": [
    "\n",
    "\n",
    "### Subtask 2.2.1\n",
    "\n",
    "Here is an example for the inheritance of a class. The class `Motorcycle` inherits from the class `Vehicle`\n",
    "\n",
    "Analogously, create the class `Car`, which also inherits from `Vehicle`. Additionally, it should have the field `NumDoors`. \n",
    "For this, choose an appropriate primitive type and adjust the constructor to allow for setting the number of doors when instantiating a car object.\n",
    "\n"
   ]
  },
  {
   "cell_type": "code",
   "execution_count": 37,
   "metadata": {
    "dotnet_interactive": {
     "language": "fsharp"
    }
   },
   "outputs": [],
   "source": [
    "type Motorcycle (manufacturer:string) =\n",
    "\n",
    "    inherit Vehicle(manufacturer)\n",
    "\n",
    "    new() = Motorcycle(\"Kawasaki\")\n"
   ]
  },
  {
   "cell_type": "code",
   "execution_count": 53,
   "metadata": {
    "dotnet_interactive": {
     "language": "fsharp"
    },
    "polyglot_notebook": {
     "kernelName": "fsharp"
    }
   },
   "outputs": [],
   "source": [
    "type Car (manufacturer:string, numdoors:int) =\n",
    "\n",
    "    inherit Vehicle(manufacturer)\n",
    "    member self.NumDoors = numdoors\n",
    "\n"
   ]
  },
  {
   "cell_type": "code",
   "execution_count": 55,
   "metadata": {
    "dotnet_interactive": {
     "language": "fsharp"
    },
    "polyglot_notebook": {
     "kernelName": "fsharp"
    }
   },
   "outputs": [
    {
     "data": {
      "text/html": [
       "<details open=\"open\" class=\"dni-treeview\"><summary><span class=\"dni-code-hint\"><code>FSI_0063+Car</code></span></summary><div><table><thead><tr></tr></thead><tbody><tr><td>NumDoors</td><td><div class=\"dni-plaintext\"><pre>4</pre></div></td></tr><tr><td>Manufacturer</td><td><div class=\"dni-plaintext\"><pre>Dodge</pre></div></td></tr></tbody></table></div></details><style>\r\n",
       ".dni-code-hint {\r\n",
       "    font-style: italic;\r\n",
       "    overflow: hidden;\r\n",
       "    white-space: nowrap;\r\n",
       "}\r\n",
       ".dni-treeview {\r\n",
       "    white-space: nowrap;\r\n",
       "}\r\n",
       ".dni-treeview td {\r\n",
       "    vertical-align: top;\r\n",
       "    text-align: start;\r\n",
       "}\r\n",
       "details.dni-treeview {\r\n",
       "    padding-left: 1em;\r\n",
       "}\r\n",
       "table td {\r\n",
       "    text-align: start;\r\n",
       "}\r\n",
       "table tr { \r\n",
       "    vertical-align: top; \r\n",
       "    margin: 0em 0px;\r\n",
       "}\r\n",
       "table tr td pre \r\n",
       "{ \r\n",
       "    vertical-align: top !important; \r\n",
       "    margin: 0em 0px !important;\r\n",
       "} \r\n",
       "table th {\r\n",
       "    text-align: start;\r\n",
       "}\r\n",
       "</style>"
      ]
     },
     "metadata": {},
     "output_type": "display_data"
    }
   ],
   "source": []
  },
  {
   "cell_type": "markdown",
   "metadata": {},
   "source": [
    "### Subtask 2.2.2\n",
    "\n",
    "Create a function which has a parameter of type `Vehicle` and calls the `Drive` method of this vehicle.\n",
    "\n"
   ]
  },
  {
   "cell_type": "code",
   "execution_count": 56,
   "metadata": {
    "dotnet_interactive": {
     "language": "fsharp"
    }
   },
   "outputs": [],
   "source": [
    "let vehicleDrive (v:Vehicle) =\n",
    "    v.Drive()\n",
    "\n"
   ]
  },
  {
   "cell_type": "markdown",
   "metadata": {},
   "source": [
    "### Subtask 2.2.3\n",
    "\n",
    "Instantiate a `Car` and bind it to a name. Use the function defined in subtaks 2.2.2 to let the car drive"
   ]
  },
  {
   "cell_type": "code",
   "execution_count": 58,
   "metadata": {
    "dotnet_interactive": {
     "language": "fsharp"
    }
   },
   "outputs": [
    {
     "name": "stdout",
     "output_type": "stream",
     "text": [
      "Dodge makes wroooom\n"
     ]
    }
   ],
   "source": [
    "let myNewCar = new Car(\"Dodge\", 4)\n",
    "\n",
    "vehicleDrive myNewCar"
   ]
  },
  {
   "cell_type": "markdown",
   "metadata": {},
   "source": [
    "\n",
    "## Task 2.3: Mutable values in objects (Bonus task)\n",
    "\n",
    "Define a class `Convertible` which inherits from `Vehicle`. \n",
    "\n",
    "This class should contain a field `RoofOpen` of type `bool` and additionally methods for closing and opening its roof.\n"
   ]
  },
  {
   "cell_type": "code",
   "execution_count": 62,
   "metadata": {
    "dotnet_interactive": {
     "language": "fsharp"
    }
   },
   "outputs": [],
   "source": [
    "type Convertible (manufacturer:string, roofOpen:bool) =\n",
    "    inherit Vehicle(manufacturer)\n",
    "\n",
    "    member self.RoofOpen : bool = roofOpen\n"
   ]
  },
  {
   "cell_type": "markdown",
   "metadata": {},
   "source": [
    "# Task 3: Polymorphism"
   ]
  },
  {
   "cell_type": "markdown",
   "metadata": {},
   "source": [
    "\n",
    "## Task 3.1\n",
    "\n",
    "We want to implement people which can say their name. In Japan, usually the surname is stated prior to the given name. In germany it's the other way round.\n",
    "The singer known as Yoko Ono in germany therefore is known as Ono Yoko in Japan. To express this difference programmatically, we wrote the following code:\n",
    "\n",
    "Assign the following keywords to the codeblocks below: `Class declaration`, `Object instantiation`, `Interface declaration`\n",
    "\n",
    "\n"
   ]
  },
  {
   "cell_type": "code",
   "execution_count": 64,
   "metadata": {
    "dotnet_interactive": {
     "language": "fsharp"
    }
   },
   "outputs": [],
   "source": [
    "// Keyword: Interface declaration\n",
    "type IPerson =\n",
    "    abstract Surname    : string\n",
    "    abstract GivenName  : string\n",
    "    abstract SayName    : unit -> string\n",
    "\n",
    "// Keyword: Class declaration\n",
    "type Japanese (sn, gn) =\n",
    "    let surname = sn\n",
    "    let givenName = gn\n",
    "    interface IPerson with\n",
    "        member self.Surname = surname\n",
    "        member self.GivenName = givenName\n",
    "        member self.SayName () = surname + \" \" + givenName\n",
    "\n",
    "// Keyword: Class declaration\n",
    "type German (sn, gn) =\n",
    "    let surname = sn\n",
    "    let givenName = gn\n",
    "    interface IPerson with\n",
    "        member self.Surname = surname\n",
    "        member self.GivenName = givenName\n",
    "        member self.SayName () = givenName + \" \" + surname\n",
    "\n",
    "// Keyword: Object instantiation\n",
    "let yokoOno = Japanese(\"Ono\",\"Yoko\")\n",
    "\n",
    "// Keyword: Object instantiation\n",
    "let angeloMerte = German(\"Merte\",\"Angelo\")\n"
   ]
  },
  {
   "cell_type": "markdown",
   "metadata": {},
   "source": [
    "## Task 3.2\n",
    "\n",
    "Call the method `SayName` of both persons. \n",
    "\n",
    "Hint: Use the correct `casting Operator`\n",
    "\n"
   ]
  },
  {
   "cell_type": "code",
   "execution_count": 69,
   "metadata": {
    "dotnet_interactive": {
     "language": "fsharp"
    }
   },
   "outputs": [
    {
     "data": {
      "text/plain": [
       "Ono Yoko"
      ]
     },
     "metadata": {},
     "output_type": "display_data"
    }
   ],
   "source": [
    "(yokoOno :> IPerson).SayName()\n"
   ]
  },
  {
   "cell_type": "code",
   "execution_count": 71,
   "metadata": {
    "dotnet_interactive": {
     "language": "fsharp"
    },
    "polyglot_notebook": {
     "kernelName": "fsharp"
    }
   },
   "outputs": [
    {
     "data": {
      "text/plain": [
       "Angelo Merte"
      ]
     },
     "metadata": {},
     "output_type": "display_data"
    }
   ],
   "source": [
    "let mertesName = angeloMerte :> IPerson\n",
    "mertesName.SayName()"
   ]
  },
  {
   "cell_type": "markdown",
   "metadata": {},
   "source": [
    "## Task 3.3\n",
    "\n",
    "Shortly explain in your own words, why we used polymorphism instead of inheritance in this example.\n",
    "\n"
   ]
  },
  {
   "cell_type": "code",
   "execution_count": null,
   "metadata": {
    "dotnet_interactive": {
     "language": "fsharp"
    }
   },
   "outputs": [],
   "source": [
    "\n"
   ]
  },
  {
   "cell_type": "markdown",
   "metadata": {},
   "source": [
    "## Task 3.4\n",
    "\n",
    "In the mystic country Bambaloozle the surname of a person gets said prior to the given name, just like in Germany. But: Both names get reverted (Angela Merkel -> alegnA lekreM)\n",
    "\n",
    "Declare the class `Bambaloose`, which implements the interface `IPerson`.\n",
    "\n",
    "Hint: Use the given string revert function\n",
    "\n",
    "\n"
   ]
  },
  {
   "cell_type": "code",
   "execution_count": 73,
   "metadata": {
    "dotnet_interactive": {
     "language": "fsharp"
    }
   },
   "outputs": [],
   "source": [
    "let revert (s:string) = System.String(s.ToCharArray() |> Array.rev)\n",
    "\n",
    "type Bambaloose (sn, gn) =\n",
    "    let surname = sn\n",
    "    let givenName = gn\n",
    "    interface IPerson with\n",
    "        member self.Surname = surname\n",
    "        member self.GivenName = givenName\n",
    "        member self.SayName () = \n",
    "            givenName + \" \" + surname\n",
    "            |> revert\n"
   ]
  },
  {
   "cell_type": "code",
   "execution_count": 74,
   "metadata": {
    "dotnet_interactive": {
     "language": "fsharp"
    },
    "polyglot_notebook": {
     "kernelName": "fsharp"
    }
   },
   "outputs": [
    {
     "data": {
      "text/plain": [
       "reteP sualK"
      ]
     },
     "metadata": {},
     "output_type": "display_data"
    }
   ],
   "source": [
    "let klausPeter = Bambaloose(\"Peter\",\"Klaus\")\n",
    "\n",
    "(klausPeter :> IPerson).SayName()"
   ]
  }
 ],
 "metadata": {
  "kernelspec": {
   "display_name": ".NET (F#)",
   "language": "F#",
   "name": ".net-fsharp"
  },
  "langauge_info": {
   "file_extension": ".fs",
   "mimetype": "text/x-fsharp",
   "name": "C#",
   "pygments_lexer": "fsharp",
   "version": "4.5"
  },
  "language_info": {
   "name": "polyglot-notebook"
  },
  "polyglot_notebook": {
   "kernelInfo": {
    "defaultKernelName": "fsharp",
    "items": [
     {
      "aliases": [],
      "name": "fsharp"
     }
    ]
   }
  }
 },
 "nbformat": 4,
 "nbformat_minor": 1
}
