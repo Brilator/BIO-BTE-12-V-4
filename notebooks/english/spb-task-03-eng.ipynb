{
 "cells": [
  {
   "cell_type": "markdown",
   "metadata": {},
   "source": [
    "# SPB III: Control Flow\n",
    "---\n",
    "\n",
    "This exercise will introduce you to the use of conditional statements, loops, and recursive functions.\n",
    "\n",
    "Hints:\n",
    "- Remember that the result of each branch of a conditional statement must be of the same type.\n",
    "- Outside of a sequence expression, loops can only return a result of type Unit."
   ]
  },
  {
   "cell_type": "markdown",
   "metadata": {},
   "source": [
    "# Task 1: If-then-else"
   ]
  },
  {
   "cell_type": "markdown",
   "metadata": {},
   "source": [
    "## Task 1.1\n",
    "\n",
    "Declare a function that takes a parameter `x` of type `float`. It shall return `x` if `x` is greater than zero. If not, it shall return the value with the \n",
    "sign inversed.\n",
    "\n",
    "Hint: Multiplication"
   ]
  },
  {
   "cell_type": "code",
   "execution_count": null,
   "metadata": {
    "dotnet_interactive": {
     "language": "fsharp"
    }
   },
   "outputs": [],
   "source": [
    "\n",
    "let absoluteNumber (x:float) =\n",
    "    if x > 0 then\n",
    "        x\n",
    "    else \n",
    "        x * -1.0"
   ]
  },
  {
   "cell_type": "markdown",
   "metadata": {},
   "source": [
    "## Task 1.2\n",
    "\n",
    "Declare a function that gets three numbers as parameters. The biggest of the three numbers shall be returned as the result. \n",
    "\n",
    "Hint: `elif`"
   ]
  },
  {
   "cell_type": "code",
   "execution_count": null,
   "metadata": {
    "dotnet_interactive": {
     "language": "fsharp"
    }
   },
   "outputs": [],
   "source": [
    "let getBiggestNumber (a:int, b:int, c:int) = \n",
    "    if a > b then\n",
    "        a\n",
    "    elif b > c then\n",
    "        b\n",
    "    else\n",
    "        c"
   ]
  },
  {
   "cell_type": "markdown",
   "metadata": {},
   "source": [
    "## Task 1.3\n",
    "\n",
    "Declare a function that gets a year as parameter of type `int`. If it is a leap year, the result shall be `true` else `false`.\n",
    "\n",
    "Hints:  \n",
    "- If the year is divisible by four but not by 100, it is a leap year. 2008 falls under this rule. \n",
    "- If the year is divisible by 100 but not by 400, it is not a leap year. 2100 will not be a leap year.  \n",
    "- If the year is divisible by 400, then it is always a leap year. Therefore, the year 2000 was a leap year."
   ]
  },
  {
   "cell_type": "code",
   "execution_count": null,
   "metadata": {
    "dotnet_interactive": {
     "language": "fsharp"
    }
   },
   "outputs": [],
   "source": [
    "let getLeapYear (year: int) =    \n",
    "    let mod4 = year % 4\n",
    "    let mod100 = year % 100\n",
    "    let mod400 = year % 400\n",
    "    if mod4 = 0 && mod100 <> 0 then\n",
    "        true\n",
    "    elif mod100 = 0 && mod400 <> 0 then\n",
    "        false\n",
    "    elif mod400 = 0 then\n",
    "        true\n",
    "    else\n",
    "        false\n"
   ]
  },
  {
   "cell_type": "markdown",
   "metadata": {},
   "source": [
    "# Task 2: Pattern matching"
   ]
  },
  {
   "cell_type": "markdown",
   "metadata": {},
   "source": [
    "## Task 2.1\n",
    "\n",
    "Delcare a function with the same attributes as described in Task 1.1. Do not use if-then-else expressions and use pattern matching.\n",
    "\n",
    "Hint: Guarding Rules & Wildcard"
   ]
  },
  {
   "cell_type": "code",
   "execution_count": null,
   "metadata": {
    "dotnet_interactive": {
     "language": "fsharp"
    }
   },
   "outputs": [],
   "source": [
    "let absoluteNumber (x:float) =\n",
    "    match x with\n",
    "    | _ when x >= 0 -> x\n",
    "    | _ when x < 0 -> x * -1.0    \n"
   ]
  },
  {
   "cell_type": "markdown",
   "metadata": {},
   "source": [
    "## Task 2.2\n",
    "\n",
    "UnionCase definition `Month` is given as well as UnionCase definition `Season`.\n",
    "\n",
    "\n",
    "Declare a function with parameter `m` of type `Month`. Use pattern matching to assign every month to a season."
   ]
  },
  {
   "cell_type": "code",
   "execution_count": null,
   "metadata": {
    "dotnet_interactive": {
     "language": "fsharp"
    }
   },
   "outputs": [],
   "source": [
    "type Month =\n",
    "    | January\n",
    "    | February\n",
    "    | March\n",
    "    | April\n",
    "    | May\n",
    "    | June\n",
    "    | July\n",
    "    | August\n",
    "    | September\n",
    "    | October\n",
    "    | November\n",
    "    | December\n",
    "\n",
    "type Season =\n",
    "    | Spring\n",
    "    | Summer\n",
    "    | Autumn\n",
    "    | Winter\n",
    "\n",
    "let getSeason (m: Month) =\n",
    "    match m with\n",
    "    | March | April | May -> Spring\n",
    "    | June | July | August -> Summer\n",
    "    | September | October | November -> Autumn\n",
    "    | December | January | February -> Winter"
   ]
  },
  {
   "cell_type": "markdown",
   "metadata": {},
   "source": [
    "## Task 2.3\n",
    "\n",
    "Pattern matching is very useful for deconstructing data structures. Declare a function that gets Record type `Person` (as seen in Task 2) and returns `true` if the\n",
    "surname is `Mueller`.\n",
    "\n",
    "Hint: [Pattern Matching with Records](https://docs.microsoft.com/en-us/dotnet/fsharp/language-reference/records#pattern-matching-with-records)"
   ]
  },
  {
   "cell_type": "code",
   "execution_count": null,
   "metadata": {
    "dotnet_interactive": {
     "language": "fsharp"
    }
   },
   "outputs": [],
   "source": [
    "type Person = {\n",
    "    Name: string;\n",
    "    Surname: string;\n",
    "    Age: int\n",
    "    }\n",
    "\n",
    "let getMueller (r: Person) = \n",
    "    match r with\n",
    "    | r when r.Surname = \"Mueller\" -> true\n",
    "    | r when r.Surname <> \"Mueller\" -> failwith \"nicht Mueller\"\n",
    "\n",
    "\n",
    "getMueller {Name = \"Peter\";Surname = \"Mueller\"; Age = 35}\n",
    "getMueller {Name = \"Peter\";Surname = \"Meier\"; Age = 35}\n"
   ]
  },
  {
   "cell_type": "markdown",
   "metadata": {},
   "source": [
    "# Task 3: Loops"
   ]
  },
  {
   "cell_type": "markdown",
   "metadata": {},
   "source": [
    "## Task 3.1\n",
    "\n",
    "Declare a function that gets a parameter `n` of type `int`. The function shall print all numbers from 1 to n into the console (hint: `printfn`). Use a for loop."
   ]
  },
  {
   "cell_type": "code",
   "execution_count": null,
   "metadata": {
    "dotnet_interactive": {
     "language": "fsharp"
    }
   },
   "outputs": [],
   "source": [
    "let oneToN (n: int) =\n",
    "    for i = 1 to n do \n",
    "        printfn \"%i\" i"
   ]
  },
  {
   "cell_type": "markdown",
   "metadata": {},
   "source": [
    "## Task 3.2\n",
    "\n",
    "Declare a function that gets a parameter `n` of type `int`. The function shall return a list containing the values from 1 to `n`.  \n",
    "\n",
    "Hints: Sequence expressions, comprehesions\n",
    "\n",
    "**Extra point:** Write only all even numbers in the list. \n",
    "    Hints: if-then-else, modulo."
   ]
  },
  {
   "cell_type": "code",
   "execution_count": null,
   "metadata": {
    "dotnet_interactive": {
     "language": "fsharp"
    }
   },
   "outputs": [],
   "source": [
    "let oneToNList (n: int) = [for i in 1 .. n -> i ]\n",
    "\n",
    "oneToNList 12"
   ]
  },
  {
   "cell_type": "code",
   "execution_count": null,
   "metadata": {
    "dotnet_interactive": {
     "language": "fsharp"
    },
    "polyglot_notebook": {
     "kernelName": "fsharp"
    }
   },
   "outputs": [],
   "source": [
    "let oneToNList (n: int) = [\n",
    "    for i = 1 to n do\n",
    "        if (i % 2) = 0 then\n",
    "            i\n",
    "    ]\n",
    "\n",
    "oneToNList 12"
   ]
  },
  {
   "cell_type": "markdown",
   "metadata": {},
   "source": [
    "## Task 3.3\n",
    "\n",
    "Declare a function that gets a parameter `n` of type `int` and a parameter `f` with signature `(int -> int)`. The function should apply `f` to all integers from 1 to `n` and then return a list containing the results. \n",
    "\n",
    "Hints: Sequence expressions, comprehensions."
   ]
  },
  {
   "cell_type": "code",
   "execution_count": null,
   "metadata": {
    "dotnet_interactive": {
     "language": "fsharp"
    }
   },
   "outputs": [],
   "source": [
    "let someFunction (n:int, f: int -> int) = seq{\n",
    "    for i in 1 .. n do\n",
    "        f i\n",
    "}\n",
    "\n",
    "\n",
    "\n",
    "someFunction (41, (fun a -> a * 2))\n",
    "\n"
   ]
  },
  {
   "cell_type": "markdown",
   "metadata": {},
   "source": [
    "# Task 4: Recursion"
   ]
  },
  {
   "cell_type": "markdown",
   "metadata": {},
   "source": [
    "## Task 4.1\n",
    "\n",
    "Modify the following function (known from the lecture) in such a way that it outputs at the end how many steps have been completed.\n",
    "\n",
    "```fsharp\n",
    "let rec climbStep nSteps position =\n",
    "    if position = nSteps + 1 then\n",
    "        printfn \"Puh, done\"\n",
    "    else\n",
    "        printfn \"I should do more sports\"\n",
    "        climbStep nSteps (position + 1)\n",
    "```"
   ]
  },
  {
   "cell_type": "code",
   "execution_count": null,
   "metadata": {
    "dotnet_interactive": {
     "language": "fsharp"
    }
   },
   "outputs": [],
   "source": []
  },
  {
   "cell_type": "markdown",
   "metadata": {},
   "source": [
    "## Task 4.2\n",
    "\n",
    "Modify the following function (as seen in the lecture), so that it returns -1 if it is expected that the result will be greater than 1000.  \n",
    "Hint: Use the `print` function to visualize intermediate result and to better understand the function. E.g.: `printfn \"n:%i, acc':%i\" n acc`.\n",
    "\n",
    "```fsharp\n",
    "let rec factorial acc n  =\n",
    "    if n = 1 then\n",
    "        acc \n",
    "    else\n",
    "        let acc' = n * acc\n",
    "        factorial acc' (n-1)\n",
    "\n",
    "factorial 1 4\n",
    "```"
   ]
  },
  {
   "cell_type": "code",
   "execution_count": null,
   "metadata": {
    "dotnet_interactive": {
     "language": "fsharp"
    }
   },
   "outputs": [],
   "source": [
    "\n"
   ]
  }
 ],
 "metadata": {
  "kernelspec": {
   "display_name": ".NET (C#)",
   "language": "C#",
   "name": ".net-csharp"
  },
  "langauge_info": {
   "file_extension": ".fs",
   "mimetype": "text/x-fsharp",
   "name": "C#",
   "pygments_lexer": "fsharp",
   "version": "4.5"
  },
  "language_info": {
   "name": "polyglot-notebook",
   "version": "3.12.0"
  },
  "polyglot_notebook": {
   "kernelInfo": {
    "defaultKernelName": "csharp",
    "items": [
     {
      "aliases": [],
      "name": "csharp"
     },
     {
      "aliases": [],
      "name": "fsharp"
     }
    ]
   }
  }
 },
 "nbformat": 4,
 "nbformat_minor": 1
}
