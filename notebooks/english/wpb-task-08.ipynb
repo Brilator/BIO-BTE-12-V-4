
        {
            "cells": [
          {
           "cell_type": "markdown",
           "metadata": {},
           
           "source": ["// can\u0027t yet format YamlFrontmatter ([\"title: Task 08\"; \"category: Tasks(english)\"; \"categoryindex: 3\"; \"index: 9\"], Some { StartLine = 2 StartColumn = 0 EndLine = 6 EndColumn = 8 }) to pynb markdown\n",
"\n",
"[![Binder](/BIO-BTE-12-V-4/img/badge-binder.svg)](https://mybinder.org/v2/gh/csbiology/BIO-BTE-12-V-4/gh-pages?filepath=tasks/english/wpb-task-08.ipynb)\u0026emsp;\n",
"[![Script](/BIO-BTE-12-V-4/img/badge-script.svg)](/BIO-BTE-12-V-4/tasks/english/wpb-task-08.fsx)\u0026emsp;\n",
"[![Notebook](/BIO-BTE-12-V-4/img/badge-notebook.svg)](/BIO-BTE-12-V-4/tasks/english/wpb-task-08.ipynb)\n",
"\n",
"# Task04 - Programming with functions\n",
"\n",
"## Dispersion measures in FSharp\n",
"\n",
"### Preface\n",
"\n",
"The Plotly.NET library documentation can be found at https://plotly.net.\n",
"\n",
"The FSharp.Stats library documentation can be found at https://fslab.org/FSharp.Stats/.\n",
"\n",
"### Referencing Plotly.NET and FSharp.Stats\n",
"\n",
"These lines always have to be executed once, otherwise you can not use the referenced libraries:\n",
"\n"]
          }
,
          {
           "cell_type": "code",
           "metadata": {},
            "execution_count": 1, "outputs": [], 
           "source": ["#r \"nuget: FSharp.Stats, 0.4.1\"\n",
"#r \"nuget: Plotly.NET, 2.0.0-preview.1\"\n",
"#r \"nuget: Plotly.NET.Interactive, 2.0.0-preview.1\"\n",
"\n",
"open Plotly.NET\n",
"open FSharp.Stats\n",
"open Plotly.NET.StyleParam\n"]
          }
,
          {
           "cell_type": "markdown",
           "metadata": {},
           
           "source": ["### Task 1.1\n",
"\n",
"Create a normal distribution that has 3.50 as mean and 1.20 as standard deviation.\n",
"Bind this distribution to the name `myDistribution`.\n",
"\n",
"\n"]
          }
,
          {
           "cell_type": "code",
           "metadata": {},
            "execution_count": 2, "outputs": [], 
           "source": ["open FSharp.Stats.Distributions\n"]
          }
,
          {
           "cell_type": "markdown",
           "metadata": {},
           
           "source": ["### Task 1.2\n",
"\n",
"  - a) Access the `Variance` field of the previously created distribution. \n",
"  - b) Draw a random value from the distribution.\n",
"\n",
"\n"]
          }
,
          {
           "cell_type": "code",
           "metadata": {},
            "execution_count": 10, "outputs": [], 
           "source": ["\n"]
          }
,
          {
           "cell_type": "markdown",
           "metadata": {},
           
           "source": ["### Task 1.3\n",
"\n",
"Here a function is defined that takes a sample from a distribution. Understand the function and create a sample from `myDistribution` with n=15. Bind the result to `mySample`.\n",
"\n",
"\n"]
          }
,
          {
           "cell_type": "code",
           "metadata": {},
            "execution_count": 4, "outputs": [], 
           "source": ["let getSample (dist:Distributions.Distribution\u003cfloat,float\u003e) n = \n",
"    let distribution = dist\n",
"    Array.init n (fun _ -\u003e distribution.Sample())\n"]
          }
,
          {
           "cell_type": "markdown",
           "metadata": {},
           
           "source": ["### Task 1.4\n",
"\n",
"Erstellen Sie eine Funktion, die einen Mittelwert mean (float), eine Standardabweichung stabw (float) und eine Stichprobengroesse n (int) als Parameter bekommt. \n",
"Aus mean und stabw soll eine Normalverteilung erstellt werden. Die Funktion soll ein float array der Laenge n als Stichprobe aus der Verteilung zurueckgeben.\n",
"Als Vorlage kann `getSample` aus 1.3 dienen. Binden Sie die Funktion an den Namen `getSampleOfGaussWith`.\n",
"\n",
"Create a function that takes a mean (mean: float), a standard deviation (stdev: float) and a sample size (n: int) as parameters. \n",
"In the functions body create a normal distribution from mean and stdev. The function should return a float array of length n as a sample from the distribution.\n",
"`getSample` from 1.3 can be used as template. Bind the function to the name `getSampleOfGaussWith`.\n",
"\n",
"\n"]
          }
,
          {
           "cell_type": "code",
           "metadata": {},
            "execution_count": 10, "outputs": [], 
           "source": ["\n"]
          }
,
          {
           "cell_type": "markdown",
           "metadata": {},
           
           "source": ["### Task 1.5\n",
"\n",
"Determine the mean and variance of mySample. \n",
"\n",
"\n"]
          }
,
          {
           "cell_type": "code",
           "metadata": {},
            "execution_count": 10, "outputs": [], 
           "source": ["\n"]
          }
,
          {
           "cell_type": "markdown",
           "metadata": {},
           
           "source": ["### Task 1.6\n",
"\n",
"Below is a function that calculates the standard error from a sample. \n",
"\n",
"  - a) Create a list with the name \u0027semsOfSample\u0027. The list should consist of 100 standard errors based on samples of the following distribution: \n",
"\n",
"    - mean = 6.0\n",
"\n",
"    - stabw = 1.5\n",
"\n",
"    - Sample size: 12 each\n",
"\n",
"  - b) Create a list with the name \u0027stDevsOfSample\u0027, which calculates the standard deviation from samples of the same distribution.\n",
"\n",
"\n",
"\n"]
          }
,
          {
           "cell_type": "code",
           "metadata": {},
            "execution_count": 7, "outputs": [], 
           "source": ["let sem (sample:float []) =\n",
"    let sd = Seq.stDev sample\n",
"    let n = float (Seq.length sample)\n",
"    sd / sqrt n\n"]
          }
,
          {
           "cell_type": "markdown",
           "metadata": {},
           
           "source": ["### Task 1.7 (optional)\n",
"\n",
"Visualise the two lists with any chart. Compare the values with the standard deviation of the original distribution (one sentence).\n",
"\n",
"\n"]
          }
,
          {
           "cell_type": "code",
           "metadata": {},
            "execution_count": 10, "outputs": [], 
           "source": ["\n"]
          }
,
          {
           "cell_type": "markdown",
           "metadata": {},
           
           "source": ["## t test with FSharp.Stats\n",
"\n",
"### Task 2.1 \n",
"\n",
"Create a sample with sample size n=12 from each of the distributions with the following parameters\n",
"\n",
"  - a) mean=12., stabw=1.3\n",
"  \n",
"  - b) mean=14., stabw=1.3\n",
"\n",
"Bind the samples to the names \u0027sampleA\u0027 and \u0027sampleB\u0027. A vector is a type of sequence and often is used in FSharp.Stats. This is also the case with the T-test. The transformation\n",
"of sequences, lists or arrays into vectors can be performed with: \u0027Vector.ofSeq [sequence]\u0027 or \u0027vector [sequence]\u0027. \n",
"\n",
"\n"]
          }
,
          {
           "cell_type": "code",
           "metadata": {},
            "execution_count": 10, "outputs": [], 
           "source": ["\n"]
          }
,
          {
           "cell_type": "markdown",
           "metadata": {},
           
           "source": ["### Task 2.2\n",
"\n",
"Apply a two-sample t test to both samples. Assume unequal variances of the two population distributions.\n",
"\n",
"\n"]
          }
,
          {
           "cell_type": "code",
           "metadata": {},
            "execution_count": 10, "outputs": [], 
           "source": ["\n"]
          }
,
          {
           "cell_type": "markdown",
           "metadata": {},
           
           "source": ["### Task 2.3\n",
"\n",
"Below you see a function whose function body is missing. Within the function two samples\n",
"with sample size = n are created from distributions with mean1, mean2 and in each case the same standard deviation.\n",
"Assume equal variances of the two population distributions.\n",
"A t test has to be applied to the samples created in the function body. The function should return the p value of the test.\n",
"\n",
"\n"]
          }
,
          {
           "cell_type": "code",
           "metadata": {},
            "execution_count": 11, "outputs": [], 
           "source": ["let getPValueOfTTest mean1 mean2 stabw1 stabw2 equal n =\n",
"    1. //replace me\n"]
          }
,
          {
           "cell_type": "markdown",
           "metadata": {},
           
           "source": ["### Task 2.4\n",
"\n",
"In the function below, 1000 t tests are performed and the p values are plotted as a histogram.\n",
"Create graphs with: \n",
"\n",
"  - a) equal means with large sample size\n",
"\n",
"  - b) equal means with small sample size\n",
"\n",
"  - c) different means\n",
"\n",
"Look at the behaviour of the p values. How many p values are significant in each case?\n",
"\n",
"  - a)\n",
"\n",
"  - b)\n",
"\n",
"  - c)\n",
"\n",
"\n"]
          }
,
          {
           "cell_type": "code",
           "metadata": {},
            "execution_count": 12, "outputs": [], 
           "source": ["let plotPValue mean1 mean2 stabw1 stabw2 equal n =\n",
"    let pValues = Array.init 100000 (fun i -\u003e \n",
"        if i%10000=0 then printfn \"progress %i/100000\" i\n",
"        getPValueOfTTest mean1 mean2 stabw1 stabw2 equal n)\n",
"    let pVals =\n",
"        Chart.Histogram(pValues,Xbins=Bins.init(0.,1.,0.05),HistNorm=HistNorm.Probability)\n",
"        |\u003e Chart.withX_AxisStyle (\"p values\",MinMax=(0.,1.))\n",
"        |\u003e Chart.withY_AxisStyle (\"relative count\",MinMax=(0.045,0.06))\n",
"        |\u003e Chart.withTitle (sprintf \"%.1f %.1f s1:%.1f s2:%.1f n:%i %b\" mean1 mean2 stabw1 stabw2 n equal)\n",
"        |\u003e Chart.withTraceName \"pVal distribution\"\n",
"\n",
"    let distA = Continuous.normal mean1 stabw1\n",
"    let distB = Continuous.normal mean2 stabw2\n",
"    let dists = \n",
"        [\n",
"            [-5. ..0.1 .. 5.] |\u003e List.map (fun x -\u003e x,distA.PDF x) |\u003e Chart.Area |\u003e Chart.withTraceName (sprintf \"m:%.1f s:%.1f\" mean1 stabw1)\n",
"            [-5. ..0.1 .. 5.] |\u003e List.map (fun x -\u003e x,distB.PDF x) |\u003e Chart.Area |\u003e Chart.withTraceName (sprintf \"m:%.1f s:%.1f\" mean2 stabw2)\n",
"        ]\n",
"        |\u003e Chart.Combine\n",
"        |\u003e Chart.withY_AxisStyle \"pdf\"\n",
"\n",
"    [pVals;dists]\n",
"    |\u003e Chart.Stack (1,0.2)\n",
"    |\u003e Chart.Show\n"]
          }],
            "metadata": {
            "kernelspec": {"display_name": ".NET (F#)", "language": "F#", "name": ".net-fsharp"},
            "langauge_info": {
        "file_extension": ".fs",
        "mimetype": "text/x-fsharp",
        "name": "C#",
        "pygments_lexer": "fsharp",
        "version": "4.5"
        }
        },
            "nbformat": 4,
            "nbformat_minor": 1
        }
        

