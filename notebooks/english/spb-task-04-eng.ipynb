{
 "cells": [
  {
   "cell_type": "markdown",
   "metadata": {},
   "source": [
    "# SPB IV - Programming with functions\n",
    "---\n",
    "In this task you'll learn about higher order functions, apply the pipe operator, and repeat the concept of function signatures. Additionally, the use of functions as parameters is introduced. Higher order functions are then applied on collection types introducing the `map` function."
   ]
  },
  {
   "cell_type": "markdown",
   "metadata": {},
   "source": [
    "\n",
    "# Task 1: Higher order functions\n"
   ]
  },
  {
   "cell_type": "markdown",
   "metadata": {},
   "source": [
    "## Task 1.1\n",
    "\n",
    "Rewrite the following function by using the pipe operator `|>` and the given functions.\n",
    "\n",
    "Clue: \n",
    "\n",
    "  - Pipe operators lead to a positioning of the parameter left of the operator to the end of the content right to it: \n",
    "\n",
    "  - `a |> add b` is equal to `add b a`"
   ]
  },
  {
   "cell_type": "code",
   "execution_count": 2,
   "metadata": {
    "dotnet_interactive": {
     "language": "fsharp"
    }
   },
   "outputs": [
    {
     "data": {
      "text/html": [
       "<div class=\"dni-plaintext\"><pre>True</pre></div><style>\r\n",
       ".dni-code-hint {\r\n",
       "    font-style: italic;\r\n",
       "    overflow: hidden;\r\n",
       "    white-space: nowrap;\r\n",
       "}\r\n",
       ".dni-treeview {\r\n",
       "    white-space: nowrap;\r\n",
       "}\r\n",
       ".dni-treeview td {\r\n",
       "    vertical-align: top;\r\n",
       "    text-align: start;\r\n",
       "}\r\n",
       "details.dni-treeview {\r\n",
       "    padding-left: 1em;\r\n",
       "}\r\n",
       "table td {\r\n",
       "    text-align: start;\r\n",
       "}\r\n",
       "table tr { \r\n",
       "    vertical-align: top; \r\n",
       "    margin: 0em 0px;\r\n",
       "}\r\n",
       "table tr td pre \r\n",
       "{ \r\n",
       "    vertical-align: top !important; \r\n",
       "    margin: 0em 0px !important;\r\n",
       "} \r\n",
       "table th {\r\n",
       "    text-align: start;\r\n",
       "}\r\n",
       "</style>"
      ]
     },
     "metadata": {},
     "output_type": "display_data"
    }
   ],
   "source": [
    "let mathNotation x y = ((2. + 3. * (x + 1.))**2.) * y\n",
    "\n",
    "let add (a:float) b = a + b\n",
    "let square (x :float) = x * x\n",
    "let multiply (a:float) b = a * b\n",
    "\n",
    "let pipeNotation x y =\n",
    "    x\n",
    "    |> add 1.\n",
    "    |> multiply 3.0\n",
    "    |> add 2.\n",
    "    |> square\n",
    "    |> multiply y\n",
    "\n",
    "// Test if both notations report the same result\n",
    "pipeNotation 1. 7. = mathNotation 1. 7.\n"
   ]
  },
  {
   "cell_type": "markdown",
   "metadata": {},
   "source": [
    "## Task 1.2\n",
    "\n",
    "Declare any function with the signature `int -> int -> int`. Make sure that all parameters are used within the function body.\n",
    "\n",
    "Is it a first order function or a higher order function?\n",
    "\n",
    "\n"
   ]
  },
  {
   "cell_type": "code",
   "execution_count": 3,
   "metadata": {
    "dotnet_interactive": {
     "language": "fsharp"
    }
   },
   "outputs": [],
   "source": [
    "let randomFunction x y = x * y + 3\n",
    "\n",
    "(*\n",
    "[x] first order function\n",
    "[] higher order function    \n",
    "*)"
   ]
  },
  {
   "cell_type": "markdown",
   "metadata": {},
   "source": [
    "## Task 1.3\n",
    "\n",
    "\n",
    "Declare any function with the signature `int -> int -> (int -> int -> int) -> float`. Make sure that all parameters are used within the function body.\n",
    "\n",
    "Is it a first order function or a higher order function?\n",
    "\n",
    "\n"
   ]
  },
  {
   "cell_type": "code",
   "execution_count": 4,
   "metadata": {
    "dotnet_interactive": {
     "language": "fsharp"
    }
   },
   "outputs": [],
   "source": [
    "\n",
    "\n",
    "\n",
    "(*\n",
    "[] first order function\n",
    "[x] higher order function    \n",
    "*)"
   ]
  },
  {
   "cell_type": "markdown",
   "metadata": {},
   "source": [
    "## Task 1.4\n",
    "\n",
    "Call the function defined in `1.3`. Use two values of your choice and the function from `1.2` as parameters.\n",
    "\n",
    "\n"
   ]
  },
  {
   "cell_type": "code",
   "execution_count": 5,
   "metadata": {
    "dotnet_interactive": {
     "language": "fsharp"
    }
   },
   "outputs": [],
   "source": [
    "\n"
   ]
  },
  {
   "cell_type": "markdown",
   "metadata": {},
   "source": [
    "# Task 2: Programming with functions"
   ]
  },
  {
   "cell_type": "markdown",
   "metadata": {},
   "source": [
    "\n",
    "## Task 2.1.1\n",
    "\n",
    "Below you can see a record type called `Cat`. Create two random values of type `Cat` and bind them to random names.\n",
    "Have a look at `task 02` if you have any difficulties here.\n",
    "\n",
    "\n"
   ]
  },
  {
   "cell_type": "code",
   "execution_count": 6,
   "metadata": {
    "dotnet_interactive": {
     "language": "fsharp"
    }
   },
   "outputs": [],
   "source": [
    "type Cat = {\n",
    "    Name    : string\n",
    "    Weight  : float\n",
    "    Color   : string\n",
    "    Age     : int}\n",
    "\n",
    "let kitty = {\n",
    "    Name = \"Kitty\"\n",
    "    Weight = 5.0\n",
    "    Color = \"black and white\"\n",
    "    Age = 18\n",
    "}\n",
    "\n",
    "let felix = {\n",
    "    Name = \"Felix\"\n",
    "    Weight = 8.2\n",
    "    Color = \"grey tiger\"\n",
    "    Age = 16\n",
    "}\n"
   ]
  },
  {
   "cell_type": "markdown",
   "metadata": {},
   "source": [
    "## Task 2.1.2\n",
    "\n",
    "Declare a function called `getWeight`, that takes a `Cat` as parameter and reports its weight.\n",
    "\n",
    "\n"
   ]
  },
  {
   "cell_type": "code",
   "execution_count": 7,
   "metadata": {
    "dotnet_interactive": {
     "language": "fsharp"
    }
   },
   "outputs": [
    {
     "data": {
      "text/html": [
       "<div class=\"dni-plaintext\"><pre>8.2</pre></div><style>\r\n",
       ".dni-code-hint {\r\n",
       "    font-style: italic;\r\n",
       "    overflow: hidden;\r\n",
       "    white-space: nowrap;\r\n",
       "}\r\n",
       ".dni-treeview {\r\n",
       "    white-space: nowrap;\r\n",
       "}\r\n",
       ".dni-treeview td {\r\n",
       "    vertical-align: top;\r\n",
       "    text-align: start;\r\n",
       "}\r\n",
       "details.dni-treeview {\r\n",
       "    padding-left: 1em;\r\n",
       "}\r\n",
       "table td {\r\n",
       "    text-align: start;\r\n",
       "}\r\n",
       "table tr { \r\n",
       "    vertical-align: top; \r\n",
       "    margin: 0em 0px;\r\n",
       "}\r\n",
       "table tr td pre \r\n",
       "{ \r\n",
       "    vertical-align: top !important; \r\n",
       "    margin: 0em 0px !important;\r\n",
       "} \r\n",
       "table th {\r\n",
       "    text-align: start;\r\n",
       "}\r\n",
       "</style>"
      ]
     },
     "metadata": {},
     "output_type": "display_data"
    }
   ],
   "source": [
    "\n",
    "let getWeight (cat: Cat) = \n",
    "    cat.Weight\n",
    "\n",
    "getWeight felix"
   ]
  },
  {
   "cell_type": "markdown",
   "metadata": {},
   "source": [
    "## Task 2.1.3\n",
    "\n",
    "You cannot apply standard mathematical operators to record types. \n",
    "Declare a function called `applyToWeight` that receives two parameters of type Cat (c1 and c2) and one parameter of type `(float -> float -> float)` (f). \n",
    "In the function body, the function f should be applied to the weights of c1 and c2.\n",
    "\n",
    "Clue: Define the types of the parameters. \n",
    "\n",
    "\n"
   ]
  },
  {
   "cell_type": "code",
   "execution_count": 8,
   "metadata": {
    "dotnet_interactive": {
     "language": "fsharp"
    }
   },
   "outputs": [],
   "source": [
    "let applyToWeight (c1: Cat) (c2: Cat) (f: float -> float -> float) =\n",
    "    f c1.Weight c2.Weight\n"
   ]
  },
  {
   "cell_type": "markdown",
   "metadata": {},
   "source": [
    "## Task 2.1.4\n",
    " \n",
    "Apply the function `applyToWeight` with the previously created Cats and the function `averageOfTwo`.  \n",
    "\n",
    "\n"
   ]
  },
  {
   "cell_type": "code",
   "execution_count": 9,
   "metadata": {
    "dotnet_interactive": {
     "language": "fsharp"
    }
   },
   "outputs": [
    {
     "data": {
      "text/html": [
       "<div class=\"dni-plaintext\"><pre>6.6</pre></div><style>\r\n",
       ".dni-code-hint {\r\n",
       "    font-style: italic;\r\n",
       "    overflow: hidden;\r\n",
       "    white-space: nowrap;\r\n",
       "}\r\n",
       ".dni-treeview {\r\n",
       "    white-space: nowrap;\r\n",
       "}\r\n",
       ".dni-treeview td {\r\n",
       "    vertical-align: top;\r\n",
       "    text-align: start;\r\n",
       "}\r\n",
       "details.dni-treeview {\r\n",
       "    padding-left: 1em;\r\n",
       "}\r\n",
       "table td {\r\n",
       "    text-align: start;\r\n",
       "}\r\n",
       "table tr { \r\n",
       "    vertical-align: top; \r\n",
       "    margin: 0em 0px;\r\n",
       "}\r\n",
       "table tr td pre \r\n",
       "{ \r\n",
       "    vertical-align: top !important; \r\n",
       "    margin: 0em 0px !important;\r\n",
       "} \r\n",
       "table th {\r\n",
       "    text-align: start;\r\n",
       "}\r\n",
       "</style>"
      ]
     },
     "metadata": {},
     "output_type": "display_data"
    }
   ],
   "source": [
    "let averageOfTwo (a:float) b =\n",
    "    (a + b) / 2.\n",
    "\n",
    "\n",
    "applyToWeight felix kitty averageOfTwo\n"
   ]
  },
  {
   "cell_type": "markdown",
   "metadata": {},
   "source": [
    "## Task 2.2 (optional)\n",
    "\n",
    "This task does not have to be solved! It serves to create a `Cat list` that is required later.\n",
    "For a bonus point, you can comment on what happens in the indicated lines.\n",
    "\n",
    "\n"
   ]
  },
  {
   "cell_type": "code",
   "execution_count": 10,
   "metadata": {
    "dotnet_interactive": {
     "language": "fsharp"
    }
   },
   "outputs": [],
   "source": [
    "// This is a random number generator. \n",
    "// randomNumberGenerator.NextDouble() creates a random float between 0. and 1.\n",
    "// randomNumberGenerator.Next(x) creates a random int between 0 and x-1.\n",
    "let randomNumberGenerator = System.Random()\n",
    "\n",
    "// Here a function is defined that creates a value of typ Cat.\n",
    "let createRandomCat (i :int) = \n",
    "    // Comment: \n",
    "    let name   = \"Cat \" + string i \n",
    "    // Comment: \n",
    "    let age    = randomNumberGenerator.Next(16)\n",
    "    // Comment: \n",
    "    let weight = 3. + 5. * randomNumberGenerator.NextDouble()\n",
    "    let color  = \n",
    "        let colors = [\"white\";\"red\";\"black\";\"grey\";\"mixed\"]\n",
    "        // Comment: \n",
    "        colors.[i%5]\n",
    "    // Comment: \n",
    "    {\n",
    "    Name    = name\n",
    "    Weight  = weight\n",
    "    Color   = color   \n",
    "    Age     = age\n",
    "    }\n",
    "\n",
    "// Comment: \n",
    "let catList = [for i=1 to 60 do yield createRandomCat i]\n"
   ]
  },
  {
   "cell_type": "markdown",
   "metadata": {},
   "source": [
    "## Task 2.3\n",
    "\n",
    "Create a float list with the values from 0. to 100. and bind it to the name `nList`.\n",
    "\n",
    "\n"
   ]
  },
  {
   "cell_type": "code",
   "execution_count": 11,
   "metadata": {
    "dotnet_interactive": {
     "language": "fsharp"
    }
   },
   "outputs": [],
   "source": [
    "let nList = [0. .. 100.]"
   ]
  },
  {
   "cell_type": "markdown",
   "metadata": {},
   "source": [
    "## Task 2.4\n",
    "\n",
    "With map functions, one can apply a function that can be applied to individual elements to all elements of a list.\n",
    "Parameters of the `map` function:\n",
    "\n",
    "  1. `doSomethingWithX`:  Function to be applied to each list item\n",
    "\n",
    "  2. `list`:              List of elements to which `doSomeThingWithX` is to be applied\n",
    "\n",
    "`List.map` is applied as follows:\n",
    "\n",
    "  - `List.map (fun listElement -> doSomethingWithX listElement) list`\n",
    "\n",
    "Apply the function `square` (Task 1.1) to each element of `nList`. Bind the result to the name `nListSquared`.\n",
    "\n",
    "\n"
   ]
  },
  {
   "cell_type": "code",
   "execution_count": 12,
   "metadata": {
    "dotnet_interactive": {
     "language": "fsharp"
    }
   },
   "outputs": [
    {
     "data": {
      "text/html": [
       "<details open=\"open\" class=\"dni-treeview\"><summary><span class=\"dni-code-hint\"><code>[ 0, 1, 4, 9, 16, 25, 36, 49, 64, 81, 100, 121, 144, 169, 196, 225, 256, 289, 324, 361 ... (more) ]</code></span></summary><div><table><thead><tr></tr></thead><tbody><tr><td>HeadOrDefault</td><td><div class=\"dni-plaintext\"><pre>0</pre></div></td></tr><tr><td>TailOrNull</td><td><details class=\"dni-treeview\"><summary><span class=\"dni-code-hint\"><code>[ 1, 4, 9, 16, 25, 36, 49, 64, 81, 100, 121, 144, 169, 196, 225, 256, 289, 324, 361, 400 ... (more) ]</code></span></summary><div><table><thead><tr></tr></thead><tbody><tr><td>HeadOrDefault</td><td><div class=\"dni-plaintext\"><pre>1</pre></div></td></tr><tr><td>TailOrNull</td><td><details class=\"dni-treeview\"><summary><span class=\"dni-code-hint\"><code>[ 4, 9, 16, 25, 36, 49, 64, 81, 100, 121, 144, 169, 196, 225, 256, 289, 324, 361, 400, 441 ... (more) ]</code></span></summary><div><table><thead><tr></tr></thead><tbody><tr><td>HeadOrDefault</td><td><div class=\"dni-plaintext\"><pre>4</pre></div></td></tr><tr><td>TailOrNull</td><td><details class=\"dni-treeview\"><summary><span class=\"dni-code-hint\"><code>[ 9, 16, 25, 36, 49, 64, 81, 100, 121, 144, 169, 196, 225, 256, 289, 324, 361, 400, 441, 484 ... (more) ]</code></span></summary><div><table><thead><tr></tr></thead><tbody><tr><td>HeadOrDefault</td><td><div class=\"dni-plaintext\"><pre>9</pre></div></td></tr><tr><td>TailOrNull</td><td><details class=\"dni-treeview\"><summary><span class=\"dni-code-hint\"><code>[ 16, 25, 36, 49, 64, 81, 100, 121, 144, 169, 196, 225, 256, 289, 324, 361, 400, 441, 484, 529 ... (more) ]</code></span></summary><div><table><thead><tr></tr></thead><tbody><tr><td>HeadOrDefault</td><td><div class=\"dni-plaintext\"><pre>16</pre></div></td></tr><tr><td>TailOrNull</td><td><details class=\"dni-treeview\"><summary><span class=\"dni-code-hint\"><code>[ 25, 36, 49, 64, 81, 100, 121, 144, 169, 196, 225, 256, 289, 324, 361, 400, 441, 484, 529, 576 ... (more) ]</code></span></summary><div><table><thead><tr></tr></thead><tbody><tr><td>HeadOrDefault</td><td>25</td></tr><tr><td>TailOrNull</td><td>[ 36, 49, 64, 81, 100, 121, 144, 169, 196, 225, 256, 289, 324, 361, 400, 441, 484, 529, 576, 625 ... (more) ]</td></tr><tr><td>Head</td><td>25</td></tr><tr><td>Tail</td><td>[ 36, 49, 64, 81, 100, 121, 144, 169, 196, 225, 256, 289, 324, 361, 400, 441, 484, 529, 576, 625 ... (more) ]</td></tr><tr><td><i>(values)</i></td><td><div class=\"dni-plaintext\"><pre>[ 25, 36, 49, 64, 81, 100, 121, 144, 169, 196, 225, 256, 289, 324, 361, 400, 441, 484, 529, 576 ... (more) ]</pre></div></td></tr></tbody></table></div></details></td></tr><tr><td>Head</td><td><div class=\"dni-plaintext\"><pre>16</pre></div></td></tr><tr><td>Tail</td><td><details class=\"dni-treeview\"><summary><span class=\"dni-code-hint\"><code>[ 25, 36, 49, 64, 81, 100, 121, 144, 169, 196, 225, 256, 289, 324, 361, 400, 441, 484, 529, 576 ... (more) ]</code></span></summary><div><table><thead><tr></tr></thead><tbody><tr><td>HeadOrDefault</td><td>25</td></tr><tr><td>TailOrNull</td><td>[ 36, 49, 64, 81, 100, 121, 144, 169, 196, 225, 256, 289, 324, 361, 400, 441, 484, 529, 576, 625 ... (more) ]</td></tr><tr><td>Head</td><td>25</td></tr><tr><td>Tail</td><td>[ 36, 49, 64, 81, 100, 121, 144, 169, 196, 225, 256, 289, 324, 361, 400, 441, 484, 529, 576, 625 ... (more) ]</td></tr><tr><td><i>(values)</i></td><td><div class=\"dni-plaintext\"><pre>[ 25, 36, 49, 64, 81, 100, 121, 144, 169, 196, 225, 256, 289, 324, 361, 400, 441, 484, 529, 576 ... (more) ]</pre></div></td></tr></tbody></table></div></details></td></tr><tr><td><i>(values)</i></td><td><div class=\"dni-plaintext\"><pre>[ 16, 25, 36, 49, 64, 81, 100, 121, 144, 169, 196, 225, 256, 289, 324, 361, 400, 441, 484, 529 ... (more) ]</pre></div></td></tr></tbody></table></div></details></td></tr><tr><td>Head</td><td><div class=\"dni-plaintext\"><pre>9</pre></div></td></tr><tr><td>Tail</td><td><details class=\"dni-treeview\"><summary><span class=\"dni-code-hint\"><code>[ 16, 25, 36, 49, 64, 81, 100, 121, 144, 169, 196, 225, 256, 289, 324, 361, 400, 441, 484, 529 ... (more) ]</code></span></summary><div><table><thead><tr></tr></thead><tbody><tr><td>HeadOrDefault</td><td><div class=\"dni-plaintext\"><pre>16</pre></div></td></tr><tr><td>TailOrNull</td><td><details class=\"dni-treeview\"><summary><span class=\"dni-code-hint\"><code>[ 25, 36, 49, 64, 81, 100, 121, 144, 169, 196, 225, 256, 289, 324, 361, 400, 441, 484, 529, 576 ... (more) ]</code></span></summary><div><table><thead><tr></tr></thead><tbody><tr><td>HeadOrDefault</td><td>25</td></tr><tr><td>TailOrNull</td><td>[ 36, 49, 64, 81, 100, 121, 144, 169, 196, 225, 256, 289, 324, 361, 400, 441, 484, 529, 576, 625 ... (more) ]</td></tr><tr><td>Head</td><td>25</td></tr><tr><td>Tail</td><td>[ 36, 49, 64, 81, 100, 121, 144, 169, 196, 225, 256, 289, 324, 361, 400, 441, 484, 529, 576, 625 ... (more) ]</td></tr><tr><td><i>(values)</i></td><td><div class=\"dni-plaintext\"><pre>[ 25, 36, 49, 64, 81, 100, 121, 144, 169, 196, 225, 256, 289, 324, 361, 400, 441, 484, 529, 576 ... (more) ]</pre></div></td></tr></tbody></table></div></details></td></tr><tr><td>Head</td><td><div class=\"dni-plaintext\"><pre>16</pre></div></td></tr><tr><td>Tail</td><td><details class=\"dni-treeview\"><summary><span class=\"dni-code-hint\"><code>[ 25, 36, 49, 64, 81, 100, 121, 144, 169, 196, 225, 256, 289, 324, 361, 400, 441, 484, 529, 576 ... (more) ]</code></span></summary><div><table><thead><tr></tr></thead><tbody><tr><td>HeadOrDefault</td><td>25</td></tr><tr><td>TailOrNull</td><td>[ 36, 49, 64, 81, 100, 121, 144, 169, 196, 225, 256, 289, 324, 361, 400, 441, 484, 529, 576, 625 ... (more) ]</td></tr><tr><td>Head</td><td>25</td></tr><tr><td>Tail</td><td>[ 36, 49, 64, 81, 100, 121, 144, 169, 196, 225, 256, 289, 324, 361, 400, 441, 484, 529, 576, 625 ... (more) ]</td></tr><tr><td><i>(values)</i></td><td><div class=\"dni-plaintext\"><pre>[ 25, 36, 49, 64, 81, 100, 121, 144, 169, 196, 225, 256, 289, 324, 361, 400, 441, 484, 529, 576 ... (more) ]</pre></div></td></tr></tbody></table></div></details></td></tr><tr><td><i>(values)</i></td><td><div class=\"dni-plaintext\"><pre>[ 16, 25, 36, 49, 64, 81, 100, 121, 144, 169, 196, 225, 256, 289, 324, 361, 400, 441, 484, 529 ... (more) ]</pre></div></td></tr></tbody></table></div></details></td></tr><tr><td><i>(values)</i></td><td><div class=\"dni-plaintext\"><pre>[ 9, 16, 25, 36, 49, 64, 81, 100, 121, 144, 169, 196, 225, 256, 289, 324, 361, 400, 441, 484 ... (more) ]</pre></div></td></tr></tbody></table></div></details></td></tr><tr><td>Head</td><td><div class=\"dni-plaintext\"><pre>4</pre></div></td></tr><tr><td>Tail</td><td><details class=\"dni-treeview\"><summary><span class=\"dni-code-hint\"><code>[ 9, 16, 25, 36, 49, 64, 81, 100, 121, 144, 169, 196, 225, 256, 289, 324, 361, 400, 441, 484 ... (more) ]</code></span></summary><div><table><thead><tr></tr></thead><tbody><tr><td>HeadOrDefault</td><td><div class=\"dni-plaintext\"><pre>9</pre></div></td></tr><tr><td>TailOrNull</td><td><details class=\"dni-treeview\"><summary><span class=\"dni-code-hint\"><code>[ 16, 25, 36, 49, 64, 81, 100, 121, 144, 169, 196, 225, 256, 289, 324, 361, 400, 441, 484, 529 ... (more) ]</code></span></summary><div><table><thead><tr></tr></thead><tbody><tr><td>HeadOrDefault</td><td><div class=\"dni-plaintext\"><pre>16</pre></div></td></tr><tr><td>TailOrNull</td><td><details class=\"dni-treeview\"><summary><span class=\"dni-code-hint\"><code>[ 25, 36, 49, 64, 81, 100, 121, 144, 169, 196, 225, 256, 289, 324, 361, 400, 441, 484, 529, 576 ... (more) ]</code></span></summary><div><table><thead><tr></tr></thead><tbody><tr><td>HeadOrDefault</td><td>25</td></tr><tr><td>TailOrNull</td><td>[ 36, 49, 64, 81, 100, 121, 144, 169, 196, 225, 256, 289, 324, 361, 400, 441, 484, 529, 576, 625 ... (more) ]</td></tr><tr><td>Head</td><td>25</td></tr><tr><td>Tail</td><td>[ 36, 49, 64, 81, 100, 121, 144, 169, 196, 225, 256, 289, 324, 361, 400, 441, 484, 529, 576, 625 ... (more) ]</td></tr><tr><td><i>(values)</i></td><td><div class=\"dni-plaintext\"><pre>[ 25, 36, 49, 64, 81, 100, 121, 144, 169, 196, 225, 256, 289, 324, 361, 400, 441, 484, 529, 576 ... (more) ]</pre></div></td></tr></tbody></table></div></details></td></tr><tr><td>Head</td><td><div class=\"dni-plaintext\"><pre>16</pre></div></td></tr><tr><td>Tail</td><td><details class=\"dni-treeview\"><summary><span class=\"dni-code-hint\"><code>[ 25, 36, 49, 64, 81, 100, 121, 144, 169, 196, 225, 256, 289, 324, 361, 400, 441, 484, 529, 576 ... (more) ]</code></span></summary><div><table><thead><tr></tr></thead><tbody><tr><td>HeadOrDefault</td><td>25</td></tr><tr><td>TailOrNull</td><td>[ 36, 49, 64, 81, 100, 121, 144, 169, 196, 225, 256, 289, 324, 361, 400, 441, 484, 529, 576, 625 ... (more) ]</td></tr><tr><td>Head</td><td>25</td></tr><tr><td>Tail</td><td>[ 36, 49, 64, 81, 100, 121, 144, 169, 196, 225, 256, 289, 324, 361, 400, 441, 484, 529, 576, 625 ... (more) ]</td></tr><tr><td><i>(values)</i></td><td><div class=\"dni-plaintext\"><pre>[ 25, 36, 49, 64, 81, 100, 121, 144, 169, 196, 225, 256, 289, 324, 361, 400, 441, 484, 529, 576 ... (more) ]</pre></div></td></tr></tbody></table></div></details></td></tr><tr><td><i>(values)</i></td><td><div class=\"dni-plaintext\"><pre>[ 16, 25, 36, 49, 64, 81, 100, 121, 144, 169, 196, 225, 256, 289, 324, 361, 400, 441, 484, 529 ... (more) ]</pre></div></td></tr></tbody></table></div></details></td></tr><tr><td>Head</td><td><div class=\"dni-plaintext\"><pre>9</pre></div></td></tr><tr><td>Tail</td><td><details class=\"dni-treeview\"><summary><span class=\"dni-code-hint\"><code>[ 16, 25, 36, 49, 64, 81, 100, 121, 144, 169, 196, 225, 256, 289, 324, 361, 400, 441, 484, 529 ... (more) ]</code></span></summary><div><table><thead><tr></tr></thead><tbody><tr><td>HeadOrDefault</td><td><div class=\"dni-plaintext\"><pre>16</pre></div></td></tr><tr><td>TailOrNull</td><td><details class=\"dni-treeview\"><summary><span class=\"dni-code-hint\"><code>[ 25, 36, 49, 64, 81, 100, 121, 144, 169, 196, 225, 256, 289, 324, 361, 400, 441, 484, 529, 576 ... (more) ]</code></span></summary><div><table><thead><tr></tr></thead><tbody><tr><td>HeadOrDefault</td><td>25</td></tr><tr><td>TailOrNull</td><td>[ 36, 49, 64, 81, 100, 121, 144, 169, 196, 225, 256, 289, 324, 361, 400, 441, 484, 529, 576, 625 ... (more) ]</td></tr><tr><td>Head</td><td>25</td></tr><tr><td>Tail</td><td>[ 36, 49, 64, 81, 100, 121, 144, 169, 196, 225, 256, 289, 324, 361, 400, 441, 484, 529, 576, 625 ... (more) ]</td></tr><tr><td><i>(values)</i></td><td><div class=\"dni-plaintext\"><pre>[ 25, 36, 49, 64, 81, 100, 121, 144, 169, 196, 225, 256, 289, 324, 361, 400, 441, 484, 529, 576 ... (more) ]</pre></div></td></tr></tbody></table></div></details></td></tr><tr><td>Head</td><td><div class=\"dni-plaintext\"><pre>16</pre></div></td></tr><tr><td>Tail</td><td><details class=\"dni-treeview\"><summary><span class=\"dni-code-hint\"><code>[ 25, 36, 49, 64, 81, 100, 121, 144, 169, 196, 225, 256, 289, 324, 361, 400, 441, 484, 529, 576 ... (more) ]</code></span></summary><div><table><thead><tr></tr></thead><tbody><tr><td>HeadOrDefault</td><td>25</td></tr><tr><td>TailOrNull</td><td>[ 36, 49, 64, 81, 100, 121, 144, 169, 196, 225, 256, 289, 324, 361, 400, 441, 484, 529, 576, 625 ... (more) ]</td></tr><tr><td>Head</td><td>25</td></tr><tr><td>Tail</td><td>[ 36, 49, 64, 81, 100, 121, 144, 169, 196, 225, 256, 289, 324, 361, 400, 441, 484, 529, 576, 625 ... (more) ]</td></tr><tr><td><i>(values)</i></td><td><div class=\"dni-plaintext\"><pre>[ 25, 36, 49, 64, 81, 100, 121, 144, 169, 196, 225, 256, 289, 324, 361, 400, 441, 484, 529, 576 ... (more) ]</pre></div></td></tr></tbody></table></div></details></td></tr><tr><td><i>(values)</i></td><td><div class=\"dni-plaintext\"><pre>[ 16, 25, 36, 49, 64, 81, 100, 121, 144, 169, 196, 225, 256, 289, 324, 361, 400, 441, 484, 529 ... (more) ]</pre></div></td></tr></tbody></table></div></details></td></tr><tr><td><i>(values)</i></td><td><div class=\"dni-plaintext\"><pre>[ 9, 16, 25, 36, 49, 64, 81, 100, 121, 144, 169, 196, 225, 256, 289, 324, 361, 400, 441, 484 ... (more) ]</pre></div></td></tr></tbody></table></div></details></td></tr><tr><td><i>(values)</i></td><td><div class=\"dni-plaintext\"><pre>[ 4, 9, 16, 25, 36, 49, 64, 81, 100, 121, 144, 169, 196, 225, 256, 289, 324, 361, 400, 441 ... (more) ]</pre></div></td></tr></tbody></table></div></details></td></tr><tr><td>Head</td><td><div class=\"dni-plaintext\"><pre>1</pre></div></td></tr><tr><td>Tail</td><td><details class=\"dni-treeview\"><summary><span class=\"dni-code-hint\"><code>[ 4, 9, 16, 25, 36, 49, 64, 81, 100, 121, 144, 169, 196, 225, 256, 289, 324, 361, 400, 441 ... (more) ]</code></span></summary><div><table><thead><tr></tr></thead><tbody><tr><td>HeadOrDefault</td><td><div class=\"dni-plaintext\"><pre>4</pre></div></td></tr><tr><td>TailOrNull</td><td><details class=\"dni-treeview\"><summary><span class=\"dni-code-hint\"><code>[ 9, 16, 25, 36, 49, 64, 81, 100, 121, 144, 169, 196, 225, 256, 289, 324, 361, 400, 441, 484 ... (more) ]</code></span></summary><div><table><thead><tr></tr></thead><tbody><tr><td>HeadOrDefault</td><td><div class=\"dni-plaintext\"><pre>9</pre></div></td></tr><tr><td>TailOrNull</td><td><details class=\"dni-treeview\"><summary><span class=\"dni-code-hint\"><code>[ 16, 25, 36, 49, 64, 81, 100, 121, 144, 169, 196, 225, 256, 289, 324, 361, 400, 441, 484, 529 ... (more) ]</code></span></summary><div><table><thead><tr></tr></thead><tbody><tr><td>HeadOrDefault</td><td><div class=\"dni-plaintext\"><pre>16</pre></div></td></tr><tr><td>TailOrNull</td><td><details class=\"dni-treeview\"><summary><span class=\"dni-code-hint\"><code>[ 25, 36, 49, 64, 81, 100, 121, 144, 169, 196, 225, 256, 289, 324, 361, 400, 441, 484, 529, 576 ... (more) ]</code></span></summary><div><table><thead><tr></tr></thead><tbody><tr><td>HeadOrDefault</td><td>25</td></tr><tr><td>TailOrNull</td><td>[ 36, 49, 64, 81, 100, 121, 144, 169, 196, 225, 256, 289, 324, 361, 400, 441, 484, 529, 576, 625 ... (more) ]</td></tr><tr><td>Head</td><td>25</td></tr><tr><td>Tail</td><td>[ 36, 49, 64, 81, 100, 121, 144, 169, 196, 225, 256, 289, 324, 361, 400, 441, 484, 529, 576, 625 ... (more) ]</td></tr><tr><td><i>(values)</i></td><td><div class=\"dni-plaintext\"><pre>[ 25, 36, 49, 64, 81, 100, 121, 144, 169, 196, 225, 256, 289, 324, 361, 400, 441, 484, 529, 576 ... (more) ]</pre></div></td></tr></tbody></table></div></details></td></tr><tr><td>Head</td><td><div class=\"dni-plaintext\"><pre>16</pre></div></td></tr><tr><td>Tail</td><td><details class=\"dni-treeview\"><summary><span class=\"dni-code-hint\"><code>[ 25, 36, 49, 64, 81, 100, 121, 144, 169, 196, 225, 256, 289, 324, 361, 400, 441, 484, 529, 576 ... (more) ]</code></span></summary><div><table><thead><tr></tr></thead><tbody><tr><td>HeadOrDefault</td><td>25</td></tr><tr><td>TailOrNull</td><td>[ 36, 49, 64, 81, 100, 121, 144, 169, 196, 225, 256, 289, 324, 361, 400, 441, 484, 529, 576, 625 ... (more) ]</td></tr><tr><td>Head</td><td>25</td></tr><tr><td>Tail</td><td>[ 36, 49, 64, 81, 100, 121, 144, 169, 196, 225, 256, 289, 324, 361, 400, 441, 484, 529, 576, 625 ... (more) ]</td></tr><tr><td><i>(values)</i></td><td><div class=\"dni-plaintext\"><pre>[ 25, 36, 49, 64, 81, 100, 121, 144, 169, 196, 225, 256, 289, 324, 361, 400, 441, 484, 529, 576 ... (more) ]</pre></div></td></tr></tbody></table></div></details></td></tr><tr><td><i>(values)</i></td><td><div class=\"dni-plaintext\"><pre>[ 16, 25, 36, 49, 64, 81, 100, 121, 144, 169, 196, 225, 256, 289, 324, 361, 400, 441, 484, 529 ... (more) ]</pre></div></td></tr></tbody></table></div></details></td></tr><tr><td>Head</td><td><div class=\"dni-plaintext\"><pre>9</pre></div></td></tr><tr><td>Tail</td><td><details class=\"dni-treeview\"><summary><span class=\"dni-code-hint\"><code>[ 16, 25, 36, 49, 64, 81, 100, 121, 144, 169, 196, 225, 256, 289, 324, 361, 400, 441, 484, 529 ... (more) ]</code></span></summary><div><table><thead><tr></tr></thead><tbody><tr><td>HeadOrDefault</td><td><div class=\"dni-plaintext\"><pre>16</pre></div></td></tr><tr><td>TailOrNull</td><td><details class=\"dni-treeview\"><summary><span class=\"dni-code-hint\"><code>[ 25, 36, 49, 64, 81, 100, 121, 144, 169, 196, 225, 256, 289, 324, 361, 400, 441, 484, 529, 576 ... (more) ]</code></span></summary><div><table><thead><tr></tr></thead><tbody><tr><td>HeadOrDefault</td><td>25</td></tr><tr><td>TailOrNull</td><td>[ 36, 49, 64, 81, 100, 121, 144, 169, 196, 225, 256, 289, 324, 361, 400, 441, 484, 529, 576, 625 ... (more) ]</td></tr><tr><td>Head</td><td>25</td></tr><tr><td>Tail</td><td>[ 36, 49, 64, 81, 100, 121, 144, 169, 196, 225, 256, 289, 324, 361, 400, 441, 484, 529, 576, 625 ... (more) ]</td></tr><tr><td><i>(values)</i></td><td><div class=\"dni-plaintext\"><pre>[ 25, 36, 49, 64, 81, 100, 121, 144, 169, 196, 225, 256, 289, 324, 361, 400, 441, 484, 529, 576 ... (more) ]</pre></div></td></tr></tbody></table></div></details></td></tr><tr><td>Head</td><td><div class=\"dni-plaintext\"><pre>16</pre></div></td></tr><tr><td>Tail</td><td><details class=\"dni-treeview\"><summary><span class=\"dni-code-hint\"><code>[ 25, 36, 49, 64, 81, 100, 121, 144, 169, 196, 225, 256, 289, 324, 361, 400, 441, 484, 529, 576 ... (more) ]</code></span></summary><div><table><thead><tr></tr></thead><tbody><tr><td>HeadOrDefault</td><td>25</td></tr><tr><td>TailOrNull</td><td>[ 36, 49, 64, 81, 100, 121, 144, 169, 196, 225, 256, 289, 324, 361, 400, 441, 484, 529, 576, 625 ... (more) ]</td></tr><tr><td>Head</td><td>25</td></tr><tr><td>Tail</td><td>[ 36, 49, 64, 81, 100, 121, 144, 169, 196, 225, 256, 289, 324, 361, 400, 441, 484, 529, 576, 625 ... (more) ]</td></tr><tr><td><i>(values)</i></td><td><div class=\"dni-plaintext\"><pre>[ 25, 36, 49, 64, 81, 100, 121, 144, 169, 196, 225, 256, 289, 324, 361, 400, 441, 484, 529, 576 ... (more) ]</pre></div></td></tr></tbody></table></div></details></td></tr><tr><td><i>(values)</i></td><td><div class=\"dni-plaintext\"><pre>[ 16, 25, 36, 49, 64, 81, 100, 121, 144, 169, 196, 225, 256, 289, 324, 361, 400, 441, 484, 529 ... (more) ]</pre></div></td></tr></tbody></table></div></details></td></tr><tr><td><i>(values)</i></td><td><div class=\"dni-plaintext\"><pre>[ 9, 16, 25, 36, 49, 64, 81, 100, 121, 144, 169, 196, 225, 256, 289, 324, 361, 400, 441, 484 ... (more) ]</pre></div></td></tr></tbody></table></div></details></td></tr><tr><td>Head</td><td><div class=\"dni-plaintext\"><pre>4</pre></div></td></tr><tr><td>Tail</td><td><details class=\"dni-treeview\"><summary><span class=\"dni-code-hint\"><code>[ 9, 16, 25, 36, 49, 64, 81, 100, 121, 144, 169, 196, 225, 256, 289, 324, 361, 400, 441, 484 ... (more) ]</code></span></summary><div><table><thead><tr></tr></thead><tbody><tr><td>HeadOrDefault</td><td><div class=\"dni-plaintext\"><pre>9</pre></div></td></tr><tr><td>TailOrNull</td><td><details class=\"dni-treeview\"><summary><span class=\"dni-code-hint\"><code>[ 16, 25, 36, 49, 64, 81, 100, 121, 144, 169, 196, 225, 256, 289, 324, 361, 400, 441, 484, 529 ... (more) ]</code></span></summary><div><table><thead><tr></tr></thead><tbody><tr><td>HeadOrDefault</td><td><div class=\"dni-plaintext\"><pre>16</pre></div></td></tr><tr><td>TailOrNull</td><td><details class=\"dni-treeview\"><summary><span class=\"dni-code-hint\"><code>[ 25, 36, 49, 64, 81, 100, 121, 144, 169, 196, 225, 256, 289, 324, 361, 400, 441, 484, 529, 576 ... (more) ]</code></span></summary><div><table><thead><tr></tr></thead><tbody><tr><td>HeadOrDefault</td><td>25</td></tr><tr><td>TailOrNull</td><td>[ 36, 49, 64, 81, 100, 121, 144, 169, 196, 225, 256, 289, 324, 361, 400, 441, 484, 529, 576, 625 ... (more) ]</td></tr><tr><td>Head</td><td>25</td></tr><tr><td>Tail</td><td>[ 36, 49, 64, 81, 100, 121, 144, 169, 196, 225, 256, 289, 324, 361, 400, 441, 484, 529, 576, 625 ... (more) ]</td></tr><tr><td><i>(values)</i></td><td><div class=\"dni-plaintext\"><pre>[ 25, 36, 49, 64, 81, 100, 121, 144, 169, 196, 225, 256, 289, 324, 361, 400, 441, 484, 529, 576 ... (more) ]</pre></div></td></tr></tbody></table></div></details></td></tr><tr><td>Head</td><td><div class=\"dni-plaintext\"><pre>16</pre></div></td></tr><tr><td>Tail</td><td><details class=\"dni-treeview\"><summary><span class=\"dni-code-hint\"><code>[ 25, 36, 49, 64, 81, 100, 121, 144, 169, 196, 225, 256, 289, 324, 361, 400, 441, 484, 529, 576 ... (more) ]</code></span></summary><div><table><thead><tr></tr></thead><tbody><tr><td>HeadOrDefault</td><td>25</td></tr><tr><td>TailOrNull</td><td>[ 36, 49, 64, 81, 100, 121, 144, 169, 196, 225, 256, 289, 324, 361, 400, 441, 484, 529, 576, 625 ... (more) ]</td></tr><tr><td>Head</td><td>25</td></tr><tr><td>Tail</td><td>[ 36, 49, 64, 81, 100, 121, 144, 169, 196, 225, 256, 289, 324, 361, 400, 441, 484, 529, 576, 625 ... (more) ]</td></tr><tr><td><i>(values)</i></td><td><div class=\"dni-plaintext\"><pre>[ 25, 36, 49, 64, 81, 100, 121, 144, 169, 196, 225, 256, 289, 324, 361, 400, 441, 484, 529, 576 ... (more) ]</pre></div></td></tr></tbody></table></div></details></td></tr><tr><td><i>(values)</i></td><td><div class=\"dni-plaintext\"><pre>[ 16, 25, 36, 49, 64, 81, 100, 121, 144, 169, 196, 225, 256, 289, 324, 361, 400, 441, 484, 529 ... (more) ]</pre></div></td></tr></tbody></table></div></details></td></tr><tr><td>Head</td><td><div class=\"dni-plaintext\"><pre>9</pre></div></td></tr><tr><td>Tail</td><td><details class=\"dni-treeview\"><summary><span class=\"dni-code-hint\"><code>[ 16, 25, 36, 49, 64, 81, 100, 121, 144, 169, 196, 225, 256, 289, 324, 361, 400, 441, 484, 529 ... (more) ]</code></span></summary><div><table><thead><tr></tr></thead><tbody><tr><td>HeadOrDefault</td><td><div class=\"dni-plaintext\"><pre>16</pre></div></td></tr><tr><td>TailOrNull</td><td><details class=\"dni-treeview\"><summary><span class=\"dni-code-hint\"><code>[ 25, 36, 49, 64, 81, 100, 121, 144, 169, 196, 225, 256, 289, 324, 361, 400, 441, 484, 529, 576 ... (more) ]</code></span></summary><div><table><thead><tr></tr></thead><tbody><tr><td>HeadOrDefault</td><td>25</td></tr><tr><td>TailOrNull</td><td>[ 36, 49, 64, 81, 100, 121, 144, 169, 196, 225, 256, 289, 324, 361, 400, 441, 484, 529, 576, 625 ... (more) ]</td></tr><tr><td>Head</td><td>25</td></tr><tr><td>Tail</td><td>[ 36, 49, 64, 81, 100, 121, 144, 169, 196, 225, 256, 289, 324, 361, 400, 441, 484, 529, 576, 625 ... (more) ]</td></tr><tr><td><i>(values)</i></td><td><div class=\"dni-plaintext\"><pre>[ 25, 36, 49, 64, 81, 100, 121, 144, 169, 196, 225, 256, 289, 324, 361, 400, 441, 484, 529, 576 ... (more) ]</pre></div></td></tr></tbody></table></div></details></td></tr><tr><td>Head</td><td><div class=\"dni-plaintext\"><pre>16</pre></div></td></tr><tr><td>Tail</td><td><details class=\"dni-treeview\"><summary><span class=\"dni-code-hint\"><code>[ 25, 36, 49, 64, 81, 100, 121, 144, 169, 196, 225, 256, 289, 324, 361, 400, 441, 484, 529, 576 ... (more) ]</code></span></summary><div><table><thead><tr></tr></thead><tbody><tr><td>HeadOrDefault</td><td>25</td></tr><tr><td>TailOrNull</td><td>[ 36, 49, 64, 81, 100, 121, 144, 169, 196, 225, 256, 289, 324, 361, 400, 441, 484, 529, 576, 625 ... (more) ]</td></tr><tr><td>Head</td><td>25</td></tr><tr><td>Tail</td><td>[ 36, 49, 64, 81, 100, 121, 144, 169, 196, 225, 256, 289, 324, 361, 400, 441, 484, 529, 576, 625 ... (more) ]</td></tr><tr><td><i>(values)</i></td><td><div class=\"dni-plaintext\"><pre>[ 25, 36, 49, 64, 81, 100, 121, 144, 169, 196, 225, 256, 289, 324, 361, 400, 441, 484, 529, 576 ... (more) ]</pre></div></td></tr></tbody></table></div></details></td></tr><tr><td><i>(values)</i></td><td><div class=\"dni-plaintext\"><pre>[ 16, 25, 36, 49, 64, 81, 100, 121, 144, 169, 196, 225, 256, 289, 324, 361, 400, 441, 484, 529 ... (more) ]</pre></div></td></tr></tbody></table></div></details></td></tr><tr><td><i>(values)</i></td><td><div class=\"dni-plaintext\"><pre>[ 9, 16, 25, 36, 49, 64, 81, 100, 121, 144, 169, 196, 225, 256, 289, 324, 361, 400, 441, 484 ... (more) ]</pre></div></td></tr></tbody></table></div></details></td></tr><tr><td><i>(values)</i></td><td><div class=\"dni-plaintext\"><pre>[ 4, 9, 16, 25, 36, 49, 64, 81, 100, 121, 144, 169, 196, 225, 256, 289, 324, 361, 400, 441 ... (more) ]</pre></div></td></tr></tbody></table></div></details></td></tr><tr><td><i>(values)</i></td><td><div class=\"dni-plaintext\"><pre>[ 1, 4, 9, 16, 25, 36, 49, 64, 81, 100, 121, 144, 169, 196, 225, 256, 289, 324, 361, 400 ... (more) ]</pre></div></td></tr></tbody></table></div></details></td></tr><tr><td>Head</td><td><div class=\"dni-plaintext\"><pre>0</pre></div></td></tr><tr><td>Tail</td><td><details class=\"dni-treeview\"><summary><span class=\"dni-code-hint\"><code>[ 1, 4, 9, 16, 25, 36, 49, 64, 81, 100, 121, 144, 169, 196, 225, 256, 289, 324, 361, 400 ... (more) ]</code></span></summary><div><table><thead><tr></tr></thead><tbody><tr><td>HeadOrDefault</td><td><div class=\"dni-plaintext\"><pre>1</pre></div></td></tr><tr><td>TailOrNull</td><td><details class=\"dni-treeview\"><summary><span class=\"dni-code-hint\"><code>[ 4, 9, 16, 25, 36, 49, 64, 81, 100, 121, 144, 169, 196, 225, 256, 289, 324, 361, 400, 441 ... (more) ]</code></span></summary><div><table><thead><tr></tr></thead><tbody><tr><td>HeadOrDefault</td><td><div class=\"dni-plaintext\"><pre>4</pre></div></td></tr><tr><td>TailOrNull</td><td><details class=\"dni-treeview\"><summary><span class=\"dni-code-hint\"><code>[ 9, 16, 25, 36, 49, 64, 81, 100, 121, 144, 169, 196, 225, 256, 289, 324, 361, 400, 441, 484 ... (more) ]</code></span></summary><div><table><thead><tr></tr></thead><tbody><tr><td>HeadOrDefault</td><td><div class=\"dni-plaintext\"><pre>9</pre></div></td></tr><tr><td>TailOrNull</td><td><details class=\"dni-treeview\"><summary><span class=\"dni-code-hint\"><code>[ 16, 25, 36, 49, 64, 81, 100, 121, 144, 169, 196, 225, 256, 289, 324, 361, 400, 441, 484, 529 ... (more) ]</code></span></summary><div><table><thead><tr></tr></thead><tbody><tr><td>HeadOrDefault</td><td><div class=\"dni-plaintext\"><pre>16</pre></div></td></tr><tr><td>TailOrNull</td><td><details class=\"dni-treeview\"><summary><span class=\"dni-code-hint\"><code>[ 25, 36, 49, 64, 81, 100, 121, 144, 169, 196, 225, 256, 289, 324, 361, 400, 441, 484, 529, 576 ... (more) ]</code></span></summary><div><table><thead><tr></tr></thead><tbody><tr><td>HeadOrDefault</td><td>25</td></tr><tr><td>TailOrNull</td><td>[ 36, 49, 64, 81, 100, 121, 144, 169, 196, 225, 256, 289, 324, 361, 400, 441, 484, 529, 576, 625 ... (more) ]</td></tr><tr><td>Head</td><td>25</td></tr><tr><td>Tail</td><td>[ 36, 49, 64, 81, 100, 121, 144, 169, 196, 225, 256, 289, 324, 361, 400, 441, 484, 529, 576, 625 ... (more) ]</td></tr><tr><td><i>(values)</i></td><td><div class=\"dni-plaintext\"><pre>[ 25, 36, 49, 64, 81, 100, 121, 144, 169, 196, 225, 256, 289, 324, 361, 400, 441, 484, 529, 576 ... (more) ]</pre></div></td></tr></tbody></table></div></details></td></tr><tr><td>Head</td><td><div class=\"dni-plaintext\"><pre>16</pre></div></td></tr><tr><td>Tail</td><td><details class=\"dni-treeview\"><summary><span class=\"dni-code-hint\"><code>[ 25, 36, 49, 64, 81, 100, 121, 144, 169, 196, 225, 256, 289, 324, 361, 400, 441, 484, 529, 576 ... (more) ]</code></span></summary><div><table><thead><tr></tr></thead><tbody><tr><td>HeadOrDefault</td><td>25</td></tr><tr><td>TailOrNull</td><td>[ 36, 49, 64, 81, 100, 121, 144, 169, 196, 225, 256, 289, 324, 361, 400, 441, 484, 529, 576, 625 ... (more) ]</td></tr><tr><td>Head</td><td>25</td></tr><tr><td>Tail</td><td>[ 36, 49, 64, 81, 100, 121, 144, 169, 196, 225, 256, 289, 324, 361, 400, 441, 484, 529, 576, 625 ... (more) ]</td></tr><tr><td><i>(values)</i></td><td><div class=\"dni-plaintext\"><pre>[ 25, 36, 49, 64, 81, 100, 121, 144, 169, 196, 225, 256, 289, 324, 361, 400, 441, 484, 529, 576 ... (more) ]</pre></div></td></tr></tbody></table></div></details></td></tr><tr><td><i>(values)</i></td><td><div class=\"dni-plaintext\"><pre>[ 16, 25, 36, 49, 64, 81, 100, 121, 144, 169, 196, 225, 256, 289, 324, 361, 400, 441, 484, 529 ... (more) ]</pre></div></td></tr></tbody></table></div></details></td></tr><tr><td>Head</td><td><div class=\"dni-plaintext\"><pre>9</pre></div></td></tr><tr><td>Tail</td><td><details class=\"dni-treeview\"><summary><span class=\"dni-code-hint\"><code>[ 16, 25, 36, 49, 64, 81, 100, 121, 144, 169, 196, 225, 256, 289, 324, 361, 400, 441, 484, 529 ... (more) ]</code></span></summary><div><table><thead><tr></tr></thead><tbody><tr><td>HeadOrDefault</td><td><div class=\"dni-plaintext\"><pre>16</pre></div></td></tr><tr><td>TailOrNull</td><td><details class=\"dni-treeview\"><summary><span class=\"dni-code-hint\"><code>[ 25, 36, 49, 64, 81, 100, 121, 144, 169, 196, 225, 256, 289, 324, 361, 400, 441, 484, 529, 576 ... (more) ]</code></span></summary><div><table><thead><tr></tr></thead><tbody><tr><td>HeadOrDefault</td><td>25</td></tr><tr><td>TailOrNull</td><td>[ 36, 49, 64, 81, 100, 121, 144, 169, 196, 225, 256, 289, 324, 361, 400, 441, 484, 529, 576, 625 ... (more) ]</td></tr><tr><td>Head</td><td>25</td></tr><tr><td>Tail</td><td>[ 36, 49, 64, 81, 100, 121, 144, 169, 196, 225, 256, 289, 324, 361, 400, 441, 484, 529, 576, 625 ... (more) ]</td></tr><tr><td><i>(values)</i></td><td><div class=\"dni-plaintext\"><pre>[ 25, 36, 49, 64, 81, 100, 121, 144, 169, 196, 225, 256, 289, 324, 361, 400, 441, 484, 529, 576 ... (more) ]</pre></div></td></tr></tbody></table></div></details></td></tr><tr><td>Head</td><td><div class=\"dni-plaintext\"><pre>16</pre></div></td></tr><tr><td>Tail</td><td><details class=\"dni-treeview\"><summary><span class=\"dni-code-hint\"><code>[ 25, 36, 49, 64, 81, 100, 121, 144, 169, 196, 225, 256, 289, 324, 361, 400, 441, 484, 529, 576 ... (more) ]</code></span></summary><div><table><thead><tr></tr></thead><tbody><tr><td>HeadOrDefault</td><td>25</td></tr><tr><td>TailOrNull</td><td>[ 36, 49, 64, 81, 100, 121, 144, 169, 196, 225, 256, 289, 324, 361, 400, 441, 484, 529, 576, 625 ... (more) ]</td></tr><tr><td>Head</td><td>25</td></tr><tr><td>Tail</td><td>[ 36, 49, 64, 81, 100, 121, 144, 169, 196, 225, 256, 289, 324, 361, 400, 441, 484, 529, 576, 625 ... (more) ]</td></tr><tr><td><i>(values)</i></td><td><div class=\"dni-plaintext\"><pre>[ 25, 36, 49, 64, 81, 100, 121, 144, 169, 196, 225, 256, 289, 324, 361, 400, 441, 484, 529, 576 ... (more) ]</pre></div></td></tr></tbody></table></div></details></td></tr><tr><td><i>(values)</i></td><td><div class=\"dni-plaintext\"><pre>[ 16, 25, 36, 49, 64, 81, 100, 121, 144, 169, 196, 225, 256, 289, 324, 361, 400, 441, 484, 529 ... (more) ]</pre></div></td></tr></tbody></table></div></details></td></tr><tr><td><i>(values)</i></td><td><div class=\"dni-plaintext\"><pre>[ 9, 16, 25, 36, 49, 64, 81, 100, 121, 144, 169, 196, 225, 256, 289, 324, 361, 400, 441, 484 ... (more) ]</pre></div></td></tr></tbody></table></div></details></td></tr><tr><td>Head</td><td><div class=\"dni-plaintext\"><pre>4</pre></div></td></tr><tr><td>Tail</td><td><details class=\"dni-treeview\"><summary><span class=\"dni-code-hint\"><code>[ 9, 16, 25, 36, 49, 64, 81, 100, 121, 144, 169, 196, 225, 256, 289, 324, 361, 400, 441, 484 ... (more) ]</code></span></summary><div><table><thead><tr></tr></thead><tbody><tr><td>HeadOrDefault</td><td><div class=\"dni-plaintext\"><pre>9</pre></div></td></tr><tr><td>TailOrNull</td><td><details class=\"dni-treeview\"><summary><span class=\"dni-code-hint\"><code>[ 16, 25, 36, 49, 64, 81, 100, 121, 144, 169, 196, 225, 256, 289, 324, 361, 400, 441, 484, 529 ... (more) ]</code></span></summary><div><table><thead><tr></tr></thead><tbody><tr><td>HeadOrDefault</td><td><div class=\"dni-plaintext\"><pre>16</pre></div></td></tr><tr><td>TailOrNull</td><td><details class=\"dni-treeview\"><summary><span class=\"dni-code-hint\"><code>[ 25, 36, 49, 64, 81, 100, 121, 144, 169, 196, 225, 256, 289, 324, 361, 400, 441, 484, 529, 576 ... (more) ]</code></span></summary><div><table><thead><tr></tr></thead><tbody><tr><td>HeadOrDefault</td><td>25</td></tr><tr><td>TailOrNull</td><td>[ 36, 49, 64, 81, 100, 121, 144, 169, 196, 225, 256, 289, 324, 361, 400, 441, 484, 529, 576, 625 ... (more) ]</td></tr><tr><td>Head</td><td>25</td></tr><tr><td>Tail</td><td>[ 36, 49, 64, 81, 100, 121, 144, 169, 196, 225, 256, 289, 324, 361, 400, 441, 484, 529, 576, 625 ... (more) ]</td></tr><tr><td><i>(values)</i></td><td><div class=\"dni-plaintext\"><pre>[ 25, 36, 49, 64, 81, 100, 121, 144, 169, 196, 225, 256, 289, 324, 361, 400, 441, 484, 529, 576 ... (more) ]</pre></div></td></tr></tbody></table></div></details></td></tr><tr><td>Head</td><td><div class=\"dni-plaintext\"><pre>16</pre></div></td></tr><tr><td>Tail</td><td><details class=\"dni-treeview\"><summary><span class=\"dni-code-hint\"><code>[ 25, 36, 49, 64, 81, 100, 121, 144, 169, 196, 225, 256, 289, 324, 361, 400, 441, 484, 529, 576 ... (more) ]</code></span></summary><div><table><thead><tr></tr></thead><tbody><tr><td>HeadOrDefault</td><td>25</td></tr><tr><td>TailOrNull</td><td>[ 36, 49, 64, 81, 100, 121, 144, 169, 196, 225, 256, 289, 324, 361, 400, 441, 484, 529, 576, 625 ... (more) ]</td></tr><tr><td>Head</td><td>25</td></tr><tr><td>Tail</td><td>[ 36, 49, 64, 81, 100, 121, 144, 169, 196, 225, 256, 289, 324, 361, 400, 441, 484, 529, 576, 625 ... (more) ]</td></tr><tr><td><i>(values)</i></td><td><div class=\"dni-plaintext\"><pre>[ 25, 36, 49, 64, 81, 100, 121, 144, 169, 196, 225, 256, 289, 324, 361, 400, 441, 484, 529, 576 ... (more) ]</pre></div></td></tr></tbody></table></div></details></td></tr><tr><td><i>(values)</i></td><td><div class=\"dni-plaintext\"><pre>[ 16, 25, 36, 49, 64, 81, 100, 121, 144, 169, 196, 225, 256, 289, 324, 361, 400, 441, 484, 529 ... (more) ]</pre></div></td></tr></tbody></table></div></details></td></tr><tr><td>Head</td><td><div class=\"dni-plaintext\"><pre>9</pre></div></td></tr><tr><td>Tail</td><td><details class=\"dni-treeview\"><summary><span class=\"dni-code-hint\"><code>[ 16, 25, 36, 49, 64, 81, 100, 121, 144, 169, 196, 225, 256, 289, 324, 361, 400, 441, 484, 529 ... (more) ]</code></span></summary><div><table><thead><tr></tr></thead><tbody><tr><td>HeadOrDefault</td><td><div class=\"dni-plaintext\"><pre>16</pre></div></td></tr><tr><td>TailOrNull</td><td><details class=\"dni-treeview\"><summary><span class=\"dni-code-hint\"><code>[ 25, 36, 49, 64, 81, 100, 121, 144, 169, 196, 225, 256, 289, 324, 361, 400, 441, 484, 529, 576 ... (more) ]</code></span></summary><div><table><thead><tr></tr></thead><tbody><tr><td>HeadOrDefault</td><td>25</td></tr><tr><td>TailOrNull</td><td>[ 36, 49, 64, 81, 100, 121, 144, 169, 196, 225, 256, 289, 324, 361, 400, 441, 484, 529, 576, 625 ... (more) ]</td></tr><tr><td>Head</td><td>25</td></tr><tr><td>Tail</td><td>[ 36, 49, 64, 81, 100, 121, 144, 169, 196, 225, 256, 289, 324, 361, 400, 441, 484, 529, 576, 625 ... (more) ]</td></tr><tr><td><i>(values)</i></td><td><div class=\"dni-plaintext\"><pre>[ 25, 36, 49, 64, 81, 100, 121, 144, 169, 196, 225, 256, 289, 324, 361, 400, 441, 484, 529, 576 ... (more) ]</pre></div></td></tr></tbody></table></div></details></td></tr><tr><td>Head</td><td><div class=\"dni-plaintext\"><pre>16</pre></div></td></tr><tr><td>Tail</td><td><details class=\"dni-treeview\"><summary><span class=\"dni-code-hint\"><code>[ 25, 36, 49, 64, 81, 100, 121, 144, 169, 196, 225, 256, 289, 324, 361, 400, 441, 484, 529, 576 ... (more) ]</code></span></summary><div><table><thead><tr></tr></thead><tbody><tr><td>HeadOrDefault</td><td>25</td></tr><tr><td>TailOrNull</td><td>[ 36, 49, 64, 81, 100, 121, 144, 169, 196, 225, 256, 289, 324, 361, 400, 441, 484, 529, 576, 625 ... (more) ]</td></tr><tr><td>Head</td><td>25</td></tr><tr><td>Tail</td><td>[ 36, 49, 64, 81, 100, 121, 144, 169, 196, 225, 256, 289, 324, 361, 400, 441, 484, 529, 576, 625 ... (more) ]</td></tr><tr><td><i>(values)</i></td><td><div class=\"dni-plaintext\"><pre>[ 25, 36, 49, 64, 81, 100, 121, 144, 169, 196, 225, 256, 289, 324, 361, 400, 441, 484, 529, 576 ... (more) ]</pre></div></td></tr></tbody></table></div></details></td></tr><tr><td><i>(values)</i></td><td><div class=\"dni-plaintext\"><pre>[ 16, 25, 36, 49, 64, 81, 100, 121, 144, 169, 196, 225, 256, 289, 324, 361, 400, 441, 484, 529 ... (more) ]</pre></div></td></tr></tbody></table></div></details></td></tr><tr><td><i>(values)</i></td><td><div class=\"dni-plaintext\"><pre>[ 9, 16, 25, 36, 49, 64, 81, 100, 121, 144, 169, 196, 225, 256, 289, 324, 361, 400, 441, 484 ... (more) ]</pre></div></td></tr></tbody></table></div></details></td></tr><tr><td><i>(values)</i></td><td><div class=\"dni-plaintext\"><pre>[ 4, 9, 16, 25, 36, 49, 64, 81, 100, 121, 144, 169, 196, 225, 256, 289, 324, 361, 400, 441 ... (more) ]</pre></div></td></tr></tbody></table></div></details></td></tr><tr><td>Head</td><td><div class=\"dni-plaintext\"><pre>1</pre></div></td></tr><tr><td>Tail</td><td><details class=\"dni-treeview\"><summary><span class=\"dni-code-hint\"><code>[ 4, 9, 16, 25, 36, 49, 64, 81, 100, 121, 144, 169, 196, 225, 256, 289, 324, 361, 400, 441 ... (more) ]</code></span></summary><div><table><thead><tr></tr></thead><tbody><tr><td>HeadOrDefault</td><td><div class=\"dni-plaintext\"><pre>4</pre></div></td></tr><tr><td>TailOrNull</td><td><details class=\"dni-treeview\"><summary><span class=\"dni-code-hint\"><code>[ 9, 16, 25, 36, 49, 64, 81, 100, 121, 144, 169, 196, 225, 256, 289, 324, 361, 400, 441, 484 ... (more) ]</code></span></summary><div><table><thead><tr></tr></thead><tbody><tr><td>HeadOrDefault</td><td><div class=\"dni-plaintext\"><pre>9</pre></div></td></tr><tr><td>TailOrNull</td><td><details class=\"dni-treeview\"><summary><span class=\"dni-code-hint\"><code>[ 16, 25, 36, 49, 64, 81, 100, 121, 144, 169, 196, 225, 256, 289, 324, 361, 400, 441, 484, 529 ... (more) ]</code></span></summary><div><table><thead><tr></tr></thead><tbody><tr><td>HeadOrDefault</td><td><div class=\"dni-plaintext\"><pre>16</pre></div></td></tr><tr><td>TailOrNull</td><td><details class=\"dni-treeview\"><summary><span class=\"dni-code-hint\"><code>[ 25, 36, 49, 64, 81, 100, 121, 144, 169, 196, 225, 256, 289, 324, 361, 400, 441, 484, 529, 576 ... (more) ]</code></span></summary><div><table><thead><tr></tr></thead><tbody><tr><td>HeadOrDefault</td><td>25</td></tr><tr><td>TailOrNull</td><td>[ 36, 49, 64, 81, 100, 121, 144, 169, 196, 225, 256, 289, 324, 361, 400, 441, 484, 529, 576, 625 ... (more) ]</td></tr><tr><td>Head</td><td>25</td></tr><tr><td>Tail</td><td>[ 36, 49, 64, 81, 100, 121, 144, 169, 196, 225, 256, 289, 324, 361, 400, 441, 484, 529, 576, 625 ... (more) ]</td></tr><tr><td><i>(values)</i></td><td><div class=\"dni-plaintext\"><pre>[ 25, 36, 49, 64, 81, 100, 121, 144, 169, 196, 225, 256, 289, 324, 361, 400, 441, 484, 529, 576 ... (more) ]</pre></div></td></tr></tbody></table></div></details></td></tr><tr><td>Head</td><td><div class=\"dni-plaintext\"><pre>16</pre></div></td></tr><tr><td>Tail</td><td><details class=\"dni-treeview\"><summary><span class=\"dni-code-hint\"><code>[ 25, 36, 49, 64, 81, 100, 121, 144, 169, 196, 225, 256, 289, 324, 361, 400, 441, 484, 529, 576 ... (more) ]</code></span></summary><div><table><thead><tr></tr></thead><tbody><tr><td>HeadOrDefault</td><td>25</td></tr><tr><td>TailOrNull</td><td>[ 36, 49, 64, 81, 100, 121, 144, 169, 196, 225, 256, 289, 324, 361, 400, 441, 484, 529, 576, 625 ... (more) ]</td></tr><tr><td>Head</td><td>25</td></tr><tr><td>Tail</td><td>[ 36, 49, 64, 81, 100, 121, 144, 169, 196, 225, 256, 289, 324, 361, 400, 441, 484, 529, 576, 625 ... (more) ]</td></tr><tr><td><i>(values)</i></td><td><div class=\"dni-plaintext\"><pre>[ 25, 36, 49, 64, 81, 100, 121, 144, 169, 196, 225, 256, 289, 324, 361, 400, 441, 484, 529, 576 ... (more) ]</pre></div></td></tr></tbody></table></div></details></td></tr><tr><td><i>(values)</i></td><td><div class=\"dni-plaintext\"><pre>[ 16, 25, 36, 49, 64, 81, 100, 121, 144, 169, 196, 225, 256, 289, 324, 361, 400, 441, 484, 529 ... (more) ]</pre></div></td></tr></tbody></table></div></details></td></tr><tr><td>Head</td><td><div class=\"dni-plaintext\"><pre>9</pre></div></td></tr><tr><td>Tail</td><td><details class=\"dni-treeview\"><summary><span class=\"dni-code-hint\"><code>[ 16, 25, 36, 49, 64, 81, 100, 121, 144, 169, 196, 225, 256, 289, 324, 361, 400, 441, 484, 529 ... (more) ]</code></span></summary><div><table><thead><tr></tr></thead><tbody><tr><td>HeadOrDefault</td><td><div class=\"dni-plaintext\"><pre>16</pre></div></td></tr><tr><td>TailOrNull</td><td><details class=\"dni-treeview\"><summary><span class=\"dni-code-hint\"><code>[ 25, 36, 49, 64, 81, 100, 121, 144, 169, 196, 225, 256, 289, 324, 361, 400, 441, 484, 529, 576 ... (more) ]</code></span></summary><div><table><thead><tr></tr></thead><tbody><tr><td>HeadOrDefault</td><td>25</td></tr><tr><td>TailOrNull</td><td>[ 36, 49, 64, 81, 100, 121, 144, 169, 196, 225, 256, 289, 324, 361, 400, 441, 484, 529, 576, 625 ... (more) ]</td></tr><tr><td>Head</td><td>25</td></tr><tr><td>Tail</td><td>[ 36, 49, 64, 81, 100, 121, 144, 169, 196, 225, 256, 289, 324, 361, 400, 441, 484, 529, 576, 625 ... (more) ]</td></tr><tr><td><i>(values)</i></td><td><div class=\"dni-plaintext\"><pre>[ 25, 36, 49, 64, 81, 100, 121, 144, 169, 196, 225, 256, 289, 324, 361, 400, 441, 484, 529, 576 ... (more) ]</pre></div></td></tr></tbody></table></div></details></td></tr><tr><td>Head</td><td><div class=\"dni-plaintext\"><pre>16</pre></div></td></tr><tr><td>Tail</td><td><details class=\"dni-treeview\"><summary><span class=\"dni-code-hint\"><code>[ 25, 36, 49, 64, 81, 100, 121, 144, 169, 196, 225, 256, 289, 324, 361, 400, 441, 484, 529, 576 ... (more) ]</code></span></summary><div><table><thead><tr></tr></thead><tbody><tr><td>HeadOrDefault</td><td>25</td></tr><tr><td>TailOrNull</td><td>[ 36, 49, 64, 81, 100, 121, 144, 169, 196, 225, 256, 289, 324, 361, 400, 441, 484, 529, 576, 625 ... (more) ]</td></tr><tr><td>Head</td><td>25</td></tr><tr><td>Tail</td><td>[ 36, 49, 64, 81, 100, 121, 144, 169, 196, 225, 256, 289, 324, 361, 400, 441, 484, 529, 576, 625 ... (more) ]</td></tr><tr><td><i>(values)</i></td><td><div class=\"dni-plaintext\"><pre>[ 25, 36, 49, 64, 81, 100, 121, 144, 169, 196, 225, 256, 289, 324, 361, 400, 441, 484, 529, 576 ... (more) ]</pre></div></td></tr></tbody></table></div></details></td></tr><tr><td><i>(values)</i></td><td><div class=\"dni-plaintext\"><pre>[ 16, 25, 36, 49, 64, 81, 100, 121, 144, 169, 196, 225, 256, 289, 324, 361, 400, 441, 484, 529 ... (more) ]</pre></div></td></tr></tbody></table></div></details></td></tr><tr><td><i>(values)</i></td><td><div class=\"dni-plaintext\"><pre>[ 9, 16, 25, 36, 49, 64, 81, 100, 121, 144, 169, 196, 225, 256, 289, 324, 361, 400, 441, 484 ... (more) ]</pre></div></td></tr></tbody></table></div></details></td></tr><tr><td>Head</td><td><div class=\"dni-plaintext\"><pre>4</pre></div></td></tr><tr><td>Tail</td><td><details class=\"dni-treeview\"><summary><span class=\"dni-code-hint\"><code>[ 9, 16, 25, 36, 49, 64, 81, 100, 121, 144, 169, 196, 225, 256, 289, 324, 361, 400, 441, 484 ... (more) ]</code></span></summary><div><table><thead><tr></tr></thead><tbody><tr><td>HeadOrDefault</td><td><div class=\"dni-plaintext\"><pre>9</pre></div></td></tr><tr><td>TailOrNull</td><td><details class=\"dni-treeview\"><summary><span class=\"dni-code-hint\"><code>[ 16, 25, 36, 49, 64, 81, 100, 121, 144, 169, 196, 225, 256, 289, 324, 361, 400, 441, 484, 529 ... (more) ]</code></span></summary><div><table><thead><tr></tr></thead><tbody><tr><td>HeadOrDefault</td><td><div class=\"dni-plaintext\"><pre>16</pre></div></td></tr><tr><td>TailOrNull</td><td><details class=\"dni-treeview\"><summary><span class=\"dni-code-hint\"><code>[ 25, 36, 49, 64, 81, 100, 121, 144, 169, 196, 225, 256, 289, 324, 361, 400, 441, 484, 529, 576 ... (more) ]</code></span></summary><div><table><thead><tr></tr></thead><tbody><tr><td>HeadOrDefault</td><td>25</td></tr><tr><td>TailOrNull</td><td>[ 36, 49, 64, 81, 100, 121, 144, 169, 196, 225, 256, 289, 324, 361, 400, 441, 484, 529, 576, 625 ... (more) ]</td></tr><tr><td>Head</td><td>25</td></tr><tr><td>Tail</td><td>[ 36, 49, 64, 81, 100, 121, 144, 169, 196, 225, 256, 289, 324, 361, 400, 441, 484, 529, 576, 625 ... (more) ]</td></tr><tr><td><i>(values)</i></td><td><div class=\"dni-plaintext\"><pre>[ 25, 36, 49, 64, 81, 100, 121, 144, 169, 196, 225, 256, 289, 324, 361, 400, 441, 484, 529, 576 ... (more) ]</pre></div></td></tr></tbody></table></div></details></td></tr><tr><td>Head</td><td><div class=\"dni-plaintext\"><pre>16</pre></div></td></tr><tr><td>Tail</td><td><details class=\"dni-treeview\"><summary><span class=\"dni-code-hint\"><code>[ 25, 36, 49, 64, 81, 100, 121, 144, 169, 196, 225, 256, 289, 324, 361, 400, 441, 484, 529, 576 ... (more) ]</code></span></summary><div><table><thead><tr></tr></thead><tbody><tr><td>HeadOrDefault</td><td>25</td></tr><tr><td>TailOrNull</td><td>[ 36, 49, 64, 81, 100, 121, 144, 169, 196, 225, 256, 289, 324, 361, 400, 441, 484, 529, 576, 625 ... (more) ]</td></tr><tr><td>Head</td><td>25</td></tr><tr><td>Tail</td><td>[ 36, 49, 64, 81, 100, 121, 144, 169, 196, 225, 256, 289, 324, 361, 400, 441, 484, 529, 576, 625 ... (more) ]</td></tr><tr><td><i>(values)</i></td><td><div class=\"dni-plaintext\"><pre>[ 25, 36, 49, 64, 81, 100, 121, 144, 169, 196, 225, 256, 289, 324, 361, 400, 441, 484, 529, 576 ... (more) ]</pre></div></td></tr></tbody></table></div></details></td></tr><tr><td><i>(values)</i></td><td><div class=\"dni-plaintext\"><pre>[ 16, 25, 36, 49, 64, 81, 100, 121, 144, 169, 196, 225, 256, 289, 324, 361, 400, 441, 484, 529 ... (more) ]</pre></div></td></tr></tbody></table></div></details></td></tr><tr><td>Head</td><td><div class=\"dni-plaintext\"><pre>9</pre></div></td></tr><tr><td>Tail</td><td><details class=\"dni-treeview\"><summary><span class=\"dni-code-hint\"><code>[ 16, 25, 36, 49, 64, 81, 100, 121, 144, 169, 196, 225, 256, 289, 324, 361, 400, 441, 484, 529 ... (more) ]</code></span></summary><div><table><thead><tr></tr></thead><tbody><tr><td>HeadOrDefault</td><td><div class=\"dni-plaintext\"><pre>16</pre></div></td></tr><tr><td>TailOrNull</td><td><details class=\"dni-treeview\"><summary><span class=\"dni-code-hint\"><code>[ 25, 36, 49, 64, 81, 100, 121, 144, 169, 196, 225, 256, 289, 324, 361, 400, 441, 484, 529, 576 ... (more) ]</code></span></summary><div><table><thead><tr></tr></thead><tbody><tr><td>HeadOrDefault</td><td>25</td></tr><tr><td>TailOrNull</td><td>[ 36, 49, 64, 81, 100, 121, 144, 169, 196, 225, 256, 289, 324, 361, 400, 441, 484, 529, 576, 625 ... (more) ]</td></tr><tr><td>Head</td><td>25</td></tr><tr><td>Tail</td><td>[ 36, 49, 64, 81, 100, 121, 144, 169, 196, 225, 256, 289, 324, 361, 400, 441, 484, 529, 576, 625 ... (more) ]</td></tr><tr><td><i>(values)</i></td><td><div class=\"dni-plaintext\"><pre>[ 25, 36, 49, 64, 81, 100, 121, 144, 169, 196, 225, 256, 289, 324, 361, 400, 441, 484, 529, 576 ... (more) ]</pre></div></td></tr></tbody></table></div></details></td></tr><tr><td>Head</td><td><div class=\"dni-plaintext\"><pre>16</pre></div></td></tr><tr><td>Tail</td><td><details class=\"dni-treeview\"><summary><span class=\"dni-code-hint\"><code>[ 25, 36, 49, 64, 81, 100, 121, 144, 169, 196, 225, 256, 289, 324, 361, 400, 441, 484, 529, 576 ... (more) ]</code></span></summary><div><table><thead><tr></tr></thead><tbody><tr><td>HeadOrDefault</td><td>25</td></tr><tr><td>TailOrNull</td><td>[ 36, 49, 64, 81, 100, 121, 144, 169, 196, 225, 256, 289, 324, 361, 400, 441, 484, 529, 576, 625 ... (more) ]</td></tr><tr><td>Head</td><td>25</td></tr><tr><td>Tail</td><td>[ 36, 49, 64, 81, 100, 121, 144, 169, 196, 225, 256, 289, 324, 361, 400, 441, 484, 529, 576, 625 ... (more) ]</td></tr><tr><td><i>(values)</i></td><td><div class=\"dni-plaintext\"><pre>[ 25, 36, 49, 64, 81, 100, 121, 144, 169, 196, 225, 256, 289, 324, 361, 400, 441, 484, 529, 576 ... (more) ]</pre></div></td></tr></tbody></table></div></details></td></tr><tr><td><i>(values)</i></td><td><div class=\"dni-plaintext\"><pre>[ 16, 25, 36, 49, 64, 81, 100, 121, 144, 169, 196, 225, 256, 289, 324, 361, 400, 441, 484, 529 ... (more) ]</pre></div></td></tr></tbody></table></div></details></td></tr><tr><td><i>(values)</i></td><td><div class=\"dni-plaintext\"><pre>[ 9, 16, 25, 36, 49, 64, 81, 100, 121, 144, 169, 196, 225, 256, 289, 324, 361, 400, 441, 484 ... (more) ]</pre></div></td></tr></tbody></table></div></details></td></tr><tr><td><i>(values)</i></td><td><div class=\"dni-plaintext\"><pre>[ 4, 9, 16, 25, 36, 49, 64, 81, 100, 121, 144, 169, 196, 225, 256, 289, 324, 361, 400, 441 ... (more) ]</pre></div></td></tr></tbody></table></div></details></td></tr><tr><td><i>(values)</i></td><td><div class=\"dni-plaintext\"><pre>[ 1, 4, 9, 16, 25, 36, 49, 64, 81, 100, 121, 144, 169, 196, 225, 256, 289, 324, 361, 400 ... (more) ]</pre></div></td></tr></tbody></table></div></details></td></tr><tr><td><i>(values)</i></td><td><div class=\"dni-plaintext\"><pre>[ 0, 1, 4, 9, 16, 25, 36, 49, 64, 81, 100, 121, 144, 169, 196, 225, 256, 289, 324, 361 ... (more) ]</pre></div></td></tr></tbody></table></div></details><style>\r\n",
       ".dni-code-hint {\r\n",
       "    font-style: italic;\r\n",
       "    overflow: hidden;\r\n",
       "    white-space: nowrap;\r\n",
       "}\r\n",
       ".dni-treeview {\r\n",
       "    white-space: nowrap;\r\n",
       "}\r\n",
       ".dni-treeview td {\r\n",
       "    vertical-align: top;\r\n",
       "    text-align: start;\r\n",
       "}\r\n",
       "details.dni-treeview {\r\n",
       "    padding-left: 1em;\r\n",
       "}\r\n",
       "table td {\r\n",
       "    text-align: start;\r\n",
       "}\r\n",
       "table tr { \r\n",
       "    vertical-align: top; \r\n",
       "    margin: 0em 0px;\r\n",
       "}\r\n",
       "table tr td pre \r\n",
       "{ \r\n",
       "    vertical-align: top !important; \r\n",
       "    margin: 0em 0px !important;\r\n",
       "} \r\n",
       "table th {\r\n",
       "    text-align: start;\r\n",
       "}\r\n",
       "</style>"
      ]
     },
     "metadata": {},
     "output_type": "display_data"
    }
   ],
   "source": [
    "List.map square nList\n"
   ]
  },
  {
   "cell_type": "markdown",
   "metadata": {},
   "source": [
    "## Task 2.5\n",
    "\n",
    "Extract all weigts from `catList` and bind it to the name `catWeights`\n",
    "\n",
    "Clue: Search the `List` module for a suitable function.\n",
    "\n",
    "\n"
   ]
  },
  {
   "cell_type": "code",
   "execution_count": 13,
   "metadata": {
    "dotnet_interactive": {
     "language": "fsharp"
    }
   },
   "outputs": [],
   "source": [
    "\n",
    "let catWeights = List.map getWeight catList"
   ]
  },
  {
   "cell_type": "markdown",
   "metadata": {},
   "source": [
    "## Task 2.6\n",
    "\n",
    "Calculate the sum of the values from `nList`. \n",
    "\n",
    "\n"
   ]
  },
  {
   "cell_type": "code",
   "execution_count": 14,
   "metadata": {
    "dotnet_interactive": {
     "language": "fsharp"
    }
   },
   "outputs": [
    {
     "data": {
      "text/html": [
       "<div class=\"dni-plaintext\"><pre>313.6437237728583</pre></div><style>\r\n",
       ".dni-code-hint {\r\n",
       "    font-style: italic;\r\n",
       "    overflow: hidden;\r\n",
       "    white-space: nowrap;\r\n",
       "}\r\n",
       ".dni-treeview {\r\n",
       "    white-space: nowrap;\r\n",
       "}\r\n",
       ".dni-treeview td {\r\n",
       "    vertical-align: top;\r\n",
       "    text-align: start;\r\n",
       "}\r\n",
       "details.dni-treeview {\r\n",
       "    padding-left: 1em;\r\n",
       "}\r\n",
       "table td {\r\n",
       "    text-align: start;\r\n",
       "}\r\n",
       "table tr { \r\n",
       "    vertical-align: top; \r\n",
       "    margin: 0em 0px;\r\n",
       "}\r\n",
       "table tr td pre \r\n",
       "{ \r\n",
       "    vertical-align: top !important; \r\n",
       "    margin: 0em 0px !important;\r\n",
       "} \r\n",
       "table th {\r\n",
       "    text-align: start;\r\n",
       "}\r\n",
       "</style>"
      ]
     },
     "metadata": {},
     "output_type": "display_data"
    }
   ],
   "source": [
    "List.sum nList\n",
    "\n",
    "List.sum catWeights"
   ]
  },
  {
   "cell_type": "markdown",
   "metadata": {},
   "source": [
    "## Task 2.7\n",
    "\n",
    "Filter all list items that are divisible by 15.\n",
    "\n",
    "Clue: Make use of `List.filter` and the given function.\n",
    "\n",
    "\n"
   ]
  },
  {
   "cell_type": "code",
   "execution_count": 15,
   "metadata": {
    "dotnet_interactive": {
     "language": "fsharp"
    }
   },
   "outputs": [
    {
     "data": {
      "text/html": [
       "<details open=\"open\" class=\"dni-treeview\"><summary><span class=\"dni-code-hint\"><code>[ 0, 15, 30, 45, 60, 75, 90 ]</code></span></summary><div><table><thead><tr></tr></thead><tbody><tr><td>HeadOrDefault</td><td><div class=\"dni-plaintext\"><pre>0</pre></div></td></tr><tr><td>TailOrNull</td><td><details class=\"dni-treeview\"><summary><span class=\"dni-code-hint\"><code>[ 15, 30, 45, 60, 75, 90 ]</code></span></summary><div><table><thead><tr></tr></thead><tbody><tr><td>HeadOrDefault</td><td><div class=\"dni-plaintext\"><pre>15</pre></div></td></tr><tr><td>TailOrNull</td><td><details class=\"dni-treeview\"><summary><span class=\"dni-code-hint\"><code>[ 30, 45, 60, 75, 90 ]</code></span></summary><div><table><thead><tr></tr></thead><tbody><tr><td>HeadOrDefault</td><td><div class=\"dni-plaintext\"><pre>30</pre></div></td></tr><tr><td>TailOrNull</td><td><details class=\"dni-treeview\"><summary><span class=\"dni-code-hint\"><code>[ 45, 60, 75, 90 ]</code></span></summary><div><table><thead><tr></tr></thead><tbody><tr><td>HeadOrDefault</td><td><div class=\"dni-plaintext\"><pre>45</pre></div></td></tr><tr><td>TailOrNull</td><td><details class=\"dni-treeview\"><summary><span class=\"dni-code-hint\"><code>[ 60, 75, 90 ]</code></span></summary><div><table><thead><tr></tr></thead><tbody><tr><td>HeadOrDefault</td><td><div class=\"dni-plaintext\"><pre>60</pre></div></td></tr><tr><td>TailOrNull</td><td><details class=\"dni-treeview\"><summary><span class=\"dni-code-hint\"><code>[ 75, 90 ]</code></span></summary><div><table><thead><tr></tr></thead><tbody><tr><td>HeadOrDefault</td><td>75</td></tr><tr><td>TailOrNull</td><td>[ 90 ]</td></tr><tr><td>Head</td><td>75</td></tr><tr><td>Tail</td><td>[ 90 ]</td></tr><tr><td><i>(values)</i></td><td><div class=\"dni-plaintext\"><pre>[ 75, 90 ]</pre></div></td></tr></tbody></table></div></details></td></tr><tr><td>Head</td><td><div class=\"dni-plaintext\"><pre>60</pre></div></td></tr><tr><td>Tail</td><td><details class=\"dni-treeview\"><summary><span class=\"dni-code-hint\"><code>[ 75, 90 ]</code></span></summary><div><table><thead><tr></tr></thead><tbody><tr><td>HeadOrDefault</td><td>75</td></tr><tr><td>TailOrNull</td><td>[ 90 ]</td></tr><tr><td>Head</td><td>75</td></tr><tr><td>Tail</td><td>[ 90 ]</td></tr><tr><td><i>(values)</i></td><td><div class=\"dni-plaintext\"><pre>[ 75, 90 ]</pre></div></td></tr></tbody></table></div></details></td></tr><tr><td><i>(values)</i></td><td><div class=\"dni-plaintext\"><pre>[ 60, 75, 90 ]</pre></div></td></tr></tbody></table></div></details></td></tr><tr><td>Head</td><td><div class=\"dni-plaintext\"><pre>45</pre></div></td></tr><tr><td>Tail</td><td><details class=\"dni-treeview\"><summary><span class=\"dni-code-hint\"><code>[ 60, 75, 90 ]</code></span></summary><div><table><thead><tr></tr></thead><tbody><tr><td>HeadOrDefault</td><td><div class=\"dni-plaintext\"><pre>60</pre></div></td></tr><tr><td>TailOrNull</td><td><details class=\"dni-treeview\"><summary><span class=\"dni-code-hint\"><code>[ 75, 90 ]</code></span></summary><div><table><thead><tr></tr></thead><tbody><tr><td>HeadOrDefault</td><td>75</td></tr><tr><td>TailOrNull</td><td>[ 90 ]</td></tr><tr><td>Head</td><td>75</td></tr><tr><td>Tail</td><td>[ 90 ]</td></tr><tr><td><i>(values)</i></td><td><div class=\"dni-plaintext\"><pre>[ 75, 90 ]</pre></div></td></tr></tbody></table></div></details></td></tr><tr><td>Head</td><td><div class=\"dni-plaintext\"><pre>60</pre></div></td></tr><tr><td>Tail</td><td><details class=\"dni-treeview\"><summary><span class=\"dni-code-hint\"><code>[ 75, 90 ]</code></span></summary><div><table><thead><tr></tr></thead><tbody><tr><td>HeadOrDefault</td><td>75</td></tr><tr><td>TailOrNull</td><td>[ 90 ]</td></tr><tr><td>Head</td><td>75</td></tr><tr><td>Tail</td><td>[ 90 ]</td></tr><tr><td><i>(values)</i></td><td><div class=\"dni-plaintext\"><pre>[ 75, 90 ]</pre></div></td></tr></tbody></table></div></details></td></tr><tr><td><i>(values)</i></td><td><div class=\"dni-plaintext\"><pre>[ 60, 75, 90 ]</pre></div></td></tr></tbody></table></div></details></td></tr><tr><td><i>(values)</i></td><td><div class=\"dni-plaintext\"><pre>[ 45, 60, 75, 90 ]</pre></div></td></tr></tbody></table></div></details></td></tr><tr><td>Head</td><td><div class=\"dni-plaintext\"><pre>30</pre></div></td></tr><tr><td>Tail</td><td><details class=\"dni-treeview\"><summary><span class=\"dni-code-hint\"><code>[ 45, 60, 75, 90 ]</code></span></summary><div><table><thead><tr></tr></thead><tbody><tr><td>HeadOrDefault</td><td><div class=\"dni-plaintext\"><pre>45</pre></div></td></tr><tr><td>TailOrNull</td><td><details class=\"dni-treeview\"><summary><span class=\"dni-code-hint\"><code>[ 60, 75, 90 ]</code></span></summary><div><table><thead><tr></tr></thead><tbody><tr><td>HeadOrDefault</td><td><div class=\"dni-plaintext\"><pre>60</pre></div></td></tr><tr><td>TailOrNull</td><td><details class=\"dni-treeview\"><summary><span class=\"dni-code-hint\"><code>[ 75, 90 ]</code></span></summary><div><table><thead><tr></tr></thead><tbody><tr><td>HeadOrDefault</td><td>75</td></tr><tr><td>TailOrNull</td><td>[ 90 ]</td></tr><tr><td>Head</td><td>75</td></tr><tr><td>Tail</td><td>[ 90 ]</td></tr><tr><td><i>(values)</i></td><td><div class=\"dni-plaintext\"><pre>[ 75, 90 ]</pre></div></td></tr></tbody></table></div></details></td></tr><tr><td>Head</td><td><div class=\"dni-plaintext\"><pre>60</pre></div></td></tr><tr><td>Tail</td><td><details class=\"dni-treeview\"><summary><span class=\"dni-code-hint\"><code>[ 75, 90 ]</code></span></summary><div><table><thead><tr></tr></thead><tbody><tr><td>HeadOrDefault</td><td>75</td></tr><tr><td>TailOrNull</td><td>[ 90 ]</td></tr><tr><td>Head</td><td>75</td></tr><tr><td>Tail</td><td>[ 90 ]</td></tr><tr><td><i>(values)</i></td><td><div class=\"dni-plaintext\"><pre>[ 75, 90 ]</pre></div></td></tr></tbody></table></div></details></td></tr><tr><td><i>(values)</i></td><td><div class=\"dni-plaintext\"><pre>[ 60, 75, 90 ]</pre></div></td></tr></tbody></table></div></details></td></tr><tr><td>Head</td><td><div class=\"dni-plaintext\"><pre>45</pre></div></td></tr><tr><td>Tail</td><td><details class=\"dni-treeview\"><summary><span class=\"dni-code-hint\"><code>[ 60, 75, 90 ]</code></span></summary><div><table><thead><tr></tr></thead><tbody><tr><td>HeadOrDefault</td><td><div class=\"dni-plaintext\"><pre>60</pre></div></td></tr><tr><td>TailOrNull</td><td><details class=\"dni-treeview\"><summary><span class=\"dni-code-hint\"><code>[ 75, 90 ]</code></span></summary><div><table><thead><tr></tr></thead><tbody><tr><td>HeadOrDefault</td><td>75</td></tr><tr><td>TailOrNull</td><td>[ 90 ]</td></tr><tr><td>Head</td><td>75</td></tr><tr><td>Tail</td><td>[ 90 ]</td></tr><tr><td><i>(values)</i></td><td><div class=\"dni-plaintext\"><pre>[ 75, 90 ]</pre></div></td></tr></tbody></table></div></details></td></tr><tr><td>Head</td><td><div class=\"dni-plaintext\"><pre>60</pre></div></td></tr><tr><td>Tail</td><td><details class=\"dni-treeview\"><summary><span class=\"dni-code-hint\"><code>[ 75, 90 ]</code></span></summary><div><table><thead><tr></tr></thead><tbody><tr><td>HeadOrDefault</td><td>75</td></tr><tr><td>TailOrNull</td><td>[ 90 ]</td></tr><tr><td>Head</td><td>75</td></tr><tr><td>Tail</td><td>[ 90 ]</td></tr><tr><td><i>(values)</i></td><td><div class=\"dni-plaintext\"><pre>[ 75, 90 ]</pre></div></td></tr></tbody></table></div></details></td></tr><tr><td><i>(values)</i></td><td><div class=\"dni-plaintext\"><pre>[ 60, 75, 90 ]</pre></div></td></tr></tbody></table></div></details></td></tr><tr><td><i>(values)</i></td><td><div class=\"dni-plaintext\"><pre>[ 45, 60, 75, 90 ]</pre></div></td></tr></tbody></table></div></details></td></tr><tr><td><i>(values)</i></td><td><div class=\"dni-plaintext\"><pre>[ 30, 45, 60, 75, 90 ]</pre></div></td></tr></tbody></table></div></details></td></tr><tr><td>Head</td><td><div class=\"dni-plaintext\"><pre>15</pre></div></td></tr><tr><td>Tail</td><td><details class=\"dni-treeview\"><summary><span class=\"dni-code-hint\"><code>[ 30, 45, 60, 75, 90 ]</code></span></summary><div><table><thead><tr></tr></thead><tbody><tr><td>HeadOrDefault</td><td><div class=\"dni-plaintext\"><pre>30</pre></div></td></tr><tr><td>TailOrNull</td><td><details class=\"dni-treeview\"><summary><span class=\"dni-code-hint\"><code>[ 45, 60, 75, 90 ]</code></span></summary><div><table><thead><tr></tr></thead><tbody><tr><td>HeadOrDefault</td><td><div class=\"dni-plaintext\"><pre>45</pre></div></td></tr><tr><td>TailOrNull</td><td><details class=\"dni-treeview\"><summary><span class=\"dni-code-hint\"><code>[ 60, 75, 90 ]</code></span></summary><div><table><thead><tr></tr></thead><tbody><tr><td>HeadOrDefault</td><td><div class=\"dni-plaintext\"><pre>60</pre></div></td></tr><tr><td>TailOrNull</td><td><details class=\"dni-treeview\"><summary><span class=\"dni-code-hint\"><code>[ 75, 90 ]</code></span></summary><div><table><thead><tr></tr></thead><tbody><tr><td>HeadOrDefault</td><td>75</td></tr><tr><td>TailOrNull</td><td>[ 90 ]</td></tr><tr><td>Head</td><td>75</td></tr><tr><td>Tail</td><td>[ 90 ]</td></tr><tr><td><i>(values)</i></td><td><div class=\"dni-plaintext\"><pre>[ 75, 90 ]</pre></div></td></tr></tbody></table></div></details></td></tr><tr><td>Head</td><td><div class=\"dni-plaintext\"><pre>60</pre></div></td></tr><tr><td>Tail</td><td><details class=\"dni-treeview\"><summary><span class=\"dni-code-hint\"><code>[ 75, 90 ]</code></span></summary><div><table><thead><tr></tr></thead><tbody><tr><td>HeadOrDefault</td><td>75</td></tr><tr><td>TailOrNull</td><td>[ 90 ]</td></tr><tr><td>Head</td><td>75</td></tr><tr><td>Tail</td><td>[ 90 ]</td></tr><tr><td><i>(values)</i></td><td><div class=\"dni-plaintext\"><pre>[ 75, 90 ]</pre></div></td></tr></tbody></table></div></details></td></tr><tr><td><i>(values)</i></td><td><div class=\"dni-plaintext\"><pre>[ 60, 75, 90 ]</pre></div></td></tr></tbody></table></div></details></td></tr><tr><td>Head</td><td><div class=\"dni-plaintext\"><pre>45</pre></div></td></tr><tr><td>Tail</td><td><details class=\"dni-treeview\"><summary><span class=\"dni-code-hint\"><code>[ 60, 75, 90 ]</code></span></summary><div><table><thead><tr></tr></thead><tbody><tr><td>HeadOrDefault</td><td><div class=\"dni-plaintext\"><pre>60</pre></div></td></tr><tr><td>TailOrNull</td><td><details class=\"dni-treeview\"><summary><span class=\"dni-code-hint\"><code>[ 75, 90 ]</code></span></summary><div><table><thead><tr></tr></thead><tbody><tr><td>HeadOrDefault</td><td>75</td></tr><tr><td>TailOrNull</td><td>[ 90 ]</td></tr><tr><td>Head</td><td>75</td></tr><tr><td>Tail</td><td>[ 90 ]</td></tr><tr><td><i>(values)</i></td><td><div class=\"dni-plaintext\"><pre>[ 75, 90 ]</pre></div></td></tr></tbody></table></div></details></td></tr><tr><td>Head</td><td><div class=\"dni-plaintext\"><pre>60</pre></div></td></tr><tr><td>Tail</td><td><details class=\"dni-treeview\"><summary><span class=\"dni-code-hint\"><code>[ 75, 90 ]</code></span></summary><div><table><thead><tr></tr></thead><tbody><tr><td>HeadOrDefault</td><td>75</td></tr><tr><td>TailOrNull</td><td>[ 90 ]</td></tr><tr><td>Head</td><td>75</td></tr><tr><td>Tail</td><td>[ 90 ]</td></tr><tr><td><i>(values)</i></td><td><div class=\"dni-plaintext\"><pre>[ 75, 90 ]</pre></div></td></tr></tbody></table></div></details></td></tr><tr><td><i>(values)</i></td><td><div class=\"dni-plaintext\"><pre>[ 60, 75, 90 ]</pre></div></td></tr></tbody></table></div></details></td></tr><tr><td><i>(values)</i></td><td><div class=\"dni-plaintext\"><pre>[ 45, 60, 75, 90 ]</pre></div></td></tr></tbody></table></div></details></td></tr><tr><td>Head</td><td><div class=\"dni-plaintext\"><pre>30</pre></div></td></tr><tr><td>Tail</td><td><details class=\"dni-treeview\"><summary><span class=\"dni-code-hint\"><code>[ 45, 60, 75, 90 ]</code></span></summary><div><table><thead><tr></tr></thead><tbody><tr><td>HeadOrDefault</td><td><div class=\"dni-plaintext\"><pre>45</pre></div></td></tr><tr><td>TailOrNull</td><td><details class=\"dni-treeview\"><summary><span class=\"dni-code-hint\"><code>[ 60, 75, 90 ]</code></span></summary><div><table><thead><tr></tr></thead><tbody><tr><td>HeadOrDefault</td><td><div class=\"dni-plaintext\"><pre>60</pre></div></td></tr><tr><td>TailOrNull</td><td><details class=\"dni-treeview\"><summary><span class=\"dni-code-hint\"><code>[ 75, 90 ]</code></span></summary><div><table><thead><tr></tr></thead><tbody><tr><td>HeadOrDefault</td><td>75</td></tr><tr><td>TailOrNull</td><td>[ 90 ]</td></tr><tr><td>Head</td><td>75</td></tr><tr><td>Tail</td><td>[ 90 ]</td></tr><tr><td><i>(values)</i></td><td><div class=\"dni-plaintext\"><pre>[ 75, 90 ]</pre></div></td></tr></tbody></table></div></details></td></tr><tr><td>Head</td><td><div class=\"dni-plaintext\"><pre>60</pre></div></td></tr><tr><td>Tail</td><td><details class=\"dni-treeview\"><summary><span class=\"dni-code-hint\"><code>[ 75, 90 ]</code></span></summary><div><table><thead><tr></tr></thead><tbody><tr><td>HeadOrDefault</td><td>75</td></tr><tr><td>TailOrNull</td><td>[ 90 ]</td></tr><tr><td>Head</td><td>75</td></tr><tr><td>Tail</td><td>[ 90 ]</td></tr><tr><td><i>(values)</i></td><td><div class=\"dni-plaintext\"><pre>[ 75, 90 ]</pre></div></td></tr></tbody></table></div></details></td></tr><tr><td><i>(values)</i></td><td><div class=\"dni-plaintext\"><pre>[ 60, 75, 90 ]</pre></div></td></tr></tbody></table></div></details></td></tr><tr><td>Head</td><td><div class=\"dni-plaintext\"><pre>45</pre></div></td></tr><tr><td>Tail</td><td><details class=\"dni-treeview\"><summary><span class=\"dni-code-hint\"><code>[ 60, 75, 90 ]</code></span></summary><div><table><thead><tr></tr></thead><tbody><tr><td>HeadOrDefault</td><td><div class=\"dni-plaintext\"><pre>60</pre></div></td></tr><tr><td>TailOrNull</td><td><details class=\"dni-treeview\"><summary><span class=\"dni-code-hint\"><code>[ 75, 90 ]</code></span></summary><div><table><thead><tr></tr></thead><tbody><tr><td>HeadOrDefault</td><td>75</td></tr><tr><td>TailOrNull</td><td>[ 90 ]</td></tr><tr><td>Head</td><td>75</td></tr><tr><td>Tail</td><td>[ 90 ]</td></tr><tr><td><i>(values)</i></td><td><div class=\"dni-plaintext\"><pre>[ 75, 90 ]</pre></div></td></tr></tbody></table></div></details></td></tr><tr><td>Head</td><td><div class=\"dni-plaintext\"><pre>60</pre></div></td></tr><tr><td>Tail</td><td><details class=\"dni-treeview\"><summary><span class=\"dni-code-hint\"><code>[ 75, 90 ]</code></span></summary><div><table><thead><tr></tr></thead><tbody><tr><td>HeadOrDefault</td><td>75</td></tr><tr><td>TailOrNull</td><td>[ 90 ]</td></tr><tr><td>Head</td><td>75</td></tr><tr><td>Tail</td><td>[ 90 ]</td></tr><tr><td><i>(values)</i></td><td><div class=\"dni-plaintext\"><pre>[ 75, 90 ]</pre></div></td></tr></tbody></table></div></details></td></tr><tr><td><i>(values)</i></td><td><div class=\"dni-plaintext\"><pre>[ 60, 75, 90 ]</pre></div></td></tr></tbody></table></div></details></td></tr><tr><td><i>(values)</i></td><td><div class=\"dni-plaintext\"><pre>[ 45, 60, 75, 90 ]</pre></div></td></tr></tbody></table></div></details></td></tr><tr><td><i>(values)</i></td><td><div class=\"dni-plaintext\"><pre>[ 30, 45, 60, 75, 90 ]</pre></div></td></tr></tbody></table></div></details></td></tr><tr><td><i>(values)</i></td><td><div class=\"dni-plaintext\"><pre>[ 15, 30, 45, 60, 75, 90 ]</pre></div></td></tr></tbody></table></div></details></td></tr><tr><td>Head</td><td><div class=\"dni-plaintext\"><pre>0</pre></div></td></tr><tr><td>Tail</td><td><details class=\"dni-treeview\"><summary><span class=\"dni-code-hint\"><code>[ 15, 30, 45, 60, 75, 90 ]</code></span></summary><div><table><thead><tr></tr></thead><tbody><tr><td>HeadOrDefault</td><td><div class=\"dni-plaintext\"><pre>15</pre></div></td></tr><tr><td>TailOrNull</td><td><details class=\"dni-treeview\"><summary><span class=\"dni-code-hint\"><code>[ 30, 45, 60, 75, 90 ]</code></span></summary><div><table><thead><tr></tr></thead><tbody><tr><td>HeadOrDefault</td><td><div class=\"dni-plaintext\"><pre>30</pre></div></td></tr><tr><td>TailOrNull</td><td><details class=\"dni-treeview\"><summary><span class=\"dni-code-hint\"><code>[ 45, 60, 75, 90 ]</code></span></summary><div><table><thead><tr></tr></thead><tbody><tr><td>HeadOrDefault</td><td><div class=\"dni-plaintext\"><pre>45</pre></div></td></tr><tr><td>TailOrNull</td><td><details class=\"dni-treeview\"><summary><span class=\"dni-code-hint\"><code>[ 60, 75, 90 ]</code></span></summary><div><table><thead><tr></tr></thead><tbody><tr><td>HeadOrDefault</td><td><div class=\"dni-plaintext\"><pre>60</pre></div></td></tr><tr><td>TailOrNull</td><td><details class=\"dni-treeview\"><summary><span class=\"dni-code-hint\"><code>[ 75, 90 ]</code></span></summary><div><table><thead><tr></tr></thead><tbody><tr><td>HeadOrDefault</td><td>75</td></tr><tr><td>TailOrNull</td><td>[ 90 ]</td></tr><tr><td>Head</td><td>75</td></tr><tr><td>Tail</td><td>[ 90 ]</td></tr><tr><td><i>(values)</i></td><td><div class=\"dni-plaintext\"><pre>[ 75, 90 ]</pre></div></td></tr></tbody></table></div></details></td></tr><tr><td>Head</td><td><div class=\"dni-plaintext\"><pre>60</pre></div></td></tr><tr><td>Tail</td><td><details class=\"dni-treeview\"><summary><span class=\"dni-code-hint\"><code>[ 75, 90 ]</code></span></summary><div><table><thead><tr></tr></thead><tbody><tr><td>HeadOrDefault</td><td>75</td></tr><tr><td>TailOrNull</td><td>[ 90 ]</td></tr><tr><td>Head</td><td>75</td></tr><tr><td>Tail</td><td>[ 90 ]</td></tr><tr><td><i>(values)</i></td><td><div class=\"dni-plaintext\"><pre>[ 75, 90 ]</pre></div></td></tr></tbody></table></div></details></td></tr><tr><td><i>(values)</i></td><td><div class=\"dni-plaintext\"><pre>[ 60, 75, 90 ]</pre></div></td></tr></tbody></table></div></details></td></tr><tr><td>Head</td><td><div class=\"dni-plaintext\"><pre>45</pre></div></td></tr><tr><td>Tail</td><td><details class=\"dni-treeview\"><summary><span class=\"dni-code-hint\"><code>[ 60, 75, 90 ]</code></span></summary><div><table><thead><tr></tr></thead><tbody><tr><td>HeadOrDefault</td><td><div class=\"dni-plaintext\"><pre>60</pre></div></td></tr><tr><td>TailOrNull</td><td><details class=\"dni-treeview\"><summary><span class=\"dni-code-hint\"><code>[ 75, 90 ]</code></span></summary><div><table><thead><tr></tr></thead><tbody><tr><td>HeadOrDefault</td><td>75</td></tr><tr><td>TailOrNull</td><td>[ 90 ]</td></tr><tr><td>Head</td><td>75</td></tr><tr><td>Tail</td><td>[ 90 ]</td></tr><tr><td><i>(values)</i></td><td><div class=\"dni-plaintext\"><pre>[ 75, 90 ]</pre></div></td></tr></tbody></table></div></details></td></tr><tr><td>Head</td><td><div class=\"dni-plaintext\"><pre>60</pre></div></td></tr><tr><td>Tail</td><td><details class=\"dni-treeview\"><summary><span class=\"dni-code-hint\"><code>[ 75, 90 ]</code></span></summary><div><table><thead><tr></tr></thead><tbody><tr><td>HeadOrDefault</td><td>75</td></tr><tr><td>TailOrNull</td><td>[ 90 ]</td></tr><tr><td>Head</td><td>75</td></tr><tr><td>Tail</td><td>[ 90 ]</td></tr><tr><td><i>(values)</i></td><td><div class=\"dni-plaintext\"><pre>[ 75, 90 ]</pre></div></td></tr></tbody></table></div></details></td></tr><tr><td><i>(values)</i></td><td><div class=\"dni-plaintext\"><pre>[ 60, 75, 90 ]</pre></div></td></tr></tbody></table></div></details></td></tr><tr><td><i>(values)</i></td><td><div class=\"dni-plaintext\"><pre>[ 45, 60, 75, 90 ]</pre></div></td></tr></tbody></table></div></details></td></tr><tr><td>Head</td><td><div class=\"dni-plaintext\"><pre>30</pre></div></td></tr><tr><td>Tail</td><td><details class=\"dni-treeview\"><summary><span class=\"dni-code-hint\"><code>[ 45, 60, 75, 90 ]</code></span></summary><div><table><thead><tr></tr></thead><tbody><tr><td>HeadOrDefault</td><td><div class=\"dni-plaintext\"><pre>45</pre></div></td></tr><tr><td>TailOrNull</td><td><details class=\"dni-treeview\"><summary><span class=\"dni-code-hint\"><code>[ 60, 75, 90 ]</code></span></summary><div><table><thead><tr></tr></thead><tbody><tr><td>HeadOrDefault</td><td><div class=\"dni-plaintext\"><pre>60</pre></div></td></tr><tr><td>TailOrNull</td><td><details class=\"dni-treeview\"><summary><span class=\"dni-code-hint\"><code>[ 75, 90 ]</code></span></summary><div><table><thead><tr></tr></thead><tbody><tr><td>HeadOrDefault</td><td>75</td></tr><tr><td>TailOrNull</td><td>[ 90 ]</td></tr><tr><td>Head</td><td>75</td></tr><tr><td>Tail</td><td>[ 90 ]</td></tr><tr><td><i>(values)</i></td><td><div class=\"dni-plaintext\"><pre>[ 75, 90 ]</pre></div></td></tr></tbody></table></div></details></td></tr><tr><td>Head</td><td><div class=\"dni-plaintext\"><pre>60</pre></div></td></tr><tr><td>Tail</td><td><details class=\"dni-treeview\"><summary><span class=\"dni-code-hint\"><code>[ 75, 90 ]</code></span></summary><div><table><thead><tr></tr></thead><tbody><tr><td>HeadOrDefault</td><td>75</td></tr><tr><td>TailOrNull</td><td>[ 90 ]</td></tr><tr><td>Head</td><td>75</td></tr><tr><td>Tail</td><td>[ 90 ]</td></tr><tr><td><i>(values)</i></td><td><div class=\"dni-plaintext\"><pre>[ 75, 90 ]</pre></div></td></tr></tbody></table></div></details></td></tr><tr><td><i>(values)</i></td><td><div class=\"dni-plaintext\"><pre>[ 60, 75, 90 ]</pre></div></td></tr></tbody></table></div></details></td></tr><tr><td>Head</td><td><div class=\"dni-plaintext\"><pre>45</pre></div></td></tr><tr><td>Tail</td><td><details class=\"dni-treeview\"><summary><span class=\"dni-code-hint\"><code>[ 60, 75, 90 ]</code></span></summary><div><table><thead><tr></tr></thead><tbody><tr><td>HeadOrDefault</td><td><div class=\"dni-plaintext\"><pre>60</pre></div></td></tr><tr><td>TailOrNull</td><td><details class=\"dni-treeview\"><summary><span class=\"dni-code-hint\"><code>[ 75, 90 ]</code></span></summary><div><table><thead><tr></tr></thead><tbody><tr><td>HeadOrDefault</td><td>75</td></tr><tr><td>TailOrNull</td><td>[ 90 ]</td></tr><tr><td>Head</td><td>75</td></tr><tr><td>Tail</td><td>[ 90 ]</td></tr><tr><td><i>(values)</i></td><td><div class=\"dni-plaintext\"><pre>[ 75, 90 ]</pre></div></td></tr></tbody></table></div></details></td></tr><tr><td>Head</td><td><div class=\"dni-plaintext\"><pre>60</pre></div></td></tr><tr><td>Tail</td><td><details class=\"dni-treeview\"><summary><span class=\"dni-code-hint\"><code>[ 75, 90 ]</code></span></summary><div><table><thead><tr></tr></thead><tbody><tr><td>HeadOrDefault</td><td>75</td></tr><tr><td>TailOrNull</td><td>[ 90 ]</td></tr><tr><td>Head</td><td>75</td></tr><tr><td>Tail</td><td>[ 90 ]</td></tr><tr><td><i>(values)</i></td><td><div class=\"dni-plaintext\"><pre>[ 75, 90 ]</pre></div></td></tr></tbody></table></div></details></td></tr><tr><td><i>(values)</i></td><td><div class=\"dni-plaintext\"><pre>[ 60, 75, 90 ]</pre></div></td></tr></tbody></table></div></details></td></tr><tr><td><i>(values)</i></td><td><div class=\"dni-plaintext\"><pre>[ 45, 60, 75, 90 ]</pre></div></td></tr></tbody></table></div></details></td></tr><tr><td><i>(values)</i></td><td><div class=\"dni-plaintext\"><pre>[ 30, 45, 60, 75, 90 ]</pre></div></td></tr></tbody></table></div></details></td></tr><tr><td>Head</td><td><div class=\"dni-plaintext\"><pre>15</pre></div></td></tr><tr><td>Tail</td><td><details class=\"dni-treeview\"><summary><span class=\"dni-code-hint\"><code>[ 30, 45, 60, 75, 90 ]</code></span></summary><div><table><thead><tr></tr></thead><tbody><tr><td>HeadOrDefault</td><td><div class=\"dni-plaintext\"><pre>30</pre></div></td></tr><tr><td>TailOrNull</td><td><details class=\"dni-treeview\"><summary><span class=\"dni-code-hint\"><code>[ 45, 60, 75, 90 ]</code></span></summary><div><table><thead><tr></tr></thead><tbody><tr><td>HeadOrDefault</td><td><div class=\"dni-plaintext\"><pre>45</pre></div></td></tr><tr><td>TailOrNull</td><td><details class=\"dni-treeview\"><summary><span class=\"dni-code-hint\"><code>[ 60, 75, 90 ]</code></span></summary><div><table><thead><tr></tr></thead><tbody><tr><td>HeadOrDefault</td><td><div class=\"dni-plaintext\"><pre>60</pre></div></td></tr><tr><td>TailOrNull</td><td><details class=\"dni-treeview\"><summary><span class=\"dni-code-hint\"><code>[ 75, 90 ]</code></span></summary><div><table><thead><tr></tr></thead><tbody><tr><td>HeadOrDefault</td><td>75</td></tr><tr><td>TailOrNull</td><td>[ 90 ]</td></tr><tr><td>Head</td><td>75</td></tr><tr><td>Tail</td><td>[ 90 ]</td></tr><tr><td><i>(values)</i></td><td><div class=\"dni-plaintext\"><pre>[ 75, 90 ]</pre></div></td></tr></tbody></table></div></details></td></tr><tr><td>Head</td><td><div class=\"dni-plaintext\"><pre>60</pre></div></td></tr><tr><td>Tail</td><td><details class=\"dni-treeview\"><summary><span class=\"dni-code-hint\"><code>[ 75, 90 ]</code></span></summary><div><table><thead><tr></tr></thead><tbody><tr><td>HeadOrDefault</td><td>75</td></tr><tr><td>TailOrNull</td><td>[ 90 ]</td></tr><tr><td>Head</td><td>75</td></tr><tr><td>Tail</td><td>[ 90 ]</td></tr><tr><td><i>(values)</i></td><td><div class=\"dni-plaintext\"><pre>[ 75, 90 ]</pre></div></td></tr></tbody></table></div></details></td></tr><tr><td><i>(values)</i></td><td><div class=\"dni-plaintext\"><pre>[ 60, 75, 90 ]</pre></div></td></tr></tbody></table></div></details></td></tr><tr><td>Head</td><td><div class=\"dni-plaintext\"><pre>45</pre></div></td></tr><tr><td>Tail</td><td><details class=\"dni-treeview\"><summary><span class=\"dni-code-hint\"><code>[ 60, 75, 90 ]</code></span></summary><div><table><thead><tr></tr></thead><tbody><tr><td>HeadOrDefault</td><td><div class=\"dni-plaintext\"><pre>60</pre></div></td></tr><tr><td>TailOrNull</td><td><details class=\"dni-treeview\"><summary><span class=\"dni-code-hint\"><code>[ 75, 90 ]</code></span></summary><div><table><thead><tr></tr></thead><tbody><tr><td>HeadOrDefault</td><td>75</td></tr><tr><td>TailOrNull</td><td>[ 90 ]</td></tr><tr><td>Head</td><td>75</td></tr><tr><td>Tail</td><td>[ 90 ]</td></tr><tr><td><i>(values)</i></td><td><div class=\"dni-plaintext\"><pre>[ 75, 90 ]</pre></div></td></tr></tbody></table></div></details></td></tr><tr><td>Head</td><td><div class=\"dni-plaintext\"><pre>60</pre></div></td></tr><tr><td>Tail</td><td><details class=\"dni-treeview\"><summary><span class=\"dni-code-hint\"><code>[ 75, 90 ]</code></span></summary><div><table><thead><tr></tr></thead><tbody><tr><td>HeadOrDefault</td><td>75</td></tr><tr><td>TailOrNull</td><td>[ 90 ]</td></tr><tr><td>Head</td><td>75</td></tr><tr><td>Tail</td><td>[ 90 ]</td></tr><tr><td><i>(values)</i></td><td><div class=\"dni-plaintext\"><pre>[ 75, 90 ]</pre></div></td></tr></tbody></table></div></details></td></tr><tr><td><i>(values)</i></td><td><div class=\"dni-plaintext\"><pre>[ 60, 75, 90 ]</pre></div></td></tr></tbody></table></div></details></td></tr><tr><td><i>(values)</i></td><td><div class=\"dni-plaintext\"><pre>[ 45, 60, 75, 90 ]</pre></div></td></tr></tbody></table></div></details></td></tr><tr><td>Head</td><td><div class=\"dni-plaintext\"><pre>30</pre></div></td></tr><tr><td>Tail</td><td><details class=\"dni-treeview\"><summary><span class=\"dni-code-hint\"><code>[ 45, 60, 75, 90 ]</code></span></summary><div><table><thead><tr></tr></thead><tbody><tr><td>HeadOrDefault</td><td><div class=\"dni-plaintext\"><pre>45</pre></div></td></tr><tr><td>TailOrNull</td><td><details class=\"dni-treeview\"><summary><span class=\"dni-code-hint\"><code>[ 60, 75, 90 ]</code></span></summary><div><table><thead><tr></tr></thead><tbody><tr><td>HeadOrDefault</td><td><div class=\"dni-plaintext\"><pre>60</pre></div></td></tr><tr><td>TailOrNull</td><td><details class=\"dni-treeview\"><summary><span class=\"dni-code-hint\"><code>[ 75, 90 ]</code></span></summary><div><table><thead><tr></tr></thead><tbody><tr><td>HeadOrDefault</td><td>75</td></tr><tr><td>TailOrNull</td><td>[ 90 ]</td></tr><tr><td>Head</td><td>75</td></tr><tr><td>Tail</td><td>[ 90 ]</td></tr><tr><td><i>(values)</i></td><td><div class=\"dni-plaintext\"><pre>[ 75, 90 ]</pre></div></td></tr></tbody></table></div></details></td></tr><tr><td>Head</td><td><div class=\"dni-plaintext\"><pre>60</pre></div></td></tr><tr><td>Tail</td><td><details class=\"dni-treeview\"><summary><span class=\"dni-code-hint\"><code>[ 75, 90 ]</code></span></summary><div><table><thead><tr></tr></thead><tbody><tr><td>HeadOrDefault</td><td>75</td></tr><tr><td>TailOrNull</td><td>[ 90 ]</td></tr><tr><td>Head</td><td>75</td></tr><tr><td>Tail</td><td>[ 90 ]</td></tr><tr><td><i>(values)</i></td><td><div class=\"dni-plaintext\"><pre>[ 75, 90 ]</pre></div></td></tr></tbody></table></div></details></td></tr><tr><td><i>(values)</i></td><td><div class=\"dni-plaintext\"><pre>[ 60, 75, 90 ]</pre></div></td></tr></tbody></table></div></details></td></tr><tr><td>Head</td><td><div class=\"dni-plaintext\"><pre>45</pre></div></td></tr><tr><td>Tail</td><td><details class=\"dni-treeview\"><summary><span class=\"dni-code-hint\"><code>[ 60, 75, 90 ]</code></span></summary><div><table><thead><tr></tr></thead><tbody><tr><td>HeadOrDefault</td><td><div class=\"dni-plaintext\"><pre>60</pre></div></td></tr><tr><td>TailOrNull</td><td><details class=\"dni-treeview\"><summary><span class=\"dni-code-hint\"><code>[ 75, 90 ]</code></span></summary><div><table><thead><tr></tr></thead><tbody><tr><td>HeadOrDefault</td><td>75</td></tr><tr><td>TailOrNull</td><td>[ 90 ]</td></tr><tr><td>Head</td><td>75</td></tr><tr><td>Tail</td><td>[ 90 ]</td></tr><tr><td><i>(values)</i></td><td><div class=\"dni-plaintext\"><pre>[ 75, 90 ]</pre></div></td></tr></tbody></table></div></details></td></tr><tr><td>Head</td><td><div class=\"dni-plaintext\"><pre>60</pre></div></td></tr><tr><td>Tail</td><td><details class=\"dni-treeview\"><summary><span class=\"dni-code-hint\"><code>[ 75, 90 ]</code></span></summary><div><table><thead><tr></tr></thead><tbody><tr><td>HeadOrDefault</td><td>75</td></tr><tr><td>TailOrNull</td><td>[ 90 ]</td></tr><tr><td>Head</td><td>75</td></tr><tr><td>Tail</td><td>[ 90 ]</td></tr><tr><td><i>(values)</i></td><td><div class=\"dni-plaintext\"><pre>[ 75, 90 ]</pre></div></td></tr></tbody></table></div></details></td></tr><tr><td><i>(values)</i></td><td><div class=\"dni-plaintext\"><pre>[ 60, 75, 90 ]</pre></div></td></tr></tbody></table></div></details></td></tr><tr><td><i>(values)</i></td><td><div class=\"dni-plaintext\"><pre>[ 45, 60, 75, 90 ]</pre></div></td></tr></tbody></table></div></details></td></tr><tr><td><i>(values)</i></td><td><div class=\"dni-plaintext\"><pre>[ 30, 45, 60, 75, 90 ]</pre></div></td></tr></tbody></table></div></details></td></tr><tr><td><i>(values)</i></td><td><div class=\"dni-plaintext\"><pre>[ 15, 30, 45, 60, 75, 90 ]</pre></div></td></tr></tbody></table></div></details></td></tr><tr><td><i>(values)</i></td><td><div class=\"dni-plaintext\"><pre>[ 0, 15, 30, 45, 60, 75, 90 ]</pre></div></td></tr></tbody></table></div></details><style>\r\n",
       ".dni-code-hint {\r\n",
       "    font-style: italic;\r\n",
       "    overflow: hidden;\r\n",
       "    white-space: nowrap;\r\n",
       "}\r\n",
       ".dni-treeview {\r\n",
       "    white-space: nowrap;\r\n",
       "}\r\n",
       ".dni-treeview td {\r\n",
       "    vertical-align: top;\r\n",
       "    text-align: start;\r\n",
       "}\r\n",
       "details.dni-treeview {\r\n",
       "    padding-left: 1em;\r\n",
       "}\r\n",
       "table td {\r\n",
       "    text-align: start;\r\n",
       "}\r\n",
       "table tr { \r\n",
       "    vertical-align: top; \r\n",
       "    margin: 0em 0px;\r\n",
       "}\r\n",
       "table tr td pre \r\n",
       "{ \r\n",
       "    vertical-align: top !important; \r\n",
       "    margin: 0em 0px !important;\r\n",
       "} \r\n",
       "table th {\r\n",
       "    text-align: start;\r\n",
       "}\r\n",
       "</style>"
      ]
     },
     "metadata": {},
     "output_type": "display_data"
    }
   ],
   "source": [
    "let isDivisibleWithoutRemainder denominator numerator =\n",
    "    numerator % denominator = 0.\n",
    "\n",
    "\n",
    "isDivisibleWithoutRemainder 20. 60.\n",
    "\n",
    "nList\n",
    "|> List.filter (isDivisibleWithoutRemainder 15.)\n",
    "\n",
    "List.filter (isDivisibleWithoutRemainder 15.) nList"
   ]
  },
  {
   "cell_type": "markdown",
   "metadata": {},
   "source": [
    "## Task 2.8\n",
    "\n",
    "Calculate the sum of the squares of the individual values from nList.\n",
    "Try to achieve this in one step with `List.fold`.\n",
    "\n",
    "\n"
   ]
  },
  {
   "cell_type": "code",
   "execution_count": 16,
   "metadata": {
    "dotnet_interactive": {
     "language": "fsharp"
    }
   },
   "outputs": [
    {
     "data": {
      "text/html": [
       "<div class=\"dni-plaintext\"><pre>338350</pre></div><style>\r\n",
       ".dni-code-hint {\r\n",
       "    font-style: italic;\r\n",
       "    overflow: hidden;\r\n",
       "    white-space: nowrap;\r\n",
       "}\r\n",
       ".dni-treeview {\r\n",
       "    white-space: nowrap;\r\n",
       "}\r\n",
       ".dni-treeview td {\r\n",
       "    vertical-align: top;\r\n",
       "    text-align: start;\r\n",
       "}\r\n",
       "details.dni-treeview {\r\n",
       "    padding-left: 1em;\r\n",
       "}\r\n",
       "table td {\r\n",
       "    text-align: start;\r\n",
       "}\r\n",
       "table tr { \r\n",
       "    vertical-align: top; \r\n",
       "    margin: 0em 0px;\r\n",
       "}\r\n",
       "table tr td pre \r\n",
       "{ \r\n",
       "    vertical-align: top !important; \r\n",
       "    margin: 0em 0px !important;\r\n",
       "} \r\n",
       "table th {\r\n",
       "    text-align: start;\r\n",
       "}\r\n",
       "</style>"
      ]
     },
     "metadata": {},
     "output_type": "display_data"
    }
   ],
   "source": [
    "\n",
    "nList\n",
    "|> List.map square\n",
    "|> List.sum\n",
    "\n",
    "List.fold (fun acc x -> acc + (square x)) 0.0 nList\n",
    "\n",
    "nList\n",
    "|> List.fold (fun acc x -> acc + (square x)) 0.0"
   ]
  },
  {
   "cell_type": "markdown",
   "metadata": {},
   "source": [
    "## Task 2.9\n",
    "\n",
    "Calculate the average weight of the cats from `catList`. \n",
    "\n",
    "Clue: The task can either be solved by using functions from the `List` module, or you can solve it by using a single fold function (for experts).\n",
    "\n",
    "\n"
   ]
  },
  {
   "cell_type": "code",
   "execution_count": 17,
   "metadata": {
    "dotnet_interactive": {
     "language": "fsharp"
    }
   },
   "outputs": [
    {
     "data": {
      "text/html": [
       "<div class=\"dni-plaintext\"><pre>5.227395396214305</pre></div><style>\r\n",
       ".dni-code-hint {\r\n",
       "    font-style: italic;\r\n",
       "    overflow: hidden;\r\n",
       "    white-space: nowrap;\r\n",
       "}\r\n",
       ".dni-treeview {\r\n",
       "    white-space: nowrap;\r\n",
       "}\r\n",
       ".dni-treeview td {\r\n",
       "    vertical-align: top;\r\n",
       "    text-align: start;\r\n",
       "}\r\n",
       "details.dni-treeview {\r\n",
       "    padding-left: 1em;\r\n",
       "}\r\n",
       "table td {\r\n",
       "    text-align: start;\r\n",
       "}\r\n",
       "table tr { \r\n",
       "    vertical-align: top; \r\n",
       "    margin: 0em 0px;\r\n",
       "}\r\n",
       "table tr td pre \r\n",
       "{ \r\n",
       "    vertical-align: top !important; \r\n",
       "    margin: 0em 0px !important;\r\n",
       "} \r\n",
       "table th {\r\n",
       "    text-align: start;\r\n",
       "}\r\n",
       "</style>"
      ]
     },
     "metadata": {},
     "output_type": "display_data"
    }
   ],
   "source": [
    "\n",
    "List.average catWeights\n",
    "\n",
    "catList\n",
    "|> List.map getWeight\n",
    "|> List.average\n",
    "\n",
    "List.fold (fun acc x -> acc + (getWeight x)) 0.0 catList / float (List.length catList)"
   ]
  }
 ],
 "metadata": {
  "kernelspec": {
   "display_name": ".NET (F#)",
   "language": "F#",
   "name": ".net-fsharp"
  },
  "langauge_info": {
   "file_extension": ".fs",
   "mimetype": "text/x-fsharp",
   "name": "C#",
   "pygments_lexer": "fsharp",
   "version": "4.5"
  },
  "language_info": {
   "name": "polyglot-notebook"
  },
  "polyglot_notebook": {
   "kernelInfo": {
    "defaultKernelName": "fsharp",
    "items": [
     {
      "aliases": [],
      "name": "fsharp"
     }
    ]
   }
  }
 },
 "nbformat": 4,
 "nbformat_minor": 1
}
