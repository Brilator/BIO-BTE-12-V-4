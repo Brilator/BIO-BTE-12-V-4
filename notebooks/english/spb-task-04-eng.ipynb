{
 "cells": [
  {
   "cell_type": "markdown",
   "metadata": {},
   "source": [
    "# Task04 - Programming with functions"
   ]
  },
  {
   "cell_type": "markdown",
   "metadata": {},
   "source": [
    "\n",
    "## Higher order functions\n",
    "\n",
    "### Task 1.1:\n",
    "\n",
    "Rewrite the following function by using the pipe operator `|>` and the given functions.\n",
    "\n",
    "Clue: \n",
    "\n",
    "  - Pipe operators lead to a positioning of the parameter left of the operator to the end of the right side: \n",
    "\n",
    "  - `a |> add b` is equal to `add b a`\n",
    "\n"
   ]
  },
  {
   "cell_type": "code",
   "execution_count": 1,
   "metadata": {
    "dotnet_interactive": {
     "language": "fsharp"
    },
    "vscode": {
     "languageId": "dotnet-interactive.fsharp"
    }
   },
   "outputs": [],
   "source": [
    "let mathNotation x y = ((2. + 3. * (x + 1.))**2.) * y\n",
    "\n",
    "let add (a:float) b = a + b\n",
    "let square (x :float) = x * x\n",
    "let multiply (a:float) b = a * b\n",
    "\n",
    "let pipeNotation x y =\n",
    "    1. //replace me\n",
    "\n",
    "// Test if both notations report the same result\n",
    "pipeNotation 1. 7. = mathNotation 1. 7.\n"
   ]
  },
  {
   "cell_type": "markdown",
   "metadata": {},
   "source": [
    "### Task 1.2\n",
    "\n",
    "Declare any function with the signature `int -> int -> int`. Make sure that all parameters are used within the function body.\n",
    "\n",
    "Is it a first order function or a higher order function?\n",
    "\n",
    "\n"
   ]
  },
  {
   "cell_type": "code",
   "execution_count": 16,
   "metadata": {
    "dotnet_interactive": {
     "language": "fsharp"
    },
    "vscode": {
     "languageId": "dotnet-interactive.fsharp"
    }
   },
   "outputs": [],
   "source": [
    "\n"
   ]
  },
  {
   "cell_type": "markdown",
   "metadata": {},
   "source": [
    "### Task 1.3\n",
    "\n",
    "\n",
    "Declare any function with the signature `int -> int -> (int -> int -> int) -> float`. Make sure that all parameters are used within the function body.\n",
    "\n",
    "Is it a first order function or a higher order function?\n",
    "\n",
    "\n"
   ]
  },
  {
   "cell_type": "code",
   "execution_count": 16,
   "metadata": {
    "dotnet_interactive": {
     "language": "fsharp"
    },
    "vscode": {
     "languageId": "dotnet-interactive.fsharp"
    }
   },
   "outputs": [],
   "source": [
    "\n"
   ]
  },
  {
   "cell_type": "markdown",
   "metadata": {},
   "source": [
    "### Task 1.4\n",
    "\n",
    "Call the function defined in `1.3`. Use two random values and the function from `1.2` as parameters.\n",
    "\n",
    "\n"
   ]
  },
  {
   "cell_type": "code",
   "execution_count": 16,
   "metadata": {
    "dotnet_interactive": {
     "language": "fsharp"
    },
    "vscode": {
     "languageId": "dotnet-interactive.fsharp"
    }
   },
   "outputs": [],
   "source": [
    "\n"
   ]
  },
  {
   "cell_type": "markdown",
   "metadata": {},
   "source": [
    "## Programming with functions\n",
    "\n",
    "### Task 2.1.1\n",
    "\n",
    "Below you can see a record type called `Cat`. Create two random values of type `Cat` and bind them to random names.\n",
    "Have a look at `Exercise 02` if you have any difficulties here.\n",
    "\n",
    "\n"
   ]
  },
  {
   "cell_type": "code",
   "execution_count": 5,
   "metadata": {
    "dotnet_interactive": {
     "language": "fsharp"
    },
    "vscode": {
     "languageId": "dotnet-interactive.fsharp"
    }
   },
   "outputs": [],
   "source": [
    "type Cat = {\n",
    "    Name    : string\n",
    "    Weight  : float\n",
    "    Color   : string\n",
    "    Age     : int}\n"
   ]
  },
  {
   "cell_type": "markdown",
   "metadata": {},
   "source": [
    "### Task 2.1.2\n",
    "\n",
    "Declare a function called `getWeight`, that takes a `Cat` as parameter and reports its weight.\n",
    "\n",
    "\n"
   ]
  },
  {
   "cell_type": "code",
   "execution_count": 16,
   "metadata": {
    "dotnet_interactive": {
     "language": "fsharp"
    },
    "vscode": {
     "languageId": "dotnet-interactive.fsharp"
    }
   },
   "outputs": [],
   "source": [
    "\n"
   ]
  },
  {
   "cell_type": "markdown",
   "metadata": {},
   "source": [
    "### Task 2.1.3\n",
    "\n",
    "You cannot apply standard mathematical operators to record types. \n",
    "Declare a function called `applyToWeight` that receives two parameters of type Cat (c1 and c2) and one parameter of type `(float -> float -> float)` (f). \n",
    "In the function body, the function f should be applied to the weights of the two cats c1 and c2.\n",
    "\n",
    "Clue: Define the types of the parameters. \n",
    "\n",
    "\n"
   ]
  },
  {
   "cell_type": "code",
   "execution_count": 16,
   "metadata": {
    "dotnet_interactive": {
     "language": "fsharp"
    },
    "vscode": {
     "languageId": "dotnet-interactive.fsharp"
    }
   },
   "outputs": [],
   "source": [
    "\n"
   ]
  },
  {
   "cell_type": "markdown",
   "metadata": {},
   "source": [
    "### Task 2.1.4\n",
    " \n",
    "Apply the function `applyToWeight` with the previously created Cats and the function `averageOfTwo`.  \n",
    "\n",
    "\n"
   ]
  },
  {
   "cell_type": "code",
   "execution_count": 8,
   "metadata": {
    "dotnet_interactive": {
     "language": "fsharp"
    },
    "vscode": {
     "languageId": "dotnet-interactive.fsharp"
    }
   },
   "outputs": [],
   "source": [
    "let averageOfTwo (a:float) b =\n",
    "    (a + b) / 2.\n"
   ]
  },
  {
   "cell_type": "markdown",
   "metadata": {},
   "source": [
    "### Task 2.2 (optional)\n",
    "\n",
    "This task does not have to be solved! It serves to create a cat list that is required later.\n",
    "If you want, you can comment on what happens in the indicated lines (extra point).\n",
    "\n",
    "\n"
   ]
  },
  {
   "cell_type": "code",
   "execution_count": 9,
   "metadata": {
    "dotnet_interactive": {
     "language": "fsharp"
    },
    "vscode": {
     "languageId": "dotnet-interactive.fsharp"
    }
   },
   "outputs": [],
   "source": [
    "// This is a random number generator. \n",
    "// randomNumberGenerator.NextDouble() creates a random float between 0. and 1.\n",
    "// randomNumberGenerator.Next(x) creates a random int between 0 and x-1.\n",
    "let randomNumberGenerator = System.Random()\n",
    "\n",
    "// Here a function is defined that creates a value of typ Cat.\n",
    "let createRandomCat (i :int) = \n",
    "    // Comment: \n",
    "    let name   = \"Cat \" + string i \n",
    "    // Comment: \n",
    "    let age    = randomNumberGenerator.Next(16)\n",
    "    // Comment: \n",
    "    let weight = 3. + 5. * randomNumberGenerator.NextDouble()\n",
    "    let color  = \n",
    "        let colors = [\"white\";\"red\";\"black\";\"grey\";\"mixed\"]\n",
    "        // Comment: \n",
    "        colors.[i%5]\n",
    "    // Comment: \n",
    "    {\n",
    "    Name    = name\n",
    "    Weight  = weight\n",
    "    Color   = color   \n",
    "    Age     = age\n",
    "    }\n",
    "\n",
    "// Comment: \n",
    "let catList = [for i=1 to 60 do yield createRandomCat i]\n"
   ]
  },
  {
   "cell_type": "markdown",
   "metadata": {},
   "source": [
    "### Task 2.3\n",
    "\n",
    "Create a float list with the values from 0. to 100. and bind it to the name `nList`.\n",
    "\n",
    "\n"
   ]
  },
  {
   "cell_type": "code",
   "execution_count": 16,
   "metadata": {
    "dotnet_interactive": {
     "language": "fsharp"
    },
    "vscode": {
     "languageId": "dotnet-interactive.fsharp"
    }
   },
   "outputs": [],
   "source": [
    "\n"
   ]
  },
  {
   "cell_type": "markdown",
   "metadata": {},
   "source": [
    "### Task 2.4\n",
    "\n",
    "With map functions, one can apply a function that can be applied to individual elements to all elements of a list.\n",
    "Parameters of the `map` function:\n",
    "\n",
    "  1. `doSomethingWithX`:  Function to be applied to each list item\n",
    "\n",
    "  2. `list`:              List of elements to which `doSomeThingWithX` is to be applied\n",
    "\n",
    "`List.map` is applied as follows:\n",
    "\n",
    "  - `List.map (fun listElement -> doSomethingWithX listElement) list`\n",
    "\n",
    "Apply the function `square` (Task 1.1) to each element of `nList`. Bind the result to the name `nListSquared`.\n",
    "\n",
    "\n"
   ]
  },
  {
   "cell_type": "code",
   "execution_count": 16,
   "metadata": {
    "dotnet_interactive": {
     "language": "fsharp"
    },
    "vscode": {
     "languageId": "dotnet-interactive.fsharp"
    }
   },
   "outputs": [],
   "source": [
    "\n"
   ]
  },
  {
   "cell_type": "markdown",
   "metadata": {},
   "source": [
    "### Task 2.5\n",
    "\n",
    "Extract all weigts from `catList` and bind it to the name `catWeights`\n",
    "\n",
    "Clue: Search the `List` module for a suitable function.\n",
    "\n",
    "\n"
   ]
  },
  {
   "cell_type": "code",
   "execution_count": 16,
   "metadata": {
    "dotnet_interactive": {
     "language": "fsharp"
    },
    "vscode": {
     "languageId": "dotnet-interactive.fsharp"
    }
   },
   "outputs": [],
   "source": [
    "\n"
   ]
  },
  {
   "cell_type": "markdown",
   "metadata": {},
   "source": [
    "### Task 2.6\n",
    "\n",
    "Calculate the sum of the values from `nList`. \n",
    "\n",
    "\n"
   ]
  },
  {
   "cell_type": "code",
   "execution_count": 16,
   "metadata": {
    "dotnet_interactive": {
     "language": "fsharp"
    },
    "vscode": {
     "languageId": "dotnet-interactive.fsharp"
    }
   },
   "outputs": [],
   "source": [
    "\n"
   ]
  },
  {
   "cell_type": "markdown",
   "metadata": {},
   "source": [
    "### Task 2.7\n",
    "\n",
    "Filter all list items that are divisible by 15.\n",
    "\n",
    "Clue: Make use of `List.filter` and the given function.\n",
    "\n",
    "\n"
   ]
  },
  {
   "cell_type": "code",
   "execution_count": 14,
   "metadata": {
    "dotnet_interactive": {
     "language": "fsharp"
    },
    "vscode": {
     "languageId": "dotnet-interactive.fsharp"
    }
   },
   "outputs": [],
   "source": [
    "let isDivisibleWithoutRemainder denominator numerator =\n",
    "    numerator % denominator = 0.\n"
   ]
  },
  {
   "cell_type": "markdown",
   "metadata": {},
   "source": [
    "### Task 2.8\n",
    "\n",
    "Calculate the sum of the squares of the individual values from nList.\n",
    "Try to achieve this in one step with `List.fold`.\n",
    "\n",
    "\n"
   ]
  },
  {
   "cell_type": "code",
   "execution_count": 16,
   "metadata": {
    "dotnet_interactive": {
     "language": "fsharp"
    },
    "vscode": {
     "languageId": "dotnet-interactive.fsharp"
    }
   },
   "outputs": [],
   "source": [
    "\n"
   ]
  },
  {
   "cell_type": "markdown",
   "metadata": {},
   "source": [
    "### Task 2.9\n",
    "\n",
    "Calculate the average weight of the cats from `catList`. \n",
    "\n",
    "Clue: The task can either be solved by using functions from the `List` module, or you can solve it by using a single fold function (for experts).\n",
    "\n",
    "\n"
   ]
  },
  {
   "cell_type": "code",
   "execution_count": 16,
   "metadata": {
    "dotnet_interactive": {
     "language": "fsharp"
    },
    "vscode": {
     "languageId": "dotnet-interactive.fsharp"
    }
   },
   "outputs": [],
   "source": [
    "\n"
   ]
  }
 ],
 "metadata": {
  "kernelspec": {
   "display_name": ".NET (F#)",
   "language": "F#",
   "name": ".net-fsharp"
  },
  "langauge_info": {
   "file_extension": ".fs",
   "mimetype": "text/x-fsharp",
   "name": "C#",
   "pygments_lexer": "fsharp",
   "version": "4.5"
  }
 },
 "nbformat": 4,
 "nbformat_minor": 1
}
