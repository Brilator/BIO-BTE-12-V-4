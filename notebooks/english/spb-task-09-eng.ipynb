{
 "cells": [
  {
   "cell_type": "markdown",
   "metadata": {},
   "source": [
    "# SPB IX - Data access\n",
    "\n",
    "---\n",
    "\n",
    "In this task you'll learn about the exploration and manipulation of tabular data using `data frames`. For this, first we take a look at the core building block of data frames: the `series`. These then get combined to a data frame.\n",
    "\n",
    "### The following documentation may be helpful in completing the tasks:\n",
    "\n",
    "* Deedle: https://fslab.org/Deedle"
   ]
  },
  {
   "cell_type": "markdown",
   "metadata": {},
   "source": [
    "\n",
    "### Referencing the necessary libraries\n",
    "\n",
    "The following cell must be executed once, otherwise you can not use the referenced libraries:"
   ]
  },
  {
   "cell_type": "code",
   "execution_count": null,
   "metadata": {
    "dotnet_interactive": {
     "language": "fsharp"
    },
    "vscode": {
     "languageId": "dotnet-interactive.fsharp"
    }
   },
   "outputs": [
    {
     "data": {
      "text/html": [
       "<div><div></div><div></div><div><strong>Installed Packages</strong><ul><li><span>Deedle, 3.0.0-beta.1</span></li><li><span>Deedle.Interactive, 3.0.0-beta.1</span></li></ul></div></div>"
      ]
     },
     "metadata": {},
     "output_type": "display_data"
    }
   ],
   "source": [
    "#r \"nuget: Deedle, 3.0.0-beta.1\"\n",
    "#r \"nuget: Deedle.Interactive, 3.0.0-beta.1\"\n",
    "open Deedle"
   ]
  },
  {
   "cell_type": "markdown",
   "metadata": {},
   "source": [
    "### Working with Deedle\n",
    "Should you see this error message:\n",
    "```\n",
    "9_Data_exploration_using_FSharp.fsx(113,5): error FS0030: Value restriction. The value 'cpw'' has been inferred to have generic type val cpw' : Series<(string * int),'_a>      \n",
    "Either define 'cpw'' as a simple data term, make it a function with explicit arguments or, if you do not intend for it to be generic, add a type annotation.\n",
    "```\n",
    "Then you should resort to an explicit type annotation.\n",
    "Instead of:\n",
    "```\n",
    "let cpw' = persons |> Frame.getCol \"cpw\"\n",
    "```\n",
    "You should use:\n",
    "```\n",
    "let cpw' :Series<int,float> = persons |> Frame.getCol \"cpw\"\n"
   ]
  },
  {
   "cell_type": "code",
   "execution_count": null,
   "metadata": {
    "dotnet_interactive": {
     "language": "fsharp"
    },
    "vscode": {
     "languageId": "dotnet-interactive.fsharp"
    }
   },
   "outputs": [
    {
     "data": {
      "text/html": [
       "<div>\r\n",
       "<style scoped>,\r\n",
       "  .series tbody tr th:only-of-type {\r\n",
       "vertical-align: middle;\r\n",
       "  }\r\n",
       "  .series tbody tr {,\r\n",
       "vertical-align: top\r\n",
       "  }\r\n",
       "  .no-wrap {\r\n",
       "white-space: nowrap;\r\n",
       "  }\r\n",
       "</style>\r\n",
       "<table border='1' class='series'>\r\n",
       "<tr><td><b>0</b></td><td class=\"no-wrap\">-></td><td>Kevin</td></tr><tr><td><b>1</b></td><td class=\"no-wrap\">-></td><td>Lukas</td></tr><tr><td><b>2</b></td><td class=\"no-wrap\">-></td><td>Benedikt</td></tr><tr><td><b>3</b></td><td class=\"no-wrap\">-></td><td>Michael</td></tr>\r\n",
       "</table>\r\n",
       "<p>Series of <b>4</b> items<p><b>0</b> missing values</p>\r\n",
       "</div>\r\n"
      ]
     },
     "metadata": {},
     "output_type": "display_data"
    }
   ],
   "source": [
    "Series.ofValues [\"Kevin\";\"Lukas\";\"Benedikt\";\"Michael\"]"
   ]
  },
  {
   "cell_type": "markdown",
   "metadata": {},
   "source": [
    "# Task 1: Basics"
   ]
  },
  {
   "cell_type": "markdown",
   "metadata": {},
   "source": [
    "## Task 1.1\n",
    "Given are 4 series of equal length. Use the function `Series.mapValues` to double the values of \"coffeesPerWeek\"."
   ]
  },
  {
   "cell_type": "code",
   "execution_count": null,
   "metadata": {
    "dotnet_interactive": {
     "language": "fsharp"
    },
    "vscode": {
     "languageId": "dotnet-interactive.fsharp"
    }
   },
   "outputs": [],
   "source": [
    "let firstNames      = Series.ofValues [\"Kevin\";\"Lukas\";\"Benedikt\";\"Michael\"] \n",
    "let coffeesPerWeek  = Series.ofValues [15;12;10;11] \n",
    "let lastNames       = Series.ofValues [\"Schneider\";\"Weil\";\"Venn\";\"Schroda\"]  \n",
    "let group           = Series.ofValues [\"CSB\";\"CSB\";\"CSB\";\"MBS\"]\n"
   ]
  },
  {
   "cell_type": "markdown",
   "metadata": {},
   "source": [
    "## Task 1.2\n",
    "Create a frame named `\"persons\"` based on the 4 given Series.\n",
    "\n"
   ]
  },
  {
   "cell_type": "code",
   "execution_count": 13,
   "metadata": {
    "dotnet_interactive": {
     "language": "fsharp"
    },
    "vscode": {
     "languageId": "dotnet-interactive.fsharp"
    }
   },
   "outputs": [],
   "source": []
  },
  {
   "cell_type": "markdown",
   "metadata": {},
   "source": [
    "## Task 1.3\n",
    "Add a column named `\"sodasPerWeek\"` to the frame. Bind the resulting frame to a name.\n",
    "Tip: Create a `Series<int,int>` first. Use `Frame.addCol`\n",
    "\n"
   ]
  },
  {
   "cell_type": "code",
   "execution_count": 13,
   "metadata": {
    "dotnet_interactive": {
     "language": "fsharp"
    },
    "vscode": {
     "languageId": "dotnet-interactive.fsharp"
    }
   },
   "outputs": [],
   "source": []
  },
  {
   "cell_type": "markdown",
   "metadata": {},
   "source": [
    "## Task 1.4\n",
    "Add the columns `\"sodasPerWeek\"` and `\"coffeesPerWeek\"`. Add the resulting series as a column with the title `\"allPurchases\"` to the previously created frame.\n",
    "Tip 1: This task can be solved in several ways.\n",
    "Tip 2: Via `Series.values` you can access the values of each Series. Then you could iterate over both collections with `Seq.map2`. \n",
    "\n"
   ]
  },
  {
   "cell_type": "code",
   "execution_count": 13,
   "metadata": {
    "dotnet_interactive": {
     "language": "fsharp"
    },
    "vscode": {
     "languageId": "dotnet-interactive.fsharp"
    }
   },
   "outputs": [],
   "source": []
  },
  {
   "cell_type": "markdown",
   "metadata": {},
   "source": [
    "## Task 1.5\n",
    "Determine the sum of `\"allPurchases\"`.\n",
    "\n"
   ]
  },
  {
   "cell_type": "code",
   "execution_count": 13,
   "metadata": {
    "dotnet_interactive": {
     "language": "fsharp"
    },
    "vscode": {
     "languageId": "dotnet-interactive.fsharp"
    }
   },
   "outputs": [],
   "source": []
  },
  {
   "cell_type": "markdown",
   "metadata": {},
   "source": [
    "# Task 2: Frame Operations\n",
    "\n",
    "\n"
   ]
  },
  {
   "cell_type": "markdown",
   "metadata": {},
   "source": [
    "## Task 2.1\n",
    "Group the rows of the frame from Task 1.2 according to the elements of the `\"group\"` column.\n",
    "Tip: Explicit type annotation (see: [Working with Deedle](#Working-with-Deedle)). "
   ]
  },
  {
   "cell_type": "code",
   "execution_count": null,
   "metadata": {
    "dotnet_interactive": {
     "language": "fsharp"
    },
    "vscode": {
     "languageId": "dotnet-interactive.fsharp"
    }
   },
   "outputs": [],
   "source": []
  },
  {
   "cell_type": "markdown",
   "metadata": {},
   "source": [
    "## Task 2.2\n",
    "Results tables often contain more than 40 columns. However, only a few are interesting for individual analysis. \n",
    "It is therefore often useful to create a frame that contains fewer columns. Use the function `Frame.sliceCols` to create a frame on the base of the \n",
    "frame from Task 1.2 to create a frame that contains only the columns `\"lastNames\"` and `\"coffeesPerWeek\"`.\n",
    "\n"
   ]
  },
  {
   "cell_type": "code",
   "execution_count": 13,
   "metadata": {
    "dotnet_interactive": {
     "language": "fsharp"
    },
    "vscode": {
     "languageId": "dotnet-interactive.fsharp"
    }
   },
   "outputs": [],
   "source": []
  },
  {
   "cell_type": "markdown",
   "metadata": {},
   "source": [
    "## Task 2.3\n",
    "Many times you want to aggregate based on groupings. Calculate the sum of the `\"coffeePerWeek\"` column for each group.\n",
    "Tip: Extract the \"coffeePerWeek\" column from the result of Task 2.1. Proceed as demonstrated in the lecture. \n",
    "\n"
   ]
  },
  {
   "cell_type": "code",
   "execution_count": 13,
   "metadata": {
    "dotnet_interactive": {
     "language": "fsharp"
    },
    "vscode": {
     "languageId": "dotnet-interactive.fsharp"
    }
   },
   "outputs": [],
   "source": []
  },
  {
   "cell_type": "markdown",
   "metadata": {},
   "source": [
    "## Task 2.4\n",
    "Often you want to save intermediate results. Save the frame from task 1.2 as a CSV file. Use `';'` as separator.\n",
    "\n"
   ]
  },
  {
   "cell_type": "code",
   "execution_count": 13,
   "metadata": {
    "dotnet_interactive": {
     "language": "fsharp"
    },
    "vscode": {
     "languageId": "dotnet-interactive.fsharp"
    }
   },
   "outputs": [],
   "source": []
  },
  {
   "cell_type": "markdown",
   "metadata": {},
   "source": [
    "## Task 2.5\n",
    "Use the function `Frame.ReadCsv` to read the file again.\n",
    "\n"
   ]
  },
  {
   "cell_type": "code",
   "execution_count": 13,
   "metadata": {
    "dotnet_interactive": {
     "language": "fsharp"
    },
    "vscode": {
     "languageId": "dotnet-interactive.fsharp"
    }
   },
   "outputs": [],
   "source": []
  }
 ],
 "metadata": {
  "kernelspec": {
   "display_name": ".NET (F#)",
   "language": "F#",
   "name": ".net-fsharp"
  },
  "langauge_info": {
   "file_extension": ".fs",
   "mimetype": "text/x-fsharp",
   "name": "C#",
   "pygments_lexer": "fsharp",
   "version": "4.5"
  }
 },
 "nbformat": 4,
 "nbformat_minor": 1
}
