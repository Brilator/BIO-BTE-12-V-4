
        {
            "cells": [
          {
           "cell_type": "markdown",
           "metadata": {},
           
           "source": ["// can\u0027t yet format YamlFrontmatter ([\"title: Task 06\"; \"category: Tasks(english)\"; \"categoryindex: 3\"; \"index: 7\"], Some { StartLine = 2 StartColumn = 0 EndLine = 6 EndColumn = 8 }) to pynb markdown\n",
"\n",
"[![Binder](/BIO-BTE-12-V-4/img/badge-binder.svg)](https://mybinder.org/v2/gh/csbiology/BIO-BTE-12-V-4/gh-pages?filepath=tasks/english/wpb-task-06.ipynb)\u0026emsp;\n",
"[![Script](/BIO-BTE-12-V-4/img/badge-script.svg)](/BIO-BTE-12-V-4/tasks/english/wpb-task-06.fsx)\u0026emsp;\n",
"[![Notebook](/BIO-BTE-12-V-4/img/badge-notebook.svg)](/BIO-BTE-12-V-4/tasks/english/wpb-task-06.ipynb)\n",
"\n",
"# Typen-gesteuertes Design​ - Tic Tac Toe\n",
"\n",
"***Disclaimer 1*** we included some blueprints of types or values which we think you might need (e.g. ValidMoves or diagonals), do not forget to implement them yourself!\n",
"\n",
"***Disclaimer 2*** This task is your chance to farm some points! We will evaluate it as a \u0027bonus\u0027. You can only \n",
"collect additional points and thereby only raise the percentage of tasks solved correctly. Have fun!\n",
"\n",
"### Task 1.1:\n",
"\n",
"This is a tic tac toe board:\n",
"```\n",
"    |-|X|-|\n",
"    |X|O|-|\n",
"    |O|-|-|\n",
"```\n",
"The board consists of 9 Cells. \n",
"Each cells can have one of three states:\n",
"\n",
"i.   Empty \n",
"\n",
"ii.  Occupied by player X \n",
"\n",
"iii. Occupied by player Y. \n",
"\n",
"Define a type abstracting the possible state of a cell.\n",
"\n"]
          }
,
          {
           "cell_type": "code",
           "metadata": {},
            "execution_count": 9, "outputs": [], 
           "source": ["\n"]
          }
,
          {
           "cell_type": "markdown",
           "metadata": {},
           
           "source": ["### Task 1.2\n",
"\n",
"The relative positions of a cell is important for the game. This means that we have to model the position of a cell.\n",
"Since the number of cells is finit (9) and the field is quadratic, we have a finit number of possible positions. Define\n",
"the types needed to specify the cellpositions as: HorizontalPosition * VerticalPosition\n",
"\n",
"\n"]
          }
,
          {
           "cell_type": "code",
           "metadata": {},
            "execution_count": 9, "outputs": [], 
           "source": ["\n"]
          }
,
          {
           "cell_type": "markdown",
           "metadata": {},
           
           "source": ["### Task 1.3\n",
"\n",
"Given the state of a cell and its position we can describe it completely. Declare a record type which contains this information.\n",
"\n"]
          }
,
          {
           "cell_type": "code",
           "metadata": {},
            "execution_count": 9, "outputs": [], 
           "source": ["\n"]
          }
,
          {
           "cell_type": "markdown",
           "metadata": {},
           
           "source": ["### Task 1.4\n",
"\n",
"We can describe the state of the board if we know the state of each cell. Define a type to model the tic tac toe board\n",
"\n",
"\n"]
          }
,
          {
           "cell_type": "code",
           "metadata": {},
            "execution_count": 9, "outputs": [], 
           "source": ["\n"]
          }
,
          {
           "cell_type": "markdown",
           "metadata": {},
           
           "source": ["### Task 2.1\n",
"\n",
"Now you should be equipped with all types to describe the board. Given a schematic representation of a possible\n",
"game:\n",
"                                                                                                                                       \n",
"```                                                                                                                                                                                                                                                                   \n",
"     want                    |-|-|-|                                               \n",
"     to         ----------\u003e  |-|-|-| and list of possible moves (or empty cells) OR Result (winner X, winner Y or draw)\n",
"     play         action A   |-|-|-|                                     \n",
"                                                |\n",
"                                                | action B  \n",
"                                                |\n",
"                                                v\n",
"                             |X|-|-|                                               \n",
"                             |-|-|-| and list of possible moves (or empty cells) OR Result (winner X, winner Y or draw)                                                                \n",
"                             |-|-|-|                                     \n",
"                                                |\n",
"                                                | action C \n",
"                                                |\n",
"                                                v  \n",
"                             |X|-|-|                                               \n",
"                             |O|-|-| and list of possible moves (or empty cells) OR Result (winner X, winner Y or draw)\n",
"                             |-|-|-|                                     \n",
"                                                |\n",
"                                                | action B \n",
"                                                |\n",
"                                                v  \n",
"                             |X|-|-|                                               \n",
"                             |O|X|-| and list of possible moves (or empty cells) OR Result (winner X, winner Y or draw)\n",
"                             |-|-|-|                                     \n",
"```                              \n",
"Actions (moves) A, B and C either end the game (Winner X, Winner Y or draw), or result in an updated version of the board, a list of still empty cells\n",
"and the next actions. To model this we can use a Union case:\n",
"```fsharp\n",
"type ValidMoves = {\n",
"        Moves:List\u003cCellPosition\u003e\n",
"    }\n",
"\n",
"type MoveResult = \n",
"    | Win of Player\n",
"    | Tie \n",
"    | Move of Player*GameState*ValidMoves\n",
"```\n",
"\n",
"Define actions A, B and C as types. Use the UnionCase MoveResult.\n",
"\n"]
          }
,
          {
           "cell_type": "code",
           "metadata": {},
            "execution_count": 9, "outputs": [], 
           "source": ["\n"]
          }
,
          {
           "cell_type": "markdown",
           "metadata": {},
           
           "source": ["### Task 2.2\n",
"Implement a function that creates the board. The return value of the function\n",
"should be of type MoveResult. Player X should start the game.\n",
"Hint: Use lists of all horizontal and vertical positions.\n",
"\n",
"```fsharp\n",
"let allHorizontal = [Left;Middle;Right]\n",
"let allVertical   = [Top;Center;Bottom] \n",
"```\n",
"\n"]
          }
,
          {
           "cell_type": "code",
           "metadata": {},
            "execution_count": 9, "outputs": [], 
           "source": ["\n"]
          }
,
          {
           "cell_type": "markdown",
           "metadata": {},
           
           "source": ["### Task 2.3\n",
"Befor we implement the moves of player X and player Y, we try to anticipate what this function has to do.\n",
"The function will manipulate the game. Implement a funtion with a parameter of type Gamestate, a parameter of\n",
"type CellPosition and a Parameter of type Player. The return value equals the updated gamestate.\n",
"\n"]
          }
,
          {
           "cell_type": "code",
           "metadata": {},
            "execution_count": 9, "outputs": [], 
           "source": ["\n"]
          }
,
          {
           "cell_type": "markdown",
           "metadata": {},
           
           "source": ["### Task 2.4\n",
"Of course, the function has to check if the game has been won by either party.\n",
"So we ask the question: how to prove this? The game is over, if one player occupies a column, row\n",
"or diagonal completely. Implement a funciton with parameter of type GameState and a parameter of type player.\n",
"The function should return true, if the player won the game.\n",
"Hint: Use the lists of all possible rows, columns and diagonals:\n",
"```fsharp\n",
"let rows =\n",
"    let makeHLine v = [for h in allHorizontal do yield (h,v)]\n",
"    let rows = [for v in allVertical do yield makeHLine v] \n",
"    rows\n",
"\n",
"let columns =\n",
"    let makeVLine h = [for v in allVertical do yield (h,v)]\n",
"    let columns = [for h in allHorizontal do yield makeVLine h] \n",
"    columns\n",
" \n",
"let diagonals =\n",
"    let diagonal1 = [Left,Top; Middle,Center; Right,Bottom]\n",
"    let diagonal2 = [Left,Bottom; Middle,Center; Right,Top]\n",
"    [diagonal1;diagonal2] \n",
"```\n",
"\n"]
          }
,
          {
           "cell_type": "code",
           "metadata": {},
            "execution_count": 9, "outputs": [], 
           "source": ["\n"]
          }
,
          {
           "cell_type": "markdown",
           "metadata": {},
           
           "source": ["### Task 2.5\n",
"The game can end as a draw. This is always the case if no one won the game and all cells have a state different from empty. \n",
"Write a function that checks for a draw:\n",
"\n"]
          }
,
          {
           "cell_type": "code",
           "metadata": {},
            "execution_count": 9, "outputs": [], 
           "source": ["\n"]
          }
,
          {
           "cell_type": "markdown",
           "metadata": {},
           
           "source": [".... With the abstraction done and all these functions at hand, we will finish the game together during the meeting...\n",
"\n"]
          }],
            "metadata": {
            "kernelspec": {"display_name": ".NET (F#)", "language": "F#", "name": ".net-fsharp"},
            "langauge_info": {
        "file_extension": ".fs",
        "mimetype": "text/x-fsharp",
        "name": "C#",
        "pygments_lexer": "fsharp",
        "version": "4.5"
        }
        },
            "nbformat": 4,
            "nbformat_minor": 1
        }
        

