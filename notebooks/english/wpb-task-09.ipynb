{
 "cells": [
  {
   "cell_type": "markdown",
   "metadata": {},
   "source": [
    "# Task09 - Embracing bioinformatics in F#\n",
    "\n",
    "You can find the Plotly.NET documentation here: https://plotly.net\n",
    "\n",
    "You can find the BioFSharp documentation here: https://csbiology.github.io/BioFSharp/\n",
    "\n"
   ]
  },
  {
   "cell_type": "markdown",
   "metadata": {},
   "source": [
    "\n",
    "## Referencing Plotly.NET and BioFSharp\n",
    "\n",
    "These lines must always be executed at least once, otherwise Plotly.NET and BioFSharp cannot be used:\n"
   ]
  },
  {
   "cell_type": "code",
   "execution_count": 1,
   "metadata": {
    "vscode": {
     "languageId": "fsharp"
    }
   },
   "outputs": [],
   "source": [
    "#r \"nuget: Plotly.NET, 2.0.0-preview.1\"\n",
    "#r \"nuget: Plotly.NET.Interactive, 2.0.0-preview.1\"\n",
    "#r \"nuget: BioFSharp, 1.2.0\"\n",
    "#r \"nuget: BioFSharp.IO, 1.2.0\"\n",
    "\n",
    "// Plotly.NET and BioFSharp are opened here.\n",
    "open Plotly.NET\n",
    "open BioFSharp\n",
    "open BioFSharp.IO\n",
    "// Additional namespaces/modules are also opened here to simplify the signatures.\n",
    "open BioArray\n",
    "open BioSeq\n",
    "open AminoAcids\n",
    "open Nucleotides\n"
   ]
  },
  {
   "cell_type": "markdown",
   "metadata": {},
   "source": [
    "## Copying paths\n",
    "\n",
    "Reading in data will be discussed in more detail in a later exercise. In this exercise a file must be referenced and read in via a path.\n",
    "How to get the absolute path of a file is shown here.\n",
    "\n",
    "### Windows\n",
    "\n",
    "* Navigate to the downloaded file\n",
    "\n",
    "* Press `Shift` + `Right click` on the file\n",
    "\n",
    "* Select \"Copy as path\" from the context menu:\n",
    "\n",
    "    ![](/BIO-BTE-12-V-4/img/PfadWindows.png)\n",
    "\n",
    "* With `Ctrl` + `V` you can paste the copied path at any position\n",
    "\n",
    "### Mac\n",
    "\n",
    "* Navigate to the downloaded file\n",
    "\n",
    "* Press with `ctrl-click` or `right-click` on the file\n",
    "\n",
    "* With the context menu open, also hold down `Alt`\n",
    "\n",
    "* Select \"Copy X as pathname\" from the context menu:\n",
    "\n",
    "    ![](/BIO-BTE-12-V-4/img/PfadMac.png)\n",
    "\n",
    "* With `Command` + `V` you can paste the copied path at any position\n",
    "\n",
    "## Task 1\n",
    "\n",
    "### Task 1.0\n",
    "\n",
    "`nucleotideString` is a sequence of nucleotides. This sequence is to be translated into the corresponding amino acid sequence.\n",
    "\n",
    "* A Convert 'nucleotideString' to a BioArray.\n",
    "* B Transcribe the result from A (the given sequence is the template strand)\n",
    "* C Translate the result from B with an offset of 0\n",
    "* D Create a function that gets a string, executes the previous steps and thus returns a `BioArray<AminoAcids>`.\n",
    "\n"
   ]
  },
  {
   "cell_type": "code",
   "execution_count": 2,
   "metadata": {
    "vscode": {
     "languageId": "fsharp"
    }
   },
   "outputs": [],
   "source": [
    "let nucleotideString = \"TACCATGCAGCTACCTAAGGATCACCGACT\"\n"
   ]
  },
  {
   "cell_type": "markdown",
   "metadata": {},
   "source": [
    "### Task 1.1\n",
    "\n",
    "Download the nucleotide fasta of yeast (S. cerevisiae) [here](https://github.com/CSBiology/BIO-BTE-12-V-4/releases/download/YeastFasta/orf_genomic_filtered.fasta). <br>\n",
    "Source: http://sgd-archive.yeastgenome.org/sequence/S288C_reference/orf_dna/ <br>\n",
    "Copy the path of the downloaded file and bind it to the name `filepath`.\n",
    "\n",
    "Read the fasta and bind the result to `yeastFasta`. Use the function \n",
    "`FastA.fromFile` and use `BioArray.ofNucleotideString` as converter function.\n",
    "Convert the resulting sequence into an array.\n",
    "\n"
   ]
  },
  {
   "cell_type": "code",
   "execution_count": 3,
   "metadata": {
    "vscode": {
     "languageId": "fsharp"
    }
   },
   "outputs": [],
   "source": [
    "let filepath = \"Your/Path/here\"\n"
   ]
  },
  {
   "cell_type": "markdown",
   "metadata": {},
   "source": [
    "### Task 1.2\n",
    "\n",
    "From the created sequence (yeastFasta), generate an array of headers and an array of\n",
    "sequences and bind these arrays to the names `header` and `dna`. \n",
    "Hint: `yeastFasta` consists of FastaItems, which are record types consisting of `header` and `sequence`. \n",
    "Since the whole exercise is based on these arrays, please report if it does not work.\n",
    "\n"
   ]
  },
  {
   "cell_type": "code",
   "execution_count": 11,
   "metadata": {
    "vscode": {
     "languageId": "fsharp"
    }
   },
   "outputs": [],
   "source": [
    "\n"
   ]
  },
  {
   "cell_type": "markdown",
   "metadata": {},
   "source": [
    "### Task 1.3\n",
    "\n",
    "Transcribe all nucleotide sequences from `dna` and bind the resulting array to the name \n",
    "`rna`.\n",
    "\n",
    "* Tip: The DNA sequences represent the coding strand.\n",
    "* Tip2: Use `Array.map` to iterate over the sequences (also applies to the following tasks).\n",
    "\n"
   ]
  },
  {
   "cell_type": "code",
   "execution_count": 11,
   "metadata": {
    "vscode": {
     "languageId": "fsharp"
    }
   },
   "outputs": [],
   "source": [
    "\n"
   ]
  },
  {
   "cell_type": "markdown",
   "metadata": {},
   "source": [
    "### Task 1.4\n",
    "\n",
    "In the following, translate the RNA sequences into proteins, that is, amino acid sequences.   \n",
    "Bind the result to the name `proteins`.\n",
    "\n"
   ]
  },
  {
   "cell_type": "code",
   "execution_count": 11,
   "metadata": {
    "vscode": {
     "languageId": "fsharp"
    }
   },
   "outputs": [],
   "source": [
    "\n"
   ]
  },
  {
   "cell_type": "markdown",
   "metadata": {},
   "source": [
    "### Task 1.5\n",
    "\n",
    "Now the proteins are to be digested tryptically to peptides (trypsin is a protease which cuts proteins \n",
    "into lysine (single letter code K) and arginine (single letter code R).\n",
    "The function 'Digestion.BioArray.digest' expects a proteinID. Here any integer \n",
    "can be used. Ideally, the index of the respective amino acid sequence should be entered here.\n",
    "Bind the result to 'digestedProteins'.\n",
    "\n"
   ]
  },
  {
   "cell_type": "code",
   "execution_count": 7,
   "metadata": {
    "vscode": {
     "languageId": "fsharp"
    }
   },
   "outputs": [],
   "source": [
    "let trypsin = Digestion.Table.Trypsin\n"
   ]
  },
  {
   "cell_type": "markdown",
   "metadata": {},
   "source": [
    "### Task 1.6\n",
    "\n",
    "No task<br>\n",
    "The section below creates FastA items from the individual peptides and writes them to a \n",
    "FastA file.\n",
    "\n"
   ]
  },
  {
   "cell_type": "code",
   "execution_count": 8,
   "metadata": {
    "vscode": {
     "languageId": "fsharp"
    }
   },
   "outputs": [],
   "source": [
    "let convertDigPepToFasta (digPep: Digestion.DigestedPeptide<'a>[])=\n",
    "    digPep\n",
    "    |> Array.mapi (fun index peptide ->\n",
    "        FastA.createFastaItem (sprintf \"Protein %i Fragment %i\" peptide.ProteinID index) peptide.PepSequence \n",
    "        )\n",
    "\n",
    "// __SOURCE_DIRECTORY__ defines the path to the folder where this script is located.   \n",
    "digestedProteins\n",
    "|> Array.map convertDigPepToFasta\n",
    "|> Array.concat\n",
    "|> FastA.write BioItem.symbol (__SOURCE_DIRECTORY__ + \"/digestedProteins.fasta\")\n"
   ]
  },
  {
   "cell_type": "markdown",
   "metadata": {},
   "source": [
    "### Task 2.1\n",
    "\n",
    "Below you can see the file path to the created peptide fasta.\n",
    "Read in the fasta and bind the result to 'peptides'. Use a suitable \n",
    "Converter function\n",
    "\n"
   ]
  },
  {
   "cell_type": "code",
   "execution_count": 9,
   "metadata": {
    "vscode": {
     "languageId": "fsharp"
    }
   },
   "outputs": [],
   "source": [
    "let pathToPeptides = __SOURCE_DIRECTORY__ + \"/digestedProteins.fasta\"\n"
   ]
  },
  {
   "cell_type": "markdown",
   "metadata": {},
   "source": [
    "### Task 2.2 (optional)\n",
    "\n",
    "Visualize the frequencies of the amino acids in a suitable diagram.\n",
    "e.g. histogram, column chart, pie chart or others.\n",
    "To convert `AminoAcids.AminoAcid` into chars (i.e. single letter codes) you can use `AminoAcids.symbol`.\n",
    "\n"
   ]
  },
  {
   "cell_type": "code",
   "execution_count": 11,
   "metadata": {
    "vscode": {
     "languageId": "fsharp"
    }
   },
   "outputs": [],
   "source": [
    "\n"
   ]
  },
  {
   "cell_type": "markdown",
   "metadata": {},
   "source": [
    "### Task 2.3\n",
    "\n",
    "Create a histogram of the molecular weights of all proteins in `proteins`.\n",
    "Examine the `BioArray` module for a suitable function. \n",
    "Label the axes.  \n",
    "\n"
   ]
  },
  {
   "cell_type": "code",
   "execution_count": 11,
   "metadata": {
    "vscode": {
     "languageId": "fsharp"
    }
   },
   "outputs": [],
   "source": [
    "\n"
   ]
  },
  {
   "cell_type": "markdown",
   "metadata": {},
   "source": [
    "### Task 2.4 (optional)\n",
    "\n",
    "There are also mitochondrial ORFs in the nucleotide fasta (Task 1.2). \n",
    "Divide `yeastFasta` into two arrays. In one should be all nucleotide sequences from 'Chr I' to \n",
    "Chr 'XVI', and in the other all from 'Chr Mito'. Transcribe the sequences and visualize the codon usage with the function defined below (possibly Chart.Stack 1?).\n",
    "\n",
    "* Highest percentage mitochondrion:           \n",
    "    * associated codon:\n",
    "    * associated amino acid:\n",
    "* Highest percentage nucleus:\n",
    "    * associated codon:\n",
    "    * associated amino acids:\n",
    "\n"
   ]
  },
  {
   "cell_type": "code",
   "execution_count": 12,
   "metadata": {
    "vscode": {
     "languageId": "fsharp"
    }
   },
   "outputs": [],
   "source": [
    "open Plotly.NET.Axis\n",
    "open Plotly.NET.StyleParam\n",
    "\n",
    "let myAxis title = LinearAxis.init(Title=title,Mirror=Mirror.All,Ticks=TickOptions.Inside,Showgrid=false,Showline=true,Zeroline=false)\n",
    "let styleChart x y chart = chart |> Chart.withX_Axis (myAxis x) |> Chart.withY_Axis (myAxis y)\n",
    "let plotCodonFrequency (rnaInput:BioArray.BioArray<Nucleotides.Nucleotide>[]) =\n",
    "    let allTripletts =\n",
    "        rnaInput\n",
    "        |> Array.map (fun singleRna -> Seq.chunkBySize 3 singleRna)\n",
    "        |> Seq.concat\n",
    "        |> Array.ofSeq\n",
    "    allTripletts\n",
    "    |> Seq.groupBy id\n",
    "    |> Seq.mapi (fun i (codon,items) -> \n",
    "        printfn \"step %i, Codon %A\" i codon\n",
    "        let aminoAcid = Nucleotides.CodonMap.[codon.[0],codon.[1],codon.[2]]\n",
    "        let codonString = sprintf \"%A%A%A\" codon.[0] codon.[1] codon.[2]\n",
    "        aminoAcid,codonString,float (Seq.length items) / float (Seq.length allTripletts))\n",
    "    |> Seq.sortBy (fun (_,co,_) -> co)\n",
    "    |> Seq.groupBy (fun (aa,_,_) -> aa)\n",
    "    |> Seq.map (fun (aa,codons) -> \n",
    "        codons\n",
    "        |> Seq.sortByDescending (fun (aa,codon,count) -> count)\n",
    "        |> Seq.map (fun (aa,codon,count) -> codon,count)\n",
    "        |> Chart.Column\n",
    "        |> Chart.withTraceName (sprintf \"%A\" aa)\n",
    "        )\n",
    "    |> Chart.Combine\n",
    "    |> styleChart \"\" \"rel. count (%)\"\n",
    "    |> Chart.withSize (900.,600.)\n",
    "    |> fun x -> \n",
    "        Chart.Show x\n",
    "        x\n"
   ]
  }
 ],
 "metadata": {
  "kernelspec": {
   "display_name": ".NET (F#)",
   "language": "F#",
   "name": ".net-fsharp"
  },
  "langauge_info": {
   "file_extension": ".fs",
   "mimetype": "text/x-fsharp",
   "name": "C#",
   "pygments_lexer": "fsharp",
   "version": "4.5"
  }
 },
 "nbformat": 4,
 "nbformat_minor": 1
}
