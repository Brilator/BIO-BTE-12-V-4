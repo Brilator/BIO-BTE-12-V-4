{
 "cells": [
  {
   "cell_type": "markdown",
   "metadata": {},
   "source": [
    "# Task10 - Data access\n",
    "\n",
    "The following documentation may be helpful in completing the tasks:\n",
    "\n",
    "* Plotly.NET: https://plotly.net\n",
    "* Deedle: https://fslab.org/Deedle\n",
    "* FSharp.Stats: https://fslab.org/FSharp.Stats\n",
    "\n"
   ]
  },
  {
   "cell_type": "markdown",
   "metadata": {},
   "source": [
    "\n",
    "### Referencing the necessary libraries\n",
    "\n",
    "The following cell must be executed once, otherwise you can not use the referenced libraries:"
   ]
  },
  {
   "cell_type": "code",
   "execution_count": 1,
   "metadata": {
    "dotnet_interactive": {
     "language": "fsharp"
    },
    "vscode": {
     "languageId": "dotnet-interactive.fsharp"
    }
   },
   "outputs": [],
   "source": [
    "#r \"nuget: Plotly.NET, 2.0.0-preview.1\"\n",
    "#r \"nuget: Plotly.NET.Interactive, 2.0.0-preview.1\"\n",
    "#r \"nuget: Deedle, 2.3.0\"\n",
    "#r \"nuget: FSharp.Stats, 0.4.1\"\n",
    "open Plotly.NET\n",
    "open Deedle\n",
    "open FSharp.Stats\n"
   ]
  },
  {
   "cell_type": "markdown",
   "metadata": {},
   "source": [
    "There are two different approaches for displaying charts, depending on if you are working in a Notebook or .fsx scripting environment:\n",
    "### Displaying Charts in .fsx scripts\n",
    "Use the `Chart.Show` function in .fsx scripts to display charts in a browser window:\n",
    "\n"
   ]
  },
  {
   "cell_type": "code",
   "execution_count": null,
   "metadata": {
    "dotnet_interactive": {
     "language": "fsharp"
    },
    "vscode": {
     "languageId": "dotnet-interactive.fsharp"
    }
   },
   "outputs": [],
   "source": [
    "Chart.Point([(1,1); (2,2)])\n",
    "|> Chart.withTitle \"hello from .fsx\"\n",
    "|> Chart.Show\n"
   ]
  },
  {
   "cell_type": "markdown",
   "metadata": {},
   "source": [
    "### Displaying charts in notebooks\n",
    "While you can also use `Chart.Show` in a notebook environment, you can directly display charts in the respective output \n",
    "cell as long as you end the input cell with the chart value (just as known from all other types) thanks to the .`Plotly.NET.Interactive` extension:\n",
    "\n"
   ]
  },
  {
   "cell_type": "code",
   "execution_count": 2,
   "metadata": {
    "dotnet_interactive": {
     "language": "fsharp"
    },
    "vscode": {
     "languageId": "dotnet-interactive.fsharp"
    }
   },
   "outputs": [],
   "source": [
    "Chart.Point([(1,1); (2,2)])\n",
    "|> Chart.withTitle \"hello inside the notebook\"\n"
   ]
  },
  {
   "cell_type": "markdown",
   "metadata": {},
   "source": [
    "### Working with Deedle\n",
    "Should you see this error message:\n",
    "```\n",
    "9_Data_exploration_using_FSharp.fsx(113,5): error FS0030: Value restriction. The value 'cpw'' has been inferred to have generic type val cpw' : Series<(string * int),'_a>      \n",
    "Either define 'cpw'' as a simple data term, make it a function with explicit arguments or, if you do not intend for it to be generic, add a type annotation.\n",
    "```\n",
    "Then you should resort to an explicit type annotation.\n",
    "Instead of:\n",
    "```\n",
    "let cpw' = persons |> Frame.getCol \"cpw\"\n",
    "```\n",
    "You should use:\n",
    "```\n",
    "let cpw' :Series<int,float> = persons |> Frame.getCol \"cpw\"\n",
    "```\n",
    "To display deedle objects in this notebook you can use the `.Print()` member:\n",
    "\n"
   ]
  },
  {
   "cell_type": "code",
   "execution_count": 3,
   "metadata": {
    "dotnet_interactive": {
     "language": "fsharp"
    },
    "vscode": {
     "languageId": "dotnet-interactive.fsharp"
    }
   },
   "outputs": [],
   "source": [
    "let firstNames' = Series.ofValues [\"Kevin\";\"Lukas\";\"Benedikt\";\"Michael\"]\n",
    "firstNames'.Print()\n"
   ]
  },
  {
   "cell_type": "markdown",
   "metadata": {},
   "source": [
    "## 1 Basics\n",
    "### Task 1.1\n",
    "Given are 4 series of equal length. Use the function `Series.mapValues` to double the values of \"coffeesPerWeek\".\n",
    "\n"
   ]
  },
  {
   "cell_type": "code",
   "execution_count": 4,
   "metadata": {
    "dotnet_interactive": {
     "language": "fsharp"
    },
    "vscode": {
     "languageId": "dotnet-interactive.fsharp"
    }
   },
   "outputs": [],
   "source": [
    "let firstNames      = Series.ofValues [\"Kevin\";\"Lukas\";\"Benedikt\";\"Michael\"] \n",
    "let coffeesPerWeek  = Series.ofValues [15;12;10;11] \n",
    "let lastNames       = Series.ofValues [\"Schneider\";\"Weil\";\"Venn\";\"Schroda\"]  \n",
    "let group           = Series.ofValues [\"CSB\";\"CSB\";\"CSB\";\"MBS\"]\n"
   ]
  },
  {
   "cell_type": "markdown",
   "metadata": {},
   "source": [
    "### Task 1.2\n",
    "Create a frame named \"persons\" based on the 4 given Series.\n",
    "\n"
   ]
  },
  {
   "cell_type": "code",
   "execution_count": 13,
   "metadata": {
    "dotnet_interactive": {
     "language": "fsharp"
    },
    "vscode": {
     "languageId": "dotnet-interactive.fsharp"
    }
   },
   "outputs": [],
   "source": [
    "\n"
   ]
  },
  {
   "cell_type": "markdown",
   "metadata": {},
   "source": [
    "### Task 1.3\n",
    "Add a column named \"sodasPerWeek\" to the frame. Bind the resulting frame to a name.\n",
    "Tip: Create a `Series<int,int>` first. Use `Frame.addCol`\n",
    "\n"
   ]
  },
  {
   "cell_type": "code",
   "execution_count": 13,
   "metadata": {
    "dotnet_interactive": {
     "language": "fsharp"
    },
    "vscode": {
     "languageId": "dotnet-interactive.fsharp"
    }
   },
   "outputs": [],
   "source": [
    "\n"
   ]
  },
  {
   "cell_type": "markdown",
   "metadata": {},
   "source": [
    "### Task 1.4\n",
    "Add the columns \"sodasPerWeek\" and \"coffeesPerWeek\". Add the resulting series as a column with the title \"allPurchases\" to the previously created frame.\n",
    "Tip 1: This task can be solved in several ways.\n",
    "Tip 2: Via `Series.values` you can access the values of each Series. Then you could iterate over both collections with `Seq.map2`. \n",
    "\n"
   ]
  },
  {
   "cell_type": "code",
   "execution_count": 13,
   "metadata": {
    "dotnet_interactive": {
     "language": "fsharp"
    },
    "vscode": {
     "languageId": "dotnet-interactive.fsharp"
    }
   },
   "outputs": [],
   "source": [
    "\n"
   ]
  },
  {
   "cell_type": "markdown",
   "metadata": {},
   "source": [
    "### Task 1.5\n",
    "Determine the sum of \"allPurchases\".\n",
    "\n"
   ]
  },
  {
   "cell_type": "code",
   "execution_count": 13,
   "metadata": {
    "dotnet_interactive": {
     "language": "fsharp"
    },
    "vscode": {
     "languageId": "dotnet-interactive.fsharp"
    }
   },
   "outputs": [],
   "source": [
    "\n"
   ]
  },
  {
   "cell_type": "markdown",
   "metadata": {},
   "source": [
    "## 2 Frame Operationen\n",
    "### Task 2.1\n",
    "Group the rows of the frame from Task 1.2 according to the elements of the \"group\" column.\n",
    "Tip: Explicit type annotation (see: [Working with Deedle](#Working-with-Deedle)). \n",
    "\n"
   ]
  },
  {
   "cell_type": "code",
   "execution_count": 13,
   "metadata": {
    "dotnet_interactive": {
     "language": "fsharp"
    },
    "vscode": {
     "languageId": "dotnet-interactive.fsharp"
    }
   },
   "outputs": [],
   "source": [
    "\n"
   ]
  },
  {
   "cell_type": "markdown",
   "metadata": {},
   "source": [
    "### Task 2.2\n",
    "Results tables often contain more than 40 columns. However, only a few are interesting for individual analysis. \n",
    "It is therefore often useful to create a frame that contains fewer columns. Use the function `Frame.sliceCols` to create a frame on the base of the \n",
    "frame from Task 1.2 to create a frame that contains only the columns \"lastNames\" and \"coffeesPerWeek\".\n",
    "\n"
   ]
  },
  {
   "cell_type": "code",
   "execution_count": 13,
   "metadata": {
    "dotnet_interactive": {
     "language": "fsharp"
    },
    "vscode": {
     "languageId": "dotnet-interactive.fsharp"
    }
   },
   "outputs": [],
   "source": [
    "\n"
   ]
  },
  {
   "cell_type": "markdown",
   "metadata": {},
   "source": [
    "### Task 2.3\n",
    "Many times you want to aggregate based on groupings. Calculate the sum of the \"coffeePerWeek\" column for each group.\n",
    "Tip: Extract the \"coffeePerWeek\" column from the result of Task 2.1. Proceed as demonstrated in the lecture. \n",
    "\n"
   ]
  },
  {
   "cell_type": "code",
   "execution_count": 13,
   "metadata": {
    "dotnet_interactive": {
     "language": "fsharp"
    },
    "vscode": {
     "languageId": "dotnet-interactive.fsharp"
    }
   },
   "outputs": [],
   "source": [
    "\n"
   ]
  },
  {
   "cell_type": "markdown",
   "metadata": {},
   "source": [
    "### Task 2.4\n",
    "Often you want to save intermediate results. Save the frame from task 1.2 as a CSV file. Use ';' as separator.\n",
    "\n"
   ]
  },
  {
   "cell_type": "code",
   "execution_count": 13,
   "metadata": {
    "dotnet_interactive": {
     "language": "fsharp"
    },
    "vscode": {
     "languageId": "dotnet-interactive.fsharp"
    }
   },
   "outputs": [],
   "source": [
    "\n"
   ]
  },
  {
   "cell_type": "markdown",
   "metadata": {},
   "source": [
    "### Task 2.5\n",
    "Use the function 'Frame.ReadCsv' to read the file again.\n",
    "\n"
   ]
  },
  {
   "cell_type": "code",
   "execution_count": 13,
   "metadata": {
    "dotnet_interactive": {
     "language": "fsharp"
    },
    "vscode": {
     "languageId": "dotnet-interactive.fsharp"
    }
   },
   "outputs": [],
   "source": [
    "\n"
   ]
  }
 ],
 "metadata": {
  "kernelspec": {
   "display_name": ".NET (F#)",
   "language": "F#",
   "name": ".net-fsharp"
  },
  "langauge_info": {
   "file_extension": ".fs",
   "mimetype": "text/x-fsharp",
   "name": "C#",
   "pygments_lexer": "fsharp",
   "version": "4.5"
  }
 },
 "nbformat": 4,
 "nbformat_minor": 1
}
