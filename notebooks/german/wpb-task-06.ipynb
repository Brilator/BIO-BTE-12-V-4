{
 "cells": [
  {
   "cell_type": "markdown",
   "metadata": {},
   "source": [
    "# Typen-gesteuertes Design​ - Tic Tac Toe\n",
    "\n",
    "***Disclaimer 1*** Wir haben einige Blaupausen von Typen und Wertebindungen (e.g. ValidMoves or diagonals) hinzugefügt die ihr benötigt um die Übung abzuschließen, vergesst nicht sie selbst zu implementieren!\n",
    "\n",
    "***Disclaimer 2*** Diese Übung ist eure Chance Punkte zu sammeln! Wir werden diese Übung als 'Bonus' werten, d.h. ihr könnt\n",
    "zusätzliche Punkte sammeln und damit den Prozentsatz an richtig gelösten Aufgaben erhöhen, nicht aber verringern. Viel Spaß!\n",
    "\n",
    "In dieser Uebung soll das beliebte Spiel Tic Tac Toe implementiert werden. Im Vordergrund stehen - wie in der Vorlesung demonstriert -\n",
    "die Zerlegung des Problems, die Abstraktion einzelner Elemente und Aktionen als Typen und final die Implementation der Logik.\n"
   ]
  },
  {
   "cell_type": "markdown",
   "metadata": {},
   "source": [
    "### Task 1.1:\n",
    "\n",
    "Abgebildet ist ein Tic Tac Toe Spielfeld:\n",
    "```\n",
    "    |-|X|-|\n",
    "    |X|O|-|\n",
    "    |O|-|-|\n",
    "```\n",
    "Das Spielfeld besteht aus insgesamt 9 Zellen. \n",
    "Jede Zelle kann gemaeß der Spielregeln drei Zustaende annehmen \n",
    "\n",
    "i.   leer \n",
    "\n",
    "ii.  Belegt von Spieler X \n",
    "\n",
    "iii. Belegt von Spieler Y. \n",
    "\n",
    "Definiere einen Typ der den Status (eng. State) einer Zelle abstrahiert.\n"
   ]
  },
  {
   "cell_type": "code",
   "execution_count": 9,
   "metadata": {
    "vscode": {
     "languageId": "fsharp"
    }
   },
   "outputs": [],
   "source": [
    "\n"
   ]
  },
  {
   "cell_type": "markdown",
   "metadata": {},
   "source": [
    "### Task 1.2\n",
    "\n",
    "Da die relativen Positionen einzelner Felder fuer das Spiel von Bedeutung sind, muss die Position einer Zelle \n",
    "ebenfalls modelliert werden. Da die Zahl der Felder endlich (9) und das Feld quadratisch ist ergibt sich eine endliche Anzahl\n",
    "moeglicher Positionen. Definiere die noetigen Typen um die Zellposition in der Form HorizontalPosition * VerticalPosition angeben zu koennen.\n",
    "\n",
    "\n"
   ]
  },
  {
   "cell_type": "code",
   "execution_count": 9,
   "metadata": {
    "vscode": {
     "languageId": "fsharp"
    }
   },
   "outputs": [],
   "source": [
    "\n"
   ]
  },
  {
   "cell_type": "markdown",
   "metadata": {},
   "source": [
    "### Task 1.3\n",
    "\n",
    "Mit dem Zustand der Zelle und ihrer Position kann eine Zelle vollstaendig beschrieben werden. Deklariere einen Record-Typ der diesen Sachverhalt abbildet.\n",
    "\n",
    "\n"
   ]
  },
  {
   "cell_type": "code",
   "execution_count": 9,
   "metadata": {
    "vscode": {
     "languageId": "fsharp"
    }
   },
   "outputs": [],
   "source": [
    "\n"
   ]
  },
  {
   "cell_type": "markdown",
   "metadata": {},
   "source": [
    "### Task 1.4\n",
    "\n",
    "Da das Spielfeld aus einzelnen Zellen besteht laesst sich dieses vollstaendig beschreiben, wenn wir den Zustand aller Zellen kennen. Definiere einen Typ\n",
    "der das Spielfeld modelliert.\n",
    "\n",
    "\n"
   ]
  },
  {
   "cell_type": "code",
   "execution_count": 9,
   "metadata": {
    "vscode": {
     "languageId": "fsharp"
    }
   },
   "outputs": [],
   "source": [
    "\n"
   ]
  },
  {
   "cell_type": "markdown",
   "metadata": {},
   "source": [
    "### Task 2.1\n",
    "\n",
    "Nun haben wir bereits alle Typen definiert um das Spielfeld zu beschreiben. Im Folgenden ist ein moeglicher Spielverlauf\n",
    "schematisch dargestellt: \n",
    "                                                                                                                                       \n",
    "```                                                                                                                                                                                                                                                                   \n",
    "     Lust                    |-|-|-|                                               \n",
    "     zu         ---------->  |-|-|-|, Liste moeglicher Zuege (bzw. freier Zellen) ODER Ergebnis (Sieger X, Sieger Y oder Unentschieden)\n",
    "     spielen      Aktion A   |-|-|-|                                     \n",
    "                                                |\n",
    "                                                | Aktion B  \n",
    "                                                |\n",
    "                                                v\n",
    "                             |X|-|-|                                               \n",
    "                             |-|-|-| und Liste moeglicher Zuege ODER Ergebnis  (Sieger X, Sieger Y oder Unentschieden)                                                                   \n",
    "                             |-|-|-|                                     \n",
    "                                                |\n",
    "                                                | Aktion C \n",
    "                                                |\n",
    "                                                v  \n",
    "                             |X|-|-|                                               \n",
    "                             |O|-|-| und Liste moeglicher Zuege ODER Ergebnis (Sieger X, Sieger Y oder Unentschieden)\n",
    "                             |-|-|-|                                     \n",
    "                                                |\n",
    "                                                | Aktion B \n",
    "                                                |\n",
    "                                                v  \n",
    "                             |X|-|-|                                               \n",
    "                             |O|X|-| und Liste moeglicher Zuege ODER Ergebnis (Sieger X, Sieger Y oder Unentschieden)\n",
    "                             |-|-|-|                                     \n",
    "```                              \n",
    "Aktionen(Moves) A, B und C haben entweder ein Ende des Spiels zur Folge (Sieger X, Sieger Y oder Unentschieden), oder \n",
    "resultieren in einer upgedateten Version des Spielfeldes, einer Liste weiterer freier Zellen, sowie der naechsten Aktion.\n",
    "Um diesen Sachverhalt zu modellieren bietet sich ein Union Case an:\n",
    "```fsharp\n",
    "type ValidMoves = {\n",
    "        Moves:List<CellPosition>\n",
    "    }\n",
    "\n",
    "type MoveResult = \n",
    "    | Win of Player\n",
    "    | Tie \n",
    "    | Move of Player*GameState*ValidMoves\n",
    "```\n",
    "\n",
    "Definiere die Aktionen A, B und C als Typen. Nutze dazu den UnionCase MoveResult.\n",
    "\n"
   ]
  },
  {
   "cell_type": "code",
   "execution_count": 9,
   "metadata": {
    "vscode": {
     "languageId": "fsharp"
    }
   },
   "outputs": [],
   "source": [
    "\n"
   ]
  },
  {
   "cell_type": "markdown",
   "metadata": {},
   "source": [
    "### Task 2.2\n",
    "Implementiere eine Funktion, die das Spielfeld erstellt. Der\n",
    "Rueckgabewert der Funktion soll vom Typ MoveResult sein. Spieler X soll das Spiel beginnen.\n",
    "Tipp: Gegeben sind Listen aller horizontalen und vertikalen Positionen. \n",
    "\n",
    "```fsharp\n",
    "let allHorizontal = [Left;Middle;Right]\n",
    "let allVertical   = [Top;Center;Bottom] \n",
    "```\n",
    "\n"
   ]
  },
  {
   "cell_type": "code",
   "execution_count": 9,
   "metadata": {
    "vscode": {
     "languageId": "fsharp"
    }
   },
   "outputs": [],
   "source": [
    "\n"
   ]
  },
  {
   "cell_type": "markdown",
   "metadata": {},
   "source": [
    "### Task 2.3\n",
    "Bevor wir gemeinsam die Zuege von Spieler X und Spieler Y implementieren, ueberlegen wir was eine solche Funktion leisten muss.\n",
    "Die Funktion wird das Spielfeld manipulieren. Implementiere eine Funktion die einen Parameter vom Typ GameState, einen Parameter vom \n",
    "Typ CellPosition und einen Parameter von Typ Player erhaelt. Der Rueckgabewert entspricht dem upgedateten GameState.\n",
    "\n"
   ]
  },
  {
   "cell_type": "code",
   "execution_count": 9,
   "metadata": {
    "vscode": {
     "languageId": "fsharp"
    }
   },
   "outputs": [],
   "source": [
    "\n"
   ]
  },
  {
   "cell_type": "markdown",
   "metadata": {},
   "source": [
    "### Task 2.4\n",
    "Desweiteren wird die Funktion ueberpruefen muessen ob ein Spiel gewonnen wurde. \n",
    "Dazu stellen wir uns die Frage: Wann ist das Spiel gewonnen? Das Spiel ist immer dann gewonnen, wenn\n",
    "ein Spieler eine Spalte, eine Zeile oder eine der beiden Diagonalen vollstaendig besetzt hat. \n",
    "Implementiere eine Funktion die einen Parameter vom Typ GameState und einen Parameter vom Typ Player erhaelt. \n",
    "Die Funktion soll 'true' zurueckgeben wenn der Spieler gewonnen hat. \n",
    "Tipp: Gegeben sind alle moeglichen Spalten, Zeilen und Diagonalen.\n",
    "```fsharp\n",
    "let rows =\n",
    "    let makeHLine v = [for h in allHorizontal do yield (h,v)]\n",
    "    let rows = [for v in allVertical do yield makeHLine v] \n",
    "    rows\n",
    "\n",
    "let columns =\n",
    "    let makeVLine h = [for v in allVertical do yield (h,v)]\n",
    "    let columns = [for h in allHorizontal do yield makeVLine h] \n",
    "    columns\n",
    " \n",
    "let diagonals =\n",
    "    let diagonal1 = [Left,Top; Middle,Center; Right,Bottom]\n",
    "    let diagonal2 = [Left,Bottom; Middle,Center; Right,Top]\n",
    "    [diagonal1;diagonal2] \n",
    "```\n",
    "\n"
   ]
  },
  {
   "cell_type": "code",
   "execution_count": 9,
   "metadata": {
    "vscode": {
     "languageId": "fsharp"
    }
   },
   "outputs": [],
   "source": [
    "\n"
   ]
  },
  {
   "cell_type": "markdown",
   "metadata": {},
   "source": [
    "### Task 2.5\n",
    "Natuerlich kann ein Spiel unentschieden ausgehen. Das ist beispielsweise immer der Fall, sollte niemand\n",
    "gewonnen haben und alle Zellen einen anderen State als Empty aufweisen. Schreibe eine Funktion, die das ueberprueft.\n",
    "\n"
   ]
  },
  {
   "cell_type": "code",
   "execution_count": 9,
   "metadata": {
    "vscode": {
     "languageId": "fsharp"
    }
   },
   "outputs": [],
   "source": [
    "\n"
   ]
  },
  {
   "cell_type": "markdown",
   "metadata": {},
   "source": [
    ".... und in der Uebung werden wir das Spiel gemeinsam beenden...\n",
    "\n"
   ]
  }
 ],
 "metadata": {
  "kernelspec": {
   "display_name": ".NET (F#)",
   "language": "F#",
   "name": ".net-fsharp"
  },
  "langauge_info": {
   "file_extension": ".fs",
   "mimetype": "text/x-fsharp",
   "name": "C#",
   "pygments_lexer": "fsharp",
   "version": "4.5"
  }
 },
 "nbformat": 4,
 "nbformat_minor": 1
}
