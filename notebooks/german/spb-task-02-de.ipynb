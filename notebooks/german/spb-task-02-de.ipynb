{
 "cells": [
  {
   "cell_type": "markdown",
   "metadata": {},
   "source": [
    "# SPB II: Funktionen und Datentypen\n",
    "\n",
    "---\n",
    "\n",
    "In dieser Übung wirst du mit der Konstruktion und Dekonstruktion sogenannter _Tuples_, dem Erstellen und Instanziieren von _Record Types_ und dem Zugreifen einzelner Felder solcher Instanziierungen arbeiten. Zudem wirst du dich mit _Funktionssignaturen_ auseinandersetzen und erklären, wie solche zu interpretieren sind. Zuletzt werden dir _Collections/Sammlungstypen_ begegnen, welche du behandeln wirst."
   ]
  },
  {
   "cell_type": "markdown",
   "metadata": {},
   "source": [
    "# Task 1: Tuples\n",
    "\n",
    "## Task 1.1:\n",
    "\n",
    "Deklariere einen Tuple aus 31. und \"Oktober\" und binde den Tuple an den Namen `tupleNr1`.\n"
   ]
  },
  {
   "cell_type": "code",
   "execution_count": null,
   "metadata": {
    "dotnet_interactive": {
     "language": "fsharp"
    }
   },
   "outputs": [],
   "source": [
    "\n"
   ]
  },
  {
   "cell_type": "markdown",
   "metadata": {},
   "source": [
    "## Task 1.2:\n",
    "\n",
    "Deklariere einen Tuple aus 31., \"Oktober\" und \"Halloween\" und bindet ihn an den Namen `tupleNr2`.\n",
    "\n"
   ]
  },
  {
   "cell_type": "code",
   "execution_count": null,
   "metadata": {
    "dotnet_interactive": {
     "language": "fsharp"
    }
   },
   "outputs": [],
   "source": [
    "\n"
   ]
  },
  {
   "cell_type": "markdown",
   "metadata": {},
   "source": [
    "## Task 1.3:\n",
    "\n",
    "Greife auf den ersten Wert des Tuples aus 1.1 zu.\n",
    "\n"
   ]
  },
  {
   "cell_type": "code",
   "execution_count": null,
   "metadata": {
    "dotnet_interactive": {
     "language": "fsharp"
    }
   },
   "outputs": [],
   "source": [
    "\n"
   ]
  },
  {
   "cell_type": "markdown",
   "metadata": {},
   "source": [
    "## Task 1.4:\n",
    "\n",
    "Bindet `tupleNr1` aus Task 1.1 an: `(outputNr1,outputNr2)`  \n",
    "Warum kann das sinnvoll sein?  \n",
    "Stichwort: Tuple Deconstruction\n",
    "\n"
   ]
  },
  {
   "cell_type": "code",
   "execution_count": null,
   "metadata": {
    "dotnet_interactive": {
     "language": "fsharp"
    }
   },
   "outputs": [],
   "source": [
    "\n"
   ]
  },
  {
   "cell_type": "markdown",
   "metadata": {},
   "source": [
    "# Task 2: Record Types\n",
    "\n",
    "## Task 2.1: \n",
    "\n",
    "Definiere einen Record Type mit dem Namen `Person`. Person soll die Felder `Name` (string) und `Alter` (int) haben.  \n",
    "Bei Record Types wird kein camel case, sondern pascal case verwendet (wie camel case nur ist der erste Buchstabe auch groß).\n",
    "\n"
   ]
  },
  {
   "cell_type": "code",
   "execution_count": null,
   "metadata": {
    "dotnet_interactive": {
     "language": "fsharp"
    }
   },
   "outputs": [],
   "source": [
    "\n"
   ]
  },
  {
   "cell_type": "markdown",
   "metadata": {},
   "source": [
    "## Task 2.2:\n",
    "\n",
    "Erstellt einen Wert des Typs `Person` mit ausgedachten Feldwerten und bindet ihn an den Namen `person1`.  \n",
    "Greift auf das Feld `Name` von `person1` zu.\n",
    "\n"
   ]
  },
  {
   "cell_type": "code",
   "execution_count": null,
   "metadata": {
    "dotnet_interactive": {
     "language": "fsharp"
    }
   },
   "outputs": [],
   "source": [
    "\n"
   ]
  },
  {
   "cell_type": "markdown",
   "metadata": {},
   "source": [
    "## Task 2.3:\n",
    "\n",
    "Deklariere eine Funktion die zwei Inputparameter erhaelt und als Rueckgabewert eine `Person` gibt.  \n",
    "Binde ein Ergebnis dieser Funktion an den Namen `person2`.\n",
    "\n"
   ]
  },
  {
   "cell_type": "code",
   "execution_count": null,
   "metadata": {
    "dotnet_interactive": {
     "language": "fsharp"
    }
   },
   "outputs": [],
   "source": [
    "\n"
   ]
  },
  {
   "cell_type": "markdown",
   "metadata": {},
   "source": [
    "## Task 2.4:\n",
    "\n",
    "Definiere einen weiteren Record Type mit dem Namen `ErweitertePerson`.  ErweitertePerson soll die gleichen Felder wie `Person` haben, bekommt aber noch das zusaetzliche Feld `Hobby`. Da man alles zu seinem Hobby machen kann, soll\n",
    "'Hobby' vom Typ generic type sein.  \n",
    "Tipp: Zwischen dem Namen des Record types und `=` muss der generic type durch `<'a>` angegeben werden.\n",
    "\n"
   ]
  },
  {
   "cell_type": "code",
   "execution_count": null,
   "metadata": {
    "dotnet_interactive": {
     "language": "fsharp"
    }
   },
   "outputs": [],
   "source": [
    "\n"
   ]
  },
  {
   "cell_type": "markdown",
   "metadata": {},
   "source": [
    "## Task 2.5\n",
    "\n",
    "Erstellt einen Wert des Typs `ErweitertePerson`.\n",
    "\n"
   ]
  },
  {
   "cell_type": "code",
   "execution_count": null,
   "metadata": {
    "dotnet_interactive": {
     "language": "fsharp"
    }
   },
   "outputs": [],
   "source": [
    "\n"
   ]
  },
  {
   "cell_type": "markdown",
   "metadata": {},
   "source": [
    "# Task 3: Funktionsignaturen\n",
    "\n",
    "## Task 3.1\n",
    "\n",
    "Deklariere eine beliebige Funktion mit der Signatur `int -> int`.\n",
    "\n"
   ]
  },
  {
   "cell_type": "code",
   "execution_count": null,
   "metadata": {
    "dotnet_interactive": {
     "language": "fsharp"
    }
   },
   "outputs": [],
   "source": [
    "\n"
   ]
  },
  {
   "cell_type": "markdown",
   "metadata": {},
   "source": [
    "## Task 3.2\n",
    "\n",
    "Deklariere eine beliebige Funktion mit der Signatur `int -> (int -> int) -> float`.\n",
    "\n"
   ]
  },
  {
   "cell_type": "code",
   "execution_count": null,
   "metadata": {
    "dotnet_interactive": {
     "language": "fsharp"
    }
   },
   "outputs": [],
   "source": [
    "\n"
   ]
  },
  {
   "cell_type": "markdown",
   "metadata": {},
   "source": [
    "## Task 3.3\n",
    "\n",
    "Beschreibe in deinen eigenen Worten den Rueckgabewert einer Funktion mit folgender Signatur `char -> (string -> char -> float)`.\n",
    "\n"
   ]
  },
  {
   "cell_type": "code",
   "execution_count": null,
   "metadata": {
    "dotnet_interactive": {
     "language": "fsharp"
    }
   },
   "outputs": [],
   "source": [
    "\n"
   ]
  },
  {
   "cell_type": "markdown",
   "metadata": {},
   "source": [
    "# Task 4: Collection Types / Sammlungstypen\n",
    "\n",
    "## Task 4.1\n",
    "\n",
    "Erstelle eine int Liste mit den Zahlen 1 bis 135 und binde sie an einen Namen.\n",
    "\n"
   ]
  },
  {
   "cell_type": "code",
   "execution_count": null,
   "metadata": {
    "dotnet_interactive": {
     "language": "fsharp"
    }
   },
   "outputs": [],
   "source": [
    "\n"
   ]
  },
  {
   "cell_type": "markdown",
   "metadata": {},
   "source": [
    "## Task 4.2\n",
    "\n",
    "Binde das erste und das letzte Element der Liste an je einen Namen.\n",
    "\n"
   ]
  },
  {
   "cell_type": "code",
   "execution_count": null,
   "metadata": {
    "dotnet_interactive": {
     "language": "fsharp"
    }
   },
   "outputs": [],
   "source": [
    "\n"
   ]
  },
  {
   "cell_type": "markdown",
   "metadata": {},
   "source": [
    "## Task 4.3\n",
    "\n",
    "Erstelle ein float Array mit den Zahlen von 1. bis 200. und binde es an einen Namen.\n",
    "\n"
   ]
  },
  {
   "cell_type": "code",
   "execution_count": null,
   "metadata": {
    "dotnet_interactive": {
     "language": "fsharp"
    }
   },
   "outputs": [],
   "source": [
    "\n"
   ]
  },
  {
   "cell_type": "markdown",
   "metadata": {},
   "source": [
    "## Task 4.4\n",
    "\n",
    "Binde das 13. Element des Arrays aus Task 4.3 an einen Namen.\n",
    "\n"
   ]
  },
  {
   "cell_type": "code",
   "execution_count": null,
   "metadata": {
    "dotnet_interactive": {
     "language": "fsharp"
    }
   },
   "outputs": [],
   "source": [
    "\n"
   ]
  },
  {
   "cell_type": "markdown",
   "metadata": {},
   "source": [
    "## Task 4.5\n",
    "\n",
    "Erstelle eine Map, die alle Monate enthaelt. Verwende dafuer die Zahl des Monats (integer) als Key und den Namen (string) als Value.\n",
    "\n"
   ]
  },
  {
   "cell_type": "code",
   "execution_count": null,
   "metadata": {
    "dotnet_interactive": {
     "language": "fsharp"
    }
   },
   "outputs": [],
   "source": [
    "\n"
   ]
  },
  {
   "cell_type": "markdown",
   "metadata": {},
   "source": [
    "## Task 4.6\n",
    "\n",
    "Ueberpruefe anhand eines geeigneten Keys, ob der Monat Dezember in der Map vorhanden ist.\n",
    "\n"
   ]
  },
  {
   "cell_type": "code",
   "execution_count": null,
   "metadata": {
    "dotnet_interactive": {
     "language": "fsharp"
    }
   },
   "outputs": [],
   "source": [
    "\n"
   ]
  },
  {
   "cell_type": "markdown",
   "metadata": {},
   "source": [
    "## Task 4.7\n",
    "\n",
    "Erstelle zwei Sets. Eins mit Zahlen von 1 bis 15 und eins mit Zahlen von 2 bis 9 und binde sie an je einen Namen.\n",
    "\n"
   ]
  },
  {
   "cell_type": "code",
   "execution_count": null,
   "metadata": {
    "dotnet_interactive": {
     "language": "fsharp"
    }
   },
   "outputs": [],
   "source": [
    "\n"
   ]
  },
  {
   "cell_type": "markdown",
   "metadata": {},
   "source": [
    "## Task 4.8 \n",
    "\n",
    "Vergleicht die zuvor erstellten Sets. Bildet die Schnittmenge (intersect) und die Vereinigungsmenge (union) aus beiden Sets und bindet sie an je einen Namen.  \n",
    "Tipp: Nutzt das Set Modul um durch 'reindotten' geeignete Funktionen zu erhalten.\n",
    "\n"
   ]
  },
  {
   "cell_type": "code",
   "execution_count": null,
   "metadata": {
    "dotnet_interactive": {
     "language": "fsharp"
    }
   },
   "outputs": [],
   "source": [
    "\n"
   ]
  }
 ],
 "metadata": {
  "kernelspec": {
   "display_name": ".NET (F#)",
   "language": "F#",
   "name": ".net-fsharp"
  },
  "langauge_info": {
   "file_extension": ".fs",
   "mimetype": "text/x-fsharp",
   "name": "C#",
   "pygments_lexer": "fsharp",
   "version": "4.5"
  },
  "language_info": {
   "name": "polyglot-notebook"
  },
  "polyglot_notebook": {
   "kernelInfo": {
    "defaultKernelName": "fsharp",
    "items": [
     {
      "aliases": [],
      "name": "fsharp"
     }
    ]
   }
  }
 },
 "nbformat": 4,
 "nbformat_minor": 1
}
