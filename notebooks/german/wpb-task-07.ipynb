{
 "cells": [
  {
   "cell_type": "markdown",
   "metadata": {},
   "source": [
    "# Datenvisualisierung mit Plotly.NET\n",
    "\n",
    "**Verwenden Sie fuer alle Diagramme stets adequate Skalenbeschriftungen.**\n",
    "\n",
    "**Der Code fuer die Erstellung der Charts reicht aus, Sie muessen keine Bilder einreichen.**\n",
    "\n",
    "Die Plotly.NET Dokumentation finden sie hier: https://plotly.net\n"
   ]
  },
  {
   "cell_type": "markdown",
   "metadata": {},
   "source": [
    "\n",
    "### Referenzieren von Plotly.NET\n",
    "\n",
    "Die nachfolgende Zelle muss immer mindestens 1 mal ausgeführt werden, sonst kann das Plotly.NET Softwarepaket nicht verwendet werden:\n",
    "\n"
   ]
  },
  {
   "cell_type": "code",
   "execution_count": 1,
   "metadata": {
    "vscode": {
     "languageId": "fsharp"
    }
   },
   "outputs": [],
   "source": [
    "#r \"nuget: Plotly.NET, 2.0.0-preview.1\"\n",
    "#r \"nuget: Plotly.NET.Interactive, 2.0.0-preview.1\"\n",
    "open Plotly.NET\n"
   ]
  },
  {
   "cell_type": "markdown",
   "metadata": {},
   "source": [
    "### Anzeigen von Charts in Notebooks\n",
    "\n",
    "Dank der oben referenzierten `Plotly.NET.Interactive` Erweiterung kann einfach der jeweilige Codeblock mit dem value des Charts beendet werden (so wie auch bei anderen Werten gewohnt), \n",
    "um den Chart direkt in der Ausgabezelle anzuzeigen:"
   ]
  },
  {
   "cell_type": "code",
   "execution_count": 2,
   "metadata": {
    "vscode": {
     "languageId": "fsharp"
    }
   },
   "outputs": [],
   "source": [
    "Chart.Point([(1,1); (2,2)])\n",
    "|> Chart.withTitle \"hello inside the notebook\"\n"
   ]
  },
  {
   "cell_type": "markdown",
   "metadata": {},
   "source": [
    "## 1 Visualisierung von X/Y Beziehungen\n",
    "\n",
    "### Task 1.1\n",
    "\n",
    "Erstellen Sie eine Liste, welche die Werte von 0.0 bis (4 * PI) mit einer Schrittgroesse von 0.001 enthaelt.\n",
    "binden Sie diese liste an den Namen 'xValues'\n",
    "\n",
    "\n"
   ]
  },
  {
   "cell_type": "code",
   "execution_count": 15,
   "metadata": {
    "vscode": {
     "languageId": "fsharp"
    }
   },
   "outputs": [],
   "source": [
    "\n"
   ]
  },
  {
   "cell_type": "markdown",
   "metadata": {},
   "source": [
    "### Task 1.2\n",
    "\n",
    "Erstellen Sie zwei Listen, die die passenden Funktionswerte von sin(x) und cos(x) fuer 'xValues' enthalten.\n",
    "\n",
    "_Tipp: benutzen Sie die map Funktion_\n",
    "\n"
   ]
  },
  {
   "cell_type": "code",
   "execution_count": 15,
   "metadata": {
    "vscode": {
     "languageId": "fsharp"
    }
   },
   "outputs": [],
   "source": [
    "\n"
   ]
  },
  {
   "cell_type": "markdown",
   "metadata": {},
   "source": [
    "### Task 1.3\n",
    "\n",
    "Erstellen Sie zwei Punkt- und zwei Liniendiagramme in denen Sie die Werte von 'xValues' und die jeweiligen\n",
    "Funktionswerte von sin(x) oder cos(x) auf je eine Positionsskala abbilden. Am Ende sollten Sie 4 einzelne \n",
    "Diagramme haben.\n",
    "\n"
   ]
  },
  {
   "cell_type": "code",
   "execution_count": 15,
   "metadata": {
    "vscode": {
     "languageId": "fsharp"
    }
   },
   "outputs": [],
   "source": [
    "\n"
   ]
  },
  {
   "cell_type": "markdown",
   "metadata": {},
   "source": [
    "### Task 1.4\n",
    "\n",
    "**a)** Kombinieren Sie die Punkt- und Liniendiagramme aus 1.3. in einem einzigen Koordinatensystem (zu einem einzigen Diagramm mit 4 Unterdiagrammen). \n",
    "\n",
    "_Tipp: Benutzen Sie Chart.Combine_\n",
    "\n",
    "**b)** Warum ist das Resultat ein Diagramm mit einer zusaetzlichen Dimension, bzw. was ist die zusätzlich abgebildete Dimension?\n",
    "\n"
   ]
  },
  {
   "cell_type": "code",
   "execution_count": 15,
   "metadata": {
    "vscode": {
     "languageId": "fsharp"
    }
   },
   "outputs": [],
   "source": [
    "\n"
   ]
  },
  {
   "cell_type": "markdown",
   "metadata": {},
   "source": [
    "### Task 1.5 \n",
    "\n",
    "Visualisieren Sie die (x,y) tuple in der folgenden Liste zunaechst mit einer linearen X und Y Skala.\n",
    "Transformieren Sie die Daten mit einer nichtlinearen Transformation, die Ihnen sinnvoll erscheint und \n",
    "visualisieren Sie das Ergebnis. \n",
    "\n",
    "_Tipp: sollten Sie anstatt der Daten die Achse transformieren wollen:_\n",
    "`Chart.withY_Axis( Axis.LinearAxis.init(StyleParam.AxisType. ...)  )`\n",
    "\n"
   ]
  },
  {
   "cell_type": "code",
   "execution_count": 7,
   "metadata": {
    "vscode": {
     "languageId": "fsharp"
    }
   },
   "outputs": [],
   "source": [
    "let someData = [0. .. 1. .. 10.] |> List.map (fun x -> x,(10. ** x))\n"
   ]
  },
  {
   "cell_type": "markdown",
   "metadata": {},
   "source": [
    "## 2 Visualisierung von Anzahl/Groessen\n",
    "\n",
    "### Task 2.1 \n",
    "\n",
    "Visualisieren Sie die Abundanz verschiedener Haarfarben der Teilnehmer des Kurses. Falls keine Erhebung \n",
    "gemacht werden soll, denken Sie sich einen Datensatz mit 5 verschiedenen Haarfarben und 20 Probanden aus.\n",
    "\n",
    "_Tipp: erstellen Sie entweder eine Liste mit (Haarfarbe,Abundanz) tupeln oder je eine Liste fuer Haarfarbe und Abundanz_\n",
    "\n"
   ]
  },
  {
   "cell_type": "code",
   "execution_count": 15,
   "metadata": {
    "vscode": {
     "languageId": "fsharp"
    }
   },
   "outputs": [],
   "source": [
    "\n"
   ]
  },
  {
   "cell_type": "markdown",
   "metadata": {},
   "source": [
    "### Task 2.2\n",
    "\n",
    "Visualisieren Sie die Menge an erzeugten Terawattstunden in Deutschland nach verschiedenen Energietraeger im Jahr 2020 hinsichtlich der absoluten Zahlen als Balkendiagramm, sortiert nach Groesse der Strommenge\n",
    "\n",
    "_Quelle der Daten:_ https://de.wikipedia.org/wiki/Stromerzeugung#Bruttostromerzeugung_nach_Energietr%C3%A4gern_in_Deutschland\n",
    "\n"
   ]
  },
  {
   "cell_type": "code",
   "execution_count": 15,
   "metadata": {
    "vscode": {
     "languageId": "fsharp"
    }
   },
   "outputs": [],
   "source": [
    "\n"
   ]
  },
  {
   "cell_type": "markdown",
   "metadata": {},
   "source": [
    "### Task 2.3 \n",
    "\n",
    "Datenvisialisierung kann oft zur Erkennung von Mustern in einem Datensatz fuehren, die bei blosser \n",
    "Betrachtung der Werte nicht ersichtlich waeren, besonders wenn der Datensatz sehr gross und/oder \n",
    "mehrdimensional ist. \n",
    "\n",
    "Der vorbereitete Testdatensatz enthaelt 3 Dimensionen: die Indices des aeusseren Arrays, die Indices der \n",
    "inneren Arrays, und die tatsaechlichen Zahlenwerte in den inneren Arrays. Visualisieren Sie die drei \n",
    "Dimensionen mithilfe einer Heatmap.\n",
    "\n",
    "Welche Information koennte in den 3 Dimensionen kodiert sein? Beschriften Sie die x und y Skalen nach Ihrer \n",
    "Einschaetzung.\n",
    "\n",
    "\n"
   ]
  },
  {
   "cell_type": "code",
   "execution_count": 10,
   "metadata": {
    "vscode": {
     "languageId": "fsharp"
    }
   },
   "outputs": [],
   "source": [
    "let data3D =\n",
    "    [|\n",
    "        [|2.;2.;2.;2.;2.;2.;2.;2.;2.|]\n",
    "        [|2.;2.;0.;0.;1.;0.;0.;2.;2.|]\n",
    "        [|2.;0.;0.;3.;3.;3.;0.;0.;2.|]\n",
    "        [|2.;0.;3.;0.;0.;0.;3.;0.;2.|]\n",
    "        [|2.;0.;3.;0.;0.;0.;3.;0.;2.|]\n",
    "        [|2.;0.;0.;0.;3.;0.;0.;0.;2.|]\n",
    "        [|2.;0.;0.;0.;0.;0.;0.;0.;2.|]\n",
    "        [|2.;0.;3.;0.;0.;0.;3.;0.;2.|]\n",
    "        [|2.;2.;0.;0.;0.;0.;0.;2.;2.|]\n",
    "        [|2.;2.;2.;1.;1.;1.;2.;2.;2.|]\n",
    "    |]\n"
   ]
  },
  {
   "cell_type": "markdown",
   "metadata": {},
   "source": [
    "## 3   Visualisierung von Proportionen\n",
    "\n",
    "### Task 3.1 \n",
    "\n",
    "Visualisieren Sie das Ergebnis der Landtagswahl in einem beliebigen Bundesland.\n",
    "\n",
    "_Quelle der Daten:_ https://de.wikipedia.org/wiki/Liste_der_letzten_Landtagswahlergebnisse_in_Deutschland\n",
    "\n"
   ]
  },
  {
   "cell_type": "code",
   "execution_count": 15,
   "metadata": {
    "vscode": {
     "languageId": "fsharp"
    }
   },
   "outputs": [],
   "source": [
    "\n"
   ]
  },
  {
   "cell_type": "markdown",
   "metadata": {},
   "source": [
    "### Task 3.2 \n",
    "Vergleichen Sie die Stimmanteile aus 3.1 visuell mit mindestens 3 weiteren Landtagswahlergebnissen aus \n",
    "anderen Bundeslaendern.\n",
    "\n"
   ]
  },
  {
   "cell_type": "code",
   "execution_count": 15,
   "metadata": {
    "vscode": {
     "languageId": "fsharp"
    }
   },
   "outputs": [],
   "source": [
    "\n"
   ]
  },
  {
   "cell_type": "markdown",
   "metadata": {},
   "source": [
    "### Task 3.3 \n",
    "Visualisieren Sie die Daten aus 2.2 hinsichtlich ihres relativen Anteils an der Gesamtstromerzeugung als Doughnut-Chart \n",
    "\n",
    "_Tipp: Chart.Doughnut; Sie muessen die Ursprungsdaten jeweils durch die Gesamtmenge an erzeugten kWh Teilen._\n",
    "\n"
   ]
  },
  {
   "cell_type": "code",
   "execution_count": 15,
   "metadata": {
    "vscode": {
     "languageId": "fsharp"
    }
   },
   "outputs": [],
   "source": [
    "\n"
   ]
  },
  {
   "cell_type": "markdown",
   "metadata": {},
   "source": [
    "### 4 Visualisierung von geographischer Lage\n",
    "\n",
    "### Task 4.1\n",
    "\n",
    "Visualisieren Sie den Anteil der 16 bevoelkerungsreichsten Laender an der Gesamtbevoelkerung der Erde. \n",
    "\n",
    "_Quelle der Daten:_ https://de.wikipedia.org/wiki/Weltbev%C3%B6lkerung#Die_bev%C3%B6lkerungsreichsten_Staaten\n",
    "\n",
    "_Tipp: Chart.Choropleth. Idealerweise aehnelt ihr Ergebnis der Abbildung auf Wikipedia._\n",
    "\n"
   ]
  },
  {
   "cell_type": "code",
   "execution_count": 15,
   "metadata": {
    "vscode": {
     "languageId": "fsharp"
    }
   },
   "outputs": [],
   "source": [
    "\n"
   ]
  },
  {
   "cell_type": "markdown",
   "metadata": {},
   "source": [
    "## 5 Bonus\n",
    "\n",
    "Erstellen Sie ein Klimadiagramm fuer Kaiserslautern\n",
    "Hierzu muessen verschiedene Charttypen miteinander kombiniert werden.\n",
    "\n",
    "_Quelle der Daten:_ https://de.climate-data.org/europa/deutschland/rheinland-pfalz/kaiserslautern-2135/\n",
    "\n",
    "\n"
   ]
  },
  {
   "cell_type": "code",
   "execution_count": 15,
   "metadata": {
    "vscode": {
     "languageId": "fsharp"
    }
   },
   "outputs": [],
   "source": [
    "\n"
   ]
  }
 ],
 "metadata": {
  "kernelspec": {
   "display_name": ".NET (F#)",
   "language": "F#",
   "name": ".net-fsharp"
  },
  "langauge_info": {
   "file_extension": ".fs",
   "mimetype": "text/x-fsharp",
   "name": "C#",
   "pygments_lexer": "fsharp",
   "version": "4.5"
  }
 },
 "nbformat": 4,
 "nbformat_minor": 1
}
