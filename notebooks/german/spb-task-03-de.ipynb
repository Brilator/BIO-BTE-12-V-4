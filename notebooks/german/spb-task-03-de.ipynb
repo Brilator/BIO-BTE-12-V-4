{
 "cells": [
  {
   "cell_type": "markdown",
   "metadata": {},
   "source": [
    "# SPB III: Control Flow\n",
    "---\n",
    "\n",
    "In dieser Übung werden Sie an den Umgang mit konditionellen Anweisungen, Schleifen und rekursiven Funktionen herangeführt.\n",
    "\n",
    "Hinweise:\n",
    "- Denkt daran, dass das Ergebniss jeder Abzweigung einer konditionellen Anweisung vom gleichen Typ sein muss.\n",
    "- Außerhalb einer \"Sequence Expression\" können Schleifen nur ein Ergebnis des Typs Unit zurückgeben.\n"
   ]
  },
  {
   "cell_type": "markdown",
   "metadata": {},
   "source": [
    "# Task 1: If-then-else"
   ]
  },
  {
   "cell_type": "markdown",
   "metadata": {},
   "source": [
    "## Task 1.1\n",
    "\n",
    "Deklariere eine Funktion, die einen Parameter `x` vom Typ `float` erhaelt. Ist der Wert von `x` groesser Null, soll die Funktion `x` zurückgeben, falls nicht soll das \n",
    "Vorzeichen umgekehrt und dann der Wert zerueckgegeben werden.\n",
    "\n",
    "Tipp: Multiplikation"
   ]
  },
  {
   "cell_type": "code",
   "execution_count": 11,
   "metadata": {
    "dotnet_interactive": {
     "language": "fsharp"
    },
    "vscode": {
     "languageId": "dotnet-interactive.fsharp"
    }
   },
   "outputs": [],
   "source": [
    "\n"
   ]
  },
  {
   "cell_type": "markdown",
   "metadata": {},
   "source": [
    "## Task 1.2\n",
    "\n",
    "Deklariere eine Funktion, die drei Zahlen als Parameter bekommt. Die groesste der drei Zahlen soll als Ergebnis ausgegeben werden.  \n",
    "\n",
    "Tipp: `elif`"
   ]
  },
  {
   "cell_type": "code",
   "execution_count": 11,
   "metadata": {
    "dotnet_interactive": {
     "language": "fsharp"
    },
    "vscode": {
     "languageId": "dotnet-interactive.fsharp"
    }
   },
   "outputs": [],
   "source": [
    "\n"
   ]
  },
  {
   "cell_type": "markdown",
   "metadata": {},
   "source": [
    "## Task 1.3\n",
    "\n",
    "Deklariere eine Funktion, die eine Jahreszahl als Parameter vom Typ `int` bekommt. Wenn es sich um ein Schaltjahr handelt, soll das Ergebnis `true` sein, andernfalls `false`.  \n",
    "\n",
    "Tipps:  \n",
    "- Ist die Jahreszahl durch vier teilbar, aber nicht durch 100, ist es ein Schaltjahr. 2008 faellt unter diese Regel.  \n",
    "- Ist die Jahreszahl durch 100 teilbar, aber nicht durch 400, ist es kein Schaltjahr. 2100 wird kein Schaltjahr sein.  \n",
    "- Ist die Jahreszahl durch 400 teilbar, dann ist es immer ein Schaltjahr. Deshalb war das Jahr 2000 ein Schaltjahr."
   ]
  },
  {
   "cell_type": "code",
   "execution_count": 11,
   "metadata": {
    "dotnet_interactive": {
     "language": "fsharp"
    },
    "vscode": {
     "languageId": "dotnet-interactive.fsharp"
    }
   },
   "outputs": [],
   "source": [
    "\n"
   ]
  },
  {
   "cell_type": "markdown",
   "metadata": {},
   "source": [
    "# Task 2: Pattern matching"
   ]
  },
  {
   "cell_type": "markdown",
   "metadata": {},
   "source": [
    "## Task 2.1\n",
    "\n",
    "Deklariere eine Funktion mit denselben Eigenschaften wie in Task 1.1 beschrieben. Verzichte auf if-then-else Expressions und verwende Pattern Matching. \n",
    " \n",
    "Tipp: Guarding Rules + Wildcard"
   ]
  },
  {
   "cell_type": "code",
   "execution_count": 11,
   "metadata": {
    "dotnet_interactive": {
     "language": "fsharp"
    },
    "vscode": {
     "languageId": "dotnet-interactive.fsharp"
    }
   },
   "outputs": [],
   "source": [
    "\n"
   ]
  },
  {
   "cell_type": "markdown",
   "metadata": {},
   "source": [
    "## Task 2.2\n",
    "\n",
    "Gegeben ist die UnionCase Definition `Monat` und die UnionCase Definition `Jahreszeit`.\n",
    "\n",
    "Deklariere eine Funktion, die einen Parameter `m` vom Typ `Monat` besitzt. Verwende Pattern Matching, um jeden\n",
    "Monat einer Jahreszeit zuzuordnen."
   ]
  },
  {
   "cell_type": "code",
   "execution_count": null,
   "metadata": {
    "dotnet_interactive": {
     "language": "fsharp"
    },
    "vscode": {
     "languageId": "dotnet-interactive.fsharp"
    }
   },
   "outputs": [],
   "source": [
    "type Monat =\n",
    "    | Januar\n",
    "    | Februar\n",
    "    | Maerz\n",
    "    | April\n",
    "    | Mai\n",
    "    | Juni\n",
    "    | Juli\n",
    "    | August\n",
    "    | September\n",
    "    | Oktober\n",
    "    | November\n",
    "    | Dezember\n",
    "\n",
    "type Jahreszeit =\n",
    "    | Fruehling\n",
    "    | Sommer\n",
    "    | Herbst\n",
    "    | Winter    \n"
   ]
  },
  {
   "cell_type": "markdown",
   "metadata": {},
   "source": [
    "## Task 2.3\n",
    "\n",
    "Pattern matching ist sehr gut dazu geeignet Datenstrukturen zu zerlegen (eng. deconstruction). Deklariere eine\n",
    "Funktion, die den Record type `Person` (bekannt aus Uebung 2) erhaelt und `true` zurueckgibt, falls der Nachname `Mueller` lautet.  \n",
    "\n",
    "Tipp: [Pattern Matching mit Record Types](https://docs.microsoft.com/en-us/dotnet/fsharp/language-reference/records#pattern-matching-with-records)"
   ]
  },
  {
   "cell_type": "code",
   "execution_count": 11,
   "metadata": {
    "dotnet_interactive": {
     "language": "fsharp"
    },
    "vscode": {
     "languageId": "dotnet-interactive.fsharp"
    }
   },
   "outputs": [],
   "source": [
    "\n"
   ]
  },
  {
   "cell_type": "markdown",
   "metadata": {},
   "source": [
    "# Task 3: Schleifen"
   ]
  },
  {
   "cell_type": "markdown",
   "metadata": {},
   "source": [
    "## Task 3.1\n",
    "\n",
    "Deklariere eine Funktion, die einen Parameter `n` vom Typ `int` erhaelt.  \n",
    "Die Funktion soll alle ganzen Zahlen von 1 bis n in der Konsole ausgeben (Tipp: `printfn`). Benutze dafuer eine `for`-Loop."
   ]
  },
  {
   "cell_type": "code",
   "execution_count": 11,
   "metadata": {
    "dotnet_interactive": {
     "language": "fsharp"
    },
    "vscode": {
     "languageId": "dotnet-interactive.fsharp"
    }
   },
   "outputs": [],
   "source": [
    "\n"
   ]
  },
  {
   "cell_type": "markdown",
   "metadata": {},
   "source": [
    "## Task 3.2\n",
    "\n",
    "Deklariere eine Funktion, die einen Parameter `n` vom Typ `int` erhaelt. Die Funktion soll eine Liste aller Zahlen von 1 bis `n` zurueckgeben.\n",
    "\n",
    "Tipps: Sequence Expressions, Comprehensions  \n",
    "\n",
    "**Extra Punkt:** Schreibe nur alle geraden Zahlen in die Liste. Tipps: if-then-else, modulo."
   ]
  },
  {
   "cell_type": "code",
   "execution_count": 11,
   "metadata": {
    "dotnet_interactive": {
     "language": "fsharp"
    },
    "vscode": {
     "languageId": "dotnet-interactive.fsharp"
    }
   },
   "outputs": [],
   "source": [
    "\n"
   ]
  },
  {
   "cell_type": "markdown",
   "metadata": {},
   "source": [
    "## Task 3.3\n",
    "\n",
    "Deklariere eine Funktion, die einen Parameter `n` vom Typ `int` und einen Parameter `f` mit der Signatur `(int -> int)` erhaelt.  \n",
    "Die Funktion soll `f` auf alle ganzen Zahlen von 1 bis `n` anwenden und dann die Ergebnisse in einer Liste zurueckgeben.\n",
    "\n",
    "Tipps: Sequence Expressions, Comprehensions."
   ]
  },
  {
   "cell_type": "code",
   "execution_count": 11,
   "metadata": {
    "dotnet_interactive": {
     "language": "fsharp"
    },
    "vscode": {
     "languageId": "dotnet-interactive.fsharp"
    }
   },
   "outputs": [],
   "source": [
    "\n"
   ]
  },
  {
   "cell_type": "markdown",
   "metadata": {},
   "source": [
    "# Task 4: Rekursion"
   ]
  },
  {
   "cell_type": "markdown",
   "metadata": {},
   "source": [
    "## Task 4.1\n",
    "\n",
    "Modifiziere folgende Funktion (bekannt aus der Vorlesung) so, dass sie am Ende ausgibt wie viele Stufen bewaeltigt wurden.\n",
    "\n",
    "```fsharp\n",
    "let rec stufeSteigen nStufen position =\n",
    "    if position = nStufen + 1 then\n",
    "        printfn \"Puh, geschafft\"\n",
    "    else\n",
    "        printfn \"Ich sollte mehr Sport machen\"\n",
    "        stufeSteigen nStufen (position + 1)\n",
    "```"
   ]
  },
  {
   "cell_type": "code",
   "execution_count": 11,
   "metadata": {
    "dotnet_interactive": {
     "language": "fsharp"
    },
    "vscode": {
     "languageId": "dotnet-interactive.fsharp"
    }
   },
   "outputs": [],
   "source": [
    "\n"
   ]
  },
  {
   "cell_type": "markdown",
   "metadata": {},
   "source": [
    "## Task 4.2\n",
    "\n",
    "Modifiziere die folgende Funktion (bekannt aus der Vorlesung) so, dass sie -1 zurueckgibt, falls abzusehen ist, dass das Ergebnis groesser als 1000 wird.  \n",
    "Tipp: Hier hilft die `print`-Funktion um Zwischenergebnisse zu visualisieren und die Funktion besser zu verstehen. Z. B.: `printfn \"n:%i, acc':%i\" n acc`.\n",
    "\n",
    "```fsharp\n",
    "let rec facultaet acc n  =\n",
    "    if n = 1 then\n",
    "        acc \n",
    "    else\n",
    "        let acc' = n * acc\n",
    "        facultaet acc' (n-1)\n",
    "\n",
    "facultaet 1 4\n",
    "```"
   ]
  },
  {
   "cell_type": "code",
   "execution_count": null,
   "metadata": {
    "dotnet_interactive": {
     "language": "fsharp"
    },
    "vscode": {
     "languageId": "dotnet-interactive.fsharp"
    }
   },
   "outputs": [],
   "source": []
  }
 ],
 "metadata": {
  "kernelspec": {
   "display_name": ".NET (F#)",
   "language": "F#",
   "name": ".net-fsharp"
  },
  "langauge_info": {
   "file_extension": ".fs",
   "mimetype": "text/x-fsharp",
   "name": "C#",
   "pygments_lexer": "fsharp",
   "version": "4.5"
  }
 },
 "nbformat": 4,
 "nbformat_minor": 1
}
