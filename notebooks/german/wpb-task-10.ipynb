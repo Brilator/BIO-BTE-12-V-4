
        {
            "cells": [
          {
           "cell_type": "markdown",
           "metadata": {},
           
           "source": ["// can\u0027t yet format YamlFrontmatter ([\"title: Übung 10\"; \"category: Übungen(deutsch)\"; \"categoryindex: 2\"; \"index: 11\"], Some { StartLine = 2 StartColumn = 0 EndLine = 6 EndColumn = 9 }) to pynb markdown\n",
"\n",
"[![Binder](/BIO-BTE-12-V-4/img/badge-binder.svg)](https://mybinder.org/v2/gh/csbiology/BIO-BTE-12-V-4/gh-pages?filepath=tasks/german/wpb-task-10.ipynb)\u0026emsp;\n",
"[![Script](/BIO-BTE-12-V-4/img/badge-script.svg)](/BIO-BTE-12-V-4/tasks/german/wpb-task-10.fsx)\u0026emsp;\n",
"[![Notebook](/BIO-BTE-12-V-4/img/badge-notebook.svg)](/BIO-BTE-12-V-4/tasks/german/wpb-task-10.ipynb)\n",
"# Task10 - Datenzugriff\n",
"## 0 Vorwort\n",
"Folgende Dokumentationen können für die Bearbeitung der Aufgaben hilfreich sein:\n",
"\n",
"* Plotly.NET: https://plotly.net\n",
"* Deedle: https://fslab.org/Deedle\n",
"* FSharp.Stats: https://fslab.org/FSharp.Stats\n",
"\n",
"### Referenzieren von Plotly.NET\n",
"Diese Zeilen müssen immer mindestens einmal ausgeführt werden, sonst können die Softwarepakete nicht verwendet werden:\n",
"\n"]
          }
,
          {
           "cell_type": "code",
           "metadata": {},
            "execution_count": 1, "outputs": [], 
           "source": ["#r \"nuget: Plotly.NET, 2.0.0-preview.1\"\n",
"#r \"nuget: Plotly.NET.Interactive, 2.0.0-preview.1\"\n",
"#r \"nuget: Deedle, 2.3.0\"\n",
"#r \"nuget: FSharp.Stats, 0.4.1\"\n",
"open Plotly.NET\n",
"open Deedle\n",
"open FSharp.Stats\n"]
          }
,
          {
           "cell_type": "markdown",
           "metadata": {},
           
           "source": ["Bei dieser Übung unterscheiden sich die Arbeitsweisen bezüglich des Anzeigens der erstellten Diagramme in Notebooks und .fsx Skripten grundlegend:\n",
"### Anzeigen von Charts in .fsx Skripten\n",
"In .fsx Skripten sollte die `Chart.Show` Funktion verwendet werden, welche ein Browserfenster öffnet um Diagramme anzuzeigen:\n",
"\n"]
          }
,
          {
           "cell_type": "code",
           "metadata": {},
            "execution_count": null, "outputs": [], 
           "source": ["Chart.Point([(1,1); (2,2)])\n",
"|\u003e Chart.withTitle \"hello from .fsx\"\n",
"|\u003e Chart.Show\n"]
          }
,
          {
           "cell_type": "markdown",
           "metadata": {},
           
           "source": ["### Anzeigen von Charts in Notebooks\n",
"In Notebooks kann zwar auch die Chart.Show Funktion verwendet werden, dank der oben referenzierten `Plotly.NET.Interactive` \n",
"Erweiterung kann allerdings auch einfach der jeweilige Codeblock mit dem value des Charts beendet werden (so wie auch bei anderen Werten gewohnt), \n",
"um den Chart direkt in der Ausgabezelle anzuzeigen:\n",
"\n"]
          }
,
          {
           "cell_type": "code",
           "metadata": {},
            "execution_count": 2, "outputs": [], 
           "source": ["Chart.Point([(1,1); (2,2)])\n",
"|\u003e Chart.withTitle \"hello inside the notebook\"\n"]
          }
,
          {
           "cell_type": "markdown",
           "metadata": {},
           
           "source": ["### Arbeiten mit Deedle\n",
"Sollten Sie diese Fehlermeldung sehen:\n",
"```\n",
"9_Data_exploration_using_FSharp.fsx(113,5): error FS0030: Value restriction. The value \u0027cpw\u0027\u0027 has been inferred to have generic type val cpw\u0027 : Series\u003c(string * int),\u0027_a\u003e      \n",
"Either define \u0027cpw\u0027\u0027 as a simple data term, make it a function with explicit arguments or, if you do not intend for it to be generic, add a type annotation.\n",
"```\n",
"Dann sollten Sie auf eine explizite Typenanmerkung zurückgreifen.\n",
"Statt:\n",
"```\n",
"let cpw\u0027 = persons |\u003e Frame.getCol \"cpw\"\n",
"```\n",
"Verwenden Sie:\n",
"```\n",
"let cpw\u0027 :Series\u003cint,float\u003e = persons |\u003e Frame.getCol \"cpw\"\n",
"```\n",
"Zum anzeigen von Deedle-Objekten in diesem Notebook können Sie den `.Print()` Member verwenden:\n",
"\n"]
          }
,
          {
           "cell_type": "code",
           "metadata": {},
            "execution_count": 3, "outputs": [], 
           "source": ["let firstNames\u0027 = Series.ofValues [\"Kevin\";\"Lukas\";\"Benedikt\";\"Michael\"]\n",
"firstNames\u0027.Print()\n"]
          }
,
          {
           "cell_type": "markdown",
           "metadata": {},
           
           "source": ["## 1 Basics\n",
"### Task 1.1\n",
"Gegeben sind 4 Series gleicher Länge. Nutzen Sie die Funktion `Series.mapValues` um die Werte von \"coffeesPerWeek\" zu verdoppeln. \n",
"\n"]
          }
,
          {
           "cell_type": "code",
           "metadata": {},
            "execution_count": 4, "outputs": [], 
           "source": ["let firstNames      = Series.ofValues [\"Kevin\";\"Lukas\";\"Benedikt\";\"Michael\"] \n",
"let coffeesPerWeek  = Series.ofValues [15;12;10;11] \n",
"let lastNames       = Series.ofValues [\"Schneider\";\"Weil\";\"Venn\";\"Schroda\"]  \n",
"let group           = Series.ofValues [\"CSB\";\"CSB\";\"CSB\";\"MBS\"]\n"]
          }
,
          {
           "cell_type": "markdown",
           "metadata": {},
           
           "source": ["### Task 1.2\n",
"Erstellen Sie auf Basis der 4 gegebenen Series einen Frame mit dem Namen \"persons\". \n",
"\n",
"### Task 1.3\n",
"Fügen Sie eine Column mit dem Namen \"sodasPerWeek\" zu dem Frame hinzu. Binden Sie den resultierenden Frame an einen Namen.\n",
"Tipp: Erst eine `Series\u003cint,int\u003e` erstellen. Nutzen Sie `Frame.addCol`\n",
"\n",
"### Task 1.4\n",
"Addieren Sie die Columns \"sodasPerWeek\" und \"coffeesPerWeek\". Fügen Sie die resultierende Series als Spalte mit dem Titel \"allPurchases\" zu dem zuvor erstellten Frame hinzu.\n",
"Tipp 1: Diese Task kann auf mehrere Arten und Weisen gelöst werden.\n",
"Tipp 2: Via `Series.values` können Sie auf die Werte der einzelnen Series zugreifen. Dann könnten Sie mit `Seq.map2` über beide Collections iterieren. \n",
"\n",
"### Task 1.5\n",
"Bestimmen Sie die Summe von \"allPurchases\".\n",
"\n",
"## 2 Frame Operationen\n",
"### Task 2.1\n",
"Gruppieren Sie die Zeilen des Frames aus Task 1.2 nach den Elementen der Spalte \"group\".\n",
"Tipp: Explizite Typenanmerkung (siehe: [Arbeiten mit Deedle](#Arbeiten-mit-Deedle)) \n",
"\n",
"### Task 2.2\n",
"Oft enthalten Ergebnistabellen mehr als 40 Spalten. Für einzelne Analysen sind jedoch nur einige wenige interessant. \n",
"Es bietet sich daher oft an einen Frame zu erstellen, der weniger Spalten enthält. Nutzen Sie die Funktion `Frame.sliceCols` um auf \n",
"Basis des Frames aus Task 1.2 einen Frame zu erstellen, der lediglich die Spalten \"lastNames\" und \"coffeesPerWeek\" enthält. \n",
"\n",
"### Task 2.3\n",
"Oft möchte man auf Basis von Gruppierungen aggregieren. Berechnen Sie die Summe der Spalte \"coffeePerWeek\" für jede Gruppe.\n",
"Tipp: Extrahieren Sie die Spalte \"coffeePerWeek\" aus dem Ergebnis von Aufgabe 2.1. Verfahren Sie wie in der Vorlesung demonstriert. \n",
"\n",
"### Task 2.4\n",
"Oft möchte man Zwischenergebnisse abspeichern. Speichern Sie den Frame aus Aufgabe 1.2 als CSV Datei. Verwenden Sie \u0027;\u0027 als Trennzeichen. \n",
"\n",
"### Task 2.5\n",
"Verwenden Sie die Funktion `Frame.ReadCsv` um die Datei erneut einzulesen. \n",
"*)\n",
"\n",
"(**\n"]
          }],
            "metadata": {
            "kernelspec": {"display_name": ".NET (F#)", "language": "F#", "name": ".net-fsharp"},
            "langauge_info": {
        "file_extension": ".fs",
        "mimetype": "text/x-fsharp",
        "name": "C#",
        "pygments_lexer": "fsharp",
        "version": "4.5"
        }
        },
            "nbformat": 4,
            "nbformat_minor": 1
        }
        

