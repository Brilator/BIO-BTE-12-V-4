{
 "cells": [
  {
   "cell_type": "markdown",
   "metadata": {},
   "source": [
    "# Task04 - Programming with functions\n"
   ]
  },
  {
   "cell_type": "markdown",
   "metadata": {},
   "source": [
    "## Funktionen höherer Ordnung\n",
    "\n",
    "### Task 1.1:\n",
    "\n",
    "Schreibe folgende Funktion mit Hilfe des Pipe-Operators `|>` und den angegebenen Funktionen.\n",
    "\n",
    "Tipp: \n",
    "\n",
    "  - Der Pipeoperator setzt den Parameter links vom Operator ans Ende der rechten Seite: \n",
    "\n",
    "  - `a |> add b` ist gleichbedeutend mit `add b a`\n",
    "\n"
   ]
  },
  {
   "cell_type": "code",
   "execution_count": 1,
   "metadata": {
    "dotnet_interactive": {
     "language": "fsharp"
    },
    "vscode": {
     "languageId": "dotnet-interactive.fsharp"
    }
   },
   "outputs": [],
   "source": [
    "let mathNotation x y = ((2. + 3. * (x + 1.))**2.) * y\n",
    "\n",
    "let add (a:float) b = a + b\n",
    "let square (x :float) = x * x\n",
    "let multiply (a:float) b = a * b\n",
    "\n",
    "let pipeNotation x y =\n",
    "    1. //ersetzt mich\n",
    "\n",
    "// Test ob beide notationen das gleiche Ergebnis erzeugen\n",
    "pipeNotation 1. 7. = mathNotation 1. 7.\n"
   ]
  },
  {
   "cell_type": "markdown",
   "metadata": {},
   "source": [
    "### Task 1.2\n",
    "\n",
    "Deklariere eine beliebige Funktion mit der Signatur `int -> int -> int`. Achte darauf, dass alle Parameter im Funktionskörper verwendet werden.\n",
    "\n",
    "Ist dies eine Funktion erster Ordnung oder eine Funktion höherer Ordnung?\n",
    "\n",
    "\n"
   ]
  },
  {
   "cell_type": "code",
   "execution_count": 16,
   "metadata": {
    "dotnet_interactive": {
     "language": "fsharp"
    },
    "vscode": {
     "languageId": "dotnet-interactive.fsharp"
    }
   },
   "outputs": [],
   "source": [
    "\n"
   ]
  },
  {
   "cell_type": "markdown",
   "metadata": {},
   "source": [
    "### Task 1.3\n",
    "\n",
    "Deklariere eine beliebige Funktion mit der Signatur `int -> int -> (int -> int -> int) -> float`. Achte darauf, dass alle Parameter verwendet werden.\n",
    "\n",
    "Ist dies eine Funktion erster Ordnung oder eine Funktion höherer Ordnung?\n",
    "\n",
    "\n"
   ]
  },
  {
   "cell_type": "code",
   "execution_count": 16,
   "metadata": {
    "dotnet_interactive": {
     "language": "fsharp"
    },
    "vscode": {
     "languageId": "dotnet-interactive.fsharp"
    }
   },
   "outputs": [],
   "source": [
    "\n"
   ]
  },
  {
   "cell_type": "markdown",
   "metadata": {},
   "source": [
    "### Task 1.4\n",
    "\n",
    "Rufe die in `1.3` erstellte Funktion auf. Nutze als Parameter zwei beliebige Werte sowie die Funktion aus `1.2`.\n",
    "\n",
    "\n"
   ]
  },
  {
   "cell_type": "code",
   "execution_count": 16,
   "metadata": {
    "dotnet_interactive": {
     "language": "fsharp"
    },
    "vscode": {
     "languageId": "dotnet-interactive.fsharp"
    }
   },
   "outputs": [],
   "source": [
    "\n"
   ]
  },
  {
   "cell_type": "markdown",
   "metadata": {},
   "source": [
    "## Programmieren mit Funktionen\n",
    "\n",
    "### Task 2.1.1\n",
    "\n",
    "Unten siehst du einen record type mit dem Namen `Cat`. \n",
    "Erstelle zwei beliebige Werte des Typs `Cat` und binde sie an beliebige Namen.\n",
    "Schaut euch `Übung 02` an, falls es hier Schwierigkeiten geben sollte.\n",
    "\n",
    "\n"
   ]
  },
  {
   "cell_type": "code",
   "execution_count": 5,
   "metadata": {
    "dotnet_interactive": {
     "language": "fsharp"
    },
    "vscode": {
     "languageId": "dotnet-interactive.fsharp"
    }
   },
   "outputs": [],
   "source": [
    "type Cat = {\n",
    "    Name    : string\n",
    "    Weight  : float\n",
    "    Color   : string\n",
    "    Age     : int}\n"
   ]
  },
  {
   "cell_type": "markdown",
   "metadata": {},
   "source": [
    "### Task 2.1.2\n",
    "\n",
    "Deklariere eine Funktion mit dem Namen `getWeight`, die als Parameter eine `Cat` erhält und deren Gewicht zurück gibt. \n",
    "\n",
    "\n"
   ]
  },
  {
   "cell_type": "code",
   "execution_count": 16,
   "metadata": {
    "dotnet_interactive": {
     "language": "fsharp"
    },
    "vscode": {
     "languageId": "dotnet-interactive.fsharp"
    }
   },
   "outputs": [],
   "source": [
    "\n"
   ]
  },
  {
   "cell_type": "markdown",
   "metadata": {},
   "source": [
    "### Task 2.1.3\n",
    "\n",
    "Du kannst keine mathematischen Standard-Operatoren auf record typen anwenden. \n",
    "Deklariere eine Funktion mit dem Namen `applyToWeight`, die zwei Parameter vom Typ `Cat` (c1 und c2) und einen Parameter vom Typ `(float -> float -> float)` (f) erhält. \n",
    "Im Funktionskörper soll die Funktion f auf die Gewichte der beiden Katzen c1 und c2 angewendet werden.\n",
    "\n",
    "Tipp: Definiere die Typen der Parameter. \n",
    "\n",
    "\n"
   ]
  },
  {
   "cell_type": "code",
   "execution_count": 16,
   "metadata": {
    "dotnet_interactive": {
     "language": "fsharp"
    },
    "vscode": {
     "languageId": "dotnet-interactive.fsharp"
    }
   },
   "outputs": [],
   "source": [
    "\n"
   ]
  },
  {
   "cell_type": "markdown",
   "metadata": {},
   "source": [
    "### Task 2.1.4\n",
    "\n",
    "Wende die Funktion `applyToWeight` mit den zuvor erstellten `Cats` und der Funktion `averageOfTwo` an.  \n",
    "\n",
    "\n"
   ]
  },
  {
   "cell_type": "code",
   "execution_count": 8,
   "metadata": {
    "dotnet_interactive": {
     "language": "fsharp"
    },
    "vscode": {
     "languageId": "dotnet-interactive.fsharp"
    }
   },
   "outputs": [],
   "source": [
    "let averageOfTwo (a:float) b =\n",
    "    (a + b) / 2.\n"
   ]
  },
  {
   "cell_type": "markdown",
   "metadata": {},
   "source": [
    "### Task 2.2 (optional)\n",
    "\n",
    "Diese Aufgabe muss nicht gelöst werden! Sie dient dazu eine `Cat list` zu erstellen, die an späterer Stelle benötigt wird.\n",
    "Wenn du willst, kannst du kommentieren was in den angegebenen Zeilen geschieht (Extrapunkt)\n",
    "\n",
    "\n"
   ]
  },
  {
   "cell_type": "code",
   "execution_count": 9,
   "metadata": {
    "dotnet_interactive": {
     "language": "fsharp"
    },
    "vscode": {
     "languageId": "dotnet-interactive.fsharp"
    }
   },
   "outputs": [],
   "source": [
    "// Dies ist ein Zufallsgenerator. \n",
    "// Mit randomNumberGenerator.NextDouble() kann nun ein zufälliger float zwischen 0. und 1. erstellt werden.\n",
    "// Mit randomNumberGenerator.Next(x) kann nun ein zufälliger int zwischen 0 und x-1 erstellt werden.\n",
    "let randomNumberGenerator = System.Random()\n",
    "\n",
    "// Nachfolgend ist eine Funktion dargestellt, die einen Wert vom Typ Cat erstellt.\n",
    "let createRandomCat (i :int) = \n",
    "    // Kommentar: \n",
    "    let name   = \"Cat \" + string i \n",
    "    // Kommentar: \n",
    "    let age    = randomNumberGenerator.Next(16)\n",
    "    // Kommentar: \n",
    "    let weight = 3. + 5. * randomNumberGenerator.NextDouble()\n",
    "    let color  = \n",
    "        let colors = [\"white\";\"red\";\"black\";\"grey\";\"mixed\"]\n",
    "        // Kommentar: \n",
    "        colors.[i%5]\n",
    "    // Kommentar: \n",
    "    {\n",
    "    Name    = name\n",
    "    Weight  = weight\n",
    "    Color   = color   \n",
    "    Age     = age\n",
    "    }\n",
    "\n",
    "// Kommentar: \n",
    "let catList = [for i=1 to 60 do yield createRandomCat i]\n"
   ]
  },
  {
   "cell_type": "markdown",
   "metadata": {},
   "source": [
    "### Task 2.3\n",
    "\n",
    "Erstelle eine float List mit den Werten von 0. bis 100. und binde sie an den Namen `nList`.\n",
    "\n",
    "\n"
   ]
  },
  {
   "cell_type": "code",
   "execution_count": 16,
   "metadata": {
    "dotnet_interactive": {
     "language": "fsharp"
    },
    "vscode": {
     "languageId": "dotnet-interactive.fsharp"
    }
   },
   "outputs": [],
   "source": [
    "\n"
   ]
  },
  {
   "cell_type": "markdown",
   "metadata": {},
   "source": [
    "### Task 2.4\n",
    "\n",
    "Mit map-Funktionen kann man eine Funktion, die auf einzelnen Elementen angewendet werden kann auf alle Elemente einer Liste anwenden.\n",
    "Parameter der `map`-Funktion:\n",
    "\n",
    "  1. `doSomethingWithX`:  Funktion, die auf jedes Listenelement angewendet werden soll\n",
    "\n",
    "  2. `list`:              Liste der Elemente, auf die `doSomeThingWithX` angewendet werden soll\n",
    "\n",
    "Die `List.map` Funktion wird dann folgendermaßen angewendet:\n",
    "\n",
    "  - `List.map (fun listElement -> doSomethingWithX listElement) list`\n",
    "\n",
    "Wende auf jedes Element von `nList` die Funktion `square` (Task 1.1) an. Binde das Ergebnis an den Namen `nListSquared`.\n",
    "\n",
    "\n"
   ]
  },
  {
   "cell_type": "code",
   "execution_count": 16,
   "metadata": {
    "dotnet_interactive": {
     "language": "fsharp"
    },
    "vscode": {
     "languageId": "dotnet-interactive.fsharp"
    }
   },
   "outputs": [],
   "source": [
    "\n"
   ]
  },
  {
   "cell_type": "markdown",
   "metadata": {},
   "source": [
    "### Task 2.5\n",
    "\n",
    "Extrahiere alle Gewichte aus 'catList' und binde sie an den Namen `catWeights`.\n",
    "\n",
    "Tipp: Durchsuche das `List`-Modul nach einer passenden Funktion.\n",
    "\n",
    "\n"
   ]
  },
  {
   "cell_type": "code",
   "execution_count": 16,
   "metadata": {
    "dotnet_interactive": {
     "language": "fsharp"
    },
    "vscode": {
     "languageId": "dotnet-interactive.fsharp"
    }
   },
   "outputs": [],
   "source": [
    "\n"
   ]
  },
  {
   "cell_type": "markdown",
   "metadata": {},
   "source": [
    "### Task 2.6\n",
    "\n",
    "Berechne die Summe der Werte aus `nList`. \n",
    "\n",
    "\n"
   ]
  },
  {
   "cell_type": "code",
   "execution_count": 16,
   "metadata": {
    "dotnet_interactive": {
     "language": "fsharp"
    },
    "vscode": {
     "languageId": "dotnet-interactive.fsharp"
    }
   },
   "outputs": [],
   "source": [
    "\n"
   ]
  },
  {
   "cell_type": "markdown",
   "metadata": {},
   "source": [
    "### Task 2.7\n",
    "\n",
    "Filtere alle Listenelemente, die durch 15 teilbar sind.\n",
    "\n",
    "Tipp1: Nutze `List.filter` und die angegebene Funktion.\n",
    "\n",
    "\n"
   ]
  },
  {
   "cell_type": "code",
   "execution_count": 14,
   "metadata": {
    "dotnet_interactive": {
     "language": "fsharp"
    },
    "vscode": {
     "languageId": "dotnet-interactive.fsharp"
    }
   },
   "outputs": [],
   "source": [
    "let isDivisibleWithoutRemainder denumerator numerator =\n",
    "    numerator % denumerator = 0.\n"
   ]
  },
  {
   "cell_type": "markdown",
   "metadata": {},
   "source": [
    "### Task 2.8\n",
    "\n",
    "Berechne die Summe der Quadrate der einzelnen Werte aus nList.\n",
    "Versuche dieses in einem Schritt mit `List.fold` zu erreichen.\n",
    "\n",
    "\n"
   ]
  },
  {
   "cell_type": "code",
   "execution_count": 16,
   "metadata": {
    "dotnet_interactive": {
     "language": "fsharp"
    },
    "vscode": {
     "languageId": "dotnet-interactive.fsharp"
    }
   },
   "outputs": [],
   "source": [
    "\n"
   ]
  },
  {
   "cell_type": "markdown",
   "metadata": {},
   "source": [
    "### Task 2.9\n",
    "\n",
    "Berechne das Durchschnittsgewicht der Katzen aus `catList`. \n",
    "\n",
    "Tipp: Die Aufgabe kann entweder durch die Nutzung von Funktionen aus dem `List`-Modul gelöst werden, oder man löst sie durch eine einzige fold Funktion (für Experten).\n",
    "\n",
    "\n"
   ]
  },
  {
   "cell_type": "code",
   "execution_count": 16,
   "metadata": {
    "dotnet_interactive": {
     "language": "fsharp"
    },
    "vscode": {
     "languageId": "dotnet-interactive.fsharp"
    }
   },
   "outputs": [],
   "source": [
    "\n"
   ]
  }
 ],
 "metadata": {
  "kernelspec": {
   "display_name": ".NET (F#)",
   "language": "F#",
   "name": ".net-fsharp"
  },
  "langauge_info": {
   "file_extension": ".fs",
   "mimetype": "text/x-fsharp",
   "name": "C#",
   "pygments_lexer": "fsharp",
   "version": "4.5"
  }
 },
 "nbformat": 4,
 "nbformat_minor": 1
}
