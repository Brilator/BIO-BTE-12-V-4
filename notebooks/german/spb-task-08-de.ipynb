{
 "cells": [
  {
   "cell_type": "markdown",
   "metadata": {},
   "source": [
    "# SPB VIII - Descriptive Statistik in FSharp\n"
   ]
  },
  {
   "cell_type": "markdown",
   "metadata": {},
   "source": [
    "\n",
    "## Referenzieren von Plotly.NET und FSharp.Stats\n",
    "\n",
    "Die Plotly.NET Dokumentation finden sie hier: https://plotly.net\n",
    "\n",
    "Die FSharp.Stats Dokumentation finden sie hier: https://fslab.org/FSharp.Stats/\n",
    "\n",
    "\n",
    "Die nachfolgende Zelle muss immer mindestens 1 mal ausgeführt werden, sonst kann das Plotly.NET Softwarepaket nicht verwendet werden:"
   ]
  },
  {
   "cell_type": "code",
   "execution_count": 1,
   "metadata": {
    "dotnet_interactive": {
     "language": "fsharp"
    },
    "vscode": {
     "languageId": "dotnet-interactive.fsharp"
    }
   },
   "outputs": [],
   "source": [
    "#r \"nuget: FSharp.Stats, 0.4.1\"\n",
    "#r \"nuget: Plotly.NET, 2.0.0-preview.18\"\n",
    "#r \"nuget: Plotly.NET.Interactive, 2.0.0-preview.18\"\n",
    "\n",
    "open FSharp.Stats\n",
    "open Plotly.NET\n",
    "open Plotly.NET.LayoutObjects\n",
    "open Plotly.NET.TraceObjects\n"
   ]
  },
  {
   "cell_type": "markdown",
   "metadata": {},
   "source": [
    "## Task 1: Streuungsmaße mit FSharp.Stats"
   ]
  },
  {
   "cell_type": "markdown",
   "metadata": {},
   "source": [
    "### Task 1.1\n",
    "\n",
    "Erstellen Sie eine Normalverteilung, welche 3.50 als Mittelwert und 1.20 als Standardabweichung hat.\n",
    "Binden Sie diese Verteilung an den Namen `myDistribution`.\n",
    "\n",
    "\n"
   ]
  },
  {
   "cell_type": "code",
   "execution_count": 2,
   "metadata": {
    "dotnet_interactive": {
     "language": "fsharp"
    },
    "vscode": {
     "languageId": "dotnet-interactive.fsharp"
    }
   },
   "outputs": [],
   "source": [
    "open FSharp.Stats.Distributions\n"
   ]
  },
  {
   "cell_type": "markdown",
   "metadata": {},
   "source": [
    "### Task 1.2\n",
    "\n",
    "- a) Greifen Sie auf das Feld `Variance` der zuvor erstellten Verteilung zu. \n",
    "- b) Ziehen Sie ausserdem ein zufaelligen Wert aus der Verteilung."
   ]
  },
  {
   "cell_type": "code",
   "execution_count": 10,
   "metadata": {
    "dotnet_interactive": {
     "language": "fsharp"
    },
    "vscode": {
     "languageId": "dotnet-interactive.fsharp"
    }
   },
   "outputs": [],
   "source": [
    "\n"
   ]
  },
  {
   "cell_type": "markdown",
   "metadata": {},
   "source": [
    "### Task 1.3\n",
    "\n",
    "Unten sehen Sie eine Funktion, die eine Stichprobe aus einer Verteilung entnimmt. Verstehen Sie die Funktion und erstellen Sie eine Stichprobe aus `myDistribution` mit n=15. Binden Sie das Ergebnis an `mySample`.\n",
    "\n",
    "\n"
   ]
  },
  {
   "cell_type": "code",
   "execution_count": 4,
   "metadata": {
    "dotnet_interactive": {
     "language": "fsharp"
    },
    "vscode": {
     "languageId": "dotnet-interactive.fsharp"
    }
   },
   "outputs": [],
   "source": [
    "let getSample (dist:Distributions.Distribution<float,float>) n = \n",
    "    let distribution = dist\n",
    "    Array.init n (fun _ -> distribution.Sample())\n"
   ]
  },
  {
   "cell_type": "markdown",
   "metadata": {},
   "source": [
    "### Task 1.4\n",
    "\n",
    "Erstellen Sie eine Funktion, die einen Mittelwert (mean: float), eine Standardabweichung (stabw: float) und eine Stichprobengroesse (n: int) als Parameter bekommt. \n",
    "Aus mean und stabw soll eine Normalverteilung erstellt werden. Die Funktion soll ein float array der Laenge n als Stichprobe aus der Verteilung zurueckgeben.\n",
    "Als Vorlage kann `getSample` aus 1.3 dienen. Binden Sie die Funktion an den Namen `getSampleOfGaussWith`.\n",
    "\n",
    "\n"
   ]
  },
  {
   "cell_type": "code",
   "execution_count": 10,
   "metadata": {
    "dotnet_interactive": {
     "language": "fsharp"
    },
    "vscode": {
     "languageId": "dotnet-interactive.fsharp"
    }
   },
   "outputs": [],
   "source": [
    "\n"
   ]
  },
  {
   "cell_type": "markdown",
   "metadata": {},
   "source": [
    "### Task 1.5\n",
    "\n",
    "Bestimmen Sie den Mittelwert und die Varianz von mySample. \n",
    "\n",
    "\n"
   ]
  },
  {
   "cell_type": "code",
   "execution_count": 10,
   "metadata": {
    "dotnet_interactive": {
     "language": "fsharp"
    },
    "vscode": {
     "languageId": "dotnet-interactive.fsharp"
    }
   },
   "outputs": [],
   "source": [
    "\n"
   ]
  },
  {
   "cell_type": "markdown",
   "metadata": {},
   "source": [
    "### Task 1.6\n",
    "\n",
    "Unten sehen Sie eine Funktion, die aus einer Stichprobe den Standardfehler berechnet. \n",
    "\n",
    "  - a) Erstellen Sie eine Liste mit dem Namen 'semsOfSample'. Die Liste soll aus 100 Standardfehlern bestehen, die auf Stichproben folgender Verteilung beruhen: \n",
    "\n",
    "    - mean = 6.0\n",
    "\n",
    "    - stabw = 1.5\n",
    "\n",
    "    - Stichprobengroesse: jeweils 12\n",
    "\n",
    "  - b) Erstellen Sie eine Liste mit dem Namen 'stDevsOfSample', die aus Stichproben der gleichen Verteilung jeweils die Standardabweichung berechnet.\n",
    "\n",
    "\n"
   ]
  },
  {
   "cell_type": "code",
   "execution_count": 7,
   "metadata": {
    "dotnet_interactive": {
     "language": "fsharp"
    },
    "vscode": {
     "languageId": "dotnet-interactive.fsharp"
    }
   },
   "outputs": [],
   "source": [
    "let sem (sample:float []) =\n",
    "    let sd = Seq.stDev sample\n",
    "    let n = float (Seq.length sample)\n",
    "    sd / sqrt n\n"
   ]
  },
  {
   "cell_type": "markdown",
   "metadata": {},
   "source": [
    "### Task 1.7 (optional)\n",
    "\n",
    "Visualisieren Sie die beiden Listen mit einem beliebigen Diagramm. Vergleichen Sie die Werte mit der Standardabweichung der originalen Verteilung (ein Satz).\n",
    "\n",
    "\n"
   ]
  },
  {
   "cell_type": "code",
   "execution_count": 10,
   "metadata": {
    "dotnet_interactive": {
     "language": "fsharp"
    },
    "vscode": {
     "languageId": "dotnet-interactive.fsharp"
    }
   },
   "outputs": [],
   "source": [
    "\n"
   ]
  },
  {
   "cell_type": "markdown",
   "metadata": {},
   "source": [
    "## Task 2: T-Test mit FSharp.Stats"
   ]
  },
  {
   "cell_type": "markdown",
   "metadata": {},
   "source": [
    "### Task 2.1 \n",
    "\n",
    "Erstellen Sie jeweils eine Stichprobe mit Stichprobengroöße n=12 aus Verteilungen mit folgenden Parametern\n",
    "\n",
    "  - a) mean=12., stabw=1.3\n",
    "  \n",
    "  - b) mean=14., stabw=1.3\n",
    "\n",
    "Binden Sie die Stichproben an die Namen 'sampleA' und 'sampleB'. Oft wird in FSharp.Stats mit Vektoren gerechnet. Dies ist auch beim T-Test der Fall. Die Transformation\n",
    "von Sequenzen, Listen oder Arrays in Vektoren erfolgt mit: `Vector.ofSeq [Sequenz]` oder `vector [Sequenz]` \n",
    "\n",
    "\n"
   ]
  },
  {
   "cell_type": "code",
   "execution_count": 10,
   "metadata": {
    "dotnet_interactive": {
     "language": "fsharp"
    },
    "vscode": {
     "languageId": "dotnet-interactive.fsharp"
    }
   },
   "outputs": [],
   "source": [
    "\n"
   ]
  },
  {
   "cell_type": "markdown",
   "metadata": {},
   "source": [
    "### Task 2.2\n",
    "\n",
    "Wenden Sie einen Zwei-Stichproben T-Test auf beide Samples an. Nehmen Sie ungleiche Varianzen der beiden Grundverteilungen an.\n",
    "\n",
    "\n"
   ]
  },
  {
   "cell_type": "code",
   "execution_count": 10,
   "metadata": {
    "dotnet_interactive": {
     "language": "fsharp"
    },
    "vscode": {
     "languageId": "dotnet-interactive.fsharp"
    }
   },
   "outputs": [],
   "source": [
    "\n"
   ]
  },
  {
   "cell_type": "markdown",
   "metadata": {},
   "source": [
    "### Task 2.3\n",
    "\n",
    "Unten sehen Sie eine Funktion deren Funktionskoerper fehlt. Innerhalb der Funktion sollen zwei Stichproben\n",
    "mit Stichprobengroesse = n aus Verteilungen mit mean1, mean2 und jeweils gleicher stabw erstellt werden.\n",
    "Nehmen Sie gleiche Varianzen der beiden Grundverteilungen an.\n",
    "Auf die im Funktionskoerper erstellten Stichproben soll ein TTest angewandt werden. Der p Value des Tests\n",
    "soll Rueckgabewert der Funktion sein.\n",
    "\n",
    "\n"
   ]
  },
  {
   "cell_type": "code",
   "execution_count": 11,
   "metadata": {
    "dotnet_interactive": {
     "language": "fsharp"
    },
    "vscode": {
     "languageId": "dotnet-interactive.fsharp"
    }
   },
   "outputs": [],
   "source": [
    "let getPValueOfTTest mean1 mean2 stabw1 stabw2 equal n =\n",
    "    1. //replace me\n"
   ]
  },
  {
   "cell_type": "markdown",
   "metadata": {},
   "source": [
    "### Task 2.4\n",
    "\n",
    "In den untenstehenden Funktion werden 1000 Ttests mit den gegebenen Parametern gemacht und die p values als Histogramm geplottet.\n",
    "Erstellen Sie Abbildungen mit \n",
    "\n",
    "  - a) gleichen means mit grosser Stichprobengroesse\n",
    "\n",
    "  - b) gleichen means mit kleiner Stichprobengroesse\n",
    "\n",
    "  - c) unterschiedlichen means\n",
    "\n",
    "Sehen Sie sich das Verhalten des p Values an. Wie viele p Values sind jeweils signifikant?\n",
    "\n",
    "  - a)\n",
    "\n",
    "  - b)\n",
    "\n",
    "  - c)\n",
    "\n",
    "\n"
   ]
  },
  {
   "cell_type": "code",
   "execution_count": 12,
   "metadata": {
    "dotnet_interactive": {
     "language": "fsharp"
    },
    "vscode": {
     "languageId": "dotnet-interactive.fsharp"
    }
   },
   "outputs": [],
   "source": [
    "let plotPValue mean1 mean2 stabw1 stabw2 equal n =\n",
    "    let pValues = Array.init 100000 (fun i -> \n",
    "        if i%10000=0 then printfn \"progress %i/100000\" i\n",
    "        getPValueOfTTest mean1 mean2 stabw1 stabw2 equal n)\n",
    "    let pVals =\n",
    "        Chart.Histogram(pValues,Xbins=Bins.init(0.,1.,0.05),HistNorm=HistNorm.Probability)\n",
    "        |> Chart.withX_AxisStyle (\"p values\",MinMax=(0.,1.))\n",
    "        |> Chart.withY_AxisStyle (\"relative count\",MinMax=(0.045,0.06))\n",
    "        |> Chart.withTitle (sprintf \"%.1f %.1f s1:%.1f s2:%.1f n:%i %b\" mean1 mean2 stabw1 stabw2 n equal)\n",
    "        |> Chart.withTraceName \"pVal distribution\"\n",
    "\n",
    "    let distA = Continuous.normal mean1 stabw1\n",
    "    let distB = Continuous.normal mean2 stabw2\n",
    "    let dists = \n",
    "        [\n",
    "            [-5. ..0.1 .. 5.] |> List.map (fun x -> x,distA.PDF x) |> Chart.Area |> Chart.withTraceName (sprintf \"m:%.1f s:%.1f\" mean1 stabw1)\n",
    "            [-5. ..0.1 .. 5.] |> List.map (fun x -> x,distB.PDF x) |> Chart.Area |> Chart.withTraceName (sprintf \"m:%.1f s:%.1f\" mean2 stabw2)\n",
    "        ]\n",
    "        |> Chart.Combine\n",
    "        |> Chart.withY_AxisStyle \"pdf\"\n",
    "\n",
    "    [pVals;dists]\n",
    "    |> Chart.Stack (1,0.2)\n",
    "    |> Chart.Show\n"
   ]
  }
 ],
 "metadata": {
  "kernelspec": {
   "display_name": ".NET (F#)",
   "language": "F#",
   "name": ".net-fsharp"
  },
  "langauge_info": {
   "file_extension": ".fs",
   "mimetype": "text/x-fsharp",
   "name": "C#",
   "pygments_lexer": "fsharp",
   "version": "4.5"
  }
 },
 "nbformat": 4,
 "nbformat_minor": 1
}
