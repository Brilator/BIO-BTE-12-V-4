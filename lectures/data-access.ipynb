
        {
            "cells": [
          {
           "cell_type": "markdown",
           "metadata": {},
           
           "source": ["// can\u0027t yet format YamlFrontmatter ([\"title: WPB X - Accessing Data using FSharp\"; \"category: Lecture material\"; \"categoryindex: 1\"; \"index: 10\"], Some { StartLine = 1 StartColumn = 0 EndLine = 5 EndColumn = 9 }) to pynb markdown\n",
"\n",
"# WPB X - Accessing Data using FSharp\n",
"\n",
"Using FSharp to load and manipulate data\n",
"\n",
"- WPB X Data access\n",
"\n",
"## Lecture videos (click to expand and watch)\n",
"\n",
"Coming soon\n",
"\n",
"## Slides\n",
"\n",
"- WPB X ([deutsch](https://csb.bio.uni-kl.de/teaching/WPB_Podcast/X_Datenzugriff.pdf) /  [english](https://csb.bio.uni-kl.de/teaching/WPB_Podcast/eng/X_Data_access.pdf))\n",
"\n"]
          }],
            "metadata": {
            "kernelspec": {"display_name": ".NET (F#)", "language": "F#", "name": ".net-fsharp"},
            "langauge_info": {
        "file_extension": ".fs",
        "mimetype": "text/x-fsharp",
        "name": "C#",
        "pygments_lexer": "fsharp",
        "version": "4.5"
        }
        },
            "nbformat": 4,
            "nbformat_minor": 1
        }
        

