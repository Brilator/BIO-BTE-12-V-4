
        {
            "cells": [
          {
           "cell_type": "markdown",
           "metadata": {},
           
           "source": ["// can\u0027t yet format YamlFrontmatter ([\"title: WPB X - Accessing Data using FSharp\"; \"category: Lecture material\"; \"categoryindex: 1\"; \"index: 10\"], Some { StartLine = 1 StartColumn = 0 EndLine = 5 EndColumn = 9 }) to pynb markdown\n",
"\n",
"# WPB X - Accessing Data using FSharp\n",
"\n",
"Using FSharp to load and manipulate data\n",
"\n",
"- WPB X Data access\n",
"\n",
"## Lecture videos (click to expand and watch)\n",
"\n",
"- \u003ca href=\"#vimeo-1\" data-action=\"collapse\"\u003eWPB X\u003c/a\u003e\u003c/p\u003e\n",
"\u003cdiv id=\"vimeo-1\" class=\"is-collapsible\"\u003e\n",
"    \u003ciframe title=\"vimeo-player\" src=\"https://player.vimeo.com/video/569286757\" width=\"640\" height=\"360\" frameborder=\"0\" allowfullscreen=\"allowfullscreen\"\u003e\u003c/iframe\u003e\n",
"\u003c/div\u003e\n",
"\n",
"## Slides\n",
"\n",
"- WPB X ([deutsch](https://csb.bio.uni-kl.de/teaching/WPB_Podcast/X_Datenzugriff.pdf) /  [english](https://csb.bio.uni-kl.de/teaching/WPB_Podcast/eng/X_Data_access.pdf))\n",
"\n"]
          }],
            "metadata": {
            "kernelspec": {"display_name": ".NET (F#)", "language": "F#", "name": ".net-fsharp"},
            "langauge_info": {
        "file_extension": ".fs",
        "mimetype": "text/x-fsharp",
        "name": "C#",
        "pygments_lexer": "fsharp",
        "version": "4.5"
        }
        },
            "nbformat": 4,
            "nbformat_minor": 1
        }
        

