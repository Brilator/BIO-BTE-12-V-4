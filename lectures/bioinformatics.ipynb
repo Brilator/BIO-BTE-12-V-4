
        {
            "cells": [
          {
           "cell_type": "markdown",
           "metadata": {},
           
           "source": ["// can\u0027t yet format YamlFrontmatter ([\"title: WPB IX - Embracing bioinformatics with FSharp\"; \"category: Lecture material\"; \"categoryindex: 1\"; \"index: 9\"], Some { StartLine = 1 StartColumn = 0 EndLine = 5 EndColumn = 8 }) to pynb markdown\n",
"\n",
"# WPB IX - Embracing bioinformatics with FSharp\n",
"\n",
"Using BioFSharp to work with biological sequences\n",
"\n",
"- WPB IX.01 BioFSharp\n",
"\n",
"## Lecture videos (click to expand and watch)\n",
"\n",
"- \u003ca href=\"#vimeo-1\" data-action=\"collapse\"\u003eWPB IX.01\u003c/a\u003e\u003c/p\u003e\n",
"\u003cdiv id=\"vimeo-1\" class=\"is-collapsible\"\u003e\n",
"    \u003ciframe title=\"vimeo-player\" src=\"https://player.vimeo.com/video/432619073\" width=\"640\" height=\"360\" frameborder=\"0\" allowfullscreen=\"allowfullscreen\"\u003e\u003c/iframe\u003e\n",
"\u003c/div\u003e\n",
"\n",
"\n",
"## Slides\n",
"\n",
"- WPB VIII.01 ([deutsch](https://csb.bio.uni-kl.de/teaching/WPB_Podcast/IX01_BioFSharp.pdf) /  [english](https://csb.bio.uni-kl.de/teaching/WPB_Podcast/eng/IX01_BioFSharp.pdf))\n",
"\n"]
          }],
            "metadata": {
            "kernelspec": {"display_name": ".NET (F#)", "language": "F#", "name": ".net-fsharp"},
            "langauge_info": {
        "file_extension": ".fs",
        "mimetype": "text/x-fsharp",
        "name": "C#",
        "pygments_lexer": "fsharp",
        "version": "4.5"
        }
        },
            "nbformat": 4,
            "nbformat_minor": 1
        }
        

