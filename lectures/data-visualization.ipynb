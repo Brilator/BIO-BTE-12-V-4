
        {
            "cells": [
          {
           "cell_type": "markdown",
           "metadata": {},
           
           "source": ["// can\u0027t yet format YamlFrontmatter ([\"title: WPB VII - Data visualization\"; \"category: Lecture material\"; \"categoryindex: 1\"; \"index: 7\"], Some { StartLine = 1 StartColumn = 0 EndLine = 5 EndColumn = 8 }) to pynb markdown\n",
"\n",
"# WPB VII - Data visualization\n",
"\n",
"Data visualization: An introduction to concepts and techniques for data visualization using Plotly\n",
"\n",
"- WPB VII.01 : Einführung in die Datenvisualisierung / Introduction to data visualization\n",
"- WPB VII.02 : Plotly.NET\n",
"- WPB VII.03 : Grundlegende Charts mit Plotly.NET / Basic charts using Plotly.NET\n",
"\n",
"\n",
"## Updates zu den Vorlesungsvideos\n",
"\n",
"Die Visualisierungsbibliothek, die im Rahmen dieser Vorlesung (und aller folgenden) benutzt wird, hieß früher FSharp.Plotly. Der Name hat sich mittlerweile geändert zu **Plotly.NET**. \n",
"\n",
"Plotly.NET (früher FSharp.Plotly) ist eine F# Implementation der sehr populären plotly.js Bibliothek. Sie wird hauptsächlich von unserer Arbeitsgruppe entwickelt und gepflegt, ist aber mittlerweile offiziell Teil von Plotly – daher der Nameswechsel.\n",
"\n",
"Die grundlegende Funktionalität hat sich dadurch allerdings nciht geändert. Obwohl viele convenience features und neue Charts im letzten hinzugekommen sind, funktionieren alle Codebeispiele aus den Vorlesungsvideos nach wie vor, der einzige unterschied ist der Name der Bibliothek. Außerdem ist die Dokumentation (zu finden unter https://plotly.net) deutlich besser. \n",
"\n",
"## Updates regarding the lecture videos\n",
"\n",
"The visualization library used in this and all following lectures was recently renamed from FSharp.Plotly to **Plotly.NET**.\n",
"\n",
"Plotly.NET (formerly FSharp.Plotly) is a F# implementation of the popular plotly.js library. While it is mostly maintained and developed by us, it is also now official part of the plotly organization - hence the name change.\n",
"\n",
"However, this does not change the basic functionality. While many features have been added in the recent year, all code examples from the videos work just fine, the only difference is the name of the library. The documentation (https://plotly.net) is also much better.\n",
"\n",
"## Lecture videos (click to expand and watch)\n",
"\n",
"- \u003ca href=\"#vimeo-1\" data-action=\"collapse\"\u003eWPB VII.01\u003c/a\u003e\u003c/p\u003e\n",
"\u003cdiv id=\"vimeo-1\" class=\"is-collapsible\"\u003e\n",
"    \u003ciframe title=\"vimeo-player\" src=\"https://player.vimeo.com/video/425266880\" width=\"640\" height=\"360\" frameborder=\"0\" allowfullscreen=\"allowfullscreen\"\u003e\u003c/iframe\u003e\n",
"\u003c/div\u003e\n",
"\n",
"- \u003ca href=\"#vimeo-2\" data-action=\"collapse\"\u003eWPB VII.01\u003c/a\u003e\u003c/p\u003e\n",
"\u003cdiv id=\"vimeo-2\" class=\"is-collapsible\"\u003e\n",
"    \u003ciframe title=\"vimeo-player\" src=\"https://player.vimeo.com/video/425452532\" width=\"640\" height=\"360\" frameborder=\"0\" allowfullscreen=\"allowfullscreen\"\u003e\u003c/iframe\u003e\n",
"\u003c/div\u003e\n",
"\n",
"- \u003ca href=\"#vimeo-3\" data-action=\"collapse\"\u003eWPB VII.01\u003c/a\u003e\u003c/p\u003e\n",
"\u003cdiv id=\"vimeo-3\" class=\"is-collapsible\"\u003e\n",
"    \u003ciframe title=\"vimeo-player\" src=\"https://player.vimeo.com/video/425841584\" width=\"640\" height=\"360\" frameborder=\"0\" allowfullscreen=\"allowfullscreen\"\u003e\u003c/iframe\u003e\n",
"\u003c/div\u003e\n",
"\n",
"## Slides\n",
"\n",
"- WPB VII.01 ([deutsch](https://csb.bio.uni-kl.de/teaching/WPB_Podcast/VII01_Einfuehrung_in_die_Datenvisualisierung.pdf) / [english](https://csb.bio.uni-kl.de/teaching/WPB_Podcast/eng/VII01_Introduction_to_data_visualization.pdf))\n",
"- WPB VII.02 ([deutsch](https://csb.bio.uni-kl.de/teaching/WPB_Podcast/VII02_Plotly.NET.pdf) / [english](https://csb.bio.uni-kl.de/teaching/WPB_Podcast/eng/VII02_Plotly.NET.pdf))\n",
"- WPB VII.03 ([deutsch](https://csb.bio.uni-kl.de/teaching/WPB_Podcast/VII03_Grundlegende_Charts_mit_Plotly.NET.pdf) / [english](https://csb.bio.uni-kl.de/teaching/WPB_Podcast/eng/VII03_Basic_charts_using _Plotly.NET.pdf))\n",
"\n",
"\n"]
          }],
            "metadata": {
            "kernelspec": {"display_name": ".NET (F#)", "language": "F#", "name": ".net-fsharp"},
            "langauge_info": {
        "file_extension": ".fs",
        "mimetype": "text/x-fsharp",
        "name": "C#",
        "pygments_lexer": "fsharp",
        "version": "4.5"
        }
        },
            "nbformat": 4,
            "nbformat_minor": 1
        }
        

