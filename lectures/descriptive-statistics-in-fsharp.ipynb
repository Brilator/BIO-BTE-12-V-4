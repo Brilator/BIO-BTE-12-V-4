
        {
            "cells": [
          {
           "cell_type": "markdown",
           "metadata": {},
           
           "source": ["// can\u0027t yet format YamlFrontmatter ([\"title: WPB VIII - Descriptive statistics in FSharp\"; \"category: Lecture material\"; \"categoryindex: 1\"; \"index: 8\"], Some { StartLine = 1 StartColumn = 0 EndLine = 5 EndColumn = 8 }) to pynb markdown\n",
"\n",
"# WPB VIII - Descriptive statistics in FSharp\n",
"\n",
"Using FSharp to perform basic statistics\n",
"\n",
"- WPB VIII.01 : Streuungsmaße mit FSharp.Stats / Measures of dispersion using FSharp.Stats\n",
"- WPB VIII.02 : T-Test mit FSharp.Stats / T test using FSharp.Stats\n",
"\n",
" \n",
"\n",
"## Lecture videos (click to expand and watch)\n",
"\n",
"- \u003ca href=\"#vimeo-1\" data-action=\"collapse\"\u003eWPB VIII.01 \u003c/a\u003e\u003c/p\u003e\n",
"\u003cdiv id=\"vimeo-1\" class=\"is-collapsible\"\u003e\n",
"    \u003ciframe title=\"vimeo-player\" src=\"https://player.vimeo.com/video/428055936\" width=\"640\" height=\"360\" frameborder=\"0\" allowfullscreen=\"allowfullscreen\"\u003e\u003c/iframe\u003e\n",
"\u003c/div\u003e\n",
"- \u003ca href=\"#vimeo-2\" data-action=\"collapse\"\u003eWPB VIII.02 \u003c/a\u003e\u003c/p\u003e\n",
"\u003cdiv id=\"vimeo-2\" class=\"is-collapsible\"\u003e\n",
"    \u003ciframe title=\"vimeo-player\" src=\"https://player.vimeo.com/video/428405483\" width=\"640\" height=\"360\" frameborder=\"0\" allowfullscreen=\"allowfullscreen\"\u003e\u003c/iframe\u003e\n",
"\u003c/div\u003e\n",
"\n",
"## Slides\n",
"\n",
"- WPB VIII.01 ([deutsch](https://csb.bio.uni-kl.de/teaching/WPB_Podcast/VIII01_Streuungsma%C3%9Fe_mit_FSharpStats.pdf) /  [english](https://csb.bio.uni-kl.de/teaching/WPB_Podcast/eng/VIII01_Measures_of_dispersion_in_FSharpStats.pdf))\n",
"- WPB VIII.02 ([deutsch](https://csb.bio.uni-kl.de/teaching/WPB_Podcast/VIII02_T-Test_mit_FSharpStats.pdf) / [english](https://csb.bio.uni-kl.de/teaching/WPB_Podcast/eng/VIII02_T-test_using_FSharpStats.pdf))\n",
"\n"]
          }],
            "metadata": {
            "kernelspec": {"display_name": ".NET (F#)", "language": "F#", "name": ".net-fsharp"},
            "langauge_info": {
        "file_extension": ".fs",
        "mimetype": "text/x-fsharp",
        "name": "C#",
        "pygments_lexer": "fsharp",
        "version": "4.5"
        }
        },
            "nbformat": 4,
            "nbformat_minor": 1
        }
        

