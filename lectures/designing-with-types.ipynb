
        {
            "cells": [
          {
           "cell_type": "markdown",
           "metadata": {},
           
           "source": ["// can\u0027t yet format YamlFrontmatter ([\"title: WPB VI - Designing with types\"; \"category: Lecture material\"; \"categoryindex: 1\"; \"index: 6\"], Some { StartLine = 1 StartColumn = 0 EndLine = 5 EndColumn = 8 }) to pynb markdown\n",
"\n",
"# WPB VI - Designing with types\n",
"\n",
"Learn to solve problems by designing an enterprise-grade Tic-Tac-Toe.\n",
"\n",
"- WPB VI.01 : Designing Tic-Tac-Toe\n",
" \n",
"## Lecture videos (click to expand and watch)\n",
"\n",
"- \u003ca href=\"#vimeo-1\" data-action=\"collapse\"\u003eWPB VI.01\u003c/a\u003e\u003c/p\u003e\n",
"\u003cdiv id=\"vimeo-1\" class=\"is-collapsible\"\u003e\n",
"    \u003ciframe title=\"vimeo-player\" src=\"https://player.vimeo.com/video/423740478\" width=\"640\" height=\"360\" frameborder=\"0\" allowfullscreen=\"allowfullscreen\"\u003e\u003c/iframe\u003e\n",
"\u003c/div\u003e\n",
"\n",
"## Slides\n",
"\n",
"- WPB VI.01 ([deutsch](https://csb.bio.uni-kl.de/teaching/WPB_Podcast/VI01_Typen-gesteuertes_Design.pdf) / [english](https://csb.bio.uni-kl.de/teaching/WPB_Podcast/eng/VI01_Designing_with_types.pdf))\n",
"\n",
"\n",
"\n",
"\n"]
          }],
            "metadata": {
            "kernelspec": {"display_name": ".NET (F#)", "language": "F#", "name": ".net-fsharp"},
            "langauge_info": {
        "file_extension": ".fs",
        "mimetype": "text/x-fsharp",
        "name": "C#",
        "pygments_lexer": "fsharp",
        "version": "4.5"
        }
        },
            "nbformat": 4,
            "nbformat_minor": 1
        }
        

