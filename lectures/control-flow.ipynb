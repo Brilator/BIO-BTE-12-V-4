
        {
            "cells": [
          {
           "cell_type": "markdown",
           "metadata": {},
           
           "source": ["// can\u0027t yet format YamlFrontmatter ([\"title: WPB III - Control flow\"; \"category: Lecture material\"; \"categoryindex: 1\"; \"index: 3\"], Some { StartLine = 1 StartColumn = 0 EndLine = 5 EndColumn = 8 }) to pynb markdown\n",
"\n",
"# WPB III - Control flow\n",
"\n",
"An introduction on how to to control the program flow:\n",
"\n",
"- WPB III.01 : Ausdrücke und Statements / Expressions and statements\n",
"- WPB III.02 : Kontrollfluss: Bedingte Anweisung und Verzweigung / Control flow: Conditional and branching\n",
"- WPB III.03 : Kontrollfluss: Schleifen / Control flow: Loops\n",
"- WPB III.04 : Rekursion / Recursion\n",
" \n",
"\n",
"## Lecture videos (click to expand and watch)\n",
"\n",
"- \u003ca href=\"#vimeo-1\" data-action=\"collapse\"\u003eWPB III.01 \u003c/a\u003e\u003c/p\u003e\n",
"\u003cdiv id=\"vimeo-1\" class=\"is-collapsible\"\u003e\n",
"    \u003ciframe title=\"vimeo-player\" src=\"https://player.vimeo.com/video/414529767\" width=\"640\" height=\"360\" frameborder=\"0\" allowfullscreen=\"allowfullscreen\"\u003e\u003c/iframe\u003e\n",
"\u003c/div\u003e\n",
"- \u003ca href=\"#vimeo-2\" data-action=\"collapse\"\u003eWPB III.02 \u003c/a\u003e\u003c/p\u003e\n",
"\u003cdiv id=\"vimeo-2\" class=\"is-collapsible\"\u003e\n",
"    \u003ciframe title=\"vimeo-player\" src=\"https://player.vimeo.com/video/414893455\" width=\"640\" height=\"360\" frameborder=\"0\" allowfullscreen=\"allowfullscreen\"\u003e\u003c/iframe\u003e\n",
"\u003c/div\u003e\n",
"- \u003ca href=\"#vimeo-3\" data-action=\"collapse\"\u003eWPB III.03 \u003c/a\u003e\u003c/p\u003e\n",
"\u003cdiv id=\"vimeo-3\" class=\"is-collapsible\"\u003e\n",
"    \u003ciframe title=\"vimeo-player\" src=\"https://player.vimeo.com/video/415065232\" width=\"640\" height=\"360\" frameborder=\"0\" allowfullscreen=\"allowfullscreen\"\u003e\u003c/iframe\u003e\n",
"\u003c/div\u003e\n",
"- \u003ca href=\"#vimeo-4\" data-action=\"collapse\"\u003eWPB III.04 \u003c/a\u003e\u003c/p\u003e\n",
"\u003cdiv id=\"vimeo-4\" class=\"is-collapsible\"\u003e\n",
"    \u003ciframe title=\"vimeo-player\" src=\"https://player.vimeo.com/video/415276162\" width=\"640\" height=\"360\" frameborder=\"0\" allowfullscreen=\"allowfullscreen\"\u003e\u003c/iframe\u003e\n",
"\u003c/div\u003e\n",
"\n",
"## Slides\n",
"\n",
"- WPB III.01 ([deutsch](https://csb.bio.uni-kl.de/teaching/WPB_Podcast/III01_Ausdruecke_und_Statements.pdf) / [english](https://csb.bio.uni-kl.de/teaching/WPB_Podcast/III01_Expressions_and_Statements.pdf))\n",
"- WPB III.02 ([deutsch](https://csb.bio.uni-kl.de/teaching/WPB_Podcast/III02_Kontrollfluss_Verzweigung.pdf) / [english](https://csb.bio.uni-kl.de/teaching/WPB_Podcast/III02_Control_flow_Conditional.pdf))\n",
"- WPB III.03 ([deutsch](https://csb.bio.uni-kl.de/teaching/WPB_Podcast/III03_Kontrollfluss_Schleifen.pdf) / [english](https://csb.bio.uni-kl.de/teaching/WPB_Podcast/III03_Control_flow_loops.pdf))\n",
"- WPB III.04 ([deutsch](https://csb.bio.uni-kl.de/teaching/WPB_Podcast/III04_Rekursion.pdf) / [english](https://csb.bio.uni-kl.de/teaching/WPB_Podcast/III04_Recursion.pdf))\n"]
          }],
            "metadata": {
            "kernelspec": {"display_name": ".NET (F#)", "language": "F#", "name": ".net-fsharp"},
            "langauge_info": {
        "file_extension": ".fs",
        "mimetype": "text/x-fsharp",
        "name": "C#",
        "pygments_lexer": "fsharp",
        "version": "4.5"
        }
        },
            "nbformat": 4,
            "nbformat_minor": 1
        }
        

