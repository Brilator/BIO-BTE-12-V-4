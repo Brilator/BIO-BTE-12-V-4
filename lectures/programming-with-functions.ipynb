
        {
            "cells": [
          {
           "cell_type": "markdown",
           "metadata": {},
           
           "source": ["// can\u0027t yet format YamlFrontmatter ([\"title: WPB IV - Programming with functions\"; \"category: Lecture material\"; \"categoryindex: 1\"; \"index: 4\"], Some { StartLine = 1 StartColumn = 0 EndLine = 5 EndColumn = 8 }) to pynb markdown\n",
"\n",
"# WPB IV - Programming with functions\n",
"\n",
"Towards a deeper understanding of functional programming:\n",
"\n",
"- WPB IV.01 : Currying und Closures / Currying and closures\n",
"- WPB IV.02 : Funktionen h�herer Ordnung / Higher order functions\n",
"- WPB IV.03 : Programmieren mit Funktionen / Programming with functions\n",
" \n",
"## Lecture videos (click to expand and watch)\n",
"\n",
"- \u003ca href=\"#vimeo-1\" data-action=\"collapse\"\u003eWPB IV.01 \u003c/a\u003e\u003c/p\u003e\n",
"\u003cdiv id=\"vimeo-1\" class=\"is-collapsible\"\u003e\n",
"    \u003ciframe title=\"vimeo-player\" src=\"https://player.vimeo.com/video/417322489\" width=\"640\" height=\"360\" frameborder=\"0\" allowfullscreen=\"allowfullscreen\"\u003e\u003c/iframe\u003e\n",
"\u003c/div\u003e\n",
"- \u003ca href=\"#vimeo-2\" data-action=\"collapse\"\u003eWPB IV.02 \u003c/a\u003e\u003c/p\u003e\n",
"\u003cdiv id=\"vimeo-2\" class=\"is-collapsible\"\u003e\n",
"    \u003ciframe title=\"vimeo-player\" src=\"https://player.vimeo.com/video/417522824\" width=\"640\" height=\"360\" frameborder=\"0\" allowfullscreen=\"allowfullscreen\"\u003e\u003c/iframe\u003e\n",
"\u003c/div\u003e\n",
"- \u003ca href=\"#vimeo-3\" data-action=\"collapse\"\u003eWPB IV.03 \u003c/a\u003e\u003c/p\u003e\n",
"\u003cdiv id=\"vimeo-3\" class=\"is-collapsible\"\u003e\n",
"    \u003ciframe title=\"vimeo-player\" src=\"https://player.vimeo.com/video/417737643\" width=\"640\" height=\"360\" frameborder=\"0\" allowfullscreen=\"allowfullscreen\"\u003e\u003c/iframe\u003e\n",
"\u003c/div\u003e\n",
"\n",
"## Slides\n",
"\n",
"- WPB IV.01 ([deutsch](https://csb.bio.uni-kl.de/teaching/WPB_Podcast/IV01_Currying_und_Closures.pdf) / english)\n",
"- WPB IV.02 ([deutsch](https://csb.bio.uni-kl.de/teaching/WPB_Podcast/IV02_Funktionen_hoeherer_Ordnung.pdf) / english)\n",
"- WPB IV.03 ([deutsch](https://csb.bio.uni-kl.de/teaching/WPB_Podcast/IV03_Programmieren_mit_Funktionen.pdf) / english)\n",
"\n",
"\n",
"\n"]
          }],
            "metadata": {
            "kernelspec": {"display_name": ".NET (F#)", "language": "F#", "name": ".net-fsharp"},
            "langauge_info": {
        "file_extension": ".fs",
        "mimetype": "text/x-fsharp",
        "name": "C#",
        "pygments_lexer": "fsharp",
        "version": "4.5"
        }
        },
            "nbformat": 4,
            "nbformat_minor": 1
        }
        

