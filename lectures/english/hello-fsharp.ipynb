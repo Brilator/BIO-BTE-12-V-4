
        {
            "cells": [
          {
           "cell_type": "markdown",
           "metadata": {},
           
           "source": ["// can\u0027t yet format YamlFrontmatter ([\"title: 01 Hello F#\"; \"category: Lecture material(english)\"; \"categoryindex: 3\"; \"index: 1\"], Some { StartLine = 1 StartColumn = 0 EndLine = 5 EndColumn = 8 }) to pynb markdown\n",
"\n",
"# Hello F#\n",
"\n",
"An introduction to scientific programming using the F# programming language\n",
"\n",
"## Lecture videos (click to expand and watch)\n",
"\n",
"- \u003ca href=\"#vimeo-1\" data-action=\"collapse\"\u003eWPB I.01 \u003c/a\u003e\u003c/p\u003e\n",
"\u003cdiv id=\"vimeo-1\" class=\"is-collapsible\"\u003e\n",
"    \u003ciframe title=\"vimeo-player\" src=\"https://player.vimeo.com/video/407241742\" width=\"640\" height=\"360\" frameborder=\"0\" allowfullscreen=\"allowfullscreen\"\u003e\u003c/iframe\u003e\n",
"\u003c/div\u003e\n",
"- \u003ca href=\"#vimeo-2\" data-action=\"collapse\"\u003eWPB I.02 \u003c/a\u003e\u003c/p\u003e\n",
"\u003cdiv id=\"vimeo-2\" class=\"is-collapsible\"\u003e\n",
"    \u003ciframe title=\"vimeo-player\" src=\"https://player.vimeo.com/video/407247350\" width=\"640\" height=\"360\" frameborder=\"0\" allowfullscreen=\"allowfullscreen\"\u003e\u003c/iframe\u003e\n",
"\u003c/div\u003e\n",
"- \u003ca href=\"#vimeo-3\" data-action=\"collapse\"\u003eWPB I.03 \u003c/a\u003e\u003c/p\u003e\n",
"\u003cdiv id=\"vimeo-3\" class=\"is-collapsible\"\u003e\n",
"    \u003ciframe title=\"vimeo-player\" src=\"https://player.vimeo.com/video/407545667\" width=\"640\" height=\"360\" frameborder=\"0\" allowfullscreen=\"allowfullscreen\"\u003e\u003c/iframe\u003e\n",
"\u003c/div\u003e\n",
"- \u003ca href=\"#vimeo-4\" data-action=\"collapse\"\u003eWPB I.04 \u003c/a\u003e\u003c/p\u003e\n",
"\u003cdiv id=\"vimeo-4\" class=\"is-collapsible\"\u003e\n",
"    \u003ciframe title=\"vimeo-player\" src=\"https://player.vimeo.com/video/407723990\" width=\"640\" height=\"360\" frameborder=\"0\" allowfullscreen=\"allowfullscreen\"\u003e\u003c/iframe\u003e\n",
"\u003c/div\u003e\n",
"\n",
"## Lecture slides\n",
"\n",
"- [Folien: WPB I.01 Einführung und Motivation](https://csb.bio.uni-kl.de/teaching/WPB_Podcast/I01_Einf%C3%BChrung_und_Motivation.pdf)\n",
"- [Folien: WPB I.02 Funktionen und Wertebindung.pdf](https://csb.bio.uni-kl.de/teaching/WPB_Podcast/I02_Funktionen_und_Wertebindung.pdf)\n",
"- [Folien: WPB I.03 Scope (Sichtbarkeitsbereich)](https://csb.bio.uni-kl.de/teaching/WPB_Podcast/I03_Scope.pdf)\n",
"- [Folien: WPB I.04 PrimitiveDatentypen.pdf](https://csb.bio.uni-kl.de/teaching/WPB_Podcast/I04_Primitive_Datentypen.pdf)\n",
"\n",
"## Tasks\n",
"\n",
"\n"]
          }],
            "metadata": {
            "kernelspec": {"display_name": ".NET (F#)", "language": "F#", "name": ".net-fsharp"},
            "langauge_info": {
        "file_extension": ".fs",
        "mimetype": "text/x-fsharp",
        "name": "C#",
        "pygments_lexer": "fsharp",
        "version": "4.5"
        }
        },
            "nbformat": 4,
            "nbformat_minor": 1
        }
        

