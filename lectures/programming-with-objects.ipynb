
        {
            "cells": [
          {
           "cell_type": "markdown",
           "metadata": {},
           
           "source": ["// can\u0027t yet format YamlFrontmatter ([\"title: WPB IV - Programming with objects\"; \"category: Lecture material\"; \"categoryindex: 1\"; \"index: 5\"], Some { StartLine = 1 StartColumn = 0 EndLine = 5 EndColumn = 8 }) to pynb markdown\n",
"\n",
"# WPB IV - Programming with objects\n",
"\n",
"An introduction to programming with objects in FSharp\n",
"\n",
"- WPB V.01 : Veränderliche Werte / Mutable values\n",
"- WPB V.02 : Vererbung / Inheritance\n",
"- WPB V.03 : Polymorphismus / Polymorphism\n",
" \n",
"## Lecture videos (click to expand and watch)\n",
"\n",
"- \u003ca href=\"#vimeo-1\" data-action=\"collapse\"\u003eWPB V.01 \u003c/a\u003e\u003c/p\u003e\n",
"\u003cdiv id=\"vimeo-1\" class=\"is-collapsible\"\u003e\n",
"    \u003ciframe title=\"vimeo-player\" src=\"https://player.vimeo.com/video/420275523\" width=\"640\" height=\"360\" frameborder=\"0\" allowfullscreen=\"allowfullscreen\"\u003e\u003c/iframe\u003e\n",
"\u003c/div\u003e\n",
"- \u003ca href=\"#vimeo-2\" data-action=\"collapse\"\u003eWPB V.02 \u003c/a\u003e\u003c/p\u003e\n",
"\u003cdiv id=\"vimeo-2\" class=\"is-collapsible\"\u003e\n",
"    \u003ciframe title=\"vimeo-player\" src=\"https://player.vimeo.com/video/420419644\" width=\"640\" height=\"360\" frameborder=\"0\" allowfullscreen=\"allowfullscreen\"\u003e\u003c/iframe\u003e\n",
"\u003c/div\u003e\n",
"- \u003ca href=\"#vimeo-3\" data-action=\"collapse\"\u003eWPB V.03 \u003c/a\u003e\u003c/p\u003e\n",
"\u003cdiv id=\"vimeo-3\" class=\"is-collapsible\"\u003e\n",
"    \u003ciframe title=\"vimeo-player\" src=\"https://player.vimeo.com/video/420639045\" width=\"640\" height=\"360\" frameborder=\"0\" allowfullscreen=\"allowfullscreen\"\u003e\u003c/iframe\u003e\n",
"\u003c/div\u003e\n",
"\n",
"## Slides\n",
"\n",
"- WPB V.01 ([deutsch](https://csb.bio.uni-kl.de/teaching/WPB_Podcast/V01_Veraenderliche_Werte.pdf) / [english](https://csb.bio.uni-kl.de/teaching/WPB_Podcast/eng/V01_Mutable_Values.pdf))\n",
"- WPB V.02 ([deutsch](https://csb.bio.uni-kl.de/teaching/WPB_Podcast/V02_Vererbung.pdf) / [english](https://csb.bio.uni-kl.de/teaching/WPB_Podcast/eng/V02_Inheritance.pdf))\n",
"- WPB V.03 ([deutsch](https://csb.bio.uni-kl.de/teaching/WPB_Podcast/V03_Polymorphismus.pdf) / [english](https://csb.bio.uni-kl.de/teaching/WPB_Podcast/eng/V03_Polymorphism.pdf))\n",
"\n",
"\n",
"\n"]
          }],
            "metadata": {
            "kernelspec": {"display_name": ".NET (F#)", "language": "F#", "name": ".net-fsharp"},
            "langauge_info": {
        "file_extension": ".fs",
        "mimetype": "text/x-fsharp",
        "name": "C#",
        "pygments_lexer": "fsharp",
        "version": "4.5"
        }
        },
            "nbformat": 4,
            "nbformat_minor": 1
        }
        

