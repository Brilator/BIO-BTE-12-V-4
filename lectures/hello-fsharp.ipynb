
        {
            "cells": [
          {
           "cell_type": "markdown",
           "metadata": {},
           
           "source": ["// can\u0027t yet format YamlFrontmatter ([\"title: WPB I - Hello F#\"; \"category: Lecture material\"; \"categoryindex: 1\"; \"index: 1\"], Some { StartLine = 1 StartColumn = 0 EndLine = 5 EndColumn = 8 }) to pynb markdown\n",
"\n",
"# WPB I - Hello F#\n",
"\n",
"An introduction to scientific programming using the F# programming language:\n",
"\n",
"- WPB I.01 : Einführung und Motivation / Introduction and motivation\n",
"- WPB I.02 : Funktionen_und_Wertebindung / Functions and value bindings\n",
"- WPB I.03 : Sichtbarkeitsbereich / Scope\n",
"- WPB I.04 : Primitive_Datentypen / Primitive data types\n",
" \n",
"\n",
"## Lecture videos (click to expand and watch)\n",
"\n",
"- \u003ca href=\"#vimeo-1\" data-action=\"collapse\"\u003eWPB I.01 \u003c/a\u003e\u003c/p\u003e\n",
"\u003cdiv id=\"vimeo-1\" class=\"is-collapsible\"\u003e\n",
"    \u003ciframe title=\"vimeo-player\" src=\"https://player.vimeo.com/video/407241742\" width=\"640\" height=\"360\" frameborder=\"0\" allowfullscreen=\"allowfullscreen\"\u003e\u003c/iframe\u003e\n",
"\u003c/div\u003e\n",
"- \u003ca href=\"#vimeo-2\" data-action=\"collapse\"\u003eWPB I.02 \u003c/a\u003e\u003c/p\u003e\n",
"\u003cdiv id=\"vimeo-2\" class=\"is-collapsible\"\u003e\n",
"    \u003ciframe title=\"vimeo-player\" src=\"https://player.vimeo.com/video/407247350\" width=\"640\" height=\"360\" frameborder=\"0\" allowfullscreen=\"allowfullscreen\"\u003e\u003c/iframe\u003e\n",
"\u003c/div\u003e\n",
"- \u003ca href=\"#vimeo-3\" data-action=\"collapse\"\u003eWPB I.03 \u003c/a\u003e\u003c/p\u003e\n",
"\u003cdiv id=\"vimeo-3\" class=\"is-collapsible\"\u003e\n",
"    \u003ciframe title=\"vimeo-player\" src=\"https://player.vimeo.com/video/407545667\" width=\"640\" height=\"360\" frameborder=\"0\" allowfullscreen=\"allowfullscreen\"\u003e\u003c/iframe\u003e\n",
"\u003c/div\u003e\n",
"- \u003ca href=\"#vimeo-4\" data-action=\"collapse\"\u003eWPB I.04 \u003c/a\u003e\u003c/p\u003e\n",
"\u003cdiv id=\"vimeo-4\" class=\"is-collapsible\"\u003e\n",
"    \u003ciframe title=\"vimeo-player\" src=\"https://player.vimeo.com/video/407723990\" width=\"640\" height=\"360\" frameborder=\"0\" allowfullscreen=\"allowfullscreen\"\u003e\u003c/iframe\u003e\n",
"\u003c/div\u003e\n",
"\n",
"## Slides\n",
"\n",
"- WPB I.01 ([deutsch](https://csb.bio.uni-kl.de/teaching/WPB_Podcast/I01_Einf%C3%BChrung_und_Motivation.pdf) / [english](https://csb.bio.uni-kl.de/teaching/WPB_Podcast/eng/I01_Introduction_and_motivation.pdf))\n",
"- WPB I.02 ([deutsch](https://csb.bio.uni-kl.de/teaching/WPB_Podcast/I02_Funktionen_und_Wertebindung.pdf) / [english](https://csb.bio.uni-kl.de/teaching/WPB_Podcast/eng/I02_Functions_and_value_bindings.pdf))\n",
"- WPB I.03 ([deutsch](https://csb.bio.uni-kl.de/teaching/WPB_Podcast/I03_Scope.pdf) / [english](https://csb.bio.uni-kl.de/teaching/WPB_Podcast/eng/I03_Scope.pdf))\n",
"-  WPB I.04 ([deutsch](https://csb.bio.uni-kl.de/teaching/WPB_Podcast/I04_Primitive_Datentypen.pdf) / [english](https://csb.bio.uni-kl.de/teaching/WPB_Podcast/eng/I04_Primitive_data_types.pdf))\n",
"\n"]
          }],
            "metadata": {
            "kernelspec": {"display_name": ".NET (F#)", "language": "F#", "name": ".net-fsharp"},
            "langauge_info": {
        "file_extension": ".fs",
        "mimetype": "text/x-fsharp",
        "name": "C#",
        "pygments_lexer": "fsharp",
        "version": "4.5"
        }
        },
            "nbformat": 4,
            "nbformat_minor": 1
        }
        

