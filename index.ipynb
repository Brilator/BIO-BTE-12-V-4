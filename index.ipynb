
        {
            "cells": [
          {
           "cell_type": "markdown",
           "metadata": {},
           
           "source": ["# Wissenschaftliche Programmierung für Biologen (Vorlesung/Übung)\n",
"\n",
"**Credit Points (CP): 3**\n",
"\n",
"Zielsetzung dieser Vorlesung mit anschließenden Übungen ist die Vermittlung von Kenntnissen über Grundlagen der funktionalen und objektorientierte Programmierung sowie die Behandlung grundlegender Datenstrukturen und Algorithmen. Vermittelt werden begriffliche Grundlagen, Konzepte, Methoden und Techniken zur Darstellung und Strukturierung von Daten und zur Entwicklung von Algorithmen. Werkzeuge des wissenschaftlichen Rechnens und der Datenverabeitung, insbesondere für die Visualisierung und Bearbeitung von Messdaten werden vorgestellt. Die Referenzsprache ist F# (FSharp), die in Kombination mit modernen Softwarebibliotheken und der Softwareumgebung R zur Problemlösung eingesetzt wird. Abschließend besteht die Möglichkeit in individuellen Projektarbeiten typische Einsatzfelder der Bioinformatik zu bearbeiten und Problemstellungen eigenständig zu lösen.\n",
"\n",
"KIS: [BIO-BTE-12-V-4](https://www.kis.uni-kl.de/campus/all/event.asp?gguid=0xD702B068C88449BEAF7C4E9C1EEE592D\u0026tguid=0xA0CC12CC38514E09833533E643742D94)\n",
"\n",
"## Vorlesungsmaterial\n",
"\n",
"Um zu den jeweiligen Vorlesungen auf deutsch zu gelangen, wählen sie eine Vorlesung aus der folgenden Liste oder links unter der Rubrik `Vorlesungsmaterial (deutsch)`\n",
"\n",
"- [1 Hello F#](./deutsch/test.html)\n",
"\n",
"# SCIENTIFIC PROGRAMMING FOR BIOLOGISTS (LECTURE \u0026 EXERCISE)\n",
"\n",
"**Credit Points (CP): 3**\n",
"\n",
"The aim of this lecture with subsequent exercises is to impart knowledge about the basics of functional and object-oriented programming and to deal with basic data structures and algorithms. Conceptual basics, methods and techniques for structuring data and for the development of algorithms are taught. Tools of scientific computing and data processing, especially for the visualization and processing of measurement data, are presented. The reference language is F# (FSharp), which is used in combination with modern software libraries and the R! software environment for problem solving.\n",
"\n",
"KIS: [BIO-BTE-12-V-4](https://www.kis.uni-kl.de/campus/all/event.asp?gguid=0xD702B068C88449BEAF7C4E9C1EEE592D\u0026tguid=0xA0CC12CC38514E09833533E643742D94)\n",
"\n",
"## Lecture material\n",
"\n",
"To get to the lecture material in english, choose a lecture from the list below or from the lefthand navigation bar under `Lecture material (english)`\n",
"\n",
"- [1 Hello F#](./deutsch/test.html)\n",
"\n",
"\n"]
          }],
            "metadata": {
            "kernelspec": {"display_name": ".NET (F#)", "language": "F#", "name": ".net-fsharp"},
            "langauge_info": {
        "file_extension": ".fs",
        "mimetype": "text/x-fsharp",
        "name": "C#",
        "pygments_lexer": "fsharp",
        "version": "4.5"
        }
        },
            "nbformat": 4,
            "nbformat_minor": 1
        }
        

